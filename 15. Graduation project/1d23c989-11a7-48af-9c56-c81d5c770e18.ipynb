{
 "cells": [
  {
   "cell_type": "markdown",
   "id": "ad5191c6",
   "metadata": {},
   "source": [
    "<h2> Предварительная формулировка задачи: </h2>\n",
    "\n",
    "<h3> Чтобы оптимизировать производственные расходы, металлургический комбинат ООО «Так закаляем сталь» решил уменьшить потребление электроэнергии на этапе обработки стали. Вам предстоит построить модель, которая предскажет температуру стали."
   ]
  },
  {
   "cell_type": "markdown",
   "id": "ab551fb5",
   "metadata": {},
   "source": [
    "## Описание этапа обработки\n",
    "\n",
    "Сталь обрабатывают в металлическом ковше вместимостью около 100 тонн. Чтобы ковш выдерживал высокие температуры, изнутри его облицовывают огнеупорным кирпичом. Расплавленную сталь заливают в ковш и подогревают до нужной температуры графитовыми электродами. Они установлены в крышке ковша. \n",
    "\n",
    "Из сплава выводится сера (десульфурация), добавлением примесей корректируется химический состав и отбираются пробы. Сталь легируют — изменяют её состав — подавая куски сплава из бункера для сыпучих материалов или проволоку через специальный трайб-аппарат (англ. tribe, «масса»).\n",
    "\n",
    "Перед тем как первый раз ввести легирующие добавки, измеряют температуру стали и производят её химический анализ. Потом температуру на несколько минут повышают, добавляют легирующие материалы и продувают сплав инертным газом. Затем его перемешивают и снова проводят измерения. Такой цикл повторяется до достижения целевого химического состава и оптимальной температуры плавки.\n",
    "\n",
    "Тогда расплавленная сталь отправляется на доводку металла или поступает в машину непрерывной разливки. Оттуда готовый продукт выходит в виде заготовок-слябов (англ. *slab*, «плита»)."
   ]
  },
  {
   "cell_type": "markdown",
   "id": "93c8d2e3",
   "metadata": {},
   "source": [
    "### Описание данных\n",
    "\n",
    "Данные состоят из файлов, полученных из разных источников:\n",
    "\n",
    "- `data_arc.csv` — данные об электродах;\n",
    "- `data_bulk.csv` — данные о подаче сыпучих материалов (объём);\n",
    "- `data_bulk_time.csv` *—* данные о подаче сыпучих материалов (время);\n",
    "- `data_gas.csv` — данные о продувке сплава газом;\n",
    "- `data_temp.csv` — результаты измерения температуры;\n",
    "- `data_wire.csv` — данные о проволочных материалах (объём);\n",
    "- `data_wire_time.csv` — данные о проволочных материалах (время).\n",
    "\n",
    "Во всех файлах столбец `key` содержит номер партии. В файлах может быть несколько строк с одинаковым значением `key`: они соответствуют разным итерациям обработки."
   ]
  },
  {
   "cell_type": "markdown",
   "id": "fe67ac74",
   "metadata": {},
   "source": [
    "<h2> Предварительный план работы: </h2>\n",
    "\n",
    "**1. Анализ данных:**\n",
    "    \n",
    "    1.1 Анализ имеющихся признаков и прездварительная оценка их качества\n",
    "    \n",
    "    1.2 Отбор вопросов по имеющимся данным, дополнение / очистка данных\n",
    "    \n",
    "    1.3 Анализ ТЗ: уточнение формата конечного результата\n",
    "    \n",
    "**2. Обработка данных для построения модели**\n",
    "    \n",
    "    2.1 Обработка и удаление лишних признаков и пропусков\n",
    "    \n",
    "    2.2 Обработка признаков для обучения модели: выделение тренировочной и тестовой выборок, стандартизация\n",
    "    \n",
    "**3. Тестирование модели и выбор лучшей**\n",
    "\n",
    "**4. Оформление выводов и результатов**"
   ]
  },
  {
   "cell_type": "code",
   "execution_count": 51,
   "id": "486b9655",
   "metadata": {},
   "outputs": [
    {
     "name": "stdout",
     "output_type": "stream",
     "text": [
      "Requirement already satisfied: xgboost in /Users/stepan5dol/opt/anaconda3/lib/python3.9/site-packages (1.7.3)\n",
      "Requirement already satisfied: scipy in /Users/stepan5dol/opt/anaconda3/lib/python3.9/site-packages (from xgboost) (1.7.3)\n",
      "Requirement already satisfied: numpy in /Users/stepan5dol/opt/anaconda3/lib/python3.9/site-packages (from xgboost) (1.22.4)\n",
      "Requirement already satisfied: catboost in /Users/stepan5dol/opt/anaconda3/lib/python3.9/site-packages (1.1.1)\n",
      "Requirement already satisfied: matplotlib in /Users/stepan5dol/opt/anaconda3/lib/python3.9/site-packages (from catboost) (3.5.1)\n",
      "Requirement already satisfied: six in /Users/stepan5dol/opt/anaconda3/lib/python3.9/site-packages (from catboost) (1.16.0)\n",
      "Requirement already satisfied: graphviz in /Users/stepan5dol/opt/anaconda3/lib/python3.9/site-packages (from catboost) (0.20.1)\n",
      "Requirement already satisfied: numpy>=1.16.0 in /Users/stepan5dol/opt/anaconda3/lib/python3.9/site-packages (from catboost) (1.22.4)\n",
      "Requirement already satisfied: pandas>=0.24.0 in /Users/stepan5dol/opt/anaconda3/lib/python3.9/site-packages (from catboost) (1.5.3)\n",
      "Requirement already satisfied: plotly in /Users/stepan5dol/opt/anaconda3/lib/python3.9/site-packages (from catboost) (5.6.0)\n",
      "Requirement already satisfied: scipy in /Users/stepan5dol/opt/anaconda3/lib/python3.9/site-packages (from catboost) (1.7.3)\n",
      "Requirement already satisfied: pytz>=2020.1 in /Users/stepan5dol/opt/anaconda3/lib/python3.9/site-packages (from pandas>=0.24.0->catboost) (2021.3)\n",
      "Requirement already satisfied: python-dateutil>=2.8.1 in /Users/stepan5dol/opt/anaconda3/lib/python3.9/site-packages (from pandas>=0.24.0->catboost) (2.8.2)\n",
      "Requirement already satisfied: fonttools>=4.22.0 in /Users/stepan5dol/opt/anaconda3/lib/python3.9/site-packages (from matplotlib->catboost) (4.25.0)\n",
      "Requirement already satisfied: packaging>=20.0 in /Users/stepan5dol/opt/anaconda3/lib/python3.9/site-packages (from matplotlib->catboost) (21.3)\n",
      "Requirement already satisfied: kiwisolver>=1.0.1 in /Users/stepan5dol/opt/anaconda3/lib/python3.9/site-packages (from matplotlib->catboost) (1.3.2)\n",
      "Requirement already satisfied: cycler>=0.10 in /Users/stepan5dol/opt/anaconda3/lib/python3.9/site-packages (from matplotlib->catboost) (0.11.0)\n",
      "Requirement already satisfied: pyparsing>=2.2.1 in /Users/stepan5dol/opt/anaconda3/lib/python3.9/site-packages (from matplotlib->catboost) (3.0.4)\n",
      "Requirement already satisfied: pillow>=6.2.0 in /Users/stepan5dol/opt/anaconda3/lib/python3.9/site-packages (from matplotlib->catboost) (9.0.1)\n",
      "Requirement already satisfied: tenacity>=6.2.0 in /Users/stepan5dol/opt/anaconda3/lib/python3.9/site-packages (from plotly->catboost) (8.0.1)\n",
      "Requirement already satisfied: lightgbm in /Users/stepan5dol/opt/anaconda3/lib/python3.9/site-packages (3.3.5)\n",
      "Requirement already satisfied: numpy in /Users/stepan5dol/opt/anaconda3/lib/python3.9/site-packages (from lightgbm) (1.22.4)\n",
      "Requirement already satisfied: scipy in /Users/stepan5dol/opt/anaconda3/lib/python3.9/site-packages (from lightgbm) (1.7.3)\n",
      "Requirement already satisfied: scikit-learn!=0.22.0 in /Users/stepan5dol/opt/anaconda3/lib/python3.9/site-packages (from lightgbm) (1.0.2)\n",
      "Requirement already satisfied: wheel in /Users/stepan5dol/opt/anaconda3/lib/python3.9/site-packages (from lightgbm) (0.37.1)\n",
      "Requirement already satisfied: joblib>=0.11 in /Users/stepan5dol/opt/anaconda3/lib/python3.9/site-packages (from scikit-learn!=0.22.0->lightgbm) (1.1.0)\n",
      "Requirement already satisfied: threadpoolctl>=2.0.0 in /Users/stepan5dol/opt/anaconda3/lib/python3.9/site-packages (from scikit-learn!=0.22.0->lightgbm) (2.2.0)\n"
     ]
    }
   ],
   "source": [
    "!pip install xgboost\n",
    "!pip install catboost\n",
    "!pip install lightgbm"
   ]
  },
  {
   "cell_type": "code",
   "execution_count": 52,
   "id": "edb7fb0f",
   "metadata": {},
   "outputs": [
    {
     "name": "stdout",
     "output_type": "stream",
     "text": [
      "Requirement already satisfied: tensorflow in /Users/stepan5dol/opt/anaconda3/lib/python3.9/site-packages (2.12.0)\n",
      "Requirement already satisfied: opt-einsum>=2.3.2 in /Users/stepan5dol/opt/anaconda3/lib/python3.9/site-packages (from tensorflow) (3.3.0)\n",
      "Requirement already satisfied: tensorflow-estimator<2.13,>=2.12.0 in /Users/stepan5dol/opt/anaconda3/lib/python3.9/site-packages (from tensorflow) (2.12.0)\n",
      "Requirement already satisfied: tensorflow-io-gcs-filesystem>=0.23.1 in /Users/stepan5dol/opt/anaconda3/lib/python3.9/site-packages (from tensorflow) (0.30.0)\n",
      "Requirement already satisfied: h5py>=2.9.0 in /Users/stepan5dol/opt/anaconda3/lib/python3.9/site-packages (from tensorflow) (3.6.0)\n",
      "Requirement already satisfied: typing-extensions>=3.6.6 in /Users/stepan5dol/opt/anaconda3/lib/python3.9/site-packages (from tensorflow) (4.1.1)\n",
      "Requirement already satisfied: six>=1.12.0 in /Users/stepan5dol/opt/anaconda3/lib/python3.9/site-packages (from tensorflow) (1.16.0)\n",
      "Requirement already satisfied: jax>=0.3.15 in /Users/stepan5dol/opt/anaconda3/lib/python3.9/site-packages (from tensorflow) (0.4.8)\n",
      "Requirement already satisfied: google-pasta>=0.1.1 in /Users/stepan5dol/opt/anaconda3/lib/python3.9/site-packages (from tensorflow) (0.2.0)\n",
      "Requirement already satisfied: astunparse>=1.6.0 in /Users/stepan5dol/opt/anaconda3/lib/python3.9/site-packages (from tensorflow) (1.6.3)\n",
      "Requirement already satisfied: keras<2.13,>=2.12.0 in /Users/stepan5dol/opt/anaconda3/lib/python3.9/site-packages (from tensorflow) (2.12.0)\n",
      "Requirement already satisfied: wrapt<1.15,>=1.11.0 in /Users/stepan5dol/opt/anaconda3/lib/python3.9/site-packages (from tensorflow) (1.12.1)\n",
      "Requirement already satisfied: gast<=0.4.0,>=0.2.1 in /Users/stepan5dol/opt/anaconda3/lib/python3.9/site-packages (from tensorflow) (0.4.0)\n",
      "Requirement already satisfied: grpcio<2.0,>=1.24.3 in /Users/stepan5dol/opt/anaconda3/lib/python3.9/site-packages (from tensorflow) (1.53.0)\n",
      "Requirement already satisfied: setuptools in /Users/stepan5dol/opt/anaconda3/lib/python3.9/site-packages (from tensorflow) (61.2.0)\n",
      "Requirement already satisfied: numpy<1.24,>=1.22 in /Users/stepan5dol/opt/anaconda3/lib/python3.9/site-packages (from tensorflow) (1.22.4)\n",
      "Requirement already satisfied: absl-py>=1.0.0 in /Users/stepan5dol/opt/anaconda3/lib/python3.9/site-packages (from tensorflow) (1.4.0)\n",
      "Requirement already satisfied: protobuf!=4.21.0,!=4.21.1,!=4.21.2,!=4.21.3,!=4.21.4,!=4.21.5,<5.0.0dev,>=3.20.3 in /Users/stepan5dol/opt/anaconda3/lib/python3.9/site-packages (from tensorflow) (4.22.3)\n",
      "Requirement already satisfied: flatbuffers>=2.0 in /Users/stepan5dol/opt/anaconda3/lib/python3.9/site-packages (from tensorflow) (23.1.21)\n",
      "Requirement already satisfied: packaging in /Users/stepan5dol/opt/anaconda3/lib/python3.9/site-packages (from tensorflow) (21.3)\n",
      "Requirement already satisfied: termcolor>=1.1.0 in /Users/stepan5dol/opt/anaconda3/lib/python3.9/site-packages (from tensorflow) (2.2.0)\n",
      "Requirement already satisfied: libclang>=13.0.0 in /Users/stepan5dol/opt/anaconda3/lib/python3.9/site-packages (from tensorflow) (15.0.6.1)\n",
      "Requirement already satisfied: tensorboard<2.13,>=2.12 in /Users/stepan5dol/opt/anaconda3/lib/python3.9/site-packages (from tensorflow) (2.12.2)\n",
      "Requirement already satisfied: wheel<1.0,>=0.23.0 in /Users/stepan5dol/opt/anaconda3/lib/python3.9/site-packages (from astunparse>=1.6.0->tensorflow) (0.37.1)\n",
      "Requirement already satisfied: scipy>=1.7 in /Users/stepan5dol/opt/anaconda3/lib/python3.9/site-packages (from jax>=0.3.15->tensorflow) (1.7.3)\n",
      "Requirement already satisfied: ml-dtypes>=0.0.3 in /Users/stepan5dol/opt/anaconda3/lib/python3.9/site-packages (from jax>=0.3.15->tensorflow) (0.1.0)\n",
      "Requirement already satisfied: markdown>=2.6.8 in /Users/stepan5dol/opt/anaconda3/lib/python3.9/site-packages (from tensorboard<2.13,>=2.12->tensorflow) (3.3.4)\n",
      "Requirement already satisfied: werkzeug>=1.0.1 in /Users/stepan5dol/opt/anaconda3/lib/python3.9/site-packages (from tensorboard<2.13,>=2.12->tensorflow) (2.0.3)\n",
      "Requirement already satisfied: google-auth-oauthlib<1.1,>=0.5 in /Users/stepan5dol/opt/anaconda3/lib/python3.9/site-packages (from tensorboard<2.13,>=2.12->tensorflow) (1.0.0)\n",
      "Requirement already satisfied: tensorboard-data-server<0.8.0,>=0.7.0 in /Users/stepan5dol/opt/anaconda3/lib/python3.9/site-packages (from tensorboard<2.13,>=2.12->tensorflow) (0.7.0)\n",
      "Requirement already satisfied: requests<3,>=2.21.0 in /Users/stepan5dol/opt/anaconda3/lib/python3.9/site-packages (from tensorboard<2.13,>=2.12->tensorflow) (2.27.1)\n",
      "Requirement already satisfied: google-auth<3,>=1.6.3 in /Users/stepan5dol/opt/anaconda3/lib/python3.9/site-packages (from tensorboard<2.13,>=2.12->tensorflow) (2.17.3)\n",
      "Requirement already satisfied: tensorboard-plugin-wit>=1.6.0 in /Users/stepan5dol/opt/anaconda3/lib/python3.9/site-packages (from tensorboard<2.13,>=2.12->tensorflow) (1.8.1)\n",
      "Requirement already satisfied: cachetools<6.0,>=2.0.0 in /Users/stepan5dol/opt/anaconda3/lib/python3.9/site-packages (from google-auth<3,>=1.6.3->tensorboard<2.13,>=2.12->tensorflow) (4.2.2)\n",
      "Requirement already satisfied: pyasn1-modules>=0.2.1 in /Users/stepan5dol/opt/anaconda3/lib/python3.9/site-packages (from google-auth<3,>=1.6.3->tensorboard<2.13,>=2.12->tensorflow) (0.2.8)\n",
      "Requirement already satisfied: rsa<5,>=3.1.4 in /Users/stepan5dol/opt/anaconda3/lib/python3.9/site-packages (from google-auth<3,>=1.6.3->tensorboard<2.13,>=2.12->tensorflow) (4.7.2)\n",
      "Requirement already satisfied: requests-oauthlib>=0.7.0 in /Users/stepan5dol/opt/anaconda3/lib/python3.9/site-packages (from google-auth-oauthlib<1.1,>=0.5->tensorboard<2.13,>=2.12->tensorflow) (1.3.1)\n",
      "Requirement already satisfied: pyasn1<0.5.0,>=0.4.6 in /Users/stepan5dol/opt/anaconda3/lib/python3.9/site-packages (from pyasn1-modules>=0.2.1->google-auth<3,>=1.6.3->tensorboard<2.13,>=2.12->tensorflow) (0.4.8)\n",
      "Requirement already satisfied: idna<4,>=2.5 in /Users/stepan5dol/opt/anaconda3/lib/python3.9/site-packages (from requests<3,>=2.21.0->tensorboard<2.13,>=2.12->tensorflow) (3.3)\n",
      "Requirement already satisfied: charset-normalizer~=2.0.0 in /Users/stepan5dol/opt/anaconda3/lib/python3.9/site-packages (from requests<3,>=2.21.0->tensorboard<2.13,>=2.12->tensorflow) (2.0.4)\n",
      "Requirement already satisfied: urllib3<1.27,>=1.21.1 in /Users/stepan5dol/opt/anaconda3/lib/python3.9/site-packages (from requests<3,>=2.21.0->tensorboard<2.13,>=2.12->tensorflow) (1.26.9)\n",
      "Requirement already satisfied: certifi>=2017.4.17 in /Users/stepan5dol/opt/anaconda3/lib/python3.9/site-packages (from requests<3,>=2.21.0->tensorboard<2.13,>=2.12->tensorflow) (2022.12.7)\n",
      "Requirement already satisfied: oauthlib>=3.0.0 in /Users/stepan5dol/opt/anaconda3/lib/python3.9/site-packages (from requests-oauthlib>=0.7.0->google-auth-oauthlib<1.1,>=0.5->tensorboard<2.13,>=2.12->tensorflow) (3.2.2)\n",
      "Requirement already satisfied: pyparsing!=3.0.5,>=2.0.2 in /Users/stepan5dol/opt/anaconda3/lib/python3.9/site-packages (from packaging->tensorflow) (3.0.4)\n"
     ]
    }
   ],
   "source": [
    "!pip install tensorflow"
   ]
  },
  {
   "cell_type": "code",
   "execution_count": 135,
   "id": "e17f9ca8",
   "metadata": {},
   "outputs": [],
   "source": [
    "import pandas as pd\n",
    "import matplotlib.pyplot as plt \n",
    "import seaborn as sns \n",
    "import numpy as np \n",
    "\n",
    "from sklearn.model_selection import train_test_split, RandomizedSearchCV, cross_val_score\n",
    "from sklearn.model_selection import RepeatedStratifiedKFold\n",
    "from sklearn.metrics import mean_absolute_error\n",
    "from sklearn.inspection import permutation_importance\n",
    "\n",
    "from sklearn.ensemble import RandomForestRegressor\n",
    "\n",
    "import lightgbm as lgb\n",
    "import xgboost as xgb\n",
    "import catboost\n",
    "from catboost import CatBoostRegressor, Pool\n",
    "\n",
    "import tensorflow as tf\n",
    "from tensorflow import keras\n",
    "from tensorflow.keras import layers\n",
    "from tensorflow.keras.models import Sequential\n",
    "from tensorflow.keras.layers import Dense, BatchNormalization, Dropout\n",
    "from tensorflow.keras.optimizers import Adam\n",
    "from keras.wrappers.scikit_learn import KerasRegressor\n",
    "\n",
    "from sklearn.pipeline import Pipeline\n",
    "from sklearn.preprocessing import StandardScaler\n",
    "\n",
    "\n",
    "plt.style.use('seaborn-poster')\n",
    "colors = sns.color_palette(\"deep\")"
   ]
  },
  {
   "cell_type": "code",
   "execution_count": 54,
   "id": "05ba3472",
   "metadata": {},
   "outputs": [],
   "source": [
    "#функция для открытия датасетов\n",
    "\n",
    "def openfunc(link):\n",
    "    df = pd.read_csv(link)\n",
    "    display(df.info(), df.head(15))\n",
    "    print('Количество партий:', df.nunique()['key'])\n",
    "    return df"
   ]
  },
  {
   "cell_type": "code",
   "execution_count": 55,
   "id": "cb8124d3",
   "metadata": {},
   "outputs": [
    {
     "name": "stdout",
     "output_type": "stream",
     "text": [
      "<class 'pandas.core.frame.DataFrame'>\n",
      "RangeIndex: 14876 entries, 0 to 14875\n",
      "Data columns (total 5 columns):\n",
      " #   Column                Non-Null Count  Dtype  \n",
      "---  ------                --------------  -----  \n",
      " 0   key                   14876 non-null  int64  \n",
      " 1   Начало нагрева дугой  14876 non-null  object \n",
      " 2   Конец нагрева дугой   14876 non-null  object \n",
      " 3   Активная мощность     14876 non-null  float64\n",
      " 4   Реактивная мощность   14876 non-null  float64\n",
      "dtypes: float64(2), int64(1), object(2)\n",
      "memory usage: 581.2+ KB\n"
     ]
    },
    {
     "data": {
      "text/plain": [
       "None"
      ]
     },
     "metadata": {},
     "output_type": "display_data"
    },
    {
     "data": {
      "text/html": [
       "<div>\n",
       "<style scoped>\n",
       "    .dataframe tbody tr th:only-of-type {\n",
       "        vertical-align: middle;\n",
       "    }\n",
       "\n",
       "    .dataframe tbody tr th {\n",
       "        vertical-align: top;\n",
       "    }\n",
       "\n",
       "    .dataframe thead th {\n",
       "        text-align: right;\n",
       "    }\n",
       "</style>\n",
       "<table border=\"1\" class=\"dataframe\">\n",
       "  <thead>\n",
       "    <tr style=\"text-align: right;\">\n",
       "      <th></th>\n",
       "      <th>key</th>\n",
       "      <th>Начало нагрева дугой</th>\n",
       "      <th>Конец нагрева дугой</th>\n",
       "      <th>Активная мощность</th>\n",
       "      <th>Реактивная мощность</th>\n",
       "    </tr>\n",
       "  </thead>\n",
       "  <tbody>\n",
       "    <tr>\n",
       "      <th>0</th>\n",
       "      <td>1</td>\n",
       "      <td>2019-05-03 11:02:14</td>\n",
       "      <td>2019-05-03 11:06:02</td>\n",
       "      <td>0.976059</td>\n",
       "      <td>0.687084</td>\n",
       "    </tr>\n",
       "    <tr>\n",
       "      <th>1</th>\n",
       "      <td>1</td>\n",
       "      <td>2019-05-03 11:07:28</td>\n",
       "      <td>2019-05-03 11:10:33</td>\n",
       "      <td>0.805607</td>\n",
       "      <td>0.520285</td>\n",
       "    </tr>\n",
       "    <tr>\n",
       "      <th>2</th>\n",
       "      <td>1</td>\n",
       "      <td>2019-05-03 11:11:44</td>\n",
       "      <td>2019-05-03 11:14:36</td>\n",
       "      <td>0.744363</td>\n",
       "      <td>0.498805</td>\n",
       "    </tr>\n",
       "    <tr>\n",
       "      <th>3</th>\n",
       "      <td>1</td>\n",
       "      <td>2019-05-03 11:18:14</td>\n",
       "      <td>2019-05-03 11:24:19</td>\n",
       "      <td>1.659363</td>\n",
       "      <td>1.062669</td>\n",
       "    </tr>\n",
       "    <tr>\n",
       "      <th>4</th>\n",
       "      <td>1</td>\n",
       "      <td>2019-05-03 11:26:09</td>\n",
       "      <td>2019-05-03 11:28:37</td>\n",
       "      <td>0.692755</td>\n",
       "      <td>0.414397</td>\n",
       "    </tr>\n",
       "    <tr>\n",
       "      <th>5</th>\n",
       "      <td>2</td>\n",
       "      <td>2019-05-03 11:34:14</td>\n",
       "      <td>2019-05-03 11:36:31</td>\n",
       "      <td>0.438063</td>\n",
       "      <td>0.283043</td>\n",
       "    </tr>\n",
       "    <tr>\n",
       "      <th>6</th>\n",
       "      <td>2</td>\n",
       "      <td>2019-05-03 11:38:50</td>\n",
       "      <td>2019-05-03 11:44:28</td>\n",
       "      <td>1.296415</td>\n",
       "      <td>0.892914</td>\n",
       "    </tr>\n",
       "    <tr>\n",
       "      <th>7</th>\n",
       "      <td>2</td>\n",
       "      <td>2019-05-03 11:46:19</td>\n",
       "      <td>2019-05-03 11:48:25</td>\n",
       "      <td>0.490377</td>\n",
       "      <td>0.305281</td>\n",
       "    </tr>\n",
       "    <tr>\n",
       "      <th>8</th>\n",
       "      <td>2</td>\n",
       "      <td>2019-05-03 11:49:48</td>\n",
       "      <td>2019-05-03 11:53:18</td>\n",
       "      <td>0.827743</td>\n",
       "      <td>0.516874</td>\n",
       "    </tr>\n",
       "    <tr>\n",
       "      <th>9</th>\n",
       "      <td>3</td>\n",
       "      <td>2019-05-03 12:06:54</td>\n",
       "      <td>2019-05-03 12:11:34</td>\n",
       "      <td>1.062053</td>\n",
       "      <td>0.671494</td>\n",
       "    </tr>\n",
       "    <tr>\n",
       "      <th>10</th>\n",
       "      <td>3</td>\n",
       "      <td>2019-05-03 12:13:52</td>\n",
       "      <td>2019-05-03 12:15:56</td>\n",
       "      <td>0.484206</td>\n",
       "      <td>0.312100</td>\n",
       "    </tr>\n",
       "    <tr>\n",
       "      <th>11</th>\n",
       "      <td>3</td>\n",
       "      <td>2019-05-03 12:18:56</td>\n",
       "      <td>2019-05-03 12:20:45</td>\n",
       "      <td>0.429355</td>\n",
       "      <td>0.271774</td>\n",
       "    </tr>\n",
       "    <tr>\n",
       "      <th>12</th>\n",
       "      <td>3</td>\n",
       "      <td>2019-05-03 12:25:43</td>\n",
       "      <td>2019-05-03 12:27:00</td>\n",
       "      <td>0.299989</td>\n",
       "      <td>0.187806</td>\n",
       "    </tr>\n",
       "    <tr>\n",
       "      <th>13</th>\n",
       "      <td>3</td>\n",
       "      <td>2019-05-03 12:31:14</td>\n",
       "      <td>2019-05-03 12:32:19</td>\n",
       "      <td>0.250280</td>\n",
       "      <td>0.155901</td>\n",
       "    </tr>\n",
       "    <tr>\n",
       "      <th>14</th>\n",
       "      <td>4</td>\n",
       "      <td>2019-05-03 12:39:37</td>\n",
       "      <td>2019-05-03 12:43:04</td>\n",
       "      <td>0.875313</td>\n",
       "      <td>0.614404</td>\n",
       "    </tr>\n",
       "  </tbody>\n",
       "</table>\n",
       "</div>"
      ],
      "text/plain": [
       "    key Начало нагрева дугой  Конец нагрева дугой  Активная мощность  \\\n",
       "0     1  2019-05-03 11:02:14  2019-05-03 11:06:02           0.976059   \n",
       "1     1  2019-05-03 11:07:28  2019-05-03 11:10:33           0.805607   \n",
       "2     1  2019-05-03 11:11:44  2019-05-03 11:14:36           0.744363   \n",
       "3     1  2019-05-03 11:18:14  2019-05-03 11:24:19           1.659363   \n",
       "4     1  2019-05-03 11:26:09  2019-05-03 11:28:37           0.692755   \n",
       "5     2  2019-05-03 11:34:14  2019-05-03 11:36:31           0.438063   \n",
       "6     2  2019-05-03 11:38:50  2019-05-03 11:44:28           1.296415   \n",
       "7     2  2019-05-03 11:46:19  2019-05-03 11:48:25           0.490377   \n",
       "8     2  2019-05-03 11:49:48  2019-05-03 11:53:18           0.827743   \n",
       "9     3  2019-05-03 12:06:54  2019-05-03 12:11:34           1.062053   \n",
       "10    3  2019-05-03 12:13:52  2019-05-03 12:15:56           0.484206   \n",
       "11    3  2019-05-03 12:18:56  2019-05-03 12:20:45           0.429355   \n",
       "12    3  2019-05-03 12:25:43  2019-05-03 12:27:00           0.299989   \n",
       "13    3  2019-05-03 12:31:14  2019-05-03 12:32:19           0.250280   \n",
       "14    4  2019-05-03 12:39:37  2019-05-03 12:43:04           0.875313   \n",
       "\n",
       "    Реактивная мощность  \n",
       "0              0.687084  \n",
       "1              0.520285  \n",
       "2              0.498805  \n",
       "3              1.062669  \n",
       "4              0.414397  \n",
       "5              0.283043  \n",
       "6              0.892914  \n",
       "7              0.305281  \n",
       "8              0.516874  \n",
       "9              0.671494  \n",
       "10             0.312100  \n",
       "11             0.271774  \n",
       "12             0.187806  \n",
       "13             0.155901  \n",
       "14             0.614404  "
      ]
     },
     "metadata": {},
     "output_type": "display_data"
    },
    {
     "name": "stdout",
     "output_type": "stream",
     "text": [
      "Количество партий: 3214\n"
     ]
    }
   ],
   "source": [
    "try:\n",
    "    df_arc = openfunc('/Users/stepan5dol/Downloads/final_steel/data_arc.csv')\n",
    "except: \n",
    "    df_arc = openfunc('/datasets/final_steel/data_arc.csv')"
   ]
  },
  {
   "cell_type": "markdown",
   "id": "20e72e24",
   "metadata": {},
   "source": [
    "Данные об электродах содержат: `номер партии`, `время начала нагрева`, `конец нагрева`, `активную мощность` и `реактивную мощность`."
   ]
  },
  {
   "cell_type": "code",
   "execution_count": 56,
   "id": "eed64a31",
   "metadata": {},
   "outputs": [
    {
     "data": {
      "image/png": "[encoded data removed]",
      "text/plain": [
       "<Figure size 1080x720 with 1 Axes>"
      ]
     },
     "metadata": {
      "needs_background": "light"
     },
     "output_type": "display_data"
    }
   ],
   "source": [
    "plt.figure(figsize=(15,10))\n",
    "sns.histplot(df_arc['Активная мощность'], alpha=0.3)\n",
    "sns.histplot(df_arc[df_arc['Реактивная мощность']>=0]['Реактивная мощность'], alpha=0.5)\n",
    "plt.title('Сравнение распределений Активной и Реактивной мощностей')\n",
    "plt.xlabel('Значение мощности')\n",
    "plt.ylabel('Количество значений')\n",
    "plt.legend(['Активная мощность', 'Реактивная мощность'])\n",
    "plt.show()"
   ]
  },
  {
   "cell_type": "code",
   "execution_count": 57,
   "id": "aa1bd54f",
   "metadata": {},
   "outputs": [
    {
     "data": {
      "text/plain": [
       "0.0544372433969374"
      ]
     },
     "execution_count": 57,
     "metadata": {},
     "output_type": "execute_result"
    }
   ],
   "source": [
    "df_arc['Активная мощность'].corr(df_arc['Реактивная мощность'])"
   ]
  },
  {
   "cell_type": "code",
   "execution_count": 58,
   "id": "b181e92b",
   "metadata": {},
   "outputs": [
    {
     "name": "stdout",
     "output_type": "stream",
     "text": [
      "<class 'pandas.core.frame.DataFrame'>\n",
      "RangeIndex: 3129 entries, 0 to 3128\n",
      "Data columns (total 16 columns):\n",
      " #   Column   Non-Null Count  Dtype \n",
      "---  ------   --------------  ----- \n",
      " 0   key      3129 non-null   int64 \n",
      " 1   Bulk 1   252 non-null    object\n",
      " 2   Bulk 2   22 non-null     object\n",
      " 3   Bulk 3   1298 non-null   object\n",
      " 4   Bulk 4   1014 non-null   object\n",
      " 5   Bulk 5   77 non-null     object\n",
      " 6   Bulk 6   576 non-null    object\n",
      " 7   Bulk 7   25 non-null     object\n",
      " 8   Bulk 8   1 non-null      object\n",
      " 9   Bulk 9   19 non-null     object\n",
      " 10  Bulk 10  176 non-null    object\n",
      " 11  Bulk 11  177 non-null    object\n",
      " 12  Bulk 12  2450 non-null   object\n",
      " 13  Bulk 13  18 non-null     object\n",
      " 14  Bulk 14  2806 non-null   object\n",
      " 15  Bulk 15  2248 non-null   object\n",
      "dtypes: int64(1), object(15)\n",
      "memory usage: 391.2+ KB\n"
     ]
    },
    {
     "data": {
      "text/plain": [
       "None"
      ]
     },
     "metadata": {},
     "output_type": "display_data"
    },
    {
     "data": {
      "text/html": [
       "<div>\n",
       "<style scoped>\n",
       "    .dataframe tbody tr th:only-of-type {\n",
       "        vertical-align: middle;\n",
       "    }\n",
       "\n",
       "    .dataframe tbody tr th {\n",
       "        vertical-align: top;\n",
       "    }\n",
       "\n",
       "    .dataframe thead th {\n",
       "        text-align: right;\n",
       "    }\n",
       "</style>\n",
       "<table border=\"1\" class=\"dataframe\">\n",
       "  <thead>\n",
       "    <tr style=\"text-align: right;\">\n",
       "      <th></th>\n",
       "      <th>key</th>\n",
       "      <th>Bulk 1</th>\n",
       "      <th>Bulk 2</th>\n",
       "      <th>Bulk 3</th>\n",
       "      <th>Bulk 4</th>\n",
       "      <th>Bulk 5</th>\n",
       "      <th>Bulk 6</th>\n",
       "      <th>Bulk 7</th>\n",
       "      <th>Bulk 8</th>\n",
       "      <th>Bulk 9</th>\n",
       "      <th>Bulk 10</th>\n",
       "      <th>Bulk 11</th>\n",
       "      <th>Bulk 12</th>\n",
       "      <th>Bulk 13</th>\n",
       "      <th>Bulk 14</th>\n",
       "      <th>Bulk 15</th>\n",
       "    </tr>\n",
       "  </thead>\n",
       "  <tbody>\n",
       "    <tr>\n",
       "      <th>0</th>\n",
       "      <td>1</td>\n",
       "      <td>NaN</td>\n",
       "      <td>NaN</td>\n",
       "      <td>NaN</td>\n",
       "      <td>2019-05-03 11:21:30</td>\n",
       "      <td>NaN</td>\n",
       "      <td>NaN</td>\n",
       "      <td>NaN</td>\n",
       "      <td>NaN</td>\n",
       "      <td>NaN</td>\n",
       "      <td>NaN</td>\n",
       "      <td>NaN</td>\n",
       "      <td>2019-05-03 11:03:52</td>\n",
       "      <td>NaN</td>\n",
       "      <td>2019-05-03 11:03:52</td>\n",
       "      <td>2019-05-03 11:03:52</td>\n",
       "    </tr>\n",
       "    <tr>\n",
       "      <th>1</th>\n",
       "      <td>2</td>\n",
       "      <td>NaN</td>\n",
       "      <td>NaN</td>\n",
       "      <td>NaN</td>\n",
       "      <td>2019-05-03 11:46:38</td>\n",
       "      <td>NaN</td>\n",
       "      <td>NaN</td>\n",
       "      <td>NaN</td>\n",
       "      <td>NaN</td>\n",
       "      <td>NaN</td>\n",
       "      <td>NaN</td>\n",
       "      <td>NaN</td>\n",
       "      <td>2019-05-03 11:40:20</td>\n",
       "      <td>NaN</td>\n",
       "      <td>2019-05-03 11:40:20</td>\n",
       "      <td>2019-05-03 11:40:20</td>\n",
       "    </tr>\n",
       "    <tr>\n",
       "      <th>2</th>\n",
       "      <td>3</td>\n",
       "      <td>NaN</td>\n",
       "      <td>NaN</td>\n",
       "      <td>NaN</td>\n",
       "      <td>2019-05-03 12:31:06</td>\n",
       "      <td>NaN</td>\n",
       "      <td>NaN</td>\n",
       "      <td>NaN</td>\n",
       "      <td>NaN</td>\n",
       "      <td>NaN</td>\n",
       "      <td>NaN</td>\n",
       "      <td>NaN</td>\n",
       "      <td>2019-05-03 12:09:40</td>\n",
       "      <td>NaN</td>\n",
       "      <td>2019-05-03 12:09:40</td>\n",
       "      <td>2019-05-03 12:09:40</td>\n",
       "    </tr>\n",
       "    <tr>\n",
       "      <th>3</th>\n",
       "      <td>4</td>\n",
       "      <td>NaN</td>\n",
       "      <td>NaN</td>\n",
       "      <td>NaN</td>\n",
       "      <td>2019-05-03 12:48:43</td>\n",
       "      <td>NaN</td>\n",
       "      <td>NaN</td>\n",
       "      <td>NaN</td>\n",
       "      <td>NaN</td>\n",
       "      <td>NaN</td>\n",
       "      <td>NaN</td>\n",
       "      <td>NaN</td>\n",
       "      <td>2019-05-03 12:41:24</td>\n",
       "      <td>NaN</td>\n",
       "      <td>2019-05-03 12:41:24</td>\n",
       "      <td>2019-05-03 12:41:24</td>\n",
       "    </tr>\n",
       "    <tr>\n",
       "      <th>4</th>\n",
       "      <td>5</td>\n",
       "      <td>NaN</td>\n",
       "      <td>NaN</td>\n",
       "      <td>NaN</td>\n",
       "      <td>2019-05-03 13:18:50</td>\n",
       "      <td>NaN</td>\n",
       "      <td>NaN</td>\n",
       "      <td>NaN</td>\n",
       "      <td>NaN</td>\n",
       "      <td>NaN</td>\n",
       "      <td>NaN</td>\n",
       "      <td>NaN</td>\n",
       "      <td>2019-05-03 13:12:56</td>\n",
       "      <td>NaN</td>\n",
       "      <td>2019-05-03 13:12:56</td>\n",
       "      <td>2019-05-03 13:12:56</td>\n",
       "    </tr>\n",
       "    <tr>\n",
       "      <th>5</th>\n",
       "      <td>6</td>\n",
       "      <td>NaN</td>\n",
       "      <td>NaN</td>\n",
       "      <td>NaN</td>\n",
       "      <td>2019-05-03 13:59:24</td>\n",
       "      <td>NaN</td>\n",
       "      <td>NaN</td>\n",
       "      <td>NaN</td>\n",
       "      <td>NaN</td>\n",
       "      <td>NaN</td>\n",
       "      <td>NaN</td>\n",
       "      <td>NaN</td>\n",
       "      <td>2019-05-03 13:53:27</td>\n",
       "      <td>NaN</td>\n",
       "      <td>2019-05-03 13:53:27</td>\n",
       "      <td>2019-05-03 13:53:27</td>\n",
       "    </tr>\n",
       "    <tr>\n",
       "      <th>6</th>\n",
       "      <td>7</td>\n",
       "      <td>NaN</td>\n",
       "      <td>NaN</td>\n",
       "      <td>NaN</td>\n",
       "      <td>2019-05-03 14:29:14</td>\n",
       "      <td>NaN</td>\n",
       "      <td>NaN</td>\n",
       "      <td>NaN</td>\n",
       "      <td>NaN</td>\n",
       "      <td>NaN</td>\n",
       "      <td>NaN</td>\n",
       "      <td>NaN</td>\n",
       "      <td>2019-05-03 14:22:19</td>\n",
       "      <td>NaN</td>\n",
       "      <td>2019-05-03 14:22:19</td>\n",
       "      <td>2019-05-03 14:22:19</td>\n",
       "    </tr>\n",
       "    <tr>\n",
       "      <th>7</th>\n",
       "      <td>8</td>\n",
       "      <td>NaN</td>\n",
       "      <td>NaN</td>\n",
       "      <td>NaN</td>\n",
       "      <td>2019-05-03 15:04:05</td>\n",
       "      <td>NaN</td>\n",
       "      <td>NaN</td>\n",
       "      <td>NaN</td>\n",
       "      <td>NaN</td>\n",
       "      <td>NaN</td>\n",
       "      <td>NaN</td>\n",
       "      <td>NaN</td>\n",
       "      <td>2019-05-03 14:55:46</td>\n",
       "      <td>NaN</td>\n",
       "      <td>2019-05-03 14:55:46</td>\n",
       "      <td>2019-05-03 14:55:46</td>\n",
       "    </tr>\n",
       "    <tr>\n",
       "      <th>8</th>\n",
       "      <td>9</td>\n",
       "      <td>NaN</td>\n",
       "      <td>NaN</td>\n",
       "      <td>NaN</td>\n",
       "      <td>2019-05-03 15:47:34</td>\n",
       "      <td>NaN</td>\n",
       "      <td>NaN</td>\n",
       "      <td>NaN</td>\n",
       "      <td>NaN</td>\n",
       "      <td>NaN</td>\n",
       "      <td>NaN</td>\n",
       "      <td>NaN</td>\n",
       "      <td>2019-05-03 15:41:00</td>\n",
       "      <td>NaN</td>\n",
       "      <td>2019-05-03 15:41:00</td>\n",
       "      <td>2019-05-03 15:41:00</td>\n",
       "    </tr>\n",
       "    <tr>\n",
       "      <th>9</th>\n",
       "      <td>10</td>\n",
       "      <td>NaN</td>\n",
       "      <td>NaN</td>\n",
       "      <td>NaN</td>\n",
       "      <td>NaN</td>\n",
       "      <td>NaN</td>\n",
       "      <td>NaN</td>\n",
       "      <td>NaN</td>\n",
       "      <td>NaN</td>\n",
       "      <td>NaN</td>\n",
       "      <td>NaN</td>\n",
       "      <td>NaN</td>\n",
       "      <td>2019-05-03 16:18:52</td>\n",
       "      <td>NaN</td>\n",
       "      <td>2019-05-03 16:18:52</td>\n",
       "      <td>2019-05-03 16:18:52</td>\n",
       "    </tr>\n",
       "    <tr>\n",
       "      <th>10</th>\n",
       "      <td>11</td>\n",
       "      <td>NaN</td>\n",
       "      <td>NaN</td>\n",
       "      <td>NaN</td>\n",
       "      <td>2019-05-03 17:16:34</td>\n",
       "      <td>NaN</td>\n",
       "      <td>NaN</td>\n",
       "      <td>NaN</td>\n",
       "      <td>NaN</td>\n",
       "      <td>NaN</td>\n",
       "      <td>NaN</td>\n",
       "      <td>NaN</td>\n",
       "      <td>2019-05-03 17:03:52</td>\n",
       "      <td>NaN</td>\n",
       "      <td>2019-05-03 17:03:52</td>\n",
       "      <td>2019-05-03 17:03:52</td>\n",
       "    </tr>\n",
       "    <tr>\n",
       "      <th>11</th>\n",
       "      <td>12</td>\n",
       "      <td>2019-05-03 17:50:19</td>\n",
       "      <td>NaN</td>\n",
       "      <td>NaN</td>\n",
       "      <td>2019-05-03 18:03:59</td>\n",
       "      <td>NaN</td>\n",
       "      <td>NaN</td>\n",
       "      <td>NaN</td>\n",
       "      <td>NaN</td>\n",
       "      <td>NaN</td>\n",
       "      <td>NaN</td>\n",
       "      <td>NaN</td>\n",
       "      <td>2019-05-03 17:45:21</td>\n",
       "      <td>NaN</td>\n",
       "      <td>2019-05-03 17:45:21</td>\n",
       "      <td>2019-05-03 17:45:21</td>\n",
       "    </tr>\n",
       "    <tr>\n",
       "      <th>12</th>\n",
       "      <td>13</td>\n",
       "      <td>NaN</td>\n",
       "      <td>NaN</td>\n",
       "      <td>NaN</td>\n",
       "      <td>NaN</td>\n",
       "      <td>NaN</td>\n",
       "      <td>2019-05-03 18:52:57</td>\n",
       "      <td>NaN</td>\n",
       "      <td>NaN</td>\n",
       "      <td>NaN</td>\n",
       "      <td>NaN</td>\n",
       "      <td>NaN</td>\n",
       "      <td>2019-05-03 18:43:48</td>\n",
       "      <td>NaN</td>\n",
       "      <td>2019-05-03 18:43:48</td>\n",
       "      <td>2019-05-03 18:43:48</td>\n",
       "    </tr>\n",
       "    <tr>\n",
       "      <th>13</th>\n",
       "      <td>14</td>\n",
       "      <td>NaN</td>\n",
       "      <td>NaN</td>\n",
       "      <td>2019-05-03 20:13:36</td>\n",
       "      <td>NaN</td>\n",
       "      <td>NaN</td>\n",
       "      <td>NaN</td>\n",
       "      <td>NaN</td>\n",
       "      <td>NaN</td>\n",
       "      <td>NaN</td>\n",
       "      <td>NaN</td>\n",
       "      <td>NaN</td>\n",
       "      <td>2019-05-03 20:05:47</td>\n",
       "      <td>NaN</td>\n",
       "      <td>2019-05-03 20:05:47</td>\n",
       "      <td>2019-05-03 20:05:47</td>\n",
       "    </tr>\n",
       "    <tr>\n",
       "      <th>14</th>\n",
       "      <td>15</td>\n",
       "      <td>NaN</td>\n",
       "      <td>NaN</td>\n",
       "      <td>NaN</td>\n",
       "      <td>NaN</td>\n",
       "      <td>NaN</td>\n",
       "      <td>2019-05-03 21:15:20</td>\n",
       "      <td>NaN</td>\n",
       "      <td>NaN</td>\n",
       "      <td>NaN</td>\n",
       "      <td>NaN</td>\n",
       "      <td>NaN</td>\n",
       "      <td>NaN</td>\n",
       "      <td>NaN</td>\n",
       "      <td>2019-05-03 21:03:07</td>\n",
       "      <td>2019-05-03 21:03:07</td>\n",
       "    </tr>\n",
       "  </tbody>\n",
       "</table>\n",
       "</div>"
      ],
      "text/plain": [
       "    key               Bulk 1 Bulk 2               Bulk 3               Bulk 4  \\\n",
       "0     1                  NaN    NaN                  NaN  2019-05-03 11:21:30   \n",
       "1     2                  NaN    NaN                  NaN  2019-05-03 11:46:38   \n",
       "2     3                  NaN    NaN                  NaN  2019-05-03 12:31:06   \n",
       "3     4                  NaN    NaN                  NaN  2019-05-03 12:48:43   \n",
       "4     5                  NaN    NaN                  NaN  2019-05-03 13:18:50   \n",
       "5     6                  NaN    NaN                  NaN  2019-05-03 13:59:24   \n",
       "6     7                  NaN    NaN                  NaN  2019-05-03 14:29:14   \n",
       "7     8                  NaN    NaN                  NaN  2019-05-03 15:04:05   \n",
       "8     9                  NaN    NaN                  NaN  2019-05-03 15:47:34   \n",
       "9    10                  NaN    NaN                  NaN                  NaN   \n",
       "10   11                  NaN    NaN                  NaN  2019-05-03 17:16:34   \n",
       "11   12  2019-05-03 17:50:19    NaN                  NaN  2019-05-03 18:03:59   \n",
       "12   13                  NaN    NaN                  NaN                  NaN   \n",
       "13   14                  NaN    NaN  2019-05-03 20:13:36                  NaN   \n",
       "14   15                  NaN    NaN                  NaN                  NaN   \n",
       "\n",
       "   Bulk 5               Bulk 6 Bulk 7 Bulk 8 Bulk 9 Bulk 10 Bulk 11  \\\n",
       "0     NaN                  NaN    NaN    NaN    NaN     NaN     NaN   \n",
       "1     NaN                  NaN    NaN    NaN    NaN     NaN     NaN   \n",
       "2     NaN                  NaN    NaN    NaN    NaN     NaN     NaN   \n",
       "3     NaN                  NaN    NaN    NaN    NaN     NaN     NaN   \n",
       "4     NaN                  NaN    NaN    NaN    NaN     NaN     NaN   \n",
       "5     NaN                  NaN    NaN    NaN    NaN     NaN     NaN   \n",
       "6     NaN                  NaN    NaN    NaN    NaN     NaN     NaN   \n",
       "7     NaN                  NaN    NaN    NaN    NaN     NaN     NaN   \n",
       "8     NaN                  NaN    NaN    NaN    NaN     NaN     NaN   \n",
       "9     NaN                  NaN    NaN    NaN    NaN     NaN     NaN   \n",
       "10    NaN                  NaN    NaN    NaN    NaN     NaN     NaN   \n",
       "11    NaN                  NaN    NaN    NaN    NaN     NaN     NaN   \n",
       "12    NaN  2019-05-03 18:52:57    NaN    NaN    NaN     NaN     NaN   \n",
       "13    NaN                  NaN    NaN    NaN    NaN     NaN     NaN   \n",
       "14    NaN  2019-05-03 21:15:20    NaN    NaN    NaN     NaN     NaN   \n",
       "\n",
       "                Bulk 12 Bulk 13              Bulk 14              Bulk 15  \n",
       "0   2019-05-03 11:03:52     NaN  2019-05-03 11:03:52  2019-05-03 11:03:52  \n",
       "1   2019-05-03 11:40:20     NaN  2019-05-03 11:40:20  2019-05-03 11:40:20  \n",
       "2   2019-05-03 12:09:40     NaN  2019-05-03 12:09:40  2019-05-03 12:09:40  \n",
       "3   2019-05-03 12:41:24     NaN  2019-05-03 12:41:24  2019-05-03 12:41:24  \n",
       "4   2019-05-03 13:12:56     NaN  2019-05-03 13:12:56  2019-05-03 13:12:56  \n",
       "5   2019-05-03 13:53:27     NaN  2019-05-03 13:53:27  2019-05-03 13:53:27  \n",
       "6   2019-05-03 14:22:19     NaN  2019-05-03 14:22:19  2019-05-03 14:22:19  \n",
       "7   2019-05-03 14:55:46     NaN  2019-05-03 14:55:46  2019-05-03 14:55:46  \n",
       "8   2019-05-03 15:41:00     NaN  2019-05-03 15:41:00  2019-05-03 15:41:00  \n",
       "9   2019-05-03 16:18:52     NaN  2019-05-03 16:18:52  2019-05-03 16:18:52  \n",
       "10  2019-05-03 17:03:52     NaN  2019-05-03 17:03:52  2019-05-03 17:03:52  \n",
       "11  2019-05-03 17:45:21     NaN  2019-05-03 17:45:21  2019-05-03 17:45:21  \n",
       "12  2019-05-03 18:43:48     NaN  2019-05-03 18:43:48  2019-05-03 18:43:48  \n",
       "13  2019-05-03 20:05:47     NaN  2019-05-03 20:05:47  2019-05-03 20:05:47  \n",
       "14                  NaN     NaN  2019-05-03 21:03:07  2019-05-03 21:03:07  "
      ]
     },
     "metadata": {},
     "output_type": "display_data"
    },
    {
     "name": "stdout",
     "output_type": "stream",
     "text": [
      "Количество партий: 3129\n"
     ]
    },
    {
     "data": {
      "text/plain": [
       "3241"
      ]
     },
     "execution_count": 58,
     "metadata": {},
     "output_type": "execute_result"
    }
   ],
   "source": [
    "try:\n",
    "    df_bulk_time = openfunc('/Users/stepan5dol/Downloads/final_steel/data_bulk_time.csv')\n",
    "except: \n",
    "    df_bulk_time = openfunc('/datasets/final_steel/data_bulk_time.csv')\n",
    "df_bulk_time['key'].max()"
   ]
  },
  {
   "cell_type": "code",
   "execution_count": 59,
   "id": "ba478185",
   "metadata": {},
   "outputs": [
    {
     "name": "stdout",
     "output_type": "stream",
     "text": [
      "<class 'pandas.core.frame.DataFrame'>\n",
      "RangeIndex: 3129 entries, 0 to 3128\n",
      "Data columns (total 16 columns):\n",
      " #   Column   Non-Null Count  Dtype  \n",
      "---  ------   --------------  -----  \n",
      " 0   key      3129 non-null   int64  \n",
      " 1   Bulk 1   252 non-null    float64\n",
      " 2   Bulk 2   22 non-null     float64\n",
      " 3   Bulk 3   1298 non-null   float64\n",
      " 4   Bulk 4   1014 non-null   float64\n",
      " 5   Bulk 5   77 non-null     float64\n",
      " 6   Bulk 6   576 non-null    float64\n",
      " 7   Bulk 7   25 non-null     float64\n",
      " 8   Bulk 8   1 non-null      float64\n",
      " 9   Bulk 9   19 non-null     float64\n",
      " 10  Bulk 10  176 non-null    float64\n",
      " 11  Bulk 11  177 non-null    float64\n",
      " 12  Bulk 12  2450 non-null   float64\n",
      " 13  Bulk 13  18 non-null     float64\n",
      " 14  Bulk 14  2806 non-null   float64\n",
      " 15  Bulk 15  2248 non-null   float64\n",
      "dtypes: float64(15), int64(1)\n",
      "memory usage: 391.2 KB\n"
     ]
    },
    {
     "data": {
      "text/plain": [
       "None"
      ]
     },
     "metadata": {},
     "output_type": "display_data"
    },
    {
     "data": {
      "text/html": [
       "<div>\n",
       "<style scoped>\n",
       "    .dataframe tbody tr th:only-of-type {\n",
       "        vertical-align: middle;\n",
       "    }\n",
       "\n",
       "    .dataframe tbody tr th {\n",
       "        vertical-align: top;\n",
       "    }\n",
       "\n",
       "    .dataframe thead th {\n",
       "        text-align: right;\n",
       "    }\n",
       "</style>\n",
       "<table border=\"1\" class=\"dataframe\">\n",
       "  <thead>\n",
       "    <tr style=\"text-align: right;\">\n",
       "      <th></th>\n",
       "      <th>key</th>\n",
       "      <th>Bulk 1</th>\n",
       "      <th>Bulk 2</th>\n",
       "      <th>Bulk 3</th>\n",
       "      <th>Bulk 4</th>\n",
       "      <th>Bulk 5</th>\n",
       "      <th>Bulk 6</th>\n",
       "      <th>Bulk 7</th>\n",
       "      <th>Bulk 8</th>\n",
       "      <th>Bulk 9</th>\n",
       "      <th>Bulk 10</th>\n",
       "      <th>Bulk 11</th>\n",
       "      <th>Bulk 12</th>\n",
       "      <th>Bulk 13</th>\n",
       "      <th>Bulk 14</th>\n",
       "      <th>Bulk 15</th>\n",
       "    </tr>\n",
       "  </thead>\n",
       "  <tbody>\n",
       "    <tr>\n",
       "      <th>0</th>\n",
       "      <td>1</td>\n",
       "      <td>NaN</td>\n",
       "      <td>NaN</td>\n",
       "      <td>NaN</td>\n",
       "      <td>43.0</td>\n",
       "      <td>NaN</td>\n",
       "      <td>NaN</td>\n",
       "      <td>NaN</td>\n",
       "      <td>NaN</td>\n",
       "      <td>NaN</td>\n",
       "      <td>NaN</td>\n",
       "      <td>NaN</td>\n",
       "      <td>206.0</td>\n",
       "      <td>NaN</td>\n",
       "      <td>150.0</td>\n",
       "      <td>154.0</td>\n",
       "    </tr>\n",
       "    <tr>\n",
       "      <th>1</th>\n",
       "      <td>2</td>\n",
       "      <td>NaN</td>\n",
       "      <td>NaN</td>\n",
       "      <td>NaN</td>\n",
       "      <td>73.0</td>\n",
       "      <td>NaN</td>\n",
       "      <td>NaN</td>\n",
       "      <td>NaN</td>\n",
       "      <td>NaN</td>\n",
       "      <td>NaN</td>\n",
       "      <td>NaN</td>\n",
       "      <td>NaN</td>\n",
       "      <td>206.0</td>\n",
       "      <td>NaN</td>\n",
       "      <td>149.0</td>\n",
       "      <td>154.0</td>\n",
       "    </tr>\n",
       "    <tr>\n",
       "      <th>2</th>\n",
       "      <td>3</td>\n",
       "      <td>NaN</td>\n",
       "      <td>NaN</td>\n",
       "      <td>NaN</td>\n",
       "      <td>34.0</td>\n",
       "      <td>NaN</td>\n",
       "      <td>NaN</td>\n",
       "      <td>NaN</td>\n",
       "      <td>NaN</td>\n",
       "      <td>NaN</td>\n",
       "      <td>NaN</td>\n",
       "      <td>NaN</td>\n",
       "      <td>205.0</td>\n",
       "      <td>NaN</td>\n",
       "      <td>152.0</td>\n",
       "      <td>153.0</td>\n",
       "    </tr>\n",
       "    <tr>\n",
       "      <th>3</th>\n",
       "      <td>4</td>\n",
       "      <td>NaN</td>\n",
       "      <td>NaN</td>\n",
       "      <td>NaN</td>\n",
       "      <td>81.0</td>\n",
       "      <td>NaN</td>\n",
       "      <td>NaN</td>\n",
       "      <td>NaN</td>\n",
       "      <td>NaN</td>\n",
       "      <td>NaN</td>\n",
       "      <td>NaN</td>\n",
       "      <td>NaN</td>\n",
       "      <td>207.0</td>\n",
       "      <td>NaN</td>\n",
       "      <td>153.0</td>\n",
       "      <td>154.0</td>\n",
       "    </tr>\n",
       "    <tr>\n",
       "      <th>4</th>\n",
       "      <td>5</td>\n",
       "      <td>NaN</td>\n",
       "      <td>NaN</td>\n",
       "      <td>NaN</td>\n",
       "      <td>78.0</td>\n",
       "      <td>NaN</td>\n",
       "      <td>NaN</td>\n",
       "      <td>NaN</td>\n",
       "      <td>NaN</td>\n",
       "      <td>NaN</td>\n",
       "      <td>NaN</td>\n",
       "      <td>NaN</td>\n",
       "      <td>203.0</td>\n",
       "      <td>NaN</td>\n",
       "      <td>151.0</td>\n",
       "      <td>152.0</td>\n",
       "    </tr>\n",
       "    <tr>\n",
       "      <th>5</th>\n",
       "      <td>6</td>\n",
       "      <td>NaN</td>\n",
       "      <td>NaN</td>\n",
       "      <td>NaN</td>\n",
       "      <td>117.0</td>\n",
       "      <td>NaN</td>\n",
       "      <td>NaN</td>\n",
       "      <td>NaN</td>\n",
       "      <td>NaN</td>\n",
       "      <td>NaN</td>\n",
       "      <td>NaN</td>\n",
       "      <td>NaN</td>\n",
       "      <td>204.0</td>\n",
       "      <td>NaN</td>\n",
       "      <td>201.0</td>\n",
       "      <td>154.0</td>\n",
       "    </tr>\n",
       "    <tr>\n",
       "      <th>6</th>\n",
       "      <td>7</td>\n",
       "      <td>NaN</td>\n",
       "      <td>NaN</td>\n",
       "      <td>NaN</td>\n",
       "      <td>117.0</td>\n",
       "      <td>NaN</td>\n",
       "      <td>NaN</td>\n",
       "      <td>NaN</td>\n",
       "      <td>NaN</td>\n",
       "      <td>NaN</td>\n",
       "      <td>NaN</td>\n",
       "      <td>NaN</td>\n",
       "      <td>204.0</td>\n",
       "      <td>NaN</td>\n",
       "      <td>152.0</td>\n",
       "      <td>154.0</td>\n",
       "    </tr>\n",
       "    <tr>\n",
       "      <th>7</th>\n",
       "      <td>8</td>\n",
       "      <td>NaN</td>\n",
       "      <td>NaN</td>\n",
       "      <td>NaN</td>\n",
       "      <td>99.0</td>\n",
       "      <td>NaN</td>\n",
       "      <td>NaN</td>\n",
       "      <td>NaN</td>\n",
       "      <td>NaN</td>\n",
       "      <td>NaN</td>\n",
       "      <td>NaN</td>\n",
       "      <td>NaN</td>\n",
       "      <td>410.0</td>\n",
       "      <td>NaN</td>\n",
       "      <td>252.0</td>\n",
       "      <td>153.0</td>\n",
       "    </tr>\n",
       "    <tr>\n",
       "      <th>8</th>\n",
       "      <td>9</td>\n",
       "      <td>NaN</td>\n",
       "      <td>NaN</td>\n",
       "      <td>NaN</td>\n",
       "      <td>117.0</td>\n",
       "      <td>NaN</td>\n",
       "      <td>NaN</td>\n",
       "      <td>NaN</td>\n",
       "      <td>NaN</td>\n",
       "      <td>NaN</td>\n",
       "      <td>NaN</td>\n",
       "      <td>NaN</td>\n",
       "      <td>107.0</td>\n",
       "      <td>NaN</td>\n",
       "      <td>99.0</td>\n",
       "      <td>203.0</td>\n",
       "    </tr>\n",
       "    <tr>\n",
       "      <th>9</th>\n",
       "      <td>10</td>\n",
       "      <td>NaN</td>\n",
       "      <td>NaN</td>\n",
       "      <td>NaN</td>\n",
       "      <td>NaN</td>\n",
       "      <td>NaN</td>\n",
       "      <td>NaN</td>\n",
       "      <td>NaN</td>\n",
       "      <td>NaN</td>\n",
       "      <td>NaN</td>\n",
       "      <td>NaN</td>\n",
       "      <td>NaN</td>\n",
       "      <td>203.0</td>\n",
       "      <td>NaN</td>\n",
       "      <td>102.0</td>\n",
       "      <td>204.0</td>\n",
       "    </tr>\n",
       "    <tr>\n",
       "      <th>10</th>\n",
       "      <td>11</td>\n",
       "      <td>NaN</td>\n",
       "      <td>NaN</td>\n",
       "      <td>NaN</td>\n",
       "      <td>69.0</td>\n",
       "      <td>NaN</td>\n",
       "      <td>NaN</td>\n",
       "      <td>NaN</td>\n",
       "      <td>NaN</td>\n",
       "      <td>NaN</td>\n",
       "      <td>NaN</td>\n",
       "      <td>NaN</td>\n",
       "      <td>207.0</td>\n",
       "      <td>NaN</td>\n",
       "      <td>101.0</td>\n",
       "      <td>202.0</td>\n",
       "    </tr>\n",
       "    <tr>\n",
       "      <th>11</th>\n",
       "      <td>12</td>\n",
       "      <td>46.0</td>\n",
       "      <td>NaN</td>\n",
       "      <td>NaN</td>\n",
       "      <td>34.0</td>\n",
       "      <td>NaN</td>\n",
       "      <td>NaN</td>\n",
       "      <td>NaN</td>\n",
       "      <td>NaN</td>\n",
       "      <td>NaN</td>\n",
       "      <td>NaN</td>\n",
       "      <td>NaN</td>\n",
       "      <td>618.0</td>\n",
       "      <td>NaN</td>\n",
       "      <td>406.0</td>\n",
       "      <td>203.0</td>\n",
       "    </tr>\n",
       "    <tr>\n",
       "      <th>12</th>\n",
       "      <td>13</td>\n",
       "      <td>NaN</td>\n",
       "      <td>NaN</td>\n",
       "      <td>NaN</td>\n",
       "      <td>NaN</td>\n",
       "      <td>NaN</td>\n",
       "      <td>72.0</td>\n",
       "      <td>NaN</td>\n",
       "      <td>NaN</td>\n",
       "      <td>NaN</td>\n",
       "      <td>NaN</td>\n",
       "      <td>NaN</td>\n",
       "      <td>410.0</td>\n",
       "      <td>NaN</td>\n",
       "      <td>151.0</td>\n",
       "      <td>204.0</td>\n",
       "    </tr>\n",
       "    <tr>\n",
       "      <th>13</th>\n",
       "      <td>14</td>\n",
       "      <td>NaN</td>\n",
       "      <td>NaN</td>\n",
       "      <td>71.0</td>\n",
       "      <td>NaN</td>\n",
       "      <td>NaN</td>\n",
       "      <td>NaN</td>\n",
       "      <td>NaN</td>\n",
       "      <td>NaN</td>\n",
       "      <td>NaN</td>\n",
       "      <td>NaN</td>\n",
       "      <td>NaN</td>\n",
       "      <td>204.0</td>\n",
       "      <td>NaN</td>\n",
       "      <td>152.0</td>\n",
       "      <td>203.0</td>\n",
       "    </tr>\n",
       "    <tr>\n",
       "      <th>14</th>\n",
       "      <td>15</td>\n",
       "      <td>NaN</td>\n",
       "      <td>NaN</td>\n",
       "      <td>NaN</td>\n",
       "      <td>NaN</td>\n",
       "      <td>NaN</td>\n",
       "      <td>77.0</td>\n",
       "      <td>NaN</td>\n",
       "      <td>NaN</td>\n",
       "      <td>NaN</td>\n",
       "      <td>NaN</td>\n",
       "      <td>NaN</td>\n",
       "      <td>NaN</td>\n",
       "      <td>NaN</td>\n",
       "      <td>251.0</td>\n",
       "      <td>203.0</td>\n",
       "    </tr>\n",
       "  </tbody>\n",
       "</table>\n",
       "</div>"
      ],
      "text/plain": [
       "    key  Bulk 1  Bulk 2  Bulk 3  Bulk 4  Bulk 5  Bulk 6  Bulk 7  Bulk 8  \\\n",
       "0     1     NaN     NaN     NaN    43.0     NaN     NaN     NaN     NaN   \n",
       "1     2     NaN     NaN     NaN    73.0     NaN     NaN     NaN     NaN   \n",
       "2     3     NaN     NaN     NaN    34.0     NaN     NaN     NaN     NaN   \n",
       "3     4     NaN     NaN     NaN    81.0     NaN     NaN     NaN     NaN   \n",
       "4     5     NaN     NaN     NaN    78.0     NaN     NaN     NaN     NaN   \n",
       "5     6     NaN     NaN     NaN   117.0     NaN     NaN     NaN     NaN   \n",
       "6     7     NaN     NaN     NaN   117.0     NaN     NaN     NaN     NaN   \n",
       "7     8     NaN     NaN     NaN    99.0     NaN     NaN     NaN     NaN   \n",
       "8     9     NaN     NaN     NaN   117.0     NaN     NaN     NaN     NaN   \n",
       "9    10     NaN     NaN     NaN     NaN     NaN     NaN     NaN     NaN   \n",
       "10   11     NaN     NaN     NaN    69.0     NaN     NaN     NaN     NaN   \n",
       "11   12    46.0     NaN     NaN    34.0     NaN     NaN     NaN     NaN   \n",
       "12   13     NaN     NaN     NaN     NaN     NaN    72.0     NaN     NaN   \n",
       "13   14     NaN     NaN    71.0     NaN     NaN     NaN     NaN     NaN   \n",
       "14   15     NaN     NaN     NaN     NaN     NaN    77.0     NaN     NaN   \n",
       "\n",
       "    Bulk 9  Bulk 10  Bulk 11  Bulk 12  Bulk 13  Bulk 14  Bulk 15  \n",
       "0      NaN      NaN      NaN    206.0      NaN    150.0    154.0  \n",
       "1      NaN      NaN      NaN    206.0      NaN    149.0    154.0  \n",
       "2      NaN      NaN      NaN    205.0      NaN    152.0    153.0  \n",
       "3      NaN      NaN      NaN    207.0      NaN    153.0    154.0  \n",
       "4      NaN      NaN      NaN    203.0      NaN    151.0    152.0  \n",
       "5      NaN      NaN      NaN    204.0      NaN    201.0    154.0  \n",
       "6      NaN      NaN      NaN    204.0      NaN    152.0    154.0  \n",
       "7      NaN      NaN      NaN    410.0      NaN    252.0    153.0  \n",
       "8      NaN      NaN      NaN    107.0      NaN     99.0    203.0  \n",
       "9      NaN      NaN      NaN    203.0      NaN    102.0    204.0  \n",
       "10     NaN      NaN      NaN    207.0      NaN    101.0    202.0  \n",
       "11     NaN      NaN      NaN    618.0      NaN    406.0    203.0  \n",
       "12     NaN      NaN      NaN    410.0      NaN    151.0    204.0  \n",
       "13     NaN      NaN      NaN    204.0      NaN    152.0    203.0  \n",
       "14     NaN      NaN      NaN      NaN      NaN    251.0    203.0  "
      ]
     },
     "metadata": {},
     "output_type": "display_data"
    },
    {
     "name": "stdout",
     "output_type": "stream",
     "text": [
      "Количество партий: 3129\n"
     ]
    }
   ],
   "source": [
    "try:\n",
    "    df_bulk = openfunc('/Users/stepan5dol/Downloads/final_steel/data_bulk.csv')\n",
    "except: \n",
    "    df_bulk = openfunc('/datasets/final_steel/data_bulk.csv')"
   ]
  },
  {
   "cell_type": "code",
   "execution_count": 60,
   "id": "0baa2d77",
   "metadata": {},
   "outputs": [
    {
     "data": {
      "image/png": "[encoded data removed]",
      "text/plain": [
       "<Figure size 1080x720 with 1 Axes>"
      ]
     },
     "metadata": {
      "needs_background": "light"
     },
     "output_type": "display_data"
    }
   ],
   "source": [
    "plt.figure(figsize=(15, 10))\n",
    "df_bulk.boxplot([col for col in df_bulk.columns if col != 'key'], vert=False)\n",
    "plt.show()"
   ]
  },
  {
   "cell_type": "markdown",
   "id": "8e84af24",
   "metadata": {},
   "source": [
    "**Подача сыпучих материалов:**\n",
    "\n",
    "1. Меньше всего подавали материал `под номером 8` – единожды.\n",
    "2. Данные `по 12 материалу` содержат очевидный выброс, который необходимо убрать.\n",
    "3. Многие материалы `(1, 3, 4, 5, 6, 12, 14)` содержат выбросы в значениях подачи. \n",
    "\n",
    "Остается открытым вопрос о том, есть ли единая технология или каждая партия индивидуальна. \n",
    "Возможно, столбцы с материалами, подаваемыми реже всего, `придется исключить (2, 5, 7, 8, 9, 13)`."
   ]
  },
  {
   "cell_type": "code",
   "execution_count": 61,
   "id": "5cfee79b",
   "metadata": {},
   "outputs": [
    {
     "name": "stdout",
     "output_type": "stream",
     "text": [
      "<class 'pandas.core.frame.DataFrame'>\n",
      "RangeIndex: 3239 entries, 0 to 3238\n",
      "Data columns (total 2 columns):\n",
      " #   Column  Non-Null Count  Dtype  \n",
      "---  ------  --------------  -----  \n",
      " 0   key     3239 non-null   int64  \n",
      " 1   Газ 1   3239 non-null   float64\n",
      "dtypes: float64(1), int64(1)\n",
      "memory usage: 50.7 KB\n"
     ]
    },
    {
     "data": {
      "text/plain": [
       "None"
      ]
     },
     "metadata": {},
     "output_type": "display_data"
    },
    {
     "data": {
      "text/html": [
       "<div>\n",
       "<style scoped>\n",
       "    .dataframe tbody tr th:only-of-type {\n",
       "        vertical-align: middle;\n",
       "    }\n",
       "\n",
       "    .dataframe tbody tr th {\n",
       "        vertical-align: top;\n",
       "    }\n",
       "\n",
       "    .dataframe thead th {\n",
       "        text-align: right;\n",
       "    }\n",
       "</style>\n",
       "<table border=\"1\" class=\"dataframe\">\n",
       "  <thead>\n",
       "    <tr style=\"text-align: right;\">\n",
       "      <th></th>\n",
       "      <th>key</th>\n",
       "      <th>Газ 1</th>\n",
       "    </tr>\n",
       "  </thead>\n",
       "  <tbody>\n",
       "    <tr>\n",
       "      <th>0</th>\n",
       "      <td>1</td>\n",
       "      <td>29.749986</td>\n",
       "    </tr>\n",
       "    <tr>\n",
       "      <th>1</th>\n",
       "      <td>2</td>\n",
       "      <td>12.555561</td>\n",
       "    </tr>\n",
       "    <tr>\n",
       "      <th>2</th>\n",
       "      <td>3</td>\n",
       "      <td>28.554793</td>\n",
       "    </tr>\n",
       "    <tr>\n",
       "      <th>3</th>\n",
       "      <td>4</td>\n",
       "      <td>18.841219</td>\n",
       "    </tr>\n",
       "    <tr>\n",
       "      <th>4</th>\n",
       "      <td>5</td>\n",
       "      <td>5.413692</td>\n",
       "    </tr>\n",
       "    <tr>\n",
       "      <th>5</th>\n",
       "      <td>6</td>\n",
       "      <td>11.273392</td>\n",
       "    </tr>\n",
       "    <tr>\n",
       "      <th>6</th>\n",
       "      <td>7</td>\n",
       "      <td>9.836267</td>\n",
       "    </tr>\n",
       "    <tr>\n",
       "      <th>7</th>\n",
       "      <td>8</td>\n",
       "      <td>15.171553</td>\n",
       "    </tr>\n",
       "    <tr>\n",
       "      <th>8</th>\n",
       "      <td>9</td>\n",
       "      <td>8.216623</td>\n",
       "    </tr>\n",
       "    <tr>\n",
       "      <th>9</th>\n",
       "      <td>10</td>\n",
       "      <td>6.529891</td>\n",
       "    </tr>\n",
       "    <tr>\n",
       "      <th>10</th>\n",
       "      <td>11</td>\n",
       "      <td>3.639128</td>\n",
       "    </tr>\n",
       "    <tr>\n",
       "      <th>11</th>\n",
       "      <td>12</td>\n",
       "      <td>11.026259</td>\n",
       "    </tr>\n",
       "    <tr>\n",
       "      <th>12</th>\n",
       "      <td>13</td>\n",
       "      <td>11.443643</td>\n",
       "    </tr>\n",
       "    <tr>\n",
       "      <th>13</th>\n",
       "      <td>14</td>\n",
       "      <td>5.098945</td>\n",
       "    </tr>\n",
       "    <tr>\n",
       "      <th>14</th>\n",
       "      <td>15</td>\n",
       "      <td>11.085451</td>\n",
       "    </tr>\n",
       "  </tbody>\n",
       "</table>\n",
       "</div>"
      ],
      "text/plain": [
       "    key      Газ 1\n",
       "0     1  29.749986\n",
       "1     2  12.555561\n",
       "2     3  28.554793\n",
       "3     4  18.841219\n",
       "4     5   5.413692\n",
       "5     6  11.273392\n",
       "6     7   9.836267\n",
       "7     8  15.171553\n",
       "8     9   8.216623\n",
       "9    10   6.529891\n",
       "10   11   3.639128\n",
       "11   12  11.026259\n",
       "12   13  11.443643\n",
       "13   14   5.098945\n",
       "14   15  11.085451"
      ]
     },
     "metadata": {},
     "output_type": "display_data"
    },
    {
     "name": "stdout",
     "output_type": "stream",
     "text": [
      "Количество партий: 3239\n"
     ]
    }
   ],
   "source": [
    "try:\n",
    "    df_gas = openfunc('/Users/stepan5dol/Downloads/final_steel/data_gas.csv')\n",
    "except: \n",
    "    df_gas = openfunc('/datasets/final_steel/data_gas.csv')"
   ]
  },
  {
   "cell_type": "code",
   "execution_count": 62,
   "id": "66a02872",
   "metadata": {},
   "outputs": [
    {
     "data": {
      "text/plain": [
       "<AxesSubplot:>"
      ]
     },
     "execution_count": 62,
     "metadata": {},
     "output_type": "execute_result"
    },
    {
     "data": {
      "image/png": "[encoded data removed]",
      "text/plain": [
       "<Figure size 1080x144 with 1 Axes>"
      ]
     },
     "metadata": {
      "needs_background": "light"
     },
     "output_type": "display_data"
    }
   ],
   "source": [
    "plt.figure(figsize=(15, 2))\n",
    "df_gas.boxplot(['Газ 1'], vert=False)"
   ]
  },
  {
   "cell_type": "markdown",
   "id": "6a0bc40c",
   "metadata": {},
   "source": [
    "**Продувка сплава газом:**\n",
    "\n",
    "1. Указано, что сплав продувается каждый раз после добавления лигирующего материала – `уточнить технологию у заказчика`.\n",
    "2. Каковы единицы измерения – м2? Это общий объем всего газа? Судя по названию столбца – это `только первая продувка`. Возможно, данные не полны. "
   ]
  },
  {
   "cell_type": "code",
   "execution_count": 63,
   "id": "44c9aaaa",
   "metadata": {},
   "outputs": [
    {
     "name": "stdout",
     "output_type": "stream",
     "text": [
      "<class 'pandas.core.frame.DataFrame'>\n",
      "RangeIndex: 15907 entries, 0 to 15906\n",
      "Data columns (total 3 columns):\n",
      " #   Column        Non-Null Count  Dtype  \n",
      "---  ------        --------------  -----  \n",
      " 0   key           15907 non-null  int64  \n",
      " 1   Время замера  15907 non-null  object \n",
      " 2   Температура   13006 non-null  float64\n",
      "dtypes: float64(1), int64(1), object(1)\n",
      "memory usage: 372.9+ KB\n"
     ]
    },
    {
     "data": {
      "text/plain": [
       "None"
      ]
     },
     "metadata": {},
     "output_type": "display_data"
    },
    {
     "data": {
      "text/html": [
       "<div>\n",
       "<style scoped>\n",
       "    .dataframe tbody tr th:only-of-type {\n",
       "        vertical-align: middle;\n",
       "    }\n",
       "\n",
       "    .dataframe tbody tr th {\n",
       "        vertical-align: top;\n",
       "    }\n",
       "\n",
       "    .dataframe thead th {\n",
       "        text-align: right;\n",
       "    }\n",
       "</style>\n",
       "<table border=\"1\" class=\"dataframe\">\n",
       "  <thead>\n",
       "    <tr style=\"text-align: right;\">\n",
       "      <th></th>\n",
       "      <th>key</th>\n",
       "      <th>Время замера</th>\n",
       "      <th>Температура</th>\n",
       "    </tr>\n",
       "  </thead>\n",
       "  <tbody>\n",
       "    <tr>\n",
       "      <th>0</th>\n",
       "      <td>1</td>\n",
       "      <td>2019-05-03 11:16:18</td>\n",
       "      <td>1571.0</td>\n",
       "    </tr>\n",
       "    <tr>\n",
       "      <th>1</th>\n",
       "      <td>1</td>\n",
       "      <td>2019-05-03 11:25:53</td>\n",
       "      <td>1604.0</td>\n",
       "    </tr>\n",
       "    <tr>\n",
       "      <th>2</th>\n",
       "      <td>1</td>\n",
       "      <td>2019-05-03 11:29:11</td>\n",
       "      <td>1618.0</td>\n",
       "    </tr>\n",
       "    <tr>\n",
       "      <th>3</th>\n",
       "      <td>1</td>\n",
       "      <td>2019-05-03 11:30:01</td>\n",
       "      <td>1601.0</td>\n",
       "    </tr>\n",
       "    <tr>\n",
       "      <th>4</th>\n",
       "      <td>1</td>\n",
       "      <td>2019-05-03 11:30:39</td>\n",
       "      <td>1613.0</td>\n",
       "    </tr>\n",
       "    <tr>\n",
       "      <th>5</th>\n",
       "      <td>2</td>\n",
       "      <td>2019-05-03 11:37:27</td>\n",
       "      <td>1581.0</td>\n",
       "    </tr>\n",
       "    <tr>\n",
       "      <th>6</th>\n",
       "      <td>2</td>\n",
       "      <td>2019-05-03 11:38:00</td>\n",
       "      <td>1577.0</td>\n",
       "    </tr>\n",
       "    <tr>\n",
       "      <th>7</th>\n",
       "      <td>2</td>\n",
       "      <td>2019-05-03 11:49:38</td>\n",
       "      <td>1589.0</td>\n",
       "    </tr>\n",
       "    <tr>\n",
       "      <th>8</th>\n",
       "      <td>2</td>\n",
       "      <td>2019-05-03 11:55:50</td>\n",
       "      <td>1604.0</td>\n",
       "    </tr>\n",
       "    <tr>\n",
       "      <th>9</th>\n",
       "      <td>2</td>\n",
       "      <td>2019-05-03 11:58:24</td>\n",
       "      <td>1608.0</td>\n",
       "    </tr>\n",
       "    <tr>\n",
       "      <th>10</th>\n",
       "      <td>2</td>\n",
       "      <td>2019-05-03 11:59:12</td>\n",
       "      <td>1602.0</td>\n",
       "    </tr>\n",
       "    <tr>\n",
       "      <th>11</th>\n",
       "      <td>3</td>\n",
       "      <td>2019-05-03 12:13:17</td>\n",
       "      <td>1596.0</td>\n",
       "    </tr>\n",
       "    <tr>\n",
       "      <th>12</th>\n",
       "      <td>3</td>\n",
       "      <td>2019-05-03 12:18:36</td>\n",
       "      <td>1597.0</td>\n",
       "    </tr>\n",
       "    <tr>\n",
       "      <th>13</th>\n",
       "      <td>3</td>\n",
       "      <td>2019-05-03 12:25:06</td>\n",
       "      <td>1598.0</td>\n",
       "    </tr>\n",
       "    <tr>\n",
       "      <th>14</th>\n",
       "      <td>3</td>\n",
       "      <td>2019-05-03 12:30:48</td>\n",
       "      <td>1599.0</td>\n",
       "    </tr>\n",
       "  </tbody>\n",
       "</table>\n",
       "</div>"
      ],
      "text/plain": [
       "    key         Время замера  Температура\n",
       "0     1  2019-05-03 11:16:18       1571.0\n",
       "1     1  2019-05-03 11:25:53       1604.0\n",
       "2     1  2019-05-03 11:29:11       1618.0\n",
       "3     1  2019-05-03 11:30:01       1601.0\n",
       "4     1  2019-05-03 11:30:39       1613.0\n",
       "5     2  2019-05-03 11:37:27       1581.0\n",
       "6     2  2019-05-03 11:38:00       1577.0\n",
       "7     2  2019-05-03 11:49:38       1589.0\n",
       "8     2  2019-05-03 11:55:50       1604.0\n",
       "9     2  2019-05-03 11:58:24       1608.0\n",
       "10    2  2019-05-03 11:59:12       1602.0\n",
       "11    3  2019-05-03 12:13:17       1596.0\n",
       "12    3  2019-05-03 12:18:36       1597.0\n",
       "13    3  2019-05-03 12:25:06       1598.0\n",
       "14    3  2019-05-03 12:30:48       1599.0"
      ]
     },
     "metadata": {},
     "output_type": "display_data"
    },
    {
     "name": "stdout",
     "output_type": "stream",
     "text": [
      "Количество партий: 3216\n"
     ]
    }
   ],
   "source": [
    "try:\n",
    "    df_temp = openfunc('/Users/stepan5dol/Downloads/final_steel/data_temp.csv')\n",
    "except: \n",
    "    df_temp = openfunc('/datasets/final_steel/data_temp.csv')"
   ]
  },
  {
   "cell_type": "code",
   "execution_count": 64,
   "id": "2256fe2c",
   "metadata": {},
   "outputs": [
    {
     "data": {
      "text/plain": [
       "count    15907.000000\n",
       "mean      1607.880870\n",
       "std        942.212073\n",
       "min          1.000000\n",
       "25%        790.000000\n",
       "50%       1618.000000\n",
       "75%       2427.000000\n",
       "max       3241.000000\n",
       "Name: key, dtype: float64"
      ]
     },
     "execution_count": 64,
     "metadata": {},
     "output_type": "execute_result"
    }
   ],
   "source": [
    "df_temp['key'].describe()"
   ]
  },
  {
   "cell_type": "code",
   "execution_count": 65,
   "id": "88303054",
   "metadata": {
    "scrolled": false
   },
   "outputs": [
    {
     "data": {
      "image/png": "[encoded data removed]",
      "text/plain": [
       "<Figure size 1080x720 with 1 Axes>"
      ]
     },
     "metadata": {
      "needs_background": "light"
     },
     "output_type": "display_data"
    }
   ],
   "source": [
    "plt.figure(figsize=(15,10))\n",
    "sns.histplot(df_temp['Температура'], bins=90)\n",
    "plt.show()"
   ]
  },
  {
   "cell_type": "code",
   "execution_count": 66,
   "id": "457c86d1",
   "metadata": {},
   "outputs": [
    {
     "data": {
      "image/png": "[encoded data removed]",
      "text/plain": [
       "<Figure size 1080x144 with 1 Axes>"
      ]
     },
     "metadata": {
      "needs_background": "light"
     },
     "output_type": "display_data"
    }
   ],
   "source": [
    "plt.figure(figsize=(15,2))\n",
    "df_temp.boxplot(['Температура'], vert=False)\n",
    "plt.show()"
   ]
  },
  {
   "cell_type": "code",
   "execution_count": 67,
   "id": "b5cc5c3d",
   "metadata": {},
   "outputs": [
    {
     "data": {
      "image/png": "[encoded data removed]",
      "text/plain": [
       "<Figure size 1080x144 with 1 Axes>"
      ]
     },
     "metadata": {
      "needs_background": "light"
     },
     "output_type": "display_data"
    }
   ],
   "source": [
    "temp_norm = df_temp[df_temp['Температура'] > 1500]\n",
    "plt.figure(figsize=(15,2))\n",
    "temp_norm.boxplot(['Температура'], vert=False)\n",
    "plt.show()"
   ]
  },
  {
   "cell_type": "markdown",
   "id": "266f4e61",
   "metadata": {},
   "source": [
    "**Анализ температуры:**\n",
    "\n",
    "1. Значения температуры похожи на нормальное распределение от 1550 до 1625 градусов.\n",
    "2. Есть выбросы менее 1200 градусов – уточнить у заказчика, какие температуры возможны в тех.процессе."
   ]
  },
  {
   "cell_type": "code",
   "execution_count": 68,
   "id": "1ca6a2e9",
   "metadata": {},
   "outputs": [
    {
     "name": "stdout",
     "output_type": "stream",
     "text": [
      "<class 'pandas.core.frame.DataFrame'>\n",
      "RangeIndex: 3081 entries, 0 to 3080\n",
      "Data columns (total 10 columns):\n",
      " #   Column  Non-Null Count  Dtype \n",
      "---  ------  --------------  ----- \n",
      " 0   key     3081 non-null   int64 \n",
      " 1   Wire 1  3055 non-null   object\n",
      " 2   Wire 2  1079 non-null   object\n",
      " 3   Wire 3  63 non-null     object\n",
      " 4   Wire 4  14 non-null     object\n",
      " 5   Wire 5  1 non-null      object\n",
      " 6   Wire 6  73 non-null     object\n",
      " 7   Wire 7  11 non-null     object\n",
      " 8   Wire 8  19 non-null     object\n",
      " 9   Wire 9  29 non-null     object\n",
      "dtypes: int64(1), object(9)\n",
      "memory usage: 240.8+ KB\n"
     ]
    },
    {
     "data": {
      "text/plain": [
       "None"
      ]
     },
     "metadata": {},
     "output_type": "display_data"
    },
    {
     "data": {
      "text/html": [
       "<div>\n",
       "<style scoped>\n",
       "    .dataframe tbody tr th:only-of-type {\n",
       "        vertical-align: middle;\n",
       "    }\n",
       "\n",
       "    .dataframe tbody tr th {\n",
       "        vertical-align: top;\n",
       "    }\n",
       "\n",
       "    .dataframe thead th {\n",
       "        text-align: right;\n",
       "    }\n",
       "</style>\n",
       "<table border=\"1\" class=\"dataframe\">\n",
       "  <thead>\n",
       "    <tr style=\"text-align: right;\">\n",
       "      <th></th>\n",
       "      <th>key</th>\n",
       "      <th>Wire 1</th>\n",
       "      <th>Wire 2</th>\n",
       "      <th>Wire 3</th>\n",
       "      <th>Wire 4</th>\n",
       "      <th>Wire 5</th>\n",
       "      <th>Wire 6</th>\n",
       "      <th>Wire 7</th>\n",
       "      <th>Wire 8</th>\n",
       "      <th>Wire 9</th>\n",
       "    </tr>\n",
       "  </thead>\n",
       "  <tbody>\n",
       "    <tr>\n",
       "      <th>0</th>\n",
       "      <td>1</td>\n",
       "      <td>2019-05-03 11:11:41</td>\n",
       "      <td>NaN</td>\n",
       "      <td>NaN</td>\n",
       "      <td>NaN</td>\n",
       "      <td>NaN</td>\n",
       "      <td>NaN</td>\n",
       "      <td>NaN</td>\n",
       "      <td>NaN</td>\n",
       "      <td>NaN</td>\n",
       "    </tr>\n",
       "    <tr>\n",
       "      <th>1</th>\n",
       "      <td>2</td>\n",
       "      <td>2019-05-03 11:46:10</td>\n",
       "      <td>NaN</td>\n",
       "      <td>NaN</td>\n",
       "      <td>NaN</td>\n",
       "      <td>NaN</td>\n",
       "      <td>NaN</td>\n",
       "      <td>NaN</td>\n",
       "      <td>NaN</td>\n",
       "      <td>NaN</td>\n",
       "    </tr>\n",
       "    <tr>\n",
       "      <th>2</th>\n",
       "      <td>3</td>\n",
       "      <td>2019-05-03 12:13:47</td>\n",
       "      <td>NaN</td>\n",
       "      <td>NaN</td>\n",
       "      <td>NaN</td>\n",
       "      <td>NaN</td>\n",
       "      <td>NaN</td>\n",
       "      <td>NaN</td>\n",
       "      <td>NaN</td>\n",
       "      <td>NaN</td>\n",
       "    </tr>\n",
       "    <tr>\n",
       "      <th>3</th>\n",
       "      <td>4</td>\n",
       "      <td>2019-05-03 12:48:05</td>\n",
       "      <td>NaN</td>\n",
       "      <td>NaN</td>\n",
       "      <td>NaN</td>\n",
       "      <td>NaN</td>\n",
       "      <td>NaN</td>\n",
       "      <td>NaN</td>\n",
       "      <td>NaN</td>\n",
       "      <td>NaN</td>\n",
       "    </tr>\n",
       "    <tr>\n",
       "      <th>4</th>\n",
       "      <td>5</td>\n",
       "      <td>2019-05-03 13:18:15</td>\n",
       "      <td>2019-05-03 13:32:06</td>\n",
       "      <td>NaN</td>\n",
       "      <td>NaN</td>\n",
       "      <td>NaN</td>\n",
       "      <td>NaN</td>\n",
       "      <td>NaN</td>\n",
       "      <td>NaN</td>\n",
       "      <td>NaN</td>\n",
       "    </tr>\n",
       "    <tr>\n",
       "      <th>5</th>\n",
       "      <td>6</td>\n",
       "      <td>2019-05-03 13:59:02</td>\n",
       "      <td>2019-05-03 13:59:54</td>\n",
       "      <td>NaN</td>\n",
       "      <td>NaN</td>\n",
       "      <td>NaN</td>\n",
       "      <td>NaN</td>\n",
       "      <td>NaN</td>\n",
       "      <td>NaN</td>\n",
       "      <td>NaN</td>\n",
       "    </tr>\n",
       "    <tr>\n",
       "      <th>6</th>\n",
       "      <td>7</td>\n",
       "      <td>2019-05-03 14:28:46</td>\n",
       "      <td>NaN</td>\n",
       "      <td>NaN</td>\n",
       "      <td>NaN</td>\n",
       "      <td>NaN</td>\n",
       "      <td>NaN</td>\n",
       "      <td>NaN</td>\n",
       "      <td>NaN</td>\n",
       "      <td>NaN</td>\n",
       "    </tr>\n",
       "    <tr>\n",
       "      <th>7</th>\n",
       "      <td>8</td>\n",
       "      <td>2019-05-03 15:03:42</td>\n",
       "      <td>NaN</td>\n",
       "      <td>NaN</td>\n",
       "      <td>NaN</td>\n",
       "      <td>NaN</td>\n",
       "      <td>NaN</td>\n",
       "      <td>NaN</td>\n",
       "      <td>NaN</td>\n",
       "      <td>NaN</td>\n",
       "    </tr>\n",
       "    <tr>\n",
       "      <th>8</th>\n",
       "      <td>9</td>\n",
       "      <td>2019-05-03 15:42:43</td>\n",
       "      <td>2019-05-03 15:58:12</td>\n",
       "      <td>NaN</td>\n",
       "      <td>NaN</td>\n",
       "      <td>NaN</td>\n",
       "      <td>NaN</td>\n",
       "      <td>NaN</td>\n",
       "      <td>NaN</td>\n",
       "      <td>NaN</td>\n",
       "    </tr>\n",
       "    <tr>\n",
       "      <th>9</th>\n",
       "      <td>10</td>\n",
       "      <td>2019-05-03 16:20:25</td>\n",
       "      <td>2019-05-03 16:21:02</td>\n",
       "      <td>NaN</td>\n",
       "      <td>NaN</td>\n",
       "      <td>NaN</td>\n",
       "      <td>NaN</td>\n",
       "      <td>NaN</td>\n",
       "      <td>NaN</td>\n",
       "      <td>NaN</td>\n",
       "    </tr>\n",
       "    <tr>\n",
       "      <th>10</th>\n",
       "      <td>11</td>\n",
       "      <td>2019-05-03 17:15:01</td>\n",
       "      <td>NaN</td>\n",
       "      <td>NaN</td>\n",
       "      <td>NaN</td>\n",
       "      <td>NaN</td>\n",
       "      <td>NaN</td>\n",
       "      <td>NaN</td>\n",
       "      <td>NaN</td>\n",
       "      <td>NaN</td>\n",
       "    </tr>\n",
       "    <tr>\n",
       "      <th>11</th>\n",
       "      <td>12</td>\n",
       "      <td>2019-05-03 17:51:14</td>\n",
       "      <td>NaN</td>\n",
       "      <td>NaN</td>\n",
       "      <td>NaN</td>\n",
       "      <td>NaN</td>\n",
       "      <td>NaN</td>\n",
       "      <td>NaN</td>\n",
       "      <td>NaN</td>\n",
       "      <td>NaN</td>\n",
       "    </tr>\n",
       "    <tr>\n",
       "      <th>12</th>\n",
       "      <td>13</td>\n",
       "      <td>2019-05-03 18:52:04</td>\n",
       "      <td>2019-05-03 18:52:34</td>\n",
       "      <td>NaN</td>\n",
       "      <td>NaN</td>\n",
       "      <td>NaN</td>\n",
       "      <td>NaN</td>\n",
       "      <td>NaN</td>\n",
       "      <td>NaN</td>\n",
       "      <td>NaN</td>\n",
       "    </tr>\n",
       "    <tr>\n",
       "      <th>13</th>\n",
       "      <td>14</td>\n",
       "      <td>2019-05-03 20:12:21</td>\n",
       "      <td>2019-05-03 20:13:16</td>\n",
       "      <td>NaN</td>\n",
       "      <td>NaN</td>\n",
       "      <td>NaN</td>\n",
       "      <td>NaN</td>\n",
       "      <td>NaN</td>\n",
       "      <td>NaN</td>\n",
       "      <td>NaN</td>\n",
       "    </tr>\n",
       "    <tr>\n",
       "      <th>14</th>\n",
       "      <td>15</td>\n",
       "      <td>2019-05-03 21:07:40</td>\n",
       "      <td>2019-05-03 21:15:12</td>\n",
       "      <td>NaN</td>\n",
       "      <td>NaN</td>\n",
       "      <td>NaN</td>\n",
       "      <td>NaN</td>\n",
       "      <td>NaN</td>\n",
       "      <td>NaN</td>\n",
       "      <td>NaN</td>\n",
       "    </tr>\n",
       "  </tbody>\n",
       "</table>\n",
       "</div>"
      ],
      "text/plain": [
       "    key               Wire 1               Wire 2 Wire 3 Wire 4 Wire 5 Wire 6  \\\n",
       "0     1  2019-05-03 11:11:41                  NaN    NaN    NaN    NaN    NaN   \n",
       "1     2  2019-05-03 11:46:10                  NaN    NaN    NaN    NaN    NaN   \n",
       "2     3  2019-05-03 12:13:47                  NaN    NaN    NaN    NaN    NaN   \n",
       "3     4  2019-05-03 12:48:05                  NaN    NaN    NaN    NaN    NaN   \n",
       "4     5  2019-05-03 13:18:15  2019-05-03 13:32:06    NaN    NaN    NaN    NaN   \n",
       "5     6  2019-05-03 13:59:02  2019-05-03 13:59:54    NaN    NaN    NaN    NaN   \n",
       "6     7  2019-05-03 14:28:46                  NaN    NaN    NaN    NaN    NaN   \n",
       "7     8  2019-05-03 15:03:42                  NaN    NaN    NaN    NaN    NaN   \n",
       "8     9  2019-05-03 15:42:43  2019-05-03 15:58:12    NaN    NaN    NaN    NaN   \n",
       "9    10  2019-05-03 16:20:25  2019-05-03 16:21:02    NaN    NaN    NaN    NaN   \n",
       "10   11  2019-05-03 17:15:01                  NaN    NaN    NaN    NaN    NaN   \n",
       "11   12  2019-05-03 17:51:14                  NaN    NaN    NaN    NaN    NaN   \n",
       "12   13  2019-05-03 18:52:04  2019-05-03 18:52:34    NaN    NaN    NaN    NaN   \n",
       "13   14  2019-05-03 20:12:21  2019-05-03 20:13:16    NaN    NaN    NaN    NaN   \n",
       "14   15  2019-05-03 21:07:40  2019-05-03 21:15:12    NaN    NaN    NaN    NaN   \n",
       "\n",
       "   Wire 7 Wire 8 Wire 9  \n",
       "0     NaN    NaN    NaN  \n",
       "1     NaN    NaN    NaN  \n",
       "2     NaN    NaN    NaN  \n",
       "3     NaN    NaN    NaN  \n",
       "4     NaN    NaN    NaN  \n",
       "5     NaN    NaN    NaN  \n",
       "6     NaN    NaN    NaN  \n",
       "7     NaN    NaN    NaN  \n",
       "8     NaN    NaN    NaN  \n",
       "9     NaN    NaN    NaN  \n",
       "10    NaN    NaN    NaN  \n",
       "11    NaN    NaN    NaN  \n",
       "12    NaN    NaN    NaN  \n",
       "13    NaN    NaN    NaN  \n",
       "14    NaN    NaN    NaN  "
      ]
     },
     "metadata": {},
     "output_type": "display_data"
    },
    {
     "name": "stdout",
     "output_type": "stream",
     "text": [
      "Количество партий: 3081\n"
     ]
    }
   ],
   "source": [
    "try:\n",
    "    df_wire_time = openfunc('/Users/stepan5dol/Downloads/final_steel/data_wire_time.csv')\n",
    "except: \n",
    "    df_wire_time = openfunc('/datasets/final_steel/data_wire_time.csv')"
   ]
  },
  {
   "cell_type": "code",
   "execution_count": 69,
   "id": "21d2adeb",
   "metadata": {},
   "outputs": [
    {
     "name": "stdout",
     "output_type": "stream",
     "text": [
      "<class 'pandas.core.frame.DataFrame'>\n",
      "RangeIndex: 3081 entries, 0 to 3080\n",
      "Data columns (total 10 columns):\n",
      " #   Column  Non-Null Count  Dtype  \n",
      "---  ------  --------------  -----  \n",
      " 0   key     3081 non-null   int64  \n",
      " 1   Wire 1  3055 non-null   float64\n",
      " 2   Wire 2  1079 non-null   float64\n",
      " 3   Wire 3  63 non-null     float64\n",
      " 4   Wire 4  14 non-null     float64\n",
      " 5   Wire 5  1 non-null      float64\n",
      " 6   Wire 6  73 non-null     float64\n",
      " 7   Wire 7  11 non-null     float64\n",
      " 8   Wire 8  19 non-null     float64\n",
      " 9   Wire 9  29 non-null     float64\n",
      "dtypes: float64(9), int64(1)\n",
      "memory usage: 240.8 KB\n"
     ]
    },
    {
     "data": {
      "text/plain": [
       "None"
      ]
     },
     "metadata": {},
     "output_type": "display_data"
    },
    {
     "data": {
      "text/html": [
       "<div>\n",
       "<style scoped>\n",
       "    .dataframe tbody tr th:only-of-type {\n",
       "        vertical-align: middle;\n",
       "    }\n",
       "\n",
       "    .dataframe tbody tr th {\n",
       "        vertical-align: top;\n",
       "    }\n",
       "\n",
       "    .dataframe thead th {\n",
       "        text-align: right;\n",
       "    }\n",
       "</style>\n",
       "<table border=\"1\" class=\"dataframe\">\n",
       "  <thead>\n",
       "    <tr style=\"text-align: right;\">\n",
       "      <th></th>\n",
       "      <th>key</th>\n",
       "      <th>Wire 1</th>\n",
       "      <th>Wire 2</th>\n",
       "      <th>Wire 3</th>\n",
       "      <th>Wire 4</th>\n",
       "      <th>Wire 5</th>\n",
       "      <th>Wire 6</th>\n",
       "      <th>Wire 7</th>\n",
       "      <th>Wire 8</th>\n",
       "      <th>Wire 9</th>\n",
       "    </tr>\n",
       "  </thead>\n",
       "  <tbody>\n",
       "    <tr>\n",
       "      <th>0</th>\n",
       "      <td>1</td>\n",
       "      <td>60.059998</td>\n",
       "      <td>NaN</td>\n",
       "      <td>NaN</td>\n",
       "      <td>NaN</td>\n",
       "      <td>NaN</td>\n",
       "      <td>NaN</td>\n",
       "      <td>NaN</td>\n",
       "      <td>NaN</td>\n",
       "      <td>NaN</td>\n",
       "    </tr>\n",
       "    <tr>\n",
       "      <th>1</th>\n",
       "      <td>2</td>\n",
       "      <td>96.052315</td>\n",
       "      <td>NaN</td>\n",
       "      <td>NaN</td>\n",
       "      <td>NaN</td>\n",
       "      <td>NaN</td>\n",
       "      <td>NaN</td>\n",
       "      <td>NaN</td>\n",
       "      <td>NaN</td>\n",
       "      <td>NaN</td>\n",
       "    </tr>\n",
       "    <tr>\n",
       "      <th>2</th>\n",
       "      <td>3</td>\n",
       "      <td>91.160157</td>\n",
       "      <td>NaN</td>\n",
       "      <td>NaN</td>\n",
       "      <td>NaN</td>\n",
       "      <td>NaN</td>\n",
       "      <td>NaN</td>\n",
       "      <td>NaN</td>\n",
       "      <td>NaN</td>\n",
       "      <td>NaN</td>\n",
       "    </tr>\n",
       "    <tr>\n",
       "      <th>3</th>\n",
       "      <td>4</td>\n",
       "      <td>89.063515</td>\n",
       "      <td>NaN</td>\n",
       "      <td>NaN</td>\n",
       "      <td>NaN</td>\n",
       "      <td>NaN</td>\n",
       "      <td>NaN</td>\n",
       "      <td>NaN</td>\n",
       "      <td>NaN</td>\n",
       "      <td>NaN</td>\n",
       "    </tr>\n",
       "    <tr>\n",
       "      <th>4</th>\n",
       "      <td>5</td>\n",
       "      <td>89.238236</td>\n",
       "      <td>9.114560</td>\n",
       "      <td>NaN</td>\n",
       "      <td>NaN</td>\n",
       "      <td>NaN</td>\n",
       "      <td>NaN</td>\n",
       "      <td>NaN</td>\n",
       "      <td>NaN</td>\n",
       "      <td>NaN</td>\n",
       "    </tr>\n",
       "    <tr>\n",
       "      <th>5</th>\n",
       "      <td>6</td>\n",
       "      <td>99.109917</td>\n",
       "      <td>9.114560</td>\n",
       "      <td>NaN</td>\n",
       "      <td>NaN</td>\n",
       "      <td>NaN</td>\n",
       "      <td>NaN</td>\n",
       "      <td>NaN</td>\n",
       "      <td>NaN</td>\n",
       "      <td>NaN</td>\n",
       "    </tr>\n",
       "    <tr>\n",
       "      <th>6</th>\n",
       "      <td>7</td>\n",
       "      <td>98.061600</td>\n",
       "      <td>NaN</td>\n",
       "      <td>NaN</td>\n",
       "      <td>NaN</td>\n",
       "      <td>NaN</td>\n",
       "      <td>NaN</td>\n",
       "      <td>NaN</td>\n",
       "      <td>NaN</td>\n",
       "      <td>NaN</td>\n",
       "    </tr>\n",
       "    <tr>\n",
       "      <th>7</th>\n",
       "      <td>8</td>\n",
       "      <td>155.282394</td>\n",
       "      <td>NaN</td>\n",
       "      <td>NaN</td>\n",
       "      <td>NaN</td>\n",
       "      <td>NaN</td>\n",
       "      <td>NaN</td>\n",
       "      <td>NaN</td>\n",
       "      <td>NaN</td>\n",
       "      <td>NaN</td>\n",
       "    </tr>\n",
       "    <tr>\n",
       "      <th>8</th>\n",
       "      <td>9</td>\n",
       "      <td>113.393279</td>\n",
       "      <td>9.143681</td>\n",
       "      <td>NaN</td>\n",
       "      <td>NaN</td>\n",
       "      <td>NaN</td>\n",
       "      <td>NaN</td>\n",
       "      <td>NaN</td>\n",
       "      <td>NaN</td>\n",
       "      <td>NaN</td>\n",
       "    </tr>\n",
       "    <tr>\n",
       "      <th>9</th>\n",
       "      <td>10</td>\n",
       "      <td>81.244796</td>\n",
       "      <td>12.376000</td>\n",
       "      <td>NaN</td>\n",
       "      <td>NaN</td>\n",
       "      <td>NaN</td>\n",
       "      <td>NaN</td>\n",
       "      <td>NaN</td>\n",
       "      <td>NaN</td>\n",
       "      <td>NaN</td>\n",
       "    </tr>\n",
       "    <tr>\n",
       "      <th>10</th>\n",
       "      <td>11</td>\n",
       "      <td>99.197281</td>\n",
       "      <td>NaN</td>\n",
       "      <td>NaN</td>\n",
       "      <td>NaN</td>\n",
       "      <td>NaN</td>\n",
       "      <td>NaN</td>\n",
       "      <td>NaN</td>\n",
       "      <td>NaN</td>\n",
       "      <td>NaN</td>\n",
       "    </tr>\n",
       "    <tr>\n",
       "      <th>11</th>\n",
       "      <td>12</td>\n",
       "      <td>153.578873</td>\n",
       "      <td>NaN</td>\n",
       "      <td>NaN</td>\n",
       "      <td>NaN</td>\n",
       "      <td>NaN</td>\n",
       "      <td>NaN</td>\n",
       "      <td>NaN</td>\n",
       "      <td>NaN</td>\n",
       "      <td>NaN</td>\n",
       "    </tr>\n",
       "    <tr>\n",
       "      <th>12</th>\n",
       "      <td>13</td>\n",
       "      <td>77.269920</td>\n",
       "      <td>52.416003</td>\n",
       "      <td>NaN</td>\n",
       "      <td>NaN</td>\n",
       "      <td>NaN</td>\n",
       "      <td>NaN</td>\n",
       "      <td>NaN</td>\n",
       "      <td>NaN</td>\n",
       "      <td>NaN</td>\n",
       "    </tr>\n",
       "    <tr>\n",
       "      <th>13</th>\n",
       "      <td>14</td>\n",
       "      <td>120.251038</td>\n",
       "      <td>37.826881</td>\n",
       "      <td>NaN</td>\n",
       "      <td>NaN</td>\n",
       "      <td>NaN</td>\n",
       "      <td>NaN</td>\n",
       "      <td>NaN</td>\n",
       "      <td>NaN</td>\n",
       "      <td>NaN</td>\n",
       "    </tr>\n",
       "    <tr>\n",
       "      <th>14</th>\n",
       "      <td>15</td>\n",
       "      <td>71.285759</td>\n",
       "      <td>52.095680</td>\n",
       "      <td>NaN</td>\n",
       "      <td>NaN</td>\n",
       "      <td>NaN</td>\n",
       "      <td>NaN</td>\n",
       "      <td>NaN</td>\n",
       "      <td>NaN</td>\n",
       "      <td>NaN</td>\n",
       "    </tr>\n",
       "  </tbody>\n",
       "</table>\n",
       "</div>"
      ],
      "text/plain": [
       "    key      Wire 1     Wire 2  Wire 3  Wire 4  Wire 5  Wire 6  Wire 7  \\\n",
       "0     1   60.059998        NaN     NaN     NaN     NaN     NaN     NaN   \n",
       "1     2   96.052315        NaN     NaN     NaN     NaN     NaN     NaN   \n",
       "2     3   91.160157        NaN     NaN     NaN     NaN     NaN     NaN   \n",
       "3     4   89.063515        NaN     NaN     NaN     NaN     NaN     NaN   \n",
       "4     5   89.238236   9.114560     NaN     NaN     NaN     NaN     NaN   \n",
       "5     6   99.109917   9.114560     NaN     NaN     NaN     NaN     NaN   \n",
       "6     7   98.061600        NaN     NaN     NaN     NaN     NaN     NaN   \n",
       "7     8  155.282394        NaN     NaN     NaN     NaN     NaN     NaN   \n",
       "8     9  113.393279   9.143681     NaN     NaN     NaN     NaN     NaN   \n",
       "9    10   81.244796  12.376000     NaN     NaN     NaN     NaN     NaN   \n",
       "10   11   99.197281        NaN     NaN     NaN     NaN     NaN     NaN   \n",
       "11   12  153.578873        NaN     NaN     NaN     NaN     NaN     NaN   \n",
       "12   13   77.269920  52.416003     NaN     NaN     NaN     NaN     NaN   \n",
       "13   14  120.251038  37.826881     NaN     NaN     NaN     NaN     NaN   \n",
       "14   15   71.285759  52.095680     NaN     NaN     NaN     NaN     NaN   \n",
       "\n",
       "    Wire 8  Wire 9  \n",
       "0      NaN     NaN  \n",
       "1      NaN     NaN  \n",
       "2      NaN     NaN  \n",
       "3      NaN     NaN  \n",
       "4      NaN     NaN  \n",
       "5      NaN     NaN  \n",
       "6      NaN     NaN  \n",
       "7      NaN     NaN  \n",
       "8      NaN     NaN  \n",
       "9      NaN     NaN  \n",
       "10     NaN     NaN  \n",
       "11     NaN     NaN  \n",
       "12     NaN     NaN  \n",
       "13     NaN     NaN  \n",
       "14     NaN     NaN  "
      ]
     },
     "metadata": {},
     "output_type": "display_data"
    },
    {
     "name": "stdout",
     "output_type": "stream",
     "text": [
      "Количество партий: 3081\n"
     ]
    }
   ],
   "source": [
    "try:\n",
    "    df_wire = openfunc('/Users/stepan5dol/Downloads/final_steel/data_wire.csv')\n",
    "except: \n",
    "    df_wire = openfunc('/datasets/final_steel/data_wire.csv')"
   ]
  },
  {
   "cell_type": "code",
   "execution_count": 70,
   "id": "296ceeb8",
   "metadata": {},
   "outputs": [
    {
     "data": {
      "image/png": "[encoded data removed]",
      "text/plain": [
       "<Figure size 1080x720 with 1 Axes>"
      ]
     },
     "metadata": {
      "needs_background": "light"
     },
     "output_type": "display_data"
    }
   ],
   "source": [
    "plt.figure(figsize=(15, 10))\n",
    "df_wire.boxplot([col for col in df_wire.columns if col != 'key'], vert=False)\n",
    "plt.show()"
   ]
  },
  {
   "cell_type": "markdown",
   "id": "deb377f8",
   "metadata": {},
   "source": [
    "**Подача проволочных материалов:**\n",
    "\n",
    "1. Данных о подаче `материалов 3-9 крайне мало`. Возможно, их также необхнодимо будет исключить для корректной работы модели. \n",
    "2. Много выбросов в `материалах 1 и 2`"
   ]
  },
  {
   "cell_type": "markdown",
   "id": "46f5efe7",
   "metadata": {},
   "source": [
    "В колонке `key` таблицы `Температура` 3216 уникальных значений, однако последняя партия идет под номером 3241. Так как температура – целевой признак, анализ будет идти только по имеющимся патриям. Необходимо узнать, каких партий нет в данной таблице, и где еще они отсутсвуют."
   ]
  },
  {
   "cell_type": "code",
   "execution_count": 71,
   "id": "7cfae417",
   "metadata": {},
   "outputs": [],
   "source": [
    "def absc(df):\n",
    "    keys = df['key'].unique().tolist()\n",
    "    exc = []\n",
    "    for i in range(1, 3242):\n",
    "        if i not in keys:\n",
    "            exc.append(i)\n",
    "    print('\\nПропущенные значения в таблице', exc)\n",
    "    print('\\nКоличество пропущенных партий:', len(exc))\n",
    "    print('------------------------------------------')\n",
    "    return pd.DataFrame(exc)"
   ]
  },
  {
   "cell_type": "code",
   "execution_count": 72,
   "id": "3c54099f",
   "metadata": {},
   "outputs": [
    {
     "name": "stdout",
     "output_type": "stream",
     "text": [
      "\n",
      "Пропущенные значения в таблице [41, 42, 355, 382, 506, 529, 540, 607, 683, 710, 766, 1133, 1300, 1437, 2031, 2103, 2278, 2356, 2373, 2446, 2469, 2491, 2683, 3200, 3207]\n",
      "\n",
      "Количество пропущенных партий: 25\n",
      "------------------------------------------\n",
      "\n",
      "Пропущенные значения в таблице [41, 42, 195, 279, 355, 382, 506, 529, 540, 607, 683, 710, 766, 1133, 1300, 1437, 2031, 2103, 2278, 2356, 2373, 2446, 2469, 2491, 2683, 3200, 3207]\n",
      "\n",
      "Количество пропущенных партий: 27\n",
      "------------------------------------------\n",
      "\n",
      "Пропущенные значения в таблице [41, 42, 51, 52, 53, 54, 55, 56, 72, 80, 81, 110, 151, 188, 195, 225, 269, 302, 330, 331, 332, 343, 350, 355, 382, 506, 529, 540, 607, 661, 683, 710, 766, 830, 874, 931, 933, 934, 960, 961, 964, 966, 983, 984, 1062, 1105, 1133, 1221, 1268, 1300, 1334, 1402, 1437, 1517, 1518, 1535, 1566, 1623, 1656, 1783, 1818, 1911, 1959, 1974, 1979, 2009, 2010, 2031, 2043, 2056, 2103, 2195, 2196, 2197, 2198, 2216, 2217, 2231, 2278, 2310, 2356, 2373, 2390, 2408, 2434, 2446, 2460, 2468, 2469, 2471, 2491, 2595, 2599, 2600, 2608, 2625, 2628, 2683, 2738, 2739, 2816, 2821, 2863, 2884, 2891, 3018, 3026, 3047, 3182, 3200, 3207, 3216]\n",
      "\n",
      "Количество пропущенных партий: 112\n",
      "------------------------------------------\n",
      "\n",
      "Пропущенные значения в таблице [41, 42, 51, 52, 53, 54, 55, 56, 72, 80, 81, 110, 151, 188, 195, 225, 269, 302, 330, 331, 332, 343, 350, 355, 382, 506, 529, 540, 607, 661, 683, 710, 766, 830, 874, 931, 933, 934, 960, 961, 964, 966, 983, 984, 1062, 1105, 1133, 1221, 1268, 1300, 1334, 1402, 1437, 1517, 1518, 1535, 1566, 1623, 1656, 1783, 1818, 1911, 1959, 1974, 1979, 2009, 2010, 2031, 2043, 2056, 2103, 2195, 2196, 2197, 2198, 2216, 2217, 2231, 2278, 2310, 2356, 2373, 2390, 2408, 2434, 2446, 2460, 2468, 2469, 2471, 2491, 2595, 2599, 2600, 2608, 2625, 2628, 2683, 2738, 2739, 2816, 2821, 2863, 2884, 2891, 3018, 3026, 3047, 3182, 3200, 3207, 3216]\n",
      "\n",
      "Количество пропущенных партий: 112\n",
      "------------------------------------------\n",
      "\n",
      "Пропущенные значения в таблице [193, 259]\n",
      "\n",
      "Количество пропущенных партий: 2\n",
      "------------------------------------------\n",
      "\n",
      "Пропущенные значения в таблице [41, 42, 51, 52, 53, 54, 55, 56, 81, 82, 83, 84, 85, 88, 109, 195, 197, 209, 210, 211, 212, 269, 330, 331, 332, 355, 375, 376, 377, 378, 382, 506, 529, 540, 607, 683, 710, 711, 712, 713, 714, 715, 744, 748, 754, 755, 766, 796, 797, 798, 799, 800, 841, 929, 930, 931, 932, 933, 934, 1102, 1103, 1104, 1105, 1106, 1107, 1133, 1184, 1300, 1379, 1380, 1437, 1525, 1526, 1527, 1528, 1564, 1565, 1566, 1646, 1743, 1744, 1745, 1746, 1747, 1748, 1758, 1817, 1818, 1836, 1946, 1977, 1978, 1979, 2010, 2031, 2043, 2103, 2195, 2196, 2197, 2198, 2214, 2215, 2216, 2217, 2218, 2219, 2236, 2238, 2278, 2356, 2360, 2367, 2368, 2369, 2370, 2373, 2388, 2389, 2390, 2391, 2392, 2393, 2446, 2469, 2491, 2624, 2625, 2626, 2627, 2628, 2629, 2683, 2788, 2789, 2790, 2791, 2792, 2814, 2815, 2846, 2847, 2848, 2849, 2850, 2863, 2871, 2872, 2873, 2874, 2875, 2876, 3035, 3036, 3037, 3038, 3039, 3040, 3200, 3207]\n",
      "\n",
      "Количество пропущенных партий: 160\n",
      "------------------------------------------\n",
      "\n",
      "Пропущенные значения в таблице [41, 42, 51, 52, 53, 54, 55, 56, 81, 82, 83, 84, 85, 88, 109, 195, 197, 209, 210, 211, 212, 269, 330, 331, 332, 355, 375, 376, 377, 378, 382, 506, 529, 540, 607, 683, 710, 711, 712, 713, 714, 715, 744, 748, 754, 755, 766, 796, 797, 798, 799, 800, 841, 929, 930, 931, 932, 933, 934, 1102, 1103, 1104, 1105, 1106, 1107, 1133, 1184, 1300, 1379, 1380, 1437, 1525, 1526, 1527, 1528, 1564, 1565, 1566, 1646, 1743, 1744, 1745, 1746, 1747, 1748, 1758, 1817, 1818, 1836, 1946, 1977, 1978, 1979, 2010, 2031, 2043, 2103, 2195, 2196, 2197, 2198, 2214, 2215, 2216, 2217, 2218, 2219, 2236, 2238, 2278, 2356, 2360, 2367, 2368, 2369, 2370, 2373, 2388, 2389, 2390, 2391, 2392, 2393, 2446, 2469, 2491, 2624, 2625, 2626, 2627, 2628, 2629, 2683, 2788, 2789, 2790, 2791, 2792, 2814, 2815, 2846, 2847, 2848, 2849, 2850, 2863, 2871, 2872, 2873, 2874, 2875, 2876, 3035, 3036, 3037, 3038, 3039, 3040, 3200, 3207]\n",
      "\n",
      "Количество пропущенных партий: 160\n",
      "------------------------------------------\n"
     ]
    }
   ],
   "source": [
    "keys_temp = absc(df_temp)\n",
    "keys_arc = absc(df_arc)\n",
    "keys_bulk = absc(df_bulk)\n",
    "keys_bulk_time = absc(df_bulk_time)\n",
    "keys_gas = absc(df_gas)\n",
    "keys_wire = absc(df_wire)\n",
    "keys_wire_time = absc(df_wire_time)"
   ]
  },
  {
   "cell_type": "markdown",
   "id": "aa4e4dbb",
   "metadata": {},
   "source": [
    "<h3> Предварительный вывод </h3>\n",
    "\n",
    "Температура является целевым признаком, но какая – не указано. Очень много пропусков ключей – необходимо разобраться, с чем связаны эти пропуски. Работа электродов должна совпадать с добавлением материалов – но, судя по пропускам в ключах, это не так. Например, образец 382 ни разу не нагревался, но при этом не присутствует в пропусках в остальных таблицах. Стоит ли удалить все \"ненагретые\" образцы? Среди сыпучих материалов выделены основные – добавляемые чаще всего. Остальные добавляются крайне редно, что может помешать в анализе модели. Либо придется заменить их количество нулями. Часто встречающихся проволочных материалов еще меньше – всего два. Судя по данным, газ добавлялся лишь единожны, что тоже не отражает описанный выше процесс. \n",
    "\n",
    "После ответов на нижеизложенные вопросы таблицы будут объединены. Наиболее важные показатели: \n",
    "\n",
    "    1. Целевой признак: температура по указанию заказчика, либо от 1500 до максимальной в датасете.\n",
    "    2. Активная и Реактивная мощности электродов.\n",
    "    3. Сыпучие материалы под номерами 1, 3, 4, 6, 12, 14\n",
    "    4. Проволочные материалы под нимерами 1 и 2\n",
    "    5. Значения из таблицы Газ 1. \n",
    "    \n",
    "Далее – очистка от пропусков и выбросов признаках, train/test split и обучение модели."
   ]
  },
  {
   "cell_type": "markdown",
   "id": "4aad9249",
   "metadata": {},
   "source": [
    "<h3> Вопросы заказчику: </h3>\n",
    "\n",
    "1. Температуру на каком этапе необходимо предсказать? Целевой признак – конечная температура?\n",
    "\n",
    "2. Чему соответствуют пропуски пробников в таблицах? Есть ли у заказчика пропущенные значения?\n",
    "\n",
    "    3.1 Означают ли пропуски в таблице с работой электродов, что сплав вообще не нагревали? Либо в тот момент не работал датчик?\n",
    "    \n",
    "    3.2 Означают ли пропуски в таблице с сыпучими материалами, что их не добавляли в расплав?\n",
    "    \n",
    "    3.3 Означают ли пропуски в таблице с проволочными материалами, что их не добавляли в расплав?\n",
    "    \n",
    "    \n",
    "3. Почему колонка с подачей инертного газа лишь одна (Газ 1)? Указан общий объем подаваемого газа, или это только первая/последняя продувка?\n",
    "\n",
    "4. Каковы границы допустимой температуры?"
   ]
  },
  {
   "cell_type": "markdown",
   "id": "3f73e395",
   "metadata": {},
   "source": [
    "<h3> Формирование конечной таблицы с целевым признаком – конечной температурой. </h3>"
   ]
  },
  {
   "cell_type": "code",
   "execution_count": 73,
   "id": "775afd93",
   "metadata": {},
   "outputs": [
    {
     "data": {
      "text/html": [
       "<div>\n",
       "<style scoped>\n",
       "    .dataframe tbody tr th:only-of-type {\n",
       "        vertical-align: middle;\n",
       "    }\n",
       "\n",
       "    .dataframe tbody tr th {\n",
       "        vertical-align: top;\n",
       "    }\n",
       "\n",
       "    .dataframe thead th {\n",
       "        text-align: right;\n",
       "    }\n",
       "</style>\n",
       "<table border=\"1\" class=\"dataframe\">\n",
       "  <thead>\n",
       "    <tr style=\"text-align: right;\">\n",
       "      <th></th>\n",
       "      <th>key</th>\n",
       "      <th>Время замера</th>\n",
       "      <th>Температура</th>\n",
       "    </tr>\n",
       "  </thead>\n",
       "  <tbody>\n",
       "    <tr>\n",
       "      <th>0</th>\n",
       "      <td>1</td>\n",
       "      <td>2019-05-03 11:16:18</td>\n",
       "      <td>1571.0</td>\n",
       "    </tr>\n",
       "    <tr>\n",
       "      <th>1</th>\n",
       "      <td>1</td>\n",
       "      <td>2019-05-03 11:25:53</td>\n",
       "      <td>1604.0</td>\n",
       "    </tr>\n",
       "    <tr>\n",
       "      <th>2</th>\n",
       "      <td>1</td>\n",
       "      <td>2019-05-03 11:29:11</td>\n",
       "      <td>1618.0</td>\n",
       "    </tr>\n",
       "    <tr>\n",
       "      <th>3</th>\n",
       "      <td>1</td>\n",
       "      <td>2019-05-03 11:30:01</td>\n",
       "      <td>1601.0</td>\n",
       "    </tr>\n",
       "    <tr>\n",
       "      <th>4</th>\n",
       "      <td>1</td>\n",
       "      <td>2019-05-03 11:30:39</td>\n",
       "      <td>1613.0</td>\n",
       "    </tr>\n",
       "    <tr>\n",
       "      <th>...</th>\n",
       "      <td>...</td>\n",
       "      <td>...</td>\n",
       "      <td>...</td>\n",
       "    </tr>\n",
       "    <tr>\n",
       "      <th>15878</th>\n",
       "      <td>3237</td>\n",
       "      <td>2019-08-31 22:44:04</td>\n",
       "      <td>1569.0</td>\n",
       "    </tr>\n",
       "    <tr>\n",
       "      <th>15883</th>\n",
       "      <td>3238</td>\n",
       "      <td>2019-08-31 23:30:31</td>\n",
       "      <td>1584.0</td>\n",
       "    </tr>\n",
       "    <tr>\n",
       "      <th>15886</th>\n",
       "      <td>3239</td>\n",
       "      <td>2019-09-01 01:31:47</td>\n",
       "      <td>1598.0</td>\n",
       "    </tr>\n",
       "    <tr>\n",
       "      <th>15894</th>\n",
       "      <td>3240</td>\n",
       "      <td>2019-09-01 02:39:01</td>\n",
       "      <td>1617.0</td>\n",
       "    </tr>\n",
       "    <tr>\n",
       "      <th>15902</th>\n",
       "      <td>3241</td>\n",
       "      <td>2019-09-01 04:03:30</td>\n",
       "      <td>1586.0</td>\n",
       "    </tr>\n",
       "  </tbody>\n",
       "</table>\n",
       "<p>12999 rows × 3 columns</p>\n",
       "</div>"
      ],
      "text/plain": [
       "        key         Время замера  Температура\n",
       "0         1  2019-05-03 11:16:18       1571.0\n",
       "1         1  2019-05-03 11:25:53       1604.0\n",
       "2         1  2019-05-03 11:29:11       1618.0\n",
       "3         1  2019-05-03 11:30:01       1601.0\n",
       "4         1  2019-05-03 11:30:39       1613.0\n",
       "...     ...                  ...          ...\n",
       "15878  3237  2019-08-31 22:44:04       1569.0\n",
       "15883  3238  2019-08-31 23:30:31       1584.0\n",
       "15886  3239  2019-09-01 01:31:47       1598.0\n",
       "15894  3240  2019-09-01 02:39:01       1617.0\n",
       "15902  3241  2019-09-01 04:03:30       1586.0\n",
       "\n",
       "[12999 rows x 3 columns]"
      ]
     },
     "execution_count": 73,
     "metadata": {},
     "output_type": "execute_result"
    }
   ],
   "source": [
    "temp = df_temp[df_temp['Температура'].notna()]\n",
    "#temp['Время замера'] = pd.to_datetime(temp['Время замера'], format='%Y-%m-%d %H:%M:%S')\n",
    "temp = temp[temp['Температура'] > 1450]\n",
    "aggr = temp.groupby(by='key', as_index=False).count()\n",
    "aggr = aggr[aggr['Температура'] > 1]\n",
    "needed_keys = aggr['key'].tolist()\n",
    "temp"
   ]
  },
  {
   "cell_type": "code",
   "execution_count": 74,
   "id": "2bd0ed3f",
   "metadata": {},
   "outputs": [
    {
     "data": {
      "text/html": [
       "<div>\n",
       "<style scoped>\n",
       "    .dataframe tbody tr th:only-of-type {\n",
       "        vertical-align: middle;\n",
       "    }\n",
       "\n",
       "    .dataframe tbody tr th {\n",
       "        vertical-align: top;\n",
       "    }\n",
       "\n",
       "    .dataframe thead th {\n",
       "        text-align: right;\n",
       "    }\n",
       "</style>\n",
       "<table border=\"1\" class=\"dataframe\">\n",
       "  <thead>\n",
       "    <tr style=\"text-align: right;\">\n",
       "      <th></th>\n",
       "      <th>Время первого замера</th>\n",
       "      <th>key</th>\n",
       "      <th>Начальная температура</th>\n",
       "    </tr>\n",
       "  </thead>\n",
       "  <tbody>\n",
       "    <tr>\n",
       "      <th>0</th>\n",
       "      <td>2019-05-03 11:16:18</td>\n",
       "      <td>1</td>\n",
       "      <td>1571.0</td>\n",
       "    </tr>\n",
       "    <tr>\n",
       "      <th>1</th>\n",
       "      <td>2019-05-03 11:37:27</td>\n",
       "      <td>2</td>\n",
       "      <td>1581.0</td>\n",
       "    </tr>\n",
       "    <tr>\n",
       "      <th>2</th>\n",
       "      <td>2019-05-03 12:13:17</td>\n",
       "      <td>3</td>\n",
       "      <td>1596.0</td>\n",
       "    </tr>\n",
       "    <tr>\n",
       "      <th>3</th>\n",
       "      <td>2019-05-03 12:52:57</td>\n",
       "      <td>4</td>\n",
       "      <td>1601.0</td>\n",
       "    </tr>\n",
       "    <tr>\n",
       "      <th>4</th>\n",
       "      <td>2019-05-03 13:23:19</td>\n",
       "      <td>5</td>\n",
       "      <td>1576.0</td>\n",
       "    </tr>\n",
       "    <tr>\n",
       "      <th>...</th>\n",
       "      <td>...</td>\n",
       "      <td>...</td>\n",
       "      <td>...</td>\n",
       "    </tr>\n",
       "    <tr>\n",
       "      <th>3210</th>\n",
       "      <td>2019-08-31 22:44:04</td>\n",
       "      <td>3237</td>\n",
       "      <td>1569.0</td>\n",
       "    </tr>\n",
       "    <tr>\n",
       "      <th>3211</th>\n",
       "      <td>2019-08-31 23:30:31</td>\n",
       "      <td>3238</td>\n",
       "      <td>1584.0</td>\n",
       "    </tr>\n",
       "    <tr>\n",
       "      <th>3212</th>\n",
       "      <td>2019-09-01 01:31:47</td>\n",
       "      <td>3239</td>\n",
       "      <td>1598.0</td>\n",
       "    </tr>\n",
       "    <tr>\n",
       "      <th>3213</th>\n",
       "      <td>2019-09-01 02:39:01</td>\n",
       "      <td>3240</td>\n",
       "      <td>1617.0</td>\n",
       "    </tr>\n",
       "    <tr>\n",
       "      <th>3214</th>\n",
       "      <td>2019-09-01 04:03:30</td>\n",
       "      <td>3241</td>\n",
       "      <td>1586.0</td>\n",
       "    </tr>\n",
       "  </tbody>\n",
       "</table>\n",
       "<p>3215 rows × 3 columns</p>\n",
       "</div>"
      ],
      "text/plain": [
       "     Время первого замера   key  Начальная температура\n",
       "0     2019-05-03 11:16:18     1                 1571.0\n",
       "1     2019-05-03 11:37:27     2                 1581.0\n",
       "2     2019-05-03 12:13:17     3                 1596.0\n",
       "3     2019-05-03 12:52:57     4                 1601.0\n",
       "4     2019-05-03 13:23:19     5                 1576.0\n",
       "...                   ...   ...                    ...\n",
       "3210  2019-08-31 22:44:04  3237                 1569.0\n",
       "3211  2019-08-31 23:30:31  3238                 1584.0\n",
       "3212  2019-09-01 01:31:47  3239                 1598.0\n",
       "3213  2019-09-01 02:39:01  3240                 1617.0\n",
       "3214  2019-09-01 04:03:30  3241                 1586.0\n",
       "\n",
       "[3215 rows x 3 columns]"
      ]
     },
     "execution_count": 74,
     "metadata": {},
     "output_type": "execute_result"
    }
   ],
   "source": [
    "temp_new = temp.groupby('key').agg('min')['Время замера']\n",
    "temp_new = pd.DataFrame(temp_new)\n",
    "temp_new = temp_new.merge(df_temp, on='Время замера', how='left')\n",
    "temp_new.set_axis(['Время первого замера','key','Начальная температура'], axis = 'columns', inplace = True)\n",
    "temp_new"
   ]
  },
  {
   "cell_type": "code",
   "execution_count": 75,
   "id": "795440fa",
   "metadata": {},
   "outputs": [
    {
     "data": {
      "text/html": [
       "<div>\n",
       "<style scoped>\n",
       "    .dataframe tbody tr th:only-of-type {\n",
       "        vertical-align: middle;\n",
       "    }\n",
       "\n",
       "    .dataframe tbody tr th {\n",
       "        vertical-align: top;\n",
       "    }\n",
       "\n",
       "    .dataframe thead th {\n",
       "        text-align: right;\n",
       "    }\n",
       "</style>\n",
       "<table border=\"1\" class=\"dataframe\">\n",
       "  <thead>\n",
       "    <tr style=\"text-align: right;\">\n",
       "      <th></th>\n",
       "      <th>Начальная температура</th>\n",
       "      <th>Конечная температура</th>\n",
       "    </tr>\n",
       "    <tr>\n",
       "      <th>key</th>\n",
       "      <th></th>\n",
       "      <th></th>\n",
       "    </tr>\n",
       "  </thead>\n",
       "  <tbody>\n",
       "    <tr>\n",
       "      <th>2</th>\n",
       "      <td>1581.0</td>\n",
       "      <td>1602.0</td>\n",
       "    </tr>\n",
       "    <tr>\n",
       "      <th>3</th>\n",
       "      <td>1596.0</td>\n",
       "      <td>1599.0</td>\n",
       "    </tr>\n",
       "    <tr>\n",
       "      <th>4</th>\n",
       "      <td>1601.0</td>\n",
       "      <td>1625.0</td>\n",
       "    </tr>\n",
       "    <tr>\n",
       "      <th>5</th>\n",
       "      <td>1576.0</td>\n",
       "      <td>1602.0</td>\n",
       "    </tr>\n",
       "    <tr>\n",
       "      <th>6</th>\n",
       "      <td>1543.0</td>\n",
       "      <td>1596.0</td>\n",
       "    </tr>\n",
       "    <tr>\n",
       "      <th>...</th>\n",
       "      <td>...</td>\n",
       "      <td>...</td>\n",
       "    </tr>\n",
       "    <tr>\n",
       "      <th>2518</th>\n",
       "      <td>1563.0</td>\n",
       "      <td>1563.0</td>\n",
       "    </tr>\n",
       "    <tr>\n",
       "      <th>2519</th>\n",
       "      <td>1569.0</td>\n",
       "      <td>1569.0</td>\n",
       "    </tr>\n",
       "    <tr>\n",
       "      <th>2520</th>\n",
       "      <td>1605.0</td>\n",
       "      <td>1605.0</td>\n",
       "    </tr>\n",
       "    <tr>\n",
       "      <th>2521</th>\n",
       "      <td>1565.0</td>\n",
       "      <td>1565.0</td>\n",
       "    </tr>\n",
       "    <tr>\n",
       "      <th>2522</th>\n",
       "      <td>1592.0</td>\n",
       "      <td>1592.0</td>\n",
       "    </tr>\n",
       "  </tbody>\n",
       "</table>\n",
       "<p>2475 rows × 2 columns</p>\n",
       "</div>"
      ],
      "text/plain": [
       "      Начальная температура  Конечная температура\n",
       "key                                              \n",
       "2                    1581.0                1602.0\n",
       "3                    1596.0                1599.0\n",
       "4                    1601.0                1625.0\n",
       "5                    1576.0                1602.0\n",
       "6                    1543.0                1596.0\n",
       "...                     ...                   ...\n",
       "2518                 1563.0                1563.0\n",
       "2519                 1569.0                1569.0\n",
       "2520                 1605.0                1605.0\n",
       "2521                 1565.0                1565.0\n",
       "2522                 1592.0                1592.0\n",
       "\n",
       "[2475 rows x 2 columns]"
      ]
     },
     "execution_count": 75,
     "metadata": {},
     "output_type": "execute_result"
    }
   ],
   "source": [
    "temp_target = temp.groupby('key').agg('max')['Время замера']\n",
    "temp_target = pd.DataFrame(temp_target)\n",
    "temp_target = temp_target.merge(temp, on='Время замера', how='left')\n",
    "temp_target.set_axis(['Время последнего замера','key','Конечная температура'], axis = 'columns', inplace = True)\n",
    "temperature = temp_new.merge(temp_target, how='inner', on='key')\n",
    "temperature = temperature.drop(columns=['Время последнего замера', 'Время первого замера'])\n",
    "temperature = temperature.set_index('key')\n",
    "temperature = temperature.iloc[needed_keys]\n",
    "temperature"
   ]
  },
  {
   "cell_type": "code",
   "execution_count": 76,
   "id": "8f73980b",
   "metadata": {},
   "outputs": [
    {
     "data": {
      "text/html": [
       "<div>\n",
       "<style scoped>\n",
       "    .dataframe tbody tr th:only-of-type {\n",
       "        vertical-align: middle;\n",
       "    }\n",
       "\n",
       "    .dataframe tbody tr th {\n",
       "        vertical-align: top;\n",
       "    }\n",
       "\n",
       "    .dataframe thead th {\n",
       "        text-align: right;\n",
       "    }\n",
       "</style>\n",
       "<table border=\"1\" class=\"dataframe\">\n",
       "  <thead>\n",
       "    <tr style=\"text-align: right;\">\n",
       "      <th></th>\n",
       "      <th>key</th>\n",
       "      <th>Начало нагрева дугой</th>\n",
       "      <th>Конец нагрева дугой</th>\n",
       "      <th>Активная мощность</th>\n",
       "      <th>Реактивная мощность</th>\n",
       "    </tr>\n",
       "  </thead>\n",
       "  <tbody>\n",
       "    <tr>\n",
       "      <th>0</th>\n",
       "      <td>1</td>\n",
       "      <td>2019-05-03 11:02:14</td>\n",
       "      <td>2019-05-03 11:06:02</td>\n",
       "      <td>0.976059</td>\n",
       "      <td>0.687084</td>\n",
       "    </tr>\n",
       "    <tr>\n",
       "      <th>1</th>\n",
       "      <td>1</td>\n",
       "      <td>2019-05-03 11:07:28</td>\n",
       "      <td>2019-05-03 11:10:33</td>\n",
       "      <td>0.805607</td>\n",
       "      <td>0.520285</td>\n",
       "    </tr>\n",
       "    <tr>\n",
       "      <th>2</th>\n",
       "      <td>1</td>\n",
       "      <td>2019-05-03 11:11:44</td>\n",
       "      <td>2019-05-03 11:14:36</td>\n",
       "      <td>0.744363</td>\n",
       "      <td>0.498805</td>\n",
       "    </tr>\n",
       "    <tr>\n",
       "      <th>3</th>\n",
       "      <td>1</td>\n",
       "      <td>2019-05-03 11:18:14</td>\n",
       "      <td>2019-05-03 11:24:19</td>\n",
       "      <td>1.659363</td>\n",
       "      <td>1.062669</td>\n",
       "    </tr>\n",
       "    <tr>\n",
       "      <th>4</th>\n",
       "      <td>1</td>\n",
       "      <td>2019-05-03 11:26:09</td>\n",
       "      <td>2019-05-03 11:28:37</td>\n",
       "      <td>0.692755</td>\n",
       "      <td>0.414397</td>\n",
       "    </tr>\n",
       "    <tr>\n",
       "      <th>...</th>\n",
       "      <td>...</td>\n",
       "      <td>...</td>\n",
       "      <td>...</td>\n",
       "      <td>...</td>\n",
       "      <td>...</td>\n",
       "    </tr>\n",
       "    <tr>\n",
       "      <th>14871</th>\n",
       "      <td>3241</td>\n",
       "      <td>2019-09-01 03:58:58</td>\n",
       "      <td>2019-09-01 04:01:35</td>\n",
       "      <td>0.533670</td>\n",
       "      <td>0.354439</td>\n",
       "    </tr>\n",
       "    <tr>\n",
       "      <th>14872</th>\n",
       "      <td>3241</td>\n",
       "      <td>2019-09-01 04:05:04</td>\n",
       "      <td>2019-09-01 04:08:04</td>\n",
       "      <td>0.676604</td>\n",
       "      <td>0.523631</td>\n",
       "    </tr>\n",
       "    <tr>\n",
       "      <th>14873</th>\n",
       "      <td>3241</td>\n",
       "      <td>2019-09-01 04:16:41</td>\n",
       "      <td>2019-09-01 04:19:45</td>\n",
       "      <td>0.733899</td>\n",
       "      <td>0.475654</td>\n",
       "    </tr>\n",
       "    <tr>\n",
       "      <th>14874</th>\n",
       "      <td>3241</td>\n",
       "      <td>2019-09-01 04:31:51</td>\n",
       "      <td>2019-09-01 04:32:48</td>\n",
       "      <td>0.220694</td>\n",
       "      <td>0.145768</td>\n",
       "    </tr>\n",
       "    <tr>\n",
       "      <th>14875</th>\n",
       "      <td>3241</td>\n",
       "      <td>2019-09-01 04:34:47</td>\n",
       "      <td>2019-09-01 04:36:08</td>\n",
       "      <td>0.306580</td>\n",
       "      <td>0.196708</td>\n",
       "    </tr>\n",
       "  </tbody>\n",
       "</table>\n",
       "<p>14876 rows × 5 columns</p>\n",
       "</div>"
      ],
      "text/plain": [
       "        key Начало нагрева дугой  Конец нагрева дугой  Активная мощность  \\\n",
       "0         1  2019-05-03 11:02:14  2019-05-03 11:06:02           0.976059   \n",
       "1         1  2019-05-03 11:07:28  2019-05-03 11:10:33           0.805607   \n",
       "2         1  2019-05-03 11:11:44  2019-05-03 11:14:36           0.744363   \n",
       "3         1  2019-05-03 11:18:14  2019-05-03 11:24:19           1.659363   \n",
       "4         1  2019-05-03 11:26:09  2019-05-03 11:28:37           0.692755   \n",
       "...     ...                  ...                  ...                ...   \n",
       "14871  3241  2019-09-01 03:58:58  2019-09-01 04:01:35           0.533670   \n",
       "14872  3241  2019-09-01 04:05:04  2019-09-01 04:08:04           0.676604   \n",
       "14873  3241  2019-09-01 04:16:41  2019-09-01 04:19:45           0.733899   \n",
       "14874  3241  2019-09-01 04:31:51  2019-09-01 04:32:48           0.220694   \n",
       "14875  3241  2019-09-01 04:34:47  2019-09-01 04:36:08           0.306580   \n",
       "\n",
       "       Реактивная мощность  \n",
       "0                 0.687084  \n",
       "1                 0.520285  \n",
       "2                 0.498805  \n",
       "3                 1.062669  \n",
       "4                 0.414397  \n",
       "...                    ...  \n",
       "14871             0.354439  \n",
       "14872             0.523631  \n",
       "14873             0.475654  \n",
       "14874             0.145768  \n",
       "14875             0.196708  \n",
       "\n",
       "[14876 rows x 5 columns]"
      ]
     },
     "execution_count": 76,
     "metadata": {},
     "output_type": "execute_result"
    }
   ],
   "source": [
    "df_arc"
   ]
  },
  {
   "cell_type": "markdown",
   "id": "bdc90c84",
   "metadata": {},
   "source": [
    "Для создания признака в таблице `df_arc` воспользуемся формулой:\n",
    "\n",
    "$$ E = t * \\sqrt{P^2 + Q^2} $$\n",
    "\n",
    "где \n",
    "\n",
    "`Е - энергия`,\n",
    "\n",
    "`P – активная мощность`,\n",
    "\n",
    "`Q – реактивная мощность`,\n",
    "\n",
    "`t – время нагрева`."
   ]
  },
  {
   "cell_type": "code",
   "execution_count": 77,
   "id": "f787cc5d",
   "metadata": {},
   "outputs": [
    {
     "data": {
      "text/html": [
       "<div>\n",
       "<style scoped>\n",
       "    .dataframe tbody tr th:only-of-type {\n",
       "        vertical-align: middle;\n",
       "    }\n",
       "\n",
       "    .dataframe tbody tr th {\n",
       "        vertical-align: top;\n",
       "    }\n",
       "\n",
       "    .dataframe thead th {\n",
       "        text-align: right;\n",
       "    }\n",
       "</style>\n",
       "<table border=\"1\" class=\"dataframe\">\n",
       "  <thead>\n",
       "    <tr style=\"text-align: right;\">\n",
       "      <th></th>\n",
       "      <th>Время нагрева</th>\n",
       "      <th>Энергия</th>\n",
       "    </tr>\n",
       "    <tr>\n",
       "      <th>key</th>\n",
       "      <th></th>\n",
       "      <th></th>\n",
       "    </tr>\n",
       "  </thead>\n",
       "  <tbody>\n",
       "    <tr>\n",
       "      <th>1</th>\n",
       "      <td>1098</td>\n",
       "      <td>1442.377754</td>\n",
       "    </tr>\n",
       "    <tr>\n",
       "      <th>2</th>\n",
       "      <td>811</td>\n",
       "      <td>881.233565</td>\n",
       "    </tr>\n",
       "    <tr>\n",
       "      <th>3</th>\n",
       "      <td>655</td>\n",
       "      <td>525.066777</td>\n",
       "    </tr>\n",
       "    <tr>\n",
       "      <th>4</th>\n",
       "      <td>741</td>\n",
       "      <td>796.911309</td>\n",
       "    </tr>\n",
       "    <tr>\n",
       "      <th>5</th>\n",
       "      <td>869</td>\n",
       "      <td>1199.137958</td>\n",
       "    </tr>\n",
       "    <tr>\n",
       "      <th>...</th>\n",
       "      <td>...</td>\n",
       "      <td>...</td>\n",
       "    </tr>\n",
       "    <tr>\n",
       "      <th>3237</th>\n",
       "      <td>909</td>\n",
       "      <td>958.336236</td>\n",
       "    </tr>\n",
       "    <tr>\n",
       "      <th>3238</th>\n",
       "      <td>546</td>\n",
       "      <td>555.867370</td>\n",
       "    </tr>\n",
       "    <tr>\n",
       "      <th>3239</th>\n",
       "      <td>1216</td>\n",
       "      <td>1013.067719</td>\n",
       "    </tr>\n",
       "    <tr>\n",
       "      <th>3240</th>\n",
       "      <td>839</td>\n",
       "      <td>729.208940</td>\n",
       "    </tr>\n",
       "    <tr>\n",
       "      <th>3241</th>\n",
       "      <td>659</td>\n",
       "      <td>460.082343</td>\n",
       "    </tr>\n",
       "  </tbody>\n",
       "</table>\n",
       "<p>3214 rows × 2 columns</p>\n",
       "</div>"
      ],
      "text/plain": [
       "      Время нагрева      Энергия\n",
       "key                             \n",
       "1              1098  1442.377754\n",
       "2               811   881.233565\n",
       "3               655   525.066777\n",
       "4               741   796.911309\n",
       "5               869  1199.137958\n",
       "...             ...          ...\n",
       "3237            909   958.336236\n",
       "3238            546   555.867370\n",
       "3239           1216  1013.067719\n",
       "3240            839   729.208940\n",
       "3241            659   460.082343\n",
       "\n",
       "[3214 rows x 2 columns]"
      ]
     },
     "execution_count": 77,
     "metadata": {},
     "output_type": "execute_result"
    }
   ],
   "source": [
    "arc = df_arc.copy()\n",
    "arc['Начало нагрева дугой'] = pd.to_datetime(arc['Начало нагрева дугой'], format='%Y-%m-%d %H:%M:%S')\n",
    "arc['Конец нагрева дугой'] = pd.to_datetime(arc['Конец нагрева дугой'], format='%Y-%m-%d %H:%M:%S')\n",
    "arc['Время нагрева'] = (arc['Конец нагрева дугой'] - arc['Начало нагрева дугой']).dt.total_seconds().astype(int)\n",
    "arc['Энергия'] = arc['Время нагрева'] * ((arc['Активная мощность']**2) + (arc['Реактивная мощность']**2))**0.5\n",
    "arc_feat = arc.groupby(by='key').agg(sum).drop(columns=['Активная мощность', 'Реактивная мощность']).reset_index(col_level=True).set_index('key')\n",
    "arc_feat"
   ]
  },
  {
   "cell_type": "code",
   "execution_count": 78,
   "id": "b21c4991",
   "metadata": {},
   "outputs": [
    {
     "data": {
      "text/html": [
       "<div>\n",
       "<style scoped>\n",
       "    .dataframe tbody tr th:only-of-type {\n",
       "        vertical-align: middle;\n",
       "    }\n",
       "\n",
       "    .dataframe tbody tr th {\n",
       "        vertical-align: top;\n",
       "    }\n",
       "\n",
       "    .dataframe thead th {\n",
       "        text-align: right;\n",
       "    }\n",
       "</style>\n",
       "<table border=\"1\" class=\"dataframe\">\n",
       "  <thead>\n",
       "    <tr style=\"text-align: right;\">\n",
       "      <th></th>\n",
       "      <th>Wire 1</th>\n",
       "      <th>Wire 2</th>\n",
       "    </tr>\n",
       "    <tr>\n",
       "      <th>key</th>\n",
       "      <th></th>\n",
       "      <th></th>\n",
       "    </tr>\n",
       "  </thead>\n",
       "  <tbody>\n",
       "    <tr>\n",
       "      <th>1</th>\n",
       "      <td>60.059998</td>\n",
       "      <td>0.00000</td>\n",
       "    </tr>\n",
       "    <tr>\n",
       "      <th>2</th>\n",
       "      <td>96.052315</td>\n",
       "      <td>0.00000</td>\n",
       "    </tr>\n",
       "    <tr>\n",
       "      <th>3</th>\n",
       "      <td>91.160157</td>\n",
       "      <td>0.00000</td>\n",
       "    </tr>\n",
       "    <tr>\n",
       "      <th>4</th>\n",
       "      <td>89.063515</td>\n",
       "      <td>0.00000</td>\n",
       "    </tr>\n",
       "    <tr>\n",
       "      <th>5</th>\n",
       "      <td>89.238236</td>\n",
       "      <td>9.11456</td>\n",
       "    </tr>\n",
       "    <tr>\n",
       "      <th>...</th>\n",
       "      <td>...</td>\n",
       "      <td>...</td>\n",
       "    </tr>\n",
       "    <tr>\n",
       "      <th>3237</th>\n",
       "      <td>38.088959</td>\n",
       "      <td>0.00000</td>\n",
       "    </tr>\n",
       "    <tr>\n",
       "      <th>3238</th>\n",
       "      <td>56.128799</td>\n",
       "      <td>0.00000</td>\n",
       "    </tr>\n",
       "    <tr>\n",
       "      <th>3239</th>\n",
       "      <td>143.357761</td>\n",
       "      <td>0.00000</td>\n",
       "    </tr>\n",
       "    <tr>\n",
       "      <th>3240</th>\n",
       "      <td>34.070400</td>\n",
       "      <td>0.00000</td>\n",
       "    </tr>\n",
       "    <tr>\n",
       "      <th>3241</th>\n",
       "      <td>63.117595</td>\n",
       "      <td>0.00000</td>\n",
       "    </tr>\n",
       "  </tbody>\n",
       "</table>\n",
       "<p>3081 rows × 2 columns</p>\n",
       "</div>"
      ],
      "text/plain": [
       "          Wire 1   Wire 2\n",
       "key                      \n",
       "1      60.059998  0.00000\n",
       "2      96.052315  0.00000\n",
       "3      91.160157  0.00000\n",
       "4      89.063515  0.00000\n",
       "5      89.238236  9.11456\n",
       "...          ...      ...\n",
       "3237   38.088959  0.00000\n",
       "3238   56.128799  0.00000\n",
       "3239  143.357761  0.00000\n",
       "3240   34.070400  0.00000\n",
       "3241   63.117595  0.00000\n",
       "\n",
       "[3081 rows x 2 columns]"
      ]
     },
     "execution_count": 78,
     "metadata": {},
     "output_type": "execute_result"
    }
   ],
   "source": [
    "wire = df_wire.copy().fillna(0).drop(columns=['Wire 3', 'Wire 4', 'Wire 5', 'Wire 6', 'Wire 7', 'Wire 8', 'Wire 9'])\n",
    "wire = wire.set_index('key')\n",
    "wire"
   ]
  },
  {
   "cell_type": "code",
   "execution_count": 79,
   "id": "596e23a2",
   "metadata": {},
   "outputs": [
    {
     "data": {
      "text/html": [
       "<div>\n",
       "<style scoped>\n",
       "    .dataframe tbody tr th:only-of-type {\n",
       "        vertical-align: middle;\n",
       "    }\n",
       "\n",
       "    .dataframe tbody tr th {\n",
       "        vertical-align: top;\n",
       "    }\n",
       "\n",
       "    .dataframe thead th {\n",
       "        text-align: right;\n",
       "    }\n",
       "</style>\n",
       "<table border=\"1\" class=\"dataframe\">\n",
       "  <thead>\n",
       "    <tr style=\"text-align: right;\">\n",
       "      <th></th>\n",
       "      <th>Bulk 1</th>\n",
       "      <th>Bulk 3</th>\n",
       "      <th>Bulk 4</th>\n",
       "      <th>Bulk 6</th>\n",
       "      <th>Bulk 10</th>\n",
       "      <th>Bulk 11</th>\n",
       "      <th>Bulk 12</th>\n",
       "      <th>Bulk 14</th>\n",
       "      <th>Bulk 15</th>\n",
       "    </tr>\n",
       "    <tr>\n",
       "      <th>key</th>\n",
       "      <th></th>\n",
       "      <th></th>\n",
       "      <th></th>\n",
       "      <th></th>\n",
       "      <th></th>\n",
       "      <th></th>\n",
       "      <th></th>\n",
       "      <th></th>\n",
       "      <th></th>\n",
       "    </tr>\n",
       "  </thead>\n",
       "  <tbody>\n",
       "    <tr>\n",
       "      <th>1</th>\n",
       "      <td>0</td>\n",
       "      <td>0</td>\n",
       "      <td>43</td>\n",
       "      <td>0</td>\n",
       "      <td>0</td>\n",
       "      <td>0</td>\n",
       "      <td>206</td>\n",
       "      <td>150</td>\n",
       "      <td>154</td>\n",
       "    </tr>\n",
       "    <tr>\n",
       "      <th>2</th>\n",
       "      <td>0</td>\n",
       "      <td>0</td>\n",
       "      <td>73</td>\n",
       "      <td>0</td>\n",
       "      <td>0</td>\n",
       "      <td>0</td>\n",
       "      <td>206</td>\n",
       "      <td>149</td>\n",
       "      <td>154</td>\n",
       "    </tr>\n",
       "    <tr>\n",
       "      <th>3</th>\n",
       "      <td>0</td>\n",
       "      <td>0</td>\n",
       "      <td>34</td>\n",
       "      <td>0</td>\n",
       "      <td>0</td>\n",
       "      <td>0</td>\n",
       "      <td>205</td>\n",
       "      <td>152</td>\n",
       "      <td>153</td>\n",
       "    </tr>\n",
       "    <tr>\n",
       "      <th>4</th>\n",
       "      <td>0</td>\n",
       "      <td>0</td>\n",
       "      <td>81</td>\n",
       "      <td>0</td>\n",
       "      <td>0</td>\n",
       "      <td>0</td>\n",
       "      <td>207</td>\n",
       "      <td>153</td>\n",
       "      <td>154</td>\n",
       "    </tr>\n",
       "    <tr>\n",
       "      <th>5</th>\n",
       "      <td>0</td>\n",
       "      <td>0</td>\n",
       "      <td>78</td>\n",
       "      <td>0</td>\n",
       "      <td>0</td>\n",
       "      <td>0</td>\n",
       "      <td>203</td>\n",
       "      <td>151</td>\n",
       "      <td>152</td>\n",
       "    </tr>\n",
       "    <tr>\n",
       "      <th>...</th>\n",
       "      <td>...</td>\n",
       "      <td>...</td>\n",
       "      <td>...</td>\n",
       "      <td>...</td>\n",
       "      <td>...</td>\n",
       "      <td>...</td>\n",
       "      <td>...</td>\n",
       "      <td>...</td>\n",
       "      <td>...</td>\n",
       "    </tr>\n",
       "    <tr>\n",
       "      <th>3237</th>\n",
       "      <td>0</td>\n",
       "      <td>170</td>\n",
       "      <td>0</td>\n",
       "      <td>0</td>\n",
       "      <td>0</td>\n",
       "      <td>0</td>\n",
       "      <td>252</td>\n",
       "      <td>130</td>\n",
       "      <td>206</td>\n",
       "    </tr>\n",
       "    <tr>\n",
       "      <th>3238</th>\n",
       "      <td>0</td>\n",
       "      <td>126</td>\n",
       "      <td>0</td>\n",
       "      <td>0</td>\n",
       "      <td>0</td>\n",
       "      <td>0</td>\n",
       "      <td>254</td>\n",
       "      <td>108</td>\n",
       "      <td>106</td>\n",
       "    </tr>\n",
       "    <tr>\n",
       "      <th>3239</th>\n",
       "      <td>0</td>\n",
       "      <td>0</td>\n",
       "      <td>0</td>\n",
       "      <td>114</td>\n",
       "      <td>0</td>\n",
       "      <td>0</td>\n",
       "      <td>158</td>\n",
       "      <td>270</td>\n",
       "      <td>88</td>\n",
       "    </tr>\n",
       "    <tr>\n",
       "      <th>3240</th>\n",
       "      <td>0</td>\n",
       "      <td>0</td>\n",
       "      <td>0</td>\n",
       "      <td>26</td>\n",
       "      <td>0</td>\n",
       "      <td>0</td>\n",
       "      <td>0</td>\n",
       "      <td>192</td>\n",
       "      <td>54</td>\n",
       "    </tr>\n",
       "    <tr>\n",
       "      <th>3241</th>\n",
       "      <td>0</td>\n",
       "      <td>0</td>\n",
       "      <td>0</td>\n",
       "      <td>0</td>\n",
       "      <td>0</td>\n",
       "      <td>0</td>\n",
       "      <td>0</td>\n",
       "      <td>180</td>\n",
       "      <td>52</td>\n",
       "    </tr>\n",
       "  </tbody>\n",
       "</table>\n",
       "<p>3129 rows × 9 columns</p>\n",
       "</div>"
      ],
      "text/plain": [
       "      Bulk 1  Bulk 3  Bulk 4  Bulk 6  Bulk 10  Bulk 11  Bulk 12  Bulk 14  \\\n",
       "key                                                                        \n",
       "1          0       0      43       0        0        0      206      150   \n",
       "2          0       0      73       0        0        0      206      149   \n",
       "3          0       0      34       0        0        0      205      152   \n",
       "4          0       0      81       0        0        0      207      153   \n",
       "5          0       0      78       0        0        0      203      151   \n",
       "...      ...     ...     ...     ...      ...      ...      ...      ...   \n",
       "3237       0     170       0       0        0        0      252      130   \n",
       "3238       0     126       0       0        0        0      254      108   \n",
       "3239       0       0       0     114        0        0      158      270   \n",
       "3240       0       0       0      26        0        0        0      192   \n",
       "3241       0       0       0       0        0        0        0      180   \n",
       "\n",
       "      Bulk 15  \n",
       "key            \n",
       "1         154  \n",
       "2         154  \n",
       "3         153  \n",
       "4         154  \n",
       "5         152  \n",
       "...       ...  \n",
       "3237      206  \n",
       "3238      106  \n",
       "3239       88  \n",
       "3240       54  \n",
       "3241       52  \n",
       "\n",
       "[3129 rows x 9 columns]"
      ]
     },
     "execution_count": 79,
     "metadata": {},
     "output_type": "execute_result"
    }
   ],
   "source": [
    "bulk = df_bulk.drop(columns=['Bulk 2', 'Bulk 5', 'Bulk 7', 'Bulk 8', 'Bulk 9', 'Bulk 13'])\n",
    "#bulk = bulk[bulk['Bulk 12'] < 1000]\n",
    "bulk = bulk.fillna(0).astype(int)\n",
    "bulk = bulk.set_index('key')\n",
    "bulk"
   ]
  },
  {
   "cell_type": "code",
   "execution_count": 80,
   "id": "ced39afe",
   "metadata": {},
   "outputs": [
    {
     "data": {
      "text/html": [
       "<div>\n",
       "<style scoped>\n",
       "    .dataframe tbody tr th:only-of-type {\n",
       "        vertical-align: middle;\n",
       "    }\n",
       "\n",
       "    .dataframe tbody tr th {\n",
       "        vertical-align: top;\n",
       "    }\n",
       "\n",
       "    .dataframe thead th {\n",
       "        text-align: right;\n",
       "    }\n",
       "</style>\n",
       "<table border=\"1\" class=\"dataframe\">\n",
       "  <thead>\n",
       "    <tr style=\"text-align: right;\">\n",
       "      <th></th>\n",
       "      <th>Начальная температура</th>\n",
       "      <th>Конечная температура</th>\n",
       "      <th>Время нагрева</th>\n",
       "      <th>Энергия</th>\n",
       "      <th>Газ 1</th>\n",
       "      <th>Wire 1</th>\n",
       "      <th>Wire 2</th>\n",
       "      <th>Bulk 1</th>\n",
       "      <th>Bulk 3</th>\n",
       "      <th>Bulk 4</th>\n",
       "      <th>Bulk 6</th>\n",
       "      <th>Bulk 10</th>\n",
       "      <th>Bulk 11</th>\n",
       "      <th>Bulk 12</th>\n",
       "      <th>Bulk 14</th>\n",
       "      <th>Bulk 15</th>\n",
       "    </tr>\n",
       "    <tr>\n",
       "      <th>key</th>\n",
       "      <th></th>\n",
       "      <th></th>\n",
       "      <th></th>\n",
       "      <th></th>\n",
       "      <th></th>\n",
       "      <th></th>\n",
       "      <th></th>\n",
       "      <th></th>\n",
       "      <th></th>\n",
       "      <th></th>\n",
       "      <th></th>\n",
       "      <th></th>\n",
       "      <th></th>\n",
       "      <th></th>\n",
       "      <th></th>\n",
       "      <th></th>\n",
       "    </tr>\n",
       "  </thead>\n",
       "  <tbody>\n",
       "    <tr>\n",
       "      <th>2</th>\n",
       "      <td>1581.0</td>\n",
       "      <td>1602.0</td>\n",
       "      <td>811</td>\n",
       "      <td>881.233565</td>\n",
       "      <td>12.555561</td>\n",
       "      <td>96.052315</td>\n",
       "      <td>0.000000</td>\n",
       "      <td>0</td>\n",
       "      <td>0</td>\n",
       "      <td>73</td>\n",
       "      <td>0</td>\n",
       "      <td>0</td>\n",
       "      <td>0</td>\n",
       "      <td>206</td>\n",
       "      <td>149</td>\n",
       "      <td>154</td>\n",
       "    </tr>\n",
       "    <tr>\n",
       "      <th>3</th>\n",
       "      <td>1596.0</td>\n",
       "      <td>1599.0</td>\n",
       "      <td>655</td>\n",
       "      <td>525.066777</td>\n",
       "      <td>28.554793</td>\n",
       "      <td>91.160157</td>\n",
       "      <td>0.000000</td>\n",
       "      <td>0</td>\n",
       "      <td>0</td>\n",
       "      <td>34</td>\n",
       "      <td>0</td>\n",
       "      <td>0</td>\n",
       "      <td>0</td>\n",
       "      <td>205</td>\n",
       "      <td>152</td>\n",
       "      <td>153</td>\n",
       "    </tr>\n",
       "    <tr>\n",
       "      <th>4</th>\n",
       "      <td>1601.0</td>\n",
       "      <td>1625.0</td>\n",
       "      <td>741</td>\n",
       "      <td>796.911309</td>\n",
       "      <td>18.841219</td>\n",
       "      <td>89.063515</td>\n",
       "      <td>0.000000</td>\n",
       "      <td>0</td>\n",
       "      <td>0</td>\n",
       "      <td>81</td>\n",
       "      <td>0</td>\n",
       "      <td>0</td>\n",
       "      <td>0</td>\n",
       "      <td>207</td>\n",
       "      <td>153</td>\n",
       "      <td>154</td>\n",
       "    </tr>\n",
       "    <tr>\n",
       "      <th>5</th>\n",
       "      <td>1576.0</td>\n",
       "      <td>1602.0</td>\n",
       "      <td>869</td>\n",
       "      <td>1199.137958</td>\n",
       "      <td>5.413692</td>\n",
       "      <td>89.238236</td>\n",
       "      <td>9.114560</td>\n",
       "      <td>0</td>\n",
       "      <td>0</td>\n",
       "      <td>78</td>\n",
       "      <td>0</td>\n",
       "      <td>0</td>\n",
       "      <td>0</td>\n",
       "      <td>203</td>\n",
       "      <td>151</td>\n",
       "      <td>152</td>\n",
       "    </tr>\n",
       "    <tr>\n",
       "      <th>6</th>\n",
       "      <td>1543.0</td>\n",
       "      <td>1596.0</td>\n",
       "      <td>952</td>\n",
       "      <td>1410.747219</td>\n",
       "      <td>11.273392</td>\n",
       "      <td>99.109917</td>\n",
       "      <td>9.114560</td>\n",
       "      <td>0</td>\n",
       "      <td>0</td>\n",
       "      <td>117</td>\n",
       "      <td>0</td>\n",
       "      <td>0</td>\n",
       "      <td>0</td>\n",
       "      <td>204</td>\n",
       "      <td>201</td>\n",
       "      <td>154</td>\n",
       "    </tr>\n",
       "    <tr>\n",
       "      <th>...</th>\n",
       "      <td>...</td>\n",
       "      <td>...</td>\n",
       "      <td>...</td>\n",
       "      <td>...</td>\n",
       "      <td>...</td>\n",
       "      <td>...</td>\n",
       "      <td>...</td>\n",
       "      <td>...</td>\n",
       "      <td>...</td>\n",
       "      <td>...</td>\n",
       "      <td>...</td>\n",
       "      <td>...</td>\n",
       "      <td>...</td>\n",
       "      <td>...</td>\n",
       "      <td>...</td>\n",
       "      <td>...</td>\n",
       "    </tr>\n",
       "    <tr>\n",
       "      <th>2518</th>\n",
       "      <td>1563.0</td>\n",
       "      <td>1563.0</td>\n",
       "      <td>876</td>\n",
       "      <td>840.123184</td>\n",
       "      <td>10.314704</td>\n",
       "      <td>135.189595</td>\n",
       "      <td>101.156639</td>\n",
       "      <td>0</td>\n",
       "      <td>0</td>\n",
       "      <td>0</td>\n",
       "      <td>50</td>\n",
       "      <td>0</td>\n",
       "      <td>90</td>\n",
       "      <td>0</td>\n",
       "      <td>152</td>\n",
       "      <td>0</td>\n",
       "    </tr>\n",
       "    <tr>\n",
       "      <th>2519</th>\n",
       "      <td>1569.0</td>\n",
       "      <td>1569.0</td>\n",
       "      <td>817</td>\n",
       "      <td>992.868994</td>\n",
       "      <td>13.340452</td>\n",
       "      <td>86.835838</td>\n",
       "      <td>97.989833</td>\n",
       "      <td>0</td>\n",
       "      <td>0</td>\n",
       "      <td>0</td>\n",
       "      <td>30</td>\n",
       "      <td>0</td>\n",
       "      <td>46</td>\n",
       "      <td>0</td>\n",
       "      <td>122</td>\n",
       "      <td>0</td>\n",
       "    </tr>\n",
       "    <tr>\n",
       "      <th>2520</th>\n",
       "      <td>1605.0</td>\n",
       "      <td>1605.0</td>\n",
       "      <td>643</td>\n",
       "      <td>415.892913</td>\n",
       "      <td>20.626015</td>\n",
       "      <td>170.220963</td>\n",
       "      <td>115.301681</td>\n",
       "      <td>0</td>\n",
       "      <td>0</td>\n",
       "      <td>0</td>\n",
       "      <td>184</td>\n",
       "      <td>0</td>\n",
       "      <td>90</td>\n",
       "      <td>0</td>\n",
       "      <td>252</td>\n",
       "      <td>0</td>\n",
       "    </tr>\n",
       "    <tr>\n",
       "      <th>2521</th>\n",
       "      <td>1565.0</td>\n",
       "      <td>1565.0</td>\n",
       "      <td>870</td>\n",
       "      <td>1010.444829</td>\n",
       "      <td>19.933099</td>\n",
       "      <td>108.239037</td>\n",
       "      <td>75.128555</td>\n",
       "      <td>0</td>\n",
       "      <td>0</td>\n",
       "      <td>0</td>\n",
       "      <td>80</td>\n",
       "      <td>0</td>\n",
       "      <td>0</td>\n",
       "      <td>0</td>\n",
       "      <td>102</td>\n",
       "      <td>0</td>\n",
       "    </tr>\n",
       "    <tr>\n",
       "      <th>2522</th>\n",
       "      <td>1592.0</td>\n",
       "      <td>1592.0</td>\n",
       "      <td>596</td>\n",
       "      <td>493.867877</td>\n",
       "      <td>1.822176</td>\n",
       "      <td>49.052639</td>\n",
       "      <td>0.000000</td>\n",
       "      <td>0</td>\n",
       "      <td>0</td>\n",
       "      <td>0</td>\n",
       "      <td>70</td>\n",
       "      <td>0</td>\n",
       "      <td>0</td>\n",
       "      <td>0</td>\n",
       "      <td>400</td>\n",
       "      <td>0</td>\n",
       "    </tr>\n",
       "  </tbody>\n",
       "</table>\n",
       "<p>2328 rows × 16 columns</p>\n",
       "</div>"
      ],
      "text/plain": [
       "      Начальная температура  Конечная температура  Время нагрева      Энергия  \\\n",
       "key                                                                             \n",
       "2                    1581.0                1602.0            811   881.233565   \n",
       "3                    1596.0                1599.0            655   525.066777   \n",
       "4                    1601.0                1625.0            741   796.911309   \n",
       "5                    1576.0                1602.0            869  1199.137958   \n",
       "6                    1543.0                1596.0            952  1410.747219   \n",
       "...                     ...                   ...            ...          ...   \n",
       "2518                 1563.0                1563.0            876   840.123184   \n",
       "2519                 1569.0                1569.0            817   992.868994   \n",
       "2520                 1605.0                1605.0            643   415.892913   \n",
       "2521                 1565.0                1565.0            870  1010.444829   \n",
       "2522                 1592.0                1592.0            596   493.867877   \n",
       "\n",
       "          Газ 1      Wire 1      Wire 2  Bulk 1  Bulk 3  Bulk 4  Bulk 6  \\\n",
       "key                                                                       \n",
       "2     12.555561   96.052315    0.000000       0       0      73       0   \n",
       "3     28.554793   91.160157    0.000000       0       0      34       0   \n",
       "4     18.841219   89.063515    0.000000       0       0      81       0   \n",
       "5      5.413692   89.238236    9.114560       0       0      78       0   \n",
       "6     11.273392   99.109917    9.114560       0       0     117       0   \n",
       "...         ...         ...         ...     ...     ...     ...     ...   \n",
       "2518  10.314704  135.189595  101.156639       0       0       0      50   \n",
       "2519  13.340452   86.835838   97.989833       0       0       0      30   \n",
       "2520  20.626015  170.220963  115.301681       0       0       0     184   \n",
       "2521  19.933099  108.239037   75.128555       0       0       0      80   \n",
       "2522   1.822176   49.052639    0.000000       0       0       0      70   \n",
       "\n",
       "      Bulk 10  Bulk 11  Bulk 12  Bulk 14  Bulk 15  \n",
       "key                                                \n",
       "2           0        0      206      149      154  \n",
       "3           0        0      205      152      153  \n",
       "4           0        0      207      153      154  \n",
       "5           0        0      203      151      152  \n",
       "6           0        0      204      201      154  \n",
       "...       ...      ...      ...      ...      ...  \n",
       "2518        0       90        0      152        0  \n",
       "2519        0       46        0      122        0  \n",
       "2520        0       90        0      252        0  \n",
       "2521        0        0        0      102        0  \n",
       "2522        0        0        0      400        0  \n",
       "\n",
       "[2328 rows x 16 columns]"
      ]
     },
     "execution_count": 80,
     "metadata": {},
     "output_type": "execute_result"
    }
   ],
   "source": [
    "df_gas = df_gas.set_index('key')\n",
    "data = temperature.join(arc_feat, how='inner').join(df_gas, how='inner').join(wire, how='inner').join(bulk, how='inner')\n",
    "data"
   ]
  },
  {
   "cell_type": "markdown",
   "id": "79ee09e6",
   "metadata": {},
   "source": [
    "<h3> Вывод 2 </h3>\n",
    "Конечная таблица сформирована, явные \"ненужные\" выбросы убраны из таблицы."
   ]
  },
  {
   "cell_type": "code",
   "execution_count": 81,
   "id": "1f317306",
   "metadata": {},
   "outputs": [],
   "source": [
    "RS = np.random.RandomState(100423)\n",
    "CV = RepeatedStratifiedKFold(n_splits=10, n_repeats=3, random_state=RS)"
   ]
  },
  {
   "cell_type": "code",
   "execution_count": 82,
   "id": "7b6bbbf5",
   "metadata": {},
   "outputs": [],
   "source": [
    "features = data.drop(columns=['Конечная температура'])\n",
    "target = data['Конечная температура']\n",
    "\n",
    "features_train, features_test, target_train, target_test = train_test_split(features, \n",
    "                                                                            target, \n",
    "                                                                            test_size=0.2, \n",
    "                                                                            random_state=RS)"
   ]
  },
  {
   "cell_type": "code",
   "execution_count": 83,
   "id": "09ef32ad",
   "metadata": {},
   "outputs": [
    {
     "name": "stderr",
     "output_type": "stream",
     "text": [
      "/Users/stepan5dol/opt/anaconda3/lib/python3.9/site-packages/sklearn/model_selection/_split.py:676: UserWarning: The least populated class in y has only 1 members, which is less than n_splits=10.\n",
      "  warnings.warn(\n",
      "/Users/stepan5dol/opt/anaconda3/lib/python3.9/site-packages/sklearn/model_selection/_split.py:676: UserWarning: The least populated class in y has only 1 members, which is less than n_splits=10.\n",
      "  warnings.warn(\n",
      "/Users/stepan5dol/opt/anaconda3/lib/python3.9/site-packages/sklearn/model_selection/_split.py:676: UserWarning: The least populated class in y has only 1 members, which is less than n_splits=10.\n",
      "  warnings.warn(\n"
     ]
    },
    {
     "data": {
      "text/plain": [
       "{'reg__n_estimators': 120, 'reg__min_samples_leaf': 1, 'reg__max_depth': 7}"
      ]
     },
     "metadata": {},
     "output_type": "display_data"
    },
    {
     "data": {
      "text/plain": [
       "6.370216303184069"
      ]
     },
     "metadata": {},
     "output_type": "display_data"
    },
    {
     "data": {
      "text/plain": [
       "Pipeline(steps=[('scaler', StandardScaler()),\n",
       "                ('reg',\n",
       "                 RandomForestRegressor(max_depth=7, n_estimators=120,\n",
       "                                       random_state=RandomState(MT19937) at 0x7FE29349EC40))])"
      ]
     },
     "metadata": {},
     "output_type": "display_data"
    }
   ],
   "source": [
    "pipe_forest = Pipeline([\n",
    "    ('scaler', StandardScaler()),\n",
    "    ('reg', RandomForestRegressor(random_state=RS))\n",
    "])\n",
    "\n",
    "params_forest = {'reg__n_estimators': range(50, 150, 10),\n",
    "                 'reg__max_depth': range(2, 8),\n",
    "                 'reg__min_samples_leaf': range(1, 5)}\n",
    "\n",
    "forest_grid = RandomizedSearchCV(pipe_forest, params_forest, cv=CV, scoring='neg_mean_absolute_error', n_jobs=-1)\n",
    "forest_grid.fit(features_train, target_train)\n",
    "\n",
    "display(forest_grid.best_params_)\n",
    "display(-forest_grid.best_score_)\n",
    "display(forest_grid.best_estimator_)"
   ]
  },
  {
   "cell_type": "code",
   "execution_count": 84,
   "id": "b64bc2ff",
   "metadata": {},
   "outputs": [
    {
     "name": "stderr",
     "output_type": "stream",
     "text": [
      "/Users/stepan5dol/opt/anaconda3/lib/python3.9/site-packages/sklearn/model_selection/_split.py:676: UserWarning: The least populated class in y has only 1 members, which is less than n_splits=10.\n",
      "  warnings.warn(\n",
      "/Users/stepan5dol/opt/anaconda3/lib/python3.9/site-packages/sklearn/model_selection/_split.py:676: UserWarning: The least populated class in y has only 1 members, which is less than n_splits=10.\n",
      "  warnings.warn(\n",
      "/Users/stepan5dol/opt/anaconda3/lib/python3.9/site-packages/sklearn/model_selection/_split.py:676: UserWarning: The least populated class in y has only 1 members, which is less than n_splits=10.\n",
      "  warnings.warn(\n"
     ]
    },
    {
     "data": {
      "text/plain": [
       "{'reg__n_estimators': 90, 'reg__max_depth': 6, 'reg__learning_rate': 0.05}"
      ]
     },
     "metadata": {},
     "output_type": "display_data"
    },
    {
     "data": {
      "text/plain": [
       "6.188655466632621"
      ]
     },
     "metadata": {},
     "output_type": "display_data"
    },
    {
     "data": {
      "text/plain": [
       "Pipeline(steps=[('scaler', StandardScaler()),\n",
       "                ('reg',\n",
       "                 LGBMRegressor(learning_rate=0.05, max_depth=6, n_estimators=90,\n",
       "                               objective='regression'))])"
      ]
     },
     "metadata": {},
     "output_type": "display_data"
    }
   ],
   "source": [
    "pipe_lgb = Pipeline([\n",
    "    ('scaler', StandardScaler()),\n",
    "    ('reg', lgb.LGBMRegressor(boosting_type='gbdt',\n",
    "                         objective = 'regression'))\n",
    "])\n",
    "\n",
    "params_lgb = {'reg__n_estimators': range(50, 150, 10),\n",
    "                 'reg__max_depth': range(2, 8),\n",
    "                 'reg__learning_rate': [0.001, 0.05, 0.1]}\n",
    "\n",
    "lgb_grid = RandomizedSearchCV(pipe_lgb, params_lgb, cv=CV, scoring='neg_mean_absolute_error', n_jobs=-1)\n",
    "lgb_grid.fit(features_train, target_train)\n",
    "\n",
    "display(lgb_grid.best_params_)\n",
    "display(-lgb_grid.best_score_)\n",
    "display(lgb_grid.best_estimator_)"
   ]
  },
  {
   "cell_type": "code",
   "execution_count": 85,
   "id": "67fc5454",
   "metadata": {},
   "outputs": [
    {
     "name": "stderr",
     "output_type": "stream",
     "text": [
      "/Users/stepan5dol/opt/anaconda3/lib/python3.9/site-packages/sklearn/model_selection/_split.py:676: UserWarning: The least populated class in y has only 1 members, which is less than n_splits=10.\n",
      "  warnings.warn(\n",
      "/Users/stepan5dol/opt/anaconda3/lib/python3.9/site-packages/sklearn/model_selection/_split.py:676: UserWarning: The least populated class in y has only 1 members, which is less than n_splits=10.\n",
      "  warnings.warn(\n",
      "/Users/stepan5dol/opt/anaconda3/lib/python3.9/site-packages/sklearn/model_selection/_split.py:676: UserWarning: The least populated class in y has only 1 members, which is less than n_splits=10.\n",
      "  warnings.warn(\n",
      "/Users/stepan5dol/opt/anaconda3/lib/python3.9/site-packages/xgboost/compat.py:36: FutureWarning: pandas.Int64Index is deprecated and will be removed from pandas in a future version. Use pandas.Index with the appropriate dtype instead.\n",
      "  from pandas import MultiIndex, Int64Index\n",
      "/Users/stepan5dol/opt/anaconda3/lib/python3.9/site-packages/xgboost/compat.py:36: FutureWarning: pandas.Int64Index is deprecated and will be removed from pandas in a future version. Use pandas.Index with the appropriate dtype instead.\n",
      "  from pandas import MultiIndex, Int64Index\n",
      "/Users/stepan5dol/opt/anaconda3/lib/python3.9/site-packages/xgboost/compat.py:36: FutureWarning: pandas.Int64Index is deprecated and will be removed from pandas in a future version. Use pandas.Index with the appropriate dtype instead.\n",
      "  from pandas import MultiIndex, Int64Index\n",
      "/Users/stepan5dol/opt/anaconda3/lib/python3.9/site-packages/xgboost/compat.py:36: FutureWarning: pandas.Int64Index is deprecated and will be removed from pandas in a future version. Use pandas.Index with the appropriate dtype instead.\n",
      "  from pandas import MultiIndex, Int64Index\n",
      "/Users/stepan5dol/opt/anaconda3/lib/python3.9/site-packages/xgboost/compat.py:36: FutureWarning: pandas.Int64Index is deprecated and will be removed from pandas in a future version. Use pandas.Index with the appropriate dtype instead.\n",
      "  from pandas import MultiIndex, Int64Index\n",
      "/Users/stepan5dol/opt/anaconda3/lib/python3.9/site-packages/xgboost/compat.py:36: FutureWarning: pandas.Int64Index is deprecated and will be removed from pandas in a future version. Use pandas.Index with the appropriate dtype instead.\n",
      "  from pandas import MultiIndex, Int64Index\n",
      "/Users/stepan5dol/opt/anaconda3/lib/python3.9/site-packages/xgboost/compat.py:36: FutureWarning: pandas.Int64Index is deprecated and will be removed from pandas in a future version. Use pandas.Index with the appropriate dtype instead.\n",
      "  from pandas import MultiIndex, Int64Index\n",
      "/Users/stepan5dol/opt/anaconda3/lib/python3.9/site-packages/xgboost/compat.py:36: FutureWarning: pandas.Int64Index is deprecated and will be removed from pandas in a future version. Use pandas.Index with the appropriate dtype instead.\n",
      "  from pandas import MultiIndex, Int64Index\n"
     ]
    },
    {
     "data": {
      "text/plain": [
       "{'reg__n_estimators': 110, 'reg__max_depth': 4, 'reg__learning_rate': 0.1}"
      ]
     },
     "metadata": {},
     "output_type": "display_data"
    },
    {
     "data": {
      "text/plain": [
       "6.234051487350004"
      ]
     },
     "metadata": {},
     "output_type": "display_data"
    },
    {
     "data": {
      "text/plain": [
       "Pipeline(steps=[('scaler', StandardScaler()),\n",
       "                ('reg',\n",
       "                 XGBRegressor(base_score=0.5, booster='gbtree',\n",
       "                              colsample_bylevel=1, colsample_bynode=1,\n",
       "                              colsample_bytree=1, enable_categorical=False,\n",
       "                              gamma=0, gpu_id=-1, importance_type=None,\n",
       "                              interaction_constraints='', learning_rate=0.1,\n",
       "                              max_delta_step=0, max_depth=4, min_child_weight=1,\n",
       "                              missing=nan, monotone_constraints='()',\n",
       "                              n_estimators=110, n_jobs=8, num_parallel_tree=1,\n",
       "                              predictor='auto', random_state=0, reg_alpha=0,\n",
       "                              reg_lambda=1, scale_pos_weight=1, subsample=1,\n",
       "                              tree_method='exact', validate_parameters=1,\n",
       "                              verbosity=0))])"
      ]
     },
     "metadata": {},
     "output_type": "display_data"
    }
   ],
   "source": [
    "pipe_xgb = Pipeline([\n",
    "    ('scaler', StandardScaler()),\n",
    "    ('reg', xgb.XGBRegressor(booster='gbtree',\n",
    "                             verbosity=0))\n",
    "])\n",
    "\n",
    "params_xgb = {'reg__n_estimators': range(50, 150, 10),\n",
    "                 'reg__max_depth': range(2, 8),\n",
    "                 'reg__learning_rate': [0.001, 0.05, 0.1]}\n",
    "\n",
    "xgb_grid = RandomizedSearchCV(pipe_xgb, params_xgb, cv=CV, scoring='neg_mean_absolute_error', n_jobs=-1)\n",
    "xgb_grid.fit(features_train, target_train)\n",
    "\n",
    "display(xgb_grid.best_params_)\n",
    "display(-xgb_grid.best_score_)\n",
    "display(xgb_grid.best_estimator_)"
   ]
  },
  {
   "cell_type": "code",
   "execution_count": 86,
   "id": "28357cc9",
   "metadata": {},
   "outputs": [
    {
     "name": "stderr",
     "output_type": "stream",
     "text": [
      "/Users/stepan5dol/opt/anaconda3/lib/python3.9/site-packages/sklearn/model_selection/_search.py:292: UserWarning: The total space of parameters 1 is smaller than n_iter=10. Running 1 iterations. For exhaustive searches, use GridSearchCV.\n",
      "  warnings.warn(\n",
      "/Users/stepan5dol/opt/anaconda3/lib/python3.9/site-packages/sklearn/model_selection/_split.py:676: UserWarning: The least populated class in y has only 1 members, which is less than n_splits=10.\n",
      "  warnings.warn(\n",
      "/Users/stepan5dol/opt/anaconda3/lib/python3.9/site-packages/sklearn/model_selection/_split.py:676: UserWarning: The least populated class in y has only 1 members, which is less than n_splits=10.\n",
      "  warnings.warn(\n",
      "/Users/stepan5dol/opt/anaconda3/lib/python3.9/site-packages/sklearn/model_selection/_split.py:676: UserWarning: The least populated class in y has only 1 members, which is less than n_splits=10.\n",
      "  warnings.warn(\n"
     ]
    },
    {
     "data": {
      "text/plain": [
       "{'reg__max_depth': 7, 'reg__learning_rate': 0.01}"
      ]
     },
     "metadata": {},
     "output_type": "display_data"
    },
    {
     "data": {
      "text/plain": [
       "6.159944247427585"
      ]
     },
     "metadata": {},
     "output_type": "display_data"
    },
    {
     "data": {
      "text/plain": [
       "Pipeline(steps=[('scaler', StandardScaler()),\n",
       "                ('reg',\n",
       "                 <catboost.core.CatBoostRegressor object at 0x7fe292371250>)])"
      ]
     },
     "metadata": {},
     "output_type": "display_data"
    }
   ],
   "source": [
    "pipe_cat = Pipeline([\n",
    "    ('scaler', StandardScaler()),\n",
    "    ('reg', CatBoostRegressor(verbose=False))\n",
    "])\n",
    "\n",
    "params_cat = {'reg__max_depth': range(7, 8),\n",
    "              'reg__learning_rate': [0.01]}\n",
    "\n",
    "cat_grid = RandomizedSearchCV(pipe_cat, params_cat, cv=CV, scoring='neg_mean_absolute_error', n_jobs=-1)\n",
    "cat_grid.fit(features_train, target_train)\n",
    "\n",
    "display(cat_grid.best_params_)\n",
    "display(-cat_grid.best_score_)\n",
    "display(cat_grid.best_estimator_)"
   ]
  },
  {
   "cell_type": "code",
   "execution_count": 137,
   "id": "c82a6e1b",
   "metadata": {
    "scrolled": true
   },
   "outputs": [
    {
     "name": "stderr",
     "output_type": "stream",
     "text": [
      "/var/folders/1h/bbf3n02x7d9b7ct89gds69dw0000gp/T/ipykernel_8801/2793428841.py:23: DeprecationWarning: KerasRegressor is deprecated, use Sci-Keras (https://github.com/adriangb/scikeras) instead. See https://www.adriangb.com/scikeras/stable/migration.html for help migrating.\n",
      "  ('reg', KerasRegressor(build_fn=baseline_model, epochs=50, batch_size=64, verbose=0))\n",
      "/Users/stepan5dol/opt/anaconda3/lib/python3.9/site-packages/sklearn/model_selection/_split.py:676: UserWarning: The least populated class in y has only 1 members, which is less than n_splits=10.\n",
      "  warnings.warn(\n",
      "WARNING:absl:`lr` is deprecated in Keras optimizer, please use `learning_rate` or use the legacy optimizer, e.g.,tf.keras.optimizers.legacy.Adam.\n",
      "WARNING:absl:`lr` is deprecated in Keras optimizer, please use `learning_rate` or use the legacy optimizer, e.g.,tf.keras.optimizers.legacy.Adam.\n",
      "WARNING:absl:`lr` is deprecated in Keras optimizer, please use `learning_rate` or use the legacy optimizer, e.g.,tf.keras.optimizers.legacy.Adam.\n",
      "WARNING:absl:`lr` is deprecated in Keras optimizer, please use `learning_rate` or use the legacy optimizer, e.g.,tf.keras.optimizers.legacy.Adam.\n",
      "WARNING:absl:`lr` is deprecated in Keras optimizer, please use `learning_rate` or use the legacy optimizer, e.g.,tf.keras.optimizers.legacy.Adam.\n"
     ]
    },
    {
     "name": "stdout",
     "output_type": "stream",
     "text": [
      "WARNING:tensorflow:5 out of the last 13 calls to <function Model.make_test_function.<locals>.test_function at 0x7fe291594d30> triggered tf.function retracing. Tracing is expensive and the excessive number of tracings could be due to (1) creating @tf.function repeatedly in a loop, (2) passing tensors with different shapes, (3) passing Python objects instead of tensors. For (1), please define your @tf.function outside of the loop. For (2), @tf.function has reduce_retracing=True option that can avoid unnecessary retracing. For (3), please refer to https://www.tensorflow.org/guide/function#controlling_retracing and https://www.tensorflow.org/api_docs/python/tf/function for  more details.\n"
     ]
    },
    {
     "name": "stderr",
     "output_type": "stream",
     "text": [
      "WARNING:tensorflow:5 out of the last 13 calls to <function Model.make_test_function.<locals>.test_function at 0x7fe291594d30> triggered tf.function retracing. Tracing is expensive and the excessive number of tracings could be due to (1) creating @tf.function repeatedly in a loop, (2) passing tensors with different shapes, (3) passing Python objects instead of tensors. For (1), please define your @tf.function outside of the loop. For (2), @tf.function has reduce_retracing=True option that can avoid unnecessary retracing. For (3), please refer to https://www.tensorflow.org/guide/function#controlling_retracing and https://www.tensorflow.org/api_docs/python/tf/function for  more details.\n",
      "WARNING:absl:`lr` is deprecated in Keras optimizer, please use `learning_rate` or use the legacy optimizer, e.g.,tf.keras.optimizers.legacy.Adam.\n"
     ]
    },
    {
     "name": "stdout",
     "output_type": "stream",
     "text": [
      "WARNING:tensorflow:5 out of the last 13 calls to <function Model.make_test_function.<locals>.test_function at 0x7fe290cd2310> triggered tf.function retracing. Tracing is expensive and the excessive number of tracings could be due to (1) creating @tf.function repeatedly in a loop, (2) passing tensors with different shapes, (3) passing Python objects instead of tensors. For (1), please define your @tf.function outside of the loop. For (2), @tf.function has reduce_retracing=True option that can avoid unnecessary retracing. For (3), please refer to https://www.tensorflow.org/guide/function#controlling_retracing and https://www.tensorflow.org/api_docs/python/tf/function for  more details.\n"
     ]
    },
    {
     "name": "stderr",
     "output_type": "stream",
     "text": [
      "WARNING:tensorflow:5 out of the last 13 calls to <function Model.make_test_function.<locals>.test_function at 0x7fe290cd2310> triggered tf.function retracing. Tracing is expensive and the excessive number of tracings could be due to (1) creating @tf.function repeatedly in a loop, (2) passing tensors with different shapes, (3) passing Python objects instead of tensors. For (1), please define your @tf.function outside of the loop. For (2), @tf.function has reduce_retracing=True option that can avoid unnecessary retracing. For (3), please refer to https://www.tensorflow.org/guide/function#controlling_retracing and https://www.tensorflow.org/api_docs/python/tf/function for  more details.\n",
      "WARNING:absl:`lr` is deprecated in Keras optimizer, please use `learning_rate` or use the legacy optimizer, e.g.,tf.keras.optimizers.legacy.Adam.\n",
      "WARNING:absl:`lr` is deprecated in Keras optimizer, please use `learning_rate` or use the legacy optimizer, e.g.,tf.keras.optimizers.legacy.Adam.\n",
      "WARNING:absl:`lr` is deprecated in Keras optimizer, please use `learning_rate` or use the legacy optimizer, e.g.,tf.keras.optimizers.legacy.Adam.\n",
      "WARNING:absl:`lr` is deprecated in Keras optimizer, please use `learning_rate` or use the legacy optimizer, e.g.,tf.keras.optimizers.legacy.Adam.\n",
      "/Users/stepan5dol/opt/anaconda3/lib/python3.9/site-packages/sklearn/model_selection/_split.py:676: UserWarning: The least populated class in y has only 1 members, which is less than n_splits=10.\n",
      "  warnings.warn(\n",
      "WARNING:absl:`lr` is deprecated in Keras optimizer, please use `learning_rate` or use the legacy optimizer, e.g.,tf.keras.optimizers.legacy.Adam.\n",
      "WARNING:absl:`lr` is deprecated in Keras optimizer, please use `learning_rate` or use the legacy optimizer, e.g.,tf.keras.optimizers.legacy.Adam.\n",
      "WARNING:absl:`lr` is deprecated in Keras optimizer, please use `learning_rate` or use the legacy optimizer, e.g.,tf.keras.optimizers.legacy.Adam.\n",
      "WARNING:absl:`lr` is deprecated in Keras optimizer, please use `learning_rate` or use the legacy optimizer, e.g.,tf.keras.optimizers.legacy.Adam.\n",
      "WARNING:absl:`lr` is deprecated in Keras optimizer, please use `learning_rate` or use the legacy optimizer, e.g.,tf.keras.optimizers.legacy.Adam.\n",
      "WARNING:absl:`lr` is deprecated in Keras optimizer, please use `learning_rate` or use the legacy optimizer, e.g.,tf.keras.optimizers.legacy.Adam.\n",
      "WARNING:absl:`lr` is deprecated in Keras optimizer, please use `learning_rate` or use the legacy optimizer, e.g.,tf.keras.optimizers.legacy.Adam.\n",
      "WARNING:absl:`lr` is deprecated in Keras optimizer, please use `learning_rate` or use the legacy optimizer, e.g.,tf.keras.optimizers.legacy.Adam.\n",
      "WARNING:absl:`lr` is deprecated in Keras optimizer, please use `learning_rate` or use the legacy optimizer, e.g.,tf.keras.optimizers.legacy.Adam.\n",
      "WARNING:absl:`lr` is deprecated in Keras optimizer, please use `learning_rate` or use the legacy optimizer, e.g.,tf.keras.optimizers.legacy.Adam.\n",
      "/Users/stepan5dol/opt/anaconda3/lib/python3.9/site-packages/sklearn/model_selection/_split.py:676: UserWarning: The least populated class in y has only 1 members, which is less than n_splits=10.\n",
      "  warnings.warn(\n",
      "WARNING:absl:`lr` is deprecated in Keras optimizer, please use `learning_rate` or use the legacy optimizer, e.g.,tf.keras.optimizers.legacy.Adam.\n",
      "WARNING:absl:`lr` is deprecated in Keras optimizer, please use `learning_rate` or use the legacy optimizer, e.g.,tf.keras.optimizers.legacy.Adam.\n",
      "WARNING:absl:`lr` is deprecated in Keras optimizer, please use `learning_rate` or use the legacy optimizer, e.g.,tf.keras.optimizers.legacy.Adam.\n",
      "WARNING:absl:`lr` is deprecated in Keras optimizer, please use `learning_rate` or use the legacy optimizer, e.g.,tf.keras.optimizers.legacy.Adam.\n",
      "WARNING:absl:`lr` is deprecated in Keras optimizer, please use `learning_rate` or use the legacy optimizer, e.g.,tf.keras.optimizers.legacy.Adam.\n",
      "WARNING:absl:`lr` is deprecated in Keras optimizer, please use `learning_rate` or use the legacy optimizer, e.g.,tf.keras.optimizers.legacy.Adam.\n",
      "WARNING:absl:`lr` is deprecated in Keras optimizer, please use `learning_rate` or use the legacy optimizer, e.g.,tf.keras.optimizers.legacy.Adam.\n",
      "WARNING:absl:`lr` is deprecated in Keras optimizer, please use `learning_rate` or use the legacy optimizer, e.g.,tf.keras.optimizers.legacy.Adam.\n",
      "WARNING:absl:`lr` is deprecated in Keras optimizer, please use `learning_rate` or use the legacy optimizer, e.g.,tf.keras.optimizers.legacy.Adam.\n",
      "WARNING:absl:`lr` is deprecated in Keras optimizer, please use `learning_rate` or use the legacy optimizer, e.g.,tf.keras.optimizers.legacy.Adam.\n"
     ]
    },
    {
     "name": "stdout",
     "output_type": "stream",
     "text": [
      "1521.8518880208333 128.62003302574158\n"
     ]
    }
   ],
   "source": [
    "from time import time\n",
    "start = time()\n",
    "def baseline_model():\n",
    "    model = Sequential()\n",
    "    # Add the layers\n",
    "    model.add(Dense(64, input_dim=15, activation='relu'))\n",
    "    model.add(BatchNormalization())\n",
    "    model.add(Dropout(0.2))\n",
    "    model.add(Dense(32, activation='relu'))\n",
    "    model.add(BatchNormalization())\n",
    "    model.add(Dropout(0.2))\n",
    "    model.add(Dense(16, activation='relu'))\n",
    "    model.add(BatchNormalization())\n",
    "    model.add(Dropout(0.2))\n",
    "    model.add(Dense(1, activation=None))\n",
    "\n",
    "    # Compile the model\n",
    "    model.compile(loss='mean_absolute_error', optimizer=Adam(lr=0.01), metrics=['mean_absolute_error'])\n",
    "    return model\n",
    "\n",
    "pipe_keras = Pipeline([\n",
    "    ('scaler', StandardScaler()),\n",
    "    ('reg', KerasRegressor(build_fn=baseline_model, epochs=150, batch_size=64, verbose=0))\n",
    "    \n",
    "])\n",
    "\n",
    "results_keras = cross_val_score(pipe_keras, features_train, target_train, cv=CV)\n",
    "print(-results_keras.mean(), time() - start)"
   ]
  },
  {
   "cell_type": "code",
   "execution_count": 138,
   "id": "10d42f0e",
   "metadata": {},
   "outputs": [
    {
     "name": "stderr",
     "output_type": "stream",
     "text": [
      "WARNING:absl:`lr` is deprecated in Keras optimizer, please use `learning_rate` or use the legacy optimizer, e.g.,tf.keras.optimizers.legacy.Adam.\n"
     ]
    },
    {
     "data": {
      "text/plain": [
       "1505.4093809086878"
      ]
     },
     "metadata": {},
     "output_type": "display_data"
    }
   ],
   "source": [
    "pipe_keras.fit(features_train, target_train)\n",
    "res = pipe_keras.predict(features_test)\n",
    "display(mean_absolute_error(target_test, res))"
   ]
  },
  {
   "cell_type": "markdown",
   "id": "34c08131",
   "metadata": {},
   "source": [
    "**К сожалению, лишь модель на библиотеке Keras не достигла целевой метрики.**"
   ]
  },
  {
   "cell_type": "markdown",
   "id": "e4c0f76b",
   "metadata": {},
   "source": [
    "<h3>Важность признаков и выводы </h3>"
   ]
  },
  {
   "cell_type": "code",
   "execution_count": 87,
   "id": "1a4741fd",
   "metadata": {},
   "outputs": [],
   "source": [
    "def pipeline_1(model):    \n",
    "    pipe = Pipeline([\n",
    "        ('scaler', StandardScaler()),\n",
    "        ('reg', model)\n",
    "    ])\n",
    "    res = cross_val_score(pipe, \n",
    "                          features_train, \n",
    "                          target_train, \n",
    "                          scoring='neg_mean_absolute_error', \n",
    "                          cv=CV)\n",
    "    pipe.fit(features_train, target_train)\n",
    "    return abs(res).mean()"
   ]
  },
  {
   "cell_type": "code",
   "execution_count": 98,
   "id": "d7e5c3f7",
   "metadata": {},
   "outputs": [],
   "source": [
    "model_forest = RandomForestRegressor(random_state=RS, \n",
    "                                     n_estimators= 70, \n",
    "                                     min_samples_leaf = 4, \n",
    "                                     max_depth = 6)\n",
    "\n",
    "model_lgb = lgb.LGBMRegressor(random_state=RS,\n",
    "                              boosting_type='gbdt',\n",
    "                              objective = 'regression',\n",
    "                              n_estimators = 90,\n",
    "                              max_depth = 4,\n",
    "                              learning_rate = 0.05)\n",
    "\n",
    "model_xgb = xgb.XGBRegressor(random_state=RS,\n",
    "                             booster='gbtree',\n",
    "                             verbosity=0, \n",
    "                             n_estimators = 80, \n",
    "                             max_depth = 5, \n",
    "                             learning_rate = 0.1)\n",
    "\n",
    "model_cat = CatBoostRegressor(verbose=False, \n",
    "                              max_depth = 7,\n",
    "                              learning_rate = 0.01,\n",
    "                              random_state=100423)"
   ]
  },
  {
   "cell_type": "code",
   "execution_count": 99,
   "id": "af56af05",
   "metadata": {
    "scrolled": true
   },
   "outputs": [
    {
     "name": "stderr",
     "output_type": "stream",
     "text": [
      "/Users/stepan5dol/opt/anaconda3/lib/python3.9/site-packages/sklearn/model_selection/_split.py:676: UserWarning: The least populated class in y has only 1 members, which is less than n_splits=10.\n",
      "  warnings.warn(\n",
      "/Users/stepan5dol/opt/anaconda3/lib/python3.9/site-packages/sklearn/model_selection/_split.py:676: UserWarning: The least populated class in y has only 1 members, which is less than n_splits=10.\n",
      "  warnings.warn(\n",
      "/Users/stepan5dol/opt/anaconda3/lib/python3.9/site-packages/sklearn/model_selection/_split.py:676: UserWarning: The least populated class in y has only 1 members, which is less than n_splits=10.\n",
      "  warnings.warn(\n",
      "/Users/stepan5dol/opt/anaconda3/lib/python3.9/site-packages/sklearn/model_selection/_split.py:676: UserWarning: The least populated class in y has only 1 members, which is less than n_splits=10.\n",
      "  warnings.warn(\n",
      "/Users/stepan5dol/opt/anaconda3/lib/python3.9/site-packages/sklearn/model_selection/_split.py:676: UserWarning: The least populated class in y has only 1 members, which is less than n_splits=10.\n",
      "  warnings.warn(\n",
      "/Users/stepan5dol/opt/anaconda3/lib/python3.9/site-packages/sklearn/model_selection/_split.py:676: UserWarning: The least populated class in y has only 1 members, which is less than n_splits=10.\n",
      "  warnings.warn(\n",
      "/Users/stepan5dol/opt/anaconda3/lib/python3.9/site-packages/sklearn/model_selection/_split.py:676: UserWarning: The least populated class in y has only 1 members, which is less than n_splits=10.\n",
      "  warnings.warn(\n",
      "/Users/stepan5dol/opt/anaconda3/lib/python3.9/site-packages/sklearn/model_selection/_split.py:676: UserWarning: The least populated class in y has only 1 members, which is less than n_splits=10.\n",
      "  warnings.warn(\n",
      "/Users/stepan5dol/opt/anaconda3/lib/python3.9/site-packages/sklearn/model_selection/_split.py:676: UserWarning: The least populated class in y has only 1 members, which is less than n_splits=10.\n",
      "  warnings.warn(\n",
      "/Users/stepan5dol/opt/anaconda3/lib/python3.9/site-packages/sklearn/model_selection/_split.py:676: UserWarning: The least populated class in y has only 1 members, which is less than n_splits=10.\n",
      "  warnings.warn(\n",
      "/Users/stepan5dol/opt/anaconda3/lib/python3.9/site-packages/sklearn/model_selection/_split.py:676: UserWarning: The least populated class in y has only 1 members, which is less than n_splits=10.\n",
      "  warnings.warn(\n",
      "/Users/stepan5dol/opt/anaconda3/lib/python3.9/site-packages/sklearn/model_selection/_split.py:676: UserWarning: The least populated class in y has only 1 members, which is less than n_splits=10.\n",
      "  warnings.warn(\n"
     ]
    },
    {
     "data": {
      "text/html": [
       "<style type=\"text/css\">\n",
       "#T_5a262_row3_col0, #T_5a262_row3_col1 {\n",
       "  background-color: lightgreen;\n",
       "}\n",
       "</style>\n",
       "<table id=\"T_5a262\">\n",
       "  <thead>\n",
       "    <tr>\n",
       "      <th class=\"blank level0\" >&nbsp;</th>\n",
       "      <th id=\"T_5a262_level0_col0\" class=\"col_heading level0 col0\" >Name</th>\n",
       "      <th id=\"T_5a262_level0_col1\" class=\"col_heading level0 col1\" >Result_train</th>\n",
       "    </tr>\n",
       "  </thead>\n",
       "  <tbody>\n",
       "    <tr>\n",
       "      <th id=\"T_5a262_level0_row0\" class=\"row_heading level0 row0\" >0</th>\n",
       "      <td id=\"T_5a262_row0_col0\" class=\"data row0 col0\" >RandomForest</td>\n",
       "      <td id=\"T_5a262_row0_col1\" class=\"data row0 col1\" >6.418260</td>\n",
       "    </tr>\n",
       "    <tr>\n",
       "      <th id=\"T_5a262_level0_row1\" class=\"row_heading level0 row1\" >1</th>\n",
       "      <td id=\"T_5a262_row1_col0\" class=\"data row1 col0\" >LGBMR</td>\n",
       "      <td id=\"T_5a262_row1_col1\" class=\"data row1 col1\" >6.244577</td>\n",
       "    </tr>\n",
       "    <tr>\n",
       "      <th id=\"T_5a262_level0_row2\" class=\"row_heading level0 row2\" >2</th>\n",
       "      <td id=\"T_5a262_row2_col0\" class=\"data row2 col0\" >XGBR</td>\n",
       "      <td id=\"T_5a262_row2_col1\" class=\"data row2 col1\" >6.228111</td>\n",
       "    </tr>\n",
       "    <tr>\n",
       "      <th id=\"T_5a262_level0_row3\" class=\"row_heading level0 row3\" >3</th>\n",
       "      <td id=\"T_5a262_row3_col0\" class=\"data row3 col0\" >Catboost</td>\n",
       "      <td id=\"T_5a262_row3_col1\" class=\"data row3 col1\" >6.149789</td>\n",
       "    </tr>\n",
       "  </tbody>\n",
       "</table>\n"
      ],
      "text/plain": [
       "<pandas.io.formats.style.Styler at 0x7fe291921d60>"
      ]
     },
     "execution_count": 99,
     "metadata": {},
     "output_type": "execute_result"
    }
   ],
   "source": [
    "forest = pipeline_1(model_forest)\n",
    "lgbr = pipeline_1(model_lgb)\n",
    "xgbr = pipeline_1(model_xgb)\n",
    "cat = pipeline_1(model_cat)\n",
    "\n",
    "table = pd.DataFrame({'Name': ['RandomForest', 'LGBMR', 'XGBR', 'Catboost'],\n",
    "                      'Result_train': [forest, lgbr, xgbr, cat]})\n",
    "table.style.highlight_min(color = 'lightgreen')"
   ]
  },
  {
   "cell_type": "markdown",
   "id": "d9acde65",
   "metadata": {},
   "source": [
    "<b> Лучший разультат как на тренировочной выборке с кросс-валидацией, так и на тестовой, показала модель CatBoost. "
   ]
  },
  {
   "cell_type": "code",
   "execution_count": 100,
   "id": "636c0c2f",
   "metadata": {},
   "outputs": [
    {
     "data": {
      "text/plain": [
       "'Результат CatBoost на тестовой выборке: 5.6670247702758365'"
      ]
     },
     "metadata": {},
     "output_type": "display_data"
    }
   ],
   "source": [
    "#тест CatBoost\n",
    "pipe = Pipeline([\n",
    "    ('scaler', StandardScaler()),\n",
    "    ('reg', CatBoostRegressor(verbose=False,\n",
    "                              max_depth = 7,\n",
    "                              learning_rate = 0.01))\n",
    "])\n",
    "pipe.fit(features_train, target_train)\n",
    "test = pipe.predict(features_test)\n",
    "display(f'Результат CatBoost на тестовой выборке: {mean_absolute_error(target_test, test)}')"
   ]
  },
  {
   "cell_type": "markdown",
   "id": "794da4b9",
   "metadata": {},
   "source": [
    "**Catboost показал значительный результат на тестовой выборке.**"
   ]
  },
  {
   "cell_type": "code",
   "execution_count": 101,
   "id": "45a39090",
   "metadata": {},
   "outputs": [
    {
     "data": {
      "image/png": "[encoded data removed]",
      "text/plain": [
       "<Figure size 921.6x633.6 with 1 Axes>"
      ]
     },
     "metadata": {
      "needs_background": "light"
     },
     "output_type": "display_data"
    }
   ],
   "source": [
    "#RandomForest\n",
    "importances = model_forest.feature_importances_\n",
    "forest_importances = pd.Series(importances, index=features_train.columns )\n",
    "std = np.std([tree.feature_importances_ for tree in model_forest.estimators_], axis=0)\n",
    "\n",
    "fig, ax = plt.subplots()\n",
    "forest_importances.sort_values(ascending=False).plot(kind='barh', yerr=std, ax=ax)\n",
    "ax.set_title(\"Важность признаков RandomForest (MDI)\")\n",
    "ax.set_ylabel(\"Mean decrease in impurity\")\n",
    "fig.tight_layout()"
   ]
  },
  {
   "cell_type": "code",
   "execution_count": 102,
   "id": "6658dd8e",
   "metadata": {},
   "outputs": [
    {
     "data": {
      "image/png": "[encoded data removed]",
      "text/plain": [
       "<Figure size 921.6x633.6 with 1 Axes>"
      ]
     },
     "metadata": {
      "needs_background": "light"
     },
     "output_type": "display_data"
    }
   ],
   "source": [
    "#lgbm\n",
    "importance = pd.DataFrame(model_lgb.feature_importances_, index=features_train.columns)\n",
    "importance.sort_values(by=[0], ascending=False).plot(kind='barh')\n",
    "plt.title('Важность признаков после обучения LGBMRegressor')\n",
    "plt.show()"
   ]
  },
  {
   "cell_type": "code",
   "execution_count": 103,
   "id": "cdcad762",
   "metadata": {},
   "outputs": [
    {
     "data": {
      "image/png": "[encoded data removed]",
      "text/plain": [
       "<Figure size 921.6x633.6 with 1 Axes>"
      ]
     },
     "metadata": {
      "needs_background": "light"
     },
     "output_type": "display_data"
    }
   ],
   "source": [
    "#xgboost\n",
    "feature_important = model_xgb.get_booster().get_score(importance_type='weight')\n",
    "keys = features_train.columns       #list(feature_important.keys())\n",
    "values = list(feature_important.values())\n",
    "\n",
    "data_1 = pd.DataFrame(data=values, index=keys, columns=[\"score\"]).sort_values(by = \"score\", ascending=False)\n",
    "data_1.plot(kind='barh')\n",
    "plt.title('Важность признаков при обучении XGBoost')\n",
    "plt.show()"
   ]
  },
  {
   "cell_type": "code",
   "execution_count": 134,
   "id": "00549ef8",
   "metadata": {},
   "outputs": [
    {
     "data": {
      "image/png": "[encoded data removed]",
      "text/plain": [
       "<Figure size 1008x504 with 1 Axes>"
      ]
     },
     "metadata": {
      "needs_background": "light"
     },
     "output_type": "display_data"
    }
   ],
   "source": [
    "#Catboost\n",
    "regressor = pipe.named_steps['reg']\n",
    "importances = regressor.get_feature_importance()\n",
    "column_names = features_train.columns\n",
    "feature_importances = pd.DataFrame(importances, \n",
    "                                   column_names, \n",
    "                                   columns=['Важность']).sort_values(by='Важность',\n",
    "                                                                     ascending=False)\n",
    "feature_importances.plot(kind='barh', figsize=[14,7], title='mean feature importances')\n",
    "plt.show()"
   ]
  },
  {
   "cell_type": "raw",
   "id": "0dab7991",
   "metadata": {},
   "source": [
    "# получим важность показателей из обученной модели\n",
    "features_imp = pd.Series(best_model.get_feature_importance(), x_scaled_train.columns)\n",
    "\n",
    "# дополним таблицу важности парето анализом и маркером важности переменных\n",
    "# маркер важности проставляется согласно переменной pareto_cut\n",
    "pareto_cut=80\n",
    "features_imp = features_imp.sort_values(ascending=False)\n",
    "features_imp = pd.DataFrame({'feature':features_imp.index, \n",
    "                             'importance':features_imp.values, \n",
    "                             'pareto': 0, \n",
    "                             'is_important': False}).set_index('feature')\n",
    "\n",
    "# добавим парето анализ\n",
    "for i in range(len(features_imp)):\n",
    "    features_imp.iloc[i, 1] = features_imp.iloc[i, 0] + features_imp.iloc[i-1, 1]\n",
    "    if features_imp.iloc[i, 1] <= pareto_cut: features_imp.iloc[i, 2] = True\n",
    "\n",
    "# график\n",
    "fig, ax = plt.subplots(figsize=(15,5))\n",
    "features_imp['importance'].plot(kind='bar', ax=ax)\n",
    "ax1=ax.twinx()\n",
    "plt.ylim(0, 110)\n",
    "features_imp['pareto'].plot(kind='line', color='red', marker='o', ax=ax1)\n",
    "ax.set_title(\"Важность признаков\")\n",
    "ax.set_ylabel('Важность, %')\n",
    "fig.tight_layout()\n",
    "\n",
    "plt.show()\n",
    "\n",
    "display(features_imp.loc[features_imp['is_important']])"
   ]
  },
  {
   "cell_type": "markdown",
   "id": "540e555e",
   "metadata": {},
   "source": [
    "permutation_importance из sklearn и возьмем оттуда средние значения importance \n",
    "\n",
    "importances = permutation_importance(model, features_train, target_train, scoring='neg_mean_absolute_error')\n",
    "\n",
    "importances = pd.Series(index=df_processed.columns[1:], data=importances.importances_mean)\n",
    "importances\n",
    "\n",
    "importances.plot(kind='bar', figsize=[14,7], title='mean feature importances')\n",
    "plt.show()"
   ]
  },
  {
   "cell_type": "raw",
   "id": "efdcb582",
   "metadata": {},
   "source": [
    "try:\n",
    "    columns_name = model_CB.best_estimator_.named_steps['название шага'].feature_names_in_\n",
    "except:\n",
    "    columns_name = features.columns.tolist()\n",
    "    \n",
    "regression = model_CB.best_estimator_.named_steps['regression']\n",
    "feature_imp=pd.DataFrame(sorted(zip(regression.feature_importances_,columns_name)), columns=['Значение коэффициента','Признаки'])\n",
    "plt.figure(figsize=(10, 8))\n",
    "sns.barplot(x=\"Значение коэффициента\", y=\"Признаки\", data=feature_imp.sort_values(by=\"Значение коэффициента\", ascending=False).iloc[:50])\n",
    "plt.title('CatBoost Наиболее важные признаки')\n",
    "plt.tight_layout()\n",
    "plt.show()"
   ]
  },
  {
   "cell_type": "code",
   "execution_count": null,
   "id": "bd53a4b3",
   "metadata": {},
   "outputs": [],
   "source": []
  },
  {
   "cell_type": "code",
   "execution_count": null,
   "id": "92fcaa0e",
   "metadata": {},
   "outputs": [],
   "source": []
  },
  {
   "cell_type": "code",
   "execution_count": null,
   "id": "f454a836",
   "metadata": {},
   "outputs": [],
   "source": []
  },
  {
   "cell_type": "markdown",
   "id": "4cee81fe",
   "metadata": {},
   "source": [
    "<h3> Вывод </h3>\n",
    "После проведения исследовательского анализа данных были обучены RandomForest, XGBoost, LightGBM, Catboost и Нейросеть с помощью библиотеки Keras. Все модели, кроме последней, достигли целевой метрики как на валидационной, так и на тренировочной выборке. \n",
    "\n",
    "Наиболее точной оказалась модель `CatBoost`, однако по соотношению времени обучения и результата первое место занимает `LightGBM`. \n",
    "    \n",
    "Наиболее важными для результата признаками являются `Энергия`, затрачиваемая на разогрев содержимого котла, `Время нагрева` котла и `Начальная температура` содержимого."
   ]
  },
  {
   "cell_type": "markdown",
   "id": "f8aa9989",
   "metadata": {},
   "source": [
    "<h1> Отчет </h1>\n",
    "<h2> Какие пункты плана были выполнены, а какие — нет. Почему? </h2>\n",
    "\n",
    "**`Все пункты плана были выполнены.`**\n",
    "\n",
    "    1. Проведен Анализ данных.\n",
    "    2. Сформированы и обработаны признаки.\n",
    "    3. Обучены несколько моделей машинного обучения и выбрана лучшая.\n",
    "    4. Признаки проанализированы на предмет значимости для предсказания конечного результата.\n",
    "    \n",
    "<h2> Какие трудности возникли и как они были преодолелены? </h2>\n",
    "\n",
    "**`Трудности со стороны задания:`**\n",
    "\n",
    "    1. Не определено, какая именно температура является целевой.\n",
    "    2. Не указаны допустимые границы признаков (в частности – температуры).\n",
    "    3. Не описана переменная Газ 1 и в целом таблица с подачей инертных газов.\n",
    "    \n",
    "***`Решение`: консультация с тимлидом и получение ответов на перечисленные вопросы.***\n",
    "\n",
    "**Трудности со стороны признаков:**\n",
    "\n",
    "    1. Признаки разделены на несколько датафреймов.\n",
    "    2. Не все признаки оказались полезными.\n",
    "    3. Значительное количество пропусков.\n",
    "    \n",
    "***`Решение`: Выделение ключа, по которому можно создать сводную таблицу. Создание признаков из уже имеющихся, которые могли бы коррелировать. Заполнение пропусков возможными значениями.***\n",
    "\n",
    "**`Трудности со стороны обучения:`**\n",
    "\n",
    "    1. Для создания соадекватной данным модели на основе нейронной сети необходим бóльший вычислительный ресурс.\n",
    "    \n",
    "***`Решение`: Пока что отсутсвует, так как модели на основе градиентного бустинга с задачей справляются.***\n",
    "\n",
    "<h2> Какие ключевые шаги в решении задачи были выделены? </h2>\n",
    "\n",
    "    1. Анализ данных – для правильного выделения признаков и обработки.\n",
    "    2. Обработка данны и обучение нескольких моделей – для выделения лучшей модели.\n",
    "    3. Анализ важности признаков – для последующего анализа коллегами и решения целевой задачи всей группы – снижения энергопотребления на предприятии.\n",
    "    4. Отчет – для объяснения проделанной работы и передачи полученных данных следующей группе. \n",
    "    \n",
    "<h2>Итоговая модель и её качество </h2>\n",
    "\n",
    "`Модель` : CatboostRegressor\n",
    "\n",
    "`MAE на тестовой выборке` : 5.67\n",
    "\n",
    "`Параметры` : max_depth = 7, learning_rate = 0.01\n",
    "\n",
    "<h2>Признаки, использованные в ходе обучения:</h2>\n",
    "\n",
    "    1. Начальная температура – не изменялась\n",
    "    2. Энергия – расчитана по формуле\n",
    "    3. Время нагрева – расчитана как разница между началом и концем нагрева\n",
    "    4. Газ 1 – не изменялся\n",
    "    5. Wire 1 – пропуски заполнены нулями\n",
    "    6. Wire 2 – пропуски заполнены нулями\n",
    "    7. Bulk 1 – пропуски заполнены нулями\n",
    "    8. Bulk 3 – пропуски заполнены нулями\n",
    "    9. Bulk 4 – пропуски заполнены нулями\n",
    "    10. Bulk 6 – пропуски заполнены нулями\n",
    "    11. Bulk 10 – пропуски заполнены нулями\n",
    "    12. Bulk 11\t– пропуски заполнены нулями\n",
    "    13. Bulk 12\t– пропуски заполнены нулями\n",
    "    14. Bulk 14 – пропуски заполнены нулями\n",
    "    15. Bulk 15 – пропуски заполнены нулями\n",
    "    \n",
    "Все признаки были стандартизованы с помощью `StandardScaler()`\n",
    "\n",
    "<h2>Подобраннные гиперпараметры лучшей модели: </h2>\n",
    "\n",
    "`max_depth` = 7\n",
    "\n",
    "`learning_rate` = 0.01\n",
    "\n",
    "`random_state` = 100423\n",
    "\n",
    "<h2>Рекомендации для улучшения модели</h2>\n",
    "\n",
    "    1. Увеличить датасет.\n",
    "    2. Попробовать обучить нейросеть в условиях большей производительности.\n",
    "    3. Попробовать подобрать более точные параметры (однако не допустить переобучения)."
   ]
  },
  {
   "cell_type": "code",
   "execution_count": null,
   "id": "14ebf259",
   "metadata": {},
   "outputs": [],
   "source": []
  }
 ],
 "metadata": {
  "ExecuteTimeLog": [
   {
    "duration": 1098,
    "start_time": "2023-04-11T15:47:00.626Z"
   },
   {
    "duration": 2,
    "start_time": "2023-04-11T15:47:01.726Z"
   },
   {
    "duration": 128,
    "start_time": "2023-04-11T15:47:02.071Z"
   },
   {
    "duration": 211,
    "start_time": "2023-04-11T15:47:34.728Z"
   },
   {
    "duration": 14,
    "start_time": "2023-04-11T15:47:37.896Z"
   },
   {
    "duration": 258,
    "start_time": "2023-04-11T15:47:52.855Z"
   },
   {
    "duration": 524,
    "start_time": "2023-04-11T15:47:54.269Z"
   },
   {
    "duration": 6,
    "start_time": "2023-04-11T15:47:55.396Z"
   },
   {
    "duration": 15,
    "start_time": "2023-04-11T15:47:56.098Z"
   },
   {
    "duration": 25,
    "start_time": "2023-04-11T15:47:56.670Z"
   },
   {
    "duration": 297,
    "start_time": "2023-04-11T15:47:57.342Z"
   },
   {
    "duration": 65,
    "start_time": "2023-04-13T11:02:40.408Z"
   },
   {
    "duration": 1426,
    "start_time": "2023-04-13T11:02:59.152Z"
   },
   {
    "duration": 4,
    "start_time": "2023-04-13T11:03:00.580Z"
   },
   {
    "duration": 3,
    "start_time": "2023-04-13T11:03:02.749Z"
   },
   {
    "duration": 129,
    "start_time": "2023-04-13T11:03:04.294Z"
   },
   {
    "duration": 207,
    "start_time": "2023-04-13T11:04:21.398Z"
   },
   {
    "duration": 76,
    "start_time": "2023-04-13T11:04:52.993Z"
   },
   {
    "duration": 19,
    "start_time": "2023-04-13T11:05:23.490Z"
   },
   {
    "duration": 132,
    "start_time": "2023-04-13T11:05:31.528Z"
   },
   {
    "duration": 19,
    "start_time": "2023-04-13T11:05:45.906Z"
   },
   {
    "duration": 106,
    "start_time": "2023-04-13T11:06:10.490Z"
   },
   {
    "duration": 90,
    "start_time": "2023-04-13T11:06:40.909Z"
   },
   {
    "duration": 87,
    "start_time": "2023-04-13T11:07:23.600Z"
   },
   {
    "duration": 59,
    "start_time": "2023-04-13T11:07:57.047Z"
   },
   {
    "duration": 19,
    "start_time": "2023-04-13T11:08:13.382Z"
   },
   {
    "duration": 82,
    "start_time": "2023-04-13T11:08:19.318Z"
   },
   {
    "duration": 3,
    "start_time": "2023-04-13T11:08:32.325Z"
   },
   {
    "duration": 6,
    "start_time": "2023-04-13T11:08:32.330Z"
   },
   {
    "duration": 88,
    "start_time": "2023-04-13T11:08:32.337Z"
   },
   {
    "duration": 136,
    "start_time": "2023-04-13T11:08:32.427Z"
   },
   {
    "duration": 593,
    "start_time": "2023-04-13T11:08:32.565Z"
   },
   {
    "duration": 6,
    "start_time": "2023-04-13T11:08:33.160Z"
   },
   {
    "duration": 64,
    "start_time": "2023-04-13T11:08:33.167Z"
   },
   {
    "duration": 64,
    "start_time": "2023-04-13T11:08:33.232Z"
   },
   {
    "duration": 378,
    "start_time": "2023-04-13T11:08:33.298Z"
   },
   {
    "duration": 62,
    "start_time": "2023-04-13T11:08:33.679Z"
   },
   {
    "duration": 127,
    "start_time": "2023-04-13T11:08:33.743Z"
   },
   {
    "duration": 51,
    "start_time": "2023-04-13T11:08:33.871Z"
   },
   {
    "duration": 9,
    "start_time": "2023-04-13T11:08:33.925Z"
   },
   {
    "duration": 317,
    "start_time": "2023-04-13T11:08:33.935Z"
   },
   {
    "duration": 221,
    "start_time": "2023-04-13T11:08:34.254Z"
   },
   {
    "duration": 147,
    "start_time": "2023-04-13T11:08:34.477Z"
   },
   {
    "duration": 63,
    "start_time": "2023-04-13T11:08:34.626Z"
   },
   {
    "duration": 57,
    "start_time": "2023-04-13T11:08:34.691Z"
   },
   {
    "duration": 266,
    "start_time": "2023-04-13T11:08:34.749Z"
   },
   {
    "duration": 4,
    "start_time": "2023-04-13T11:08:35.017Z"
   },
   {
    "duration": 315,
    "start_time": "2023-04-13T11:08:35.023Z"
   },
   {
    "duration": 74,
    "start_time": "2023-04-13T11:09:48.624Z"
   },
   {
    "duration": 12,
    "start_time": "2023-04-13T11:10:14.955Z"
   },
   {
    "duration": 13,
    "start_time": "2023-04-13T11:12:52.392Z"
   },
   {
    "duration": 21,
    "start_time": "2023-04-13T11:13:24.378Z"
   },
   {
    "duration": 14,
    "start_time": "2023-04-13T11:13:38.843Z"
   },
   {
    "duration": 18,
    "start_time": "2023-04-13T11:20:21.588Z"
   },
   {
    "duration": 15,
    "start_time": "2023-04-13T11:21:02.009Z"
   },
   {
    "duration": 1340,
    "start_time": "2023-04-13T11:22:02.991Z"
   },
   {
    "duration": 20,
    "start_time": "2023-04-13T11:23:38.894Z"
   },
   {
    "duration": 19,
    "start_time": "2023-04-13T11:24:23.310Z"
   },
   {
    "duration": 10,
    "start_time": "2023-04-13T11:25:03.119Z"
   },
   {
    "duration": 878,
    "start_time": "2023-04-13T11:29:03.925Z"
   },
   {
    "duration": 1263,
    "start_time": "2023-04-13T11:30:12.059Z"
   },
   {
    "duration": 1287,
    "start_time": "2023-04-13T11:30:27.366Z"
   },
   {
    "duration": 1333,
    "start_time": "2023-04-13T11:30:53.902Z"
   },
   {
    "duration": 13,
    "start_time": "2023-04-13T11:31:29.004Z"
   },
   {
    "duration": 1391,
    "start_time": "2023-04-13T11:32:14.279Z"
   },
   {
    "duration": 10,
    "start_time": "2023-04-13T11:33:14.859Z"
   },
   {
    "duration": 12,
    "start_time": "2023-04-13T11:33:32.652Z"
   },
   {
    "duration": 14,
    "start_time": "2023-04-13T11:36:03.010Z"
   },
   {
    "duration": 23,
    "start_time": "2023-04-13T11:36:06.006Z"
   },
   {
    "duration": 19,
    "start_time": "2023-04-13T11:48:35.104Z"
   },
   {
    "duration": 26,
    "start_time": "2023-04-13T11:49:29.959Z"
   },
   {
    "duration": 2025,
    "start_time": "2023-04-13T11:50:01.906Z"
   },
   {
    "duration": 15,
    "start_time": "2023-04-13T11:50:11.264Z"
   },
   {
    "duration": 88,
    "start_time": "2023-04-13T11:50:24.054Z"
   },
   {
    "duration": 24,
    "start_time": "2023-04-13T11:50:31.257Z"
   },
   {
    "duration": 18,
    "start_time": "2023-04-13T11:51:03.633Z"
   },
   {
    "duration": 22,
    "start_time": "2023-04-13T11:51:22.167Z"
   },
   {
    "duration": 31,
    "start_time": "2023-04-13T11:51:37.720Z"
   },
   {
    "duration": 21,
    "start_time": "2023-04-13T11:58:04.288Z"
   },
   {
    "duration": 26,
    "start_time": "2023-04-13T11:59:08.190Z"
   },
   {
    "duration": 28,
    "start_time": "2023-04-13T12:00:37.881Z"
   },
   {
    "duration": 23,
    "start_time": "2023-04-13T12:00:48.252Z"
   },
   {
    "duration": 20,
    "start_time": "2023-04-13T12:01:10.276Z"
   },
   {
    "duration": 78,
    "start_time": "2023-04-13T12:01:14.863Z"
   },
   {
    "duration": 23,
    "start_time": "2023-04-13T12:01:21.405Z"
   },
   {
    "duration": 23,
    "start_time": "2023-04-13T12:05:12.866Z"
   },
   {
    "duration": 105,
    "start_time": "2023-04-13T13:43:56.984Z"
   },
   {
    "duration": 4279,
    "start_time": "2023-04-13T13:44:04.108Z"
   },
   {
    "duration": 5,
    "start_time": "2023-04-13T13:44:08.389Z"
   },
   {
    "duration": 332,
    "start_time": "2023-04-13T13:44:08.396Z"
   },
   {
    "duration": 658,
    "start_time": "2023-04-13T13:44:08.730Z"
   },
   {
    "duration": 688,
    "start_time": "2023-04-13T13:44:09.391Z"
   },
   {
    "duration": 7,
    "start_time": "2023-04-13T13:44:10.093Z"
   },
   {
    "duration": 162,
    "start_time": "2023-04-13T13:44:10.102Z"
   },
   {
    "duration": 82,
    "start_time": "2023-04-13T13:44:10.265Z"
   },
   {
    "duration": 409,
    "start_time": "2023-04-13T13:44:10.352Z"
   },
   {
    "duration": 73,
    "start_time": "2023-04-13T13:44:10.763Z"
   },
   {
    "duration": 165,
    "start_time": "2023-04-13T13:44:10.838Z"
   },
   {
    "duration": 86,
    "start_time": "2023-04-13T13:44:11.005Z"
   },
   {
    "duration": 14,
    "start_time": "2023-04-13T13:44:11.104Z"
   },
   {
    "duration": 356,
    "start_time": "2023-04-13T13:44:11.122Z"
   },
   {
    "duration": 224,
    "start_time": "2023-04-13T13:44:11.483Z"
   },
   {
    "duration": 174,
    "start_time": "2023-04-13T13:44:11.709Z"
   },
   {
    "duration": 82,
    "start_time": "2023-04-13T13:44:11.886Z"
   },
   {
    "duration": 46,
    "start_time": "2023-04-13T13:44:11.971Z"
   },
   {
    "duration": 301,
    "start_time": "2023-04-13T13:44:12.018Z"
   },
   {
    "duration": 4,
    "start_time": "2023-04-13T13:44:12.321Z"
   },
   {
    "duration": 449,
    "start_time": "2023-04-13T13:44:12.326Z"
   },
   {
    "duration": 17,
    "start_time": "2023-04-13T13:44:12.784Z"
   },
   {
    "duration": 23,
    "start_time": "2023-04-13T13:44:12.803Z"
   },
   {
    "duration": 29,
    "start_time": "2023-04-13T13:44:12.829Z"
   },
   {
    "duration": 15,
    "start_time": "2023-04-13T13:44:45.784Z"
   },
   {
    "duration": 32,
    "start_time": "2023-04-13T13:45:03.684Z"
   },
   {
    "duration": 19,
    "start_time": "2023-04-13T13:45:09.594Z"
   },
   {
    "duration": 19,
    "start_time": "2023-04-13T13:45:32.921Z"
   },
   {
    "duration": 46,
    "start_time": "2023-04-13T13:45:36.730Z"
   },
   {
    "duration": 36,
    "start_time": "2023-04-13T13:45:40.565Z"
   },
   {
    "duration": 11,
    "start_time": "2023-04-13T13:45:44.326Z"
   },
   {
    "duration": 27,
    "start_time": "2023-04-13T13:45:47.781Z"
   },
   {
    "duration": 16,
    "start_time": "2023-04-13T13:45:50.608Z"
   },
   {
    "duration": 4,
    "start_time": "2023-04-13T13:45:58.034Z"
   },
   {
    "duration": 51,
    "start_time": "2023-04-13T13:45:58.041Z"
   },
   {
    "duration": 139,
    "start_time": "2023-04-13T13:45:58.094Z"
   },
   {
    "duration": 265,
    "start_time": "2023-04-13T13:45:58.235Z"
   },
   {
    "duration": 664,
    "start_time": "2023-04-13T13:45:58.503Z"
   },
   {
    "duration": 5,
    "start_time": "2023-04-13T13:45:59.168Z"
   },
   {
    "duration": 145,
    "start_time": "2023-04-13T13:45:59.174Z"
   },
   {
    "duration": 67,
    "start_time": "2023-04-13T13:45:59.321Z"
   },
   {
    "duration": 461,
    "start_time": "2023-04-13T13:45:59.395Z"
   },
   {
    "duration": 83,
    "start_time": "2023-04-13T13:45:59.857Z"
   },
   {
    "duration": 144,
    "start_time": "2023-04-13T13:45:59.943Z"
   },
   {
    "duration": 50,
    "start_time": "2023-04-13T13:46:00.090Z"
   },
   {
    "duration": 19,
    "start_time": "2023-04-13T13:46:00.142Z"
   },
   {
    "duration": 348,
    "start_time": "2023-04-13T13:46:00.165Z"
   },
   {
    "duration": 172,
    "start_time": "2023-04-13T13:46:00.515Z"
   },
   {
    "duration": 194,
    "start_time": "2023-04-13T13:46:00.696Z"
   },
   {
    "duration": 85,
    "start_time": "2023-04-13T13:46:00.892Z"
   },
   {
    "duration": 64,
    "start_time": "2023-04-13T13:46:00.979Z"
   },
   {
    "duration": 398,
    "start_time": "2023-04-13T13:46:01.045Z"
   },
   {
    "duration": 25,
    "start_time": "2023-04-13T13:46:01.450Z"
   },
   {
    "duration": 485,
    "start_time": "2023-04-13T13:46:01.489Z"
   },
   {
    "duration": 11,
    "start_time": "2023-04-13T13:46:01.980Z"
   },
   {
    "duration": 106,
    "start_time": "2023-04-13T13:46:01.992Z"
   },
   {
    "duration": 72,
    "start_time": "2023-04-13T13:46:02.100Z"
   },
   {
    "duration": 15,
    "start_time": "2023-04-13T13:46:54.725Z"
   },
   {
    "duration": 15,
    "start_time": "2023-04-13T13:47:04.507Z"
   },
   {
    "duration": 18,
    "start_time": "2023-04-13T13:47:10.191Z"
   },
   {
    "duration": 145,
    "start_time": "2023-04-13T13:47:33.379Z"
   },
   {
    "duration": 28,
    "start_time": "2023-04-13T13:47:38.390Z"
   },
   {
    "duration": 21,
    "start_time": "2023-04-13T13:48:01.416Z"
   },
   {
    "duration": 29,
    "start_time": "2023-04-13T13:48:56.277Z"
   },
   {
    "duration": 26,
    "start_time": "2023-04-13T13:49:24.193Z"
   },
   {
    "duration": 17,
    "start_time": "2023-04-13T13:49:36.181Z"
   },
   {
    "duration": 32,
    "start_time": "2023-04-13T13:49:55.834Z"
   },
   {
    "duration": 21,
    "start_time": "2023-04-13T13:50:06.580Z"
   },
   {
    "duration": 27,
    "start_time": "2023-04-13T13:50:10.580Z"
   },
   {
    "duration": 23,
    "start_time": "2023-04-13T13:51:39.179Z"
   },
   {
    "duration": 26,
    "start_time": "2023-04-13T13:51:55.584Z"
   },
   {
    "duration": 22,
    "start_time": "2023-04-13T13:53:37.946Z"
   },
   {
    "duration": 54,
    "start_time": "2023-04-13T17:08:56.732Z"
   },
   {
    "duration": 14,
    "start_time": "2023-04-13T17:09:02.138Z"
   },
   {
    "duration": 1226,
    "start_time": "2023-04-13T17:09:08.304Z"
   },
   {
    "duration": 6,
    "start_time": "2023-04-13T17:09:09.532Z"
   },
   {
    "duration": 150,
    "start_time": "2023-04-13T17:09:09.546Z"
   },
   {
    "duration": 544,
    "start_time": "2023-04-13T17:09:09.697Z"
   },
   {
    "duration": 599,
    "start_time": "2023-04-13T17:09:10.244Z"
   },
   {
    "duration": 5,
    "start_time": "2023-04-13T17:09:10.845Z"
   },
   {
    "duration": 83,
    "start_time": "2023-04-13T17:09:10.852Z"
   },
   {
    "duration": 54,
    "start_time": "2023-04-13T17:09:10.942Z"
   },
   {
    "duration": 341,
    "start_time": "2023-04-13T17:09:10.998Z"
   },
   {
    "duration": 54,
    "start_time": "2023-04-13T17:09:11.342Z"
   },
   {
    "duration": 116,
    "start_time": "2023-04-13T17:09:11.397Z"
   },
   {
    "duration": 58,
    "start_time": "2023-04-13T17:09:11.515Z"
   },
   {
    "duration": 7,
    "start_time": "2023-04-13T17:09:11.575Z"
   },
   {
    "duration": 295,
    "start_time": "2023-04-13T17:09:11.584Z"
   },
   {
    "duration": 191,
    "start_time": "2023-04-13T17:09:11.881Z"
   },
   {
    "duration": 117,
    "start_time": "2023-04-13T17:09:12.073Z"
   },
   {
    "duration": 63,
    "start_time": "2023-04-13T17:09:12.191Z"
   },
   {
    "duration": 43,
    "start_time": "2023-04-13T17:09:12.255Z"
   },
   {
    "duration": 284,
    "start_time": "2023-04-13T17:09:12.299Z"
   },
   {
    "duration": 6,
    "start_time": "2023-04-13T17:09:12.584Z"
   },
   {
    "duration": 366,
    "start_time": "2023-04-13T17:09:12.591Z"
   },
   {
    "duration": 12,
    "start_time": "2023-04-13T17:09:12.962Z"
   },
   {
    "duration": 53,
    "start_time": "2023-04-13T17:09:12.976Z"
   },
   {
    "duration": 33,
    "start_time": "2023-04-13T17:09:13.030Z"
   },
   {
    "duration": 13,
    "start_time": "2023-04-13T17:09:13.065Z"
   },
   {
    "duration": 41,
    "start_time": "2023-04-13T17:09:13.079Z"
   },
   {
    "duration": 12,
    "start_time": "2023-04-13T17:09:45.776Z"
   },
   {
    "duration": 12,
    "start_time": "2023-04-13T17:09:54.599Z"
   },
   {
    "duration": 22,
    "start_time": "2023-04-13T17:11:06.352Z"
   },
   {
    "duration": 20,
    "start_time": "2023-04-13T17:11:35.973Z"
   },
   {
    "duration": 83,
    "start_time": "2023-04-13T17:12:59.434Z"
   },
   {
    "duration": 24,
    "start_time": "2023-04-13T17:13:57.881Z"
   },
   {
    "duration": 24,
    "start_time": "2023-04-13T17:14:38.924Z"
   },
   {
    "duration": 35,
    "start_time": "2023-04-13T17:15:00.627Z"
   },
   {
    "duration": 24,
    "start_time": "2023-04-13T17:22:13.703Z"
   },
   {
    "duration": 26,
    "start_time": "2023-04-13T17:23:33.685Z"
   },
   {
    "duration": 22,
    "start_time": "2023-04-13T17:25:21.270Z"
   },
   {
    "duration": 24,
    "start_time": "2023-04-13T17:25:41.910Z"
   },
   {
    "duration": 24,
    "start_time": "2023-04-13T17:26:14.003Z"
   },
   {
    "duration": 10,
    "start_time": "2023-04-13T17:31:43.421Z"
   },
   {
    "duration": 11,
    "start_time": "2023-04-13T17:32:05.518Z"
   },
   {
    "duration": 13,
    "start_time": "2023-04-13T17:32:12.780Z"
   },
   {
    "duration": 25,
    "start_time": "2023-04-13T17:36:13.845Z"
   },
   {
    "duration": 25,
    "start_time": "2023-04-13T18:37:05.954Z"
   },
   {
    "duration": 22,
    "start_time": "2023-04-13T18:37:49.613Z"
   },
   {
    "duration": 22,
    "start_time": "2023-04-13T18:40:12.134Z"
   },
   {
    "duration": 17,
    "start_time": "2023-04-13T18:40:17.097Z"
   },
   {
    "duration": 10,
    "start_time": "2023-04-13T18:40:22.514Z"
   },
   {
    "duration": 8,
    "start_time": "2023-04-13T18:40:51.416Z"
   },
   {
    "duration": 21,
    "start_time": "2023-04-13T18:40:58.303Z"
   },
   {
    "duration": 33,
    "start_time": "2023-04-13T18:41:07.818Z"
   },
   {
    "duration": 4,
    "start_time": "2023-04-13T18:41:11.298Z"
   },
   {
    "duration": 5,
    "start_time": "2023-04-13T18:41:11.304Z"
   },
   {
    "duration": 92,
    "start_time": "2023-04-13T18:41:11.310Z"
   },
   {
    "duration": 158,
    "start_time": "2023-04-13T18:41:11.403Z"
   },
   {
    "duration": 590,
    "start_time": "2023-04-13T18:41:11.564Z"
   },
   {
    "duration": 8,
    "start_time": "2023-04-13T18:41:12.156Z"
   },
   {
    "duration": 68,
    "start_time": "2023-04-13T18:41:12.166Z"
   },
   {
    "duration": 68,
    "start_time": "2023-04-13T18:41:12.235Z"
   },
   {
    "duration": 387,
    "start_time": "2023-04-13T18:41:12.304Z"
   },
   {
    "duration": 82,
    "start_time": "2023-04-13T18:41:12.694Z"
   },
   {
    "duration": 119,
    "start_time": "2023-04-13T18:41:12.777Z"
   },
   {
    "duration": 54,
    "start_time": "2023-04-13T18:41:12.897Z"
   },
   {
    "duration": 15,
    "start_time": "2023-04-13T18:41:12.955Z"
   },
   {
    "duration": 364,
    "start_time": "2023-04-13T18:41:12.972Z"
   },
   {
    "duration": 104,
    "start_time": "2023-04-13T18:41:13.349Z"
   },
   {
    "duration": 115,
    "start_time": "2023-04-13T18:41:13.455Z"
   },
   {
    "duration": 38,
    "start_time": "2023-04-13T18:41:13.572Z"
   },
   {
    "duration": 56,
    "start_time": "2023-04-13T18:41:13.612Z"
   },
   {
    "duration": 228,
    "start_time": "2023-04-13T18:41:13.669Z"
   },
   {
    "duration": 3,
    "start_time": "2023-04-13T18:41:13.899Z"
   },
   {
    "duration": 299,
    "start_time": "2023-04-13T18:41:13.903Z"
   },
   {
    "duration": 9,
    "start_time": "2023-04-13T18:41:14.204Z"
   },
   {
    "duration": 42,
    "start_time": "2023-04-13T18:41:14.214Z"
   },
   {
    "duration": 24,
    "start_time": "2023-04-13T18:41:14.258Z"
   },
   {
    "duration": 10,
    "start_time": "2023-04-13T18:41:14.284Z"
   },
   {
    "duration": 31,
    "start_time": "2023-04-13T18:41:14.295Z"
   },
   {
    "duration": 25,
    "start_time": "2023-04-13T18:41:14.328Z"
   },
   {
    "duration": 19,
    "start_time": "2023-04-13T18:41:14.362Z"
   },
   {
    "duration": 19,
    "start_time": "2023-04-13T18:41:43.411Z"
   },
   {
    "duration": 28,
    "start_time": "2023-04-13T18:41:47.954Z"
   },
   {
    "duration": 19,
    "start_time": "2023-04-13T18:41:59.554Z"
   },
   {
    "duration": 4,
    "start_time": "2023-04-13T18:42:19.259Z"
   },
   {
    "duration": 5,
    "start_time": "2023-04-13T18:42:19.265Z"
   },
   {
    "duration": 80,
    "start_time": "2023-04-13T18:42:19.271Z"
   },
   {
    "duration": 133,
    "start_time": "2023-04-13T18:42:19.353Z"
   },
   {
    "duration": 538,
    "start_time": "2023-04-13T18:42:19.488Z"
   },
   {
    "duration": 12,
    "start_time": "2023-04-13T18:42:20.028Z"
   },
   {
    "duration": 58,
    "start_time": "2023-04-13T18:42:20.043Z"
   },
   {
    "duration": 51,
    "start_time": "2023-04-13T18:42:20.102Z"
   },
   {
    "duration": 316,
    "start_time": "2023-04-13T18:42:20.154Z"
   },
   {
    "duration": 59,
    "start_time": "2023-04-13T18:42:20.472Z"
   },
   {
    "duration": 124,
    "start_time": "2023-04-13T18:42:20.532Z"
   },
   {
    "duration": 49,
    "start_time": "2023-04-13T18:42:20.657Z"
   },
   {
    "duration": 7,
    "start_time": "2023-04-13T18:42:20.707Z"
   },
   {
    "duration": 354,
    "start_time": "2023-04-13T18:42:20.716Z"
   },
   {
    "duration": 112,
    "start_time": "2023-04-13T18:42:21.072Z"
   },
   {
    "duration": 115,
    "start_time": "2023-04-13T18:42:21.185Z"
   },
   {
    "duration": 43,
    "start_time": "2023-04-13T18:42:21.302Z"
   },
   {
    "duration": 38,
    "start_time": "2023-04-13T18:42:21.354Z"
   },
   {
    "duration": 229,
    "start_time": "2023-04-13T18:42:21.394Z"
   },
   {
    "duration": 3,
    "start_time": "2023-04-13T18:42:21.625Z"
   },
   {
    "duration": 344,
    "start_time": "2023-04-13T18:42:21.629Z"
   },
   {
    "duration": 11,
    "start_time": "2023-04-13T18:42:21.974Z"
   },
   {
    "duration": 26,
    "start_time": "2023-04-13T18:42:21.986Z"
   },
   {
    "duration": 0,
    "start_time": "2023-04-13T18:42:22.013Z"
   },
   {
    "duration": 0,
    "start_time": "2023-04-13T18:42:22.014Z"
   },
   {
    "duration": 0,
    "start_time": "2023-04-13T18:42:22.016Z"
   },
   {
    "duration": 0,
    "start_time": "2023-04-13T18:42:22.017Z"
   },
   {
    "duration": 0,
    "start_time": "2023-04-13T18:42:22.018Z"
   },
   {
    "duration": 21,
    "start_time": "2023-04-13T18:42:36.609Z"
   },
   {
    "duration": 26,
    "start_time": "2023-04-13T18:42:44.252Z"
   },
   {
    "duration": 36,
    "start_time": "2023-04-13T18:42:57.819Z"
   },
   {
    "duration": 14,
    "start_time": "2023-04-13T18:43:08.415Z"
   },
   {
    "duration": 19,
    "start_time": "2023-04-13T18:43:17.011Z"
   },
   {
    "duration": 12,
    "start_time": "2023-04-13T18:43:33.958Z"
   },
   {
    "duration": 28,
    "start_time": "2023-04-13T18:43:41.254Z"
   },
   {
    "duration": 10,
    "start_time": "2023-04-13T18:43:41.284Z"
   },
   {
    "duration": 24,
    "start_time": "2023-04-13T18:43:41.295Z"
   },
   {
    "duration": 21,
    "start_time": "2023-04-13T18:44:14.474Z"
   },
   {
    "duration": 14,
    "start_time": "2023-04-13T18:44:30.815Z"
   },
   {
    "duration": 35,
    "start_time": "2023-04-13T18:44:34.634Z"
   },
   {
    "duration": 30,
    "start_time": "2023-04-13T18:50:21.066Z"
   },
   {
    "duration": 22,
    "start_time": "2023-04-13T18:51:00.599Z"
   },
   {
    "duration": 22,
    "start_time": "2023-04-13T18:52:02.003Z"
   },
   {
    "duration": 8,
    "start_time": "2023-04-13T18:52:06.652Z"
   },
   {
    "duration": 6,
    "start_time": "2023-04-13T18:52:06.662Z"
   },
   {
    "duration": 81,
    "start_time": "2023-04-13T18:52:06.670Z"
   },
   {
    "duration": 157,
    "start_time": "2023-04-13T18:52:06.753Z"
   },
   {
    "duration": 706,
    "start_time": "2023-04-13T18:52:06.913Z"
   },
   {
    "duration": 16,
    "start_time": "2023-04-13T18:52:07.621Z"
   },
   {
    "duration": 56,
    "start_time": "2023-04-13T18:52:07.642Z"
   },
   {
    "duration": 62,
    "start_time": "2023-04-13T18:52:07.700Z"
   },
   {
    "duration": 338,
    "start_time": "2023-04-13T18:52:07.766Z"
   },
   {
    "duration": 57,
    "start_time": "2023-04-13T18:52:08.105Z"
   },
   {
    "duration": 134,
    "start_time": "2023-04-13T18:52:08.165Z"
   },
   {
    "duration": 50,
    "start_time": "2023-04-13T18:52:08.301Z"
   },
   {
    "duration": 16,
    "start_time": "2023-04-13T18:52:08.358Z"
   },
   {
    "duration": 286,
    "start_time": "2023-04-13T18:52:08.378Z"
   },
   {
    "duration": 104,
    "start_time": "2023-04-13T18:52:08.667Z"
   },
   {
    "duration": 131,
    "start_time": "2023-04-13T18:52:08.773Z"
   },
   {
    "duration": 71,
    "start_time": "2023-04-13T18:52:08.906Z"
   },
   {
    "duration": 36,
    "start_time": "2023-04-13T18:52:08.978Z"
   },
   {
    "duration": 280,
    "start_time": "2023-04-13T18:52:09.016Z"
   },
   {
    "duration": 5,
    "start_time": "2023-04-13T18:52:09.298Z"
   },
   {
    "duration": 308,
    "start_time": "2023-04-13T18:52:09.305Z"
   },
   {
    "duration": 25,
    "start_time": "2023-04-13T18:52:09.614Z"
   },
   {
    "duration": 30,
    "start_time": "2023-04-13T18:52:09.640Z"
   },
   {
    "duration": 16,
    "start_time": "2023-04-13T18:52:09.671Z"
   },
   {
    "duration": 10,
    "start_time": "2023-04-13T18:52:09.688Z"
   },
   {
    "duration": 141,
    "start_time": "2023-04-13T18:52:09.700Z"
   },
   {
    "duration": 20,
    "start_time": "2023-04-13T18:52:09.842Z"
   },
   {
    "duration": 28,
    "start_time": "2023-04-13T18:52:09.869Z"
   },
   {
    "duration": 20,
    "start_time": "2023-04-13T18:52:09.898Z"
   },
   {
    "duration": 19,
    "start_time": "2023-04-13T18:56:14.993Z"
   },
   {
    "duration": 26,
    "start_time": "2023-04-13T18:56:35.345Z"
   },
   {
    "duration": 17,
    "start_time": "2023-04-13T18:56:39.502Z"
   },
   {
    "duration": 14,
    "start_time": "2023-04-13T18:57:06.560Z"
   },
   {
    "duration": 34,
    "start_time": "2023-04-13T18:57:08.900Z"
   },
   {
    "duration": 1239,
    "start_time": "2023-04-13T19:23:18.778Z"
   },
   {
    "duration": 4,
    "start_time": "2023-04-13T19:23:20.019Z"
   },
   {
    "duration": 124,
    "start_time": "2023-04-13T19:23:20.025Z"
   },
   {
    "duration": 164,
    "start_time": "2023-04-13T19:23:20.151Z"
   },
   {
    "duration": 8194,
    "start_time": "2023-04-17T06:45:15.659Z"
   },
   {
    "duration": 105549,
    "start_time": "2023-04-17T06:45:23.859Z"
   },
   {
    "duration": 7398,
    "start_time": "2023-04-17T06:47:09.415Z"
   },
   {
    "duration": 3,
    "start_time": "2023-04-17T06:47:16.816Z"
   },
   {
    "duration": 316,
    "start_time": "2023-04-17T06:47:16.821Z"
   },
   {
    "duration": 861,
    "start_time": "2023-04-17T06:47:17.139Z"
   },
   {
    "duration": 6,
    "start_time": "2023-04-17T06:47:18.002Z"
   },
   {
    "duration": 197,
    "start_time": "2023-04-17T06:47:18.010Z"
   },
   {
    "duration": 129,
    "start_time": "2023-04-17T06:47:18.209Z"
   },
   {
    "duration": 472,
    "start_time": "2023-04-17T06:47:18.341Z"
   },
   {
    "duration": 114,
    "start_time": "2023-04-17T06:47:18.815Z"
   },
   {
    "duration": 148,
    "start_time": "2023-04-17T06:47:18.931Z"
   },
   {
    "duration": 186,
    "start_time": "2023-04-17T06:47:19.081Z"
   },
   {
    "duration": 15,
    "start_time": "2023-04-17T06:47:19.270Z"
   },
   {
    "duration": 418,
    "start_time": "2023-04-17T06:47:19.287Z"
   },
   {
    "duration": 131,
    "start_time": "2023-04-17T06:47:19.707Z"
   },
   {
    "duration": 144,
    "start_time": "2023-04-17T06:47:19.840Z"
   },
   {
    "duration": 119,
    "start_time": "2023-04-17T06:47:19.986Z"
   },
   {
    "duration": 123,
    "start_time": "2023-04-17T06:47:20.107Z"
   },
   {
    "duration": 337,
    "start_time": "2023-04-17T06:47:20.232Z"
   },
   {
    "duration": 5,
    "start_time": "2023-04-17T06:47:20.571Z"
   },
   {
    "duration": 722,
    "start_time": "2023-04-17T06:47:20.577Z"
   },
   {
    "duration": 631,
    "start_time": "2023-04-17T06:48:12.397Z"
   },
   {
    "duration": 1624,
    "start_time": "2023-04-17T06:48:13.414Z"
   },
   {
    "duration": 1328,
    "start_time": "2023-04-17T06:48:15.040Z"
   },
   {
    "duration": 74,
    "start_time": "2023-04-17T06:48:16.370Z"
   },
   {
    "duration": 477,
    "start_time": "2023-04-17T06:48:16.446Z"
   },
   {
    "duration": 99,
    "start_time": "2023-04-17T06:48:19.513Z"
   },
   {
    "duration": 403,
    "start_time": "2023-04-17T06:48:20.184Z"
   },
   {
    "duration": 76,
    "start_time": "2023-04-17T06:48:20.760Z"
   },
   {
    "duration": 11,
    "start_time": "2023-04-17T06:48:21.159Z"
   },
   {
    "duration": 416,
    "start_time": "2023-04-17T06:48:21.362Z"
   },
   {
    "duration": 146,
    "start_time": "2023-04-17T06:48:22.408Z"
   },
   {
    "duration": 157,
    "start_time": "2023-04-17T06:48:22.825Z"
   },
   {
    "duration": 95,
    "start_time": "2023-04-17T06:48:23.413Z"
   },
   {
    "duration": 48,
    "start_time": "2023-04-17T06:48:23.857Z"
   },
   {
    "duration": 266,
    "start_time": "2023-04-17T06:48:24.064Z"
   },
   {
    "duration": 5,
    "start_time": "2023-04-17T06:48:24.924Z"
   },
   {
    "duration": 515,
    "start_time": "2023-04-17T06:48:25.120Z"
   },
   {
    "duration": 25,
    "start_time": "2023-04-17T06:48:28.116Z"
   },
   {
    "duration": 354,
    "start_time": "2023-04-17T06:49:20.424Z"
   },
   {
    "duration": 335,
    "start_time": "2023-04-17T06:49:23.260Z"
   },
   {
    "duration": 17,
    "start_time": "2023-04-17T06:50:17.697Z"
   },
   {
    "duration": 37,
    "start_time": "2023-04-17T06:50:18.677Z"
   },
   {
    "duration": 15,
    "start_time": "2023-04-17T06:50:19.960Z"
   },
   {
    "duration": 16,
    "start_time": "2023-04-17T06:50:21.106Z"
   },
   {
    "duration": 38,
    "start_time": "2023-04-17T06:50:22.513Z"
   },
   {
    "duration": 4,
    "start_time": "2023-04-17T06:50:27.758Z"
   },
   {
    "duration": 8,
    "start_time": "2023-04-17T06:52:19.465Z"
   },
   {
    "duration": 113677,
    "start_time": "2023-04-17T06:52:27.592Z"
   },
   {
    "duration": 0,
    "start_time": "2023-04-17T06:54:21.272Z"
   },
   {
    "duration": 53,
    "start_time": "2023-04-17T14:35:09.273Z"
   },
   {
    "duration": 3393,
    "start_time": "2023-04-17T14:36:11.197Z"
   }
  ],
  "kernelspec": {
   "display_name": "Python 3 (ipykernel)",
   "language": "python",
   "name": "python3"
  },
  "language_info": {
   "codemirror_mode": {
    "name": "ipython",
    "version": 3
   },
   "file_extension": ".py",
   "mimetype": "text/x-python",
   "name": "python",
   "nbconvert_exporter": "python",
   "pygments_lexer": "ipython3",
   "version": "3.9.12"
  },
  "toc": {
   "base_numbering": 1,
   "nav_menu": {},
   "number_sections": true,
   "sideBar": true,
   "skip_h1_title": true,
   "title_cell": "Table of Contents",
   "title_sidebar": "Contents",
   "toc_cell": false,
   "toc_position": {},
   "toc_section_display": true,
   "toc_window_display": false
  }
 },
 "nbformat": 4,
 "nbformat_minor": 5
}
