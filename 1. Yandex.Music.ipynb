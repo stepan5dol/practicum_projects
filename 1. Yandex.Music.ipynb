{
 "cells": [
  {
   "cell_type": "markdown",
   "metadata": {
    "deletable": false,
    "editable": false,
    "id": "E0vqbgi9ay0H"
   },
   "source": [
    "# Яндекс Музыка"
   ]
  },
  {
   "cell_type": "markdown",
   "metadata": {
    "deletable": false,
    "editable": false,
    "id": "VUC88oWjTJw2"
   },
   "source": [
    "Сравнение Москвы и Петербурга окружено мифами. Например:\n",
    " * Москва — мегаполис, подчинённый жёсткому ритму рабочей недели;\n",
    " * Петербург — культурная столица, со своими вкусами.\n",
    "\n",
    "На данных Яндекс Музыки вы сравните поведение пользователей двух столиц.\n",
    "\n",
    "**Цель исследования** — проверьте три гипотезы:\n",
    "1. Активность пользователей зависит от дня недели. Причём в Москве и Петербурге это проявляется по-разному.\n",
    "2. В понедельник утром в Москве преобладают одни жанры, а в Петербурге — другие. Так же и вечером пятницы преобладают разные жанры — в зависимости от города. \n",
    "3. Москва и Петербург предпочитают разные жанры музыки. В Москве чаще слушают поп-музыку, в Петербурге — русский рэп.\n",
    "\n",
    "**Ход исследования**\n",
    "\n",
    "Данные о поведении пользователей вы получите из файла `yandex_music_project.csv`. О качестве данных ничего не известно. Поэтому перед проверкой гипотез понадобится обзор данных. \n",
    "\n",
    "Вы проверите данные на ошибки и оцените их влияние на исследование. Затем, на этапе предобработки вы поищете возможность исправить самые критичные ошибки данных.\n",
    " \n",
    "Таким образом, исследование пройдёт в три этапа:\n",
    " 1. Обзор данных.\n",
    " 2. Предобработка данных.\n",
    " 3. Проверка гипотез.\n",
    "\n"
   ]
  },
  {
   "cell_type": "markdown",
   "metadata": {},
   "source": [
    "# Yandex.Music"
   ]
  },
  {
   "cell_type": "markdown",
   "metadata": {},
   "source": [
    "The comparison of Moscow and St. Petersburg is surrounded by myths. For example:\n",
    " * Moscow is a megapolis subject to the rigid rhythm of the working week;\n",
    " * St. Petersburg is a cultural capital, with its own tastes.\n",
    "\n",
    "On Yandex Music data, you will compare the behavior of users of the two capitals.\n",
    "\n",
    "**Research objective** — test three hypotheses:\n",
    "1. User activity depends on the day of the week. Moreover, in Moscow and St. Petersburg, this manifests itself in different ways.\n",
    "2. On Monday morning, some genres prevail in Moscow, and others in St. Petersburg. Similarly, on Friday evening, different genres prevail — depending on the city. \n",
    "3. Moscow and St. Petersburg prefer different genres of music. In Moscow, pop music is more often listened to, in St. Petersburg - Russian rap.\n",
    "\n",
    "**Progress of the study**\n",
    "\n",
    "You will get data about user behavior from the file `yandex_music_project.csv'. Nothing is known about the quality of the data. Therefore, a review of the data will be needed before testing hypotheses. \n",
    "\n",
    "You will check the data for errors and evaluate their impact on the study. Then, at the preprocessing stage, you will look for an opportunity to correct the most critical data errors.\n",
    " \n",
    "Thus, the study will take place in three stages:\n",
    " 1. Data overview.\n",
    " 2. Data preprocessing.\n",
    " 3. Hypothesis testing."
   ]
  },
  {
   "cell_type": "markdown",
   "metadata": {
    "deletable": false,
    "editable": false,
    "id": "Ml1hmfXC_Zcs"
   },
   "source": [
    "## Обзор данных\n",
    "\n",
    "Составьте первое представление о данных Яндекс Музыки.\n",
    "\n",
    "\n"
   ]
  },
  {
   "cell_type": "markdown",
   "metadata": {},
   "source": [
    "## Data Overview\n",
    "\n",
    "Make a first impression of the Yandex Music data."
   ]
  },
  {
   "cell_type": "markdown",
   "metadata": {
    "deletable": false,
    "editable": false,
    "id": "57eAOGIz_Zcs",
    "tags": [
     "start_task"
    ]
   },
   "source": [
    "**Задание 1**\n",
    "\n",
    "Основной инструмент аналитика — `pandas`. Импортируйте эту библиотеку."
   ]
  },
  {
   "cell_type": "markdown",
   "metadata": {},
   "source": [
    "**Task 1**\n",
    "\n",
    "The main analytics tool is `pandas'. Import this library."
   ]
  },
  {
   "cell_type": "code",
   "execution_count": 1,
   "metadata": {
    "deletable": false,
    "id": "AXN7PHPN_Zcs"
   },
   "outputs": [],
   "source": [
    "import pandas as pd # импорт библиотеки pandas"
   ]
  },
  {
   "cell_type": "markdown",
   "metadata": {
    "deletable": false,
    "editable": false,
    "id": "SG23P8tt_Zcs",
    "tags": [
     "start_task"
    ]
   },
   "source": [
    "**Задание 2**\n",
    "\n",
    "Прочитайте файл `yandex_music_project.csv` из папки `/datasets` и сохраните его в переменной `df`:"
   ]
  },
  {
   "cell_type": "markdown",
   "metadata": {},
   "source": [
    "**Task 2**\n",
    "\n",
    "Read the file `yandex_music_project.csv` from the folder `/datasets` and save it in the variable `df`:"
   ]
  },
  {
   "cell_type": "code",
   "execution_count": 2,
   "metadata": {
    "deletable": false,
    "id": "fFVu7vqh_Zct"
   },
   "outputs": [],
   "source": [
    "df = pd.read_csv(\"/datasets/yandex_music_project.csv\")# чтение файла с данными и сохранение в df"
   ]
  },
  {
   "cell_type": "markdown",
   "metadata": {
    "deletable": false,
    "editable": false,
    "id": "rDoOMd3uTqnZ",
    "tags": [
     "start_task"
    ]
   },
   "source": [
    "**Задание 3**\n",
    "\n",
    "\n",
    "Выведите на экран первые десять строк таблицы:"
   ]
  },
  {
   "cell_type": "markdown",
   "metadata": {},
   "source": [
    "**Task 3**\n",
    "\n",
    "\n",
    "Display the first ten rows of the table:"
   ]
  },
  {
   "cell_type": "code",
   "execution_count": 2,
   "metadata": {
    "deletable": false,
    "id": "oWTVX3gW_Zct"
   },
   "outputs": [
    {
     "ename": "NameError",
     "evalue": "name 'df' is not defined",
     "output_type": "error",
     "traceback": [
      "\u001b[0;31m---------------------------------------------------------------------------\u001b[0m",
      "\u001b[0;31mNameError\u001b[0m                                 Traceback (most recent call last)",
      "Input \u001b[0;32mIn [2]\u001b[0m, in \u001b[0;36m<cell line: 1>\u001b[0;34m()\u001b[0m\n\u001b[0;32m----> 1\u001b[0m \u001b[43mdf\u001b[49m\u001b[38;5;241m.\u001b[39mhead(\u001b[38;5;241m10\u001b[39m)\n",
      "\u001b[0;31mNameError\u001b[0m: name 'df' is not defined"
     ]
    }
   ],
   "source": [
    "df.head(10) # получение первых 10 строк таблицы df (10 first raws)"
   ]
  },
  {
   "cell_type": "markdown",
   "metadata": {
    "deletable": false,
    "editable": false,
    "id": "EO73Kwic_Zct",
    "tags": [
     "start_task"
    ]
   },
   "source": [
    "**Задание 4**\n",
    "\n",
    "\n",
    "Одной командой получить общую информацию о таблице c помощью метода `info()`:"
   ]
  },
  {
   "cell_type": "markdown",
   "metadata": {},
   "source": [
    "**Task 4**\n",
    "\n",
    "\n",
    "With one command, get general information about the table using the `info()` method:"
   ]
  },
  {
   "cell_type": "code",
   "execution_count": 4,
   "metadata": {
    "deletable": false,
    "id": "DSf2kIb-_Zct"
   },
   "outputs": [
    {
     "name": "stdout",
     "output_type": "stream",
     "text": [
      "<class 'pandas.core.frame.DataFrame'>\n",
      "RangeIndex: 65079 entries, 0 to 65078\n",
      "Data columns (total 7 columns):\n",
      " #   Column    Non-Null Count  Dtype \n",
      "---  ------    --------------  ----- \n",
      " 0     userID  65079 non-null  object\n",
      " 1   Track     63848 non-null  object\n",
      " 2   artist    57876 non-null  object\n",
      " 3   genre     63881 non-null  object\n",
      " 4     City    65079 non-null  object\n",
      " 5   time      65079 non-null  object\n",
      " 6   Day       65079 non-null  object\n",
      "dtypes: object(7)\n",
      "memory usage: 3.5+ MB\n"
     ]
    }
   ],
   "source": [
    "df.info()# получение общей информации о данных в таблице df"
   ]
  },
  {
   "cell_type": "markdown",
   "metadata": {
    "deletable": false,
    "editable": false,
    "id": "TaQ2Iwbr_Zct"
   },
   "source": [
    "Итак, в таблице семь столбцов. Тип данных во всех столбцах — `object`.\n",
    "\n",
    "Согласно документации к данным:\n",
    "* `userID` — идентификатор пользователя;\n",
    "* `Track` — название трека;  \n",
    "* `artist` — имя исполнителя;\n",
    "* `genre` — название жанра;\n",
    "* `City` — город пользователя;\n",
    "* `time` — время начала прослушивания;\n",
    "* `Day` — день недели.\n",
    "\n",
    "Количество значений в столбцах различается. Значит, в данных есть пропущенные значения."
   ]
  },
  {
   "cell_type": "markdown",
   "metadata": {},
   "source": [
    "So, there are seven columns in the table. The data type in all columns is `object'.\n",
    "\n",
    "According to the data documentation:\n",
    "* `userID` is the user ID;\n",
    "* `Track` — the name of the track;  \n",
    "* `artist` — artist's name;\n",
    "* `genre` — the name of the genre;\n",
    "* `City` — the user's city;\n",
    "* `time` — the start time of listening;\n",
    "* `Day` — the day of the week.\n",
    "\n",
    "The number of values in the columns varies. So there are missing values in the data."
   ]
  },
  {
   "cell_type": "markdown",
   "metadata": {
    "deletable": false,
    "editable": false,
    "id": "rAfziTBDmf2h",
    "tags": [
     "start_task"
    ]
   },
   "source": [
    "**Задание 5**\n",
    "\n",
    "**Вопрос со свободной формой ответа**\n",
    "\n",
    "В названиях колонок видны нарушения стиля:\n",
    "* Строчные буквы сочетаются с прописными.\n",
    "* Встречаются пробелы.\n",
    "\n",
    "Какое третье нарушение?"
   ]
  },
  {
   "cell_type": "markdown",
   "metadata": {},
   "source": [
    "**Task 5**\n",
    "\n",
    "**A question with a free answer form**\n",
    "\n",
    "Style violations are visible in the column names:\n",
    "* Lowercase letters are combined with uppercase.\n",
    "* There are gaps.\n",
    "\n",
    "What is the third violation?"
   ]
  },
  {
   "cell_type": "code",
   "execution_count": 5,
   "metadata": {
    "id": "jD8EXEIvmf2h"
   },
   "outputs": [],
   "source": [
    "# Нет единиц измерения количественных показателей"
   ]
  },
  {
   "cell_type": "markdown",
   "metadata": {
    "deletable": false,
    "editable": false,
    "id": "MCB6-dXG_Zct"
   },
   "source": [
    "**Выводы**\n",
    "\n",
    "В каждой строке таблицы — данные о прослушанном треке. Часть колонок описывает саму композицию: название, исполнителя и жанр. Остальные данные рассказывают о пользователе: из какого он города, когда он слушал музыку. \n",
    "\n",
    "Предварительно можно утверждать, что данных достаточно для проверки гипотез. Но встречаются пропуски в данных, а в названиях колонок — расхождения с хорошим стилем.\n",
    "\n",
    "Чтобы двигаться дальше, нужно устранить проблемы в данных."
   ]
  },
  {
   "cell_type": "markdown",
   "metadata": {},
   "source": [
    "**Conclusions**\n",
    "\n",
    "In each row of the table — data about the listened track. Part of the columns describes the composition itself: name, artist and genre. The rest of the data tells about the user: what city he is from, when he listened to music. \n",
    "\n",
    "Previously, it can be argued that there is enough data to test hypotheses. But there are gaps in the data, and in the column names there are discrepancies with good style.\n",
    "\n",
    "To move on, you need to fix the problems in the data."
   ]
  },
  {
   "cell_type": "markdown",
   "metadata": {
    "deletable": false,
    "editable": false,
    "id": "SjYF6Ub9_Zct"
   },
   "source": [
    "## Предобработка данных\n",
    "Исправьте стиль в заголовках столбцов, исключите пропуски. Затем проверьте данные на дубликаты."
   ]
  },
  {
   "cell_type": "markdown",
   "metadata": {},
   "source": [
    "## Data preprocessing\n",
    "Correct the style in the column headers, eliminate omissions. Then check the data for duplicates."
   ]
  },
  {
   "cell_type": "markdown",
   "metadata": {
    "deletable": false,
    "editable": false,
    "id": "dIaKXr29_Zct",
    "tags": [
     "start_task"
    ]
   },
   "source": [
    "### Стиль заголовков\n",
    "\n",
    "**Задание 6**\n",
    "\n",
    "Выведите на экран названия столбцов:"
   ]
  },
  {
   "cell_type": "markdown",
   "metadata": {},
   "source": [
    "### Header style\n",
    "\n",
    "**Task 6**\n",
    "\n",
    "Display the column names on the screen:"
   ]
  },
  {
   "cell_type": "code",
   "execution_count": 6,
   "metadata": {
    "deletable": false,
    "id": "oKOTdF_Q_Zct"
   },
   "outputs": [
    {
     "data": {
      "text/plain": [
       "Index(['  userID', 'Track', 'artist', 'genre', '  City  ', 'time', 'Day'], dtype='object')"
      ]
     },
     "execution_count": 6,
     "metadata": {},
     "output_type": "execute_result"
    }
   ],
   "source": [
    "df.columns # перечень названий столбцов таблицы df"
   ]
  },
  {
   "cell_type": "markdown",
   "metadata": {
    "deletable": false,
    "editable": false,
    "id": "zj5534cv_Zct",
    "tags": [
     "start_task"
    ]
   },
   "source": [
    "**Задание 7**\n",
    "\n",
    "\n",
    "Приведите названия в соответствие с хорошим стилем:\n",
    "* несколько слов в названии запишите в «змеином_регистре»,\n",
    "* все символы сделайте строчными,\n",
    "* устраните пробелы.\n",
    "\n",
    "Для этого переименуйте колонки так:\n",
    "* `'  userID'` → `'user_id'`;\n",
    "* `'Track'` → `'track'`;\n",
    "* `'  City  '` → `'city'`;\n",
    "* `'Day'` → `'day'`."
   ]
  },
  {
   "cell_type": "markdown",
   "metadata": {},
   "source": [
    "**Task 7**\n",
    "\n",
    "\n",
    "Give the names in accordance with a good style:\n",
    "* write down a few words in the name in the \"zmeinom_register\",\n",
    "* make all characters lowercase,\n",
    "* eliminate gaps.\n",
    "\n",
    "To do this, rename the columns as follows:\n",
    "* `User ID` → `user_id`;\n",
    "* `Track` → `Track`;\n",
    "* ` City ` → `city`;\n",
    "* `Day` → `day`."
   ]
  },
  {
   "cell_type": "code",
   "execution_count": 7,
   "metadata": {
    "deletable": false,
    "id": "ISlFqs5y_Zct",
    "scrolled": true
   },
   "outputs": [],
   "source": [
    "df.rename(columns = {'  userID':'user_id', 'Track' : 'track', '  City  ' : 'city', 'Day' : 'day'}, inplace=True)# переименование столбцов"
   ]
  },
  {
   "cell_type": "markdown",
   "metadata": {
    "deletable": false,
    "editable": false,
    "id": "1dqbh00J_Zct",
    "tags": [
     "start_task"
    ]
   },
   "source": [
    "**Задание 8**\n",
    "\n",
    "\n",
    "Проверьте результат. Для этого ещё раз выведите на экран названия столбцов:"
   ]
  },
  {
   "cell_type": "code",
   "execution_count": 8,
   "metadata": {
    "deletable": false,
    "id": "d4NOAmTW_Zct"
   },
   "outputs": [
    {
     "data": {
      "text/plain": [
       "Index(['user_id', 'track', 'artist', 'genre', 'city', 'time', 'day'], dtype='object')"
      ]
     },
     "execution_count": 8,
     "metadata": {},
     "output_type": "execute_result"
    }
   ],
   "source": [
    "df.columns # проверка результатов - перечень названий столбцов"
   ]
  },
  {
   "cell_type": "markdown",
   "metadata": {
    "deletable": false,
    "editable": false,
    "id": "5ISfbcfY_Zct",
    "tags": [
     "start_task"
    ]
   },
   "source": [
    "### Пропуски значений\n",
    "\n",
    "**Задание 9**\n",
    "\n",
    "Сначала посчитайте, сколько в таблице пропущенных значений. Для этого достаточно двух методов `pandas`:"
   ]
  },
  {
   "cell_type": "markdown",
   "metadata": {},
   "source": [
    "### Missing values\n",
    "\n",
    "**Task 9**\n",
    "\n",
    "First, count how many missing values are in the table. Two `pandas` methods are enough for this:"
   ]
  },
  {
   "cell_type": "code",
   "execution_count": 9,
   "metadata": {
    "deletable": false,
    "id": "RskX29qr_Zct"
   },
   "outputs": [
    {
     "data": {
      "text/plain": [
       "user_id       0\n",
       "track      1231\n",
       "artist     7203\n",
       "genre      1198\n",
       "city          0\n",
       "time          0\n",
       "day           0\n",
       "dtype: int64"
      ]
     },
     "execution_count": 9,
     "metadata": {},
     "output_type": "execute_result"
    }
   ],
   "source": [
    "df.isna().sum() # подсчёт пропусков"
   ]
  },
  {
   "cell_type": "markdown",
   "metadata": {
    "deletable": false,
    "editable": false,
    "id": "qubhgnlO_Zct"
   },
   "source": [
    "Не все пропущенные значения влияют на исследование. Так в `track` и `artist` пропуски не важны для вашей работы. Достаточно заменить их явными обозначениями.\n",
    "\n",
    "Но пропуски в `genre` могут помешать сравнению музыкальных вкусов в Москве и Санкт-Петербурге. На практике было бы правильно установить причину пропусков и восстановить данные. Такой возможности нет в учебном проекте. Придётся:\n",
    "* заполнить и эти пропуски явными обозначениями;\n",
    "* оценить, насколько они повредят расчётам. "
   ]
  },
  {
   "cell_type": "markdown",
   "metadata": {},
   "source": [
    "Not all missing values affect the study. So in `track` and `artist` the omissions are not important for your work. It is enough to replace them with explicit designations.\n",
    "\n",
    "But omissions in `genre` may interfere with the comparison of musical tastes in Moscow and St. Petersburg. In practice, it would be correct to establish the reason for the omissions and restore the data. There is no such possibility in the training project. Have to:\n",
    "* fill in these gaps with explicit notation;\n",
    "* assess how much they will damage the calculations."
   ]
  },
  {
   "cell_type": "markdown",
   "metadata": {
    "deletable": false,
    "editable": false,
    "id": "fSv2laPA_Zct",
    "tags": [
     "start_task"
    ]
   },
   "source": [
    "**Задание 10**\n",
    "\n",
    "Замените пропущенные значения в столбцах `track`, `artist` и `genre` на строку `'unknown'`. Для этого создайте список `columns_to_replace`, переберите его элементы циклом `for` и для каждого столбца выполните замену пропущенных значений:"
   ]
  },
  {
   "cell_type": "code",
   "execution_count": null,
   "metadata": {},
   "outputs": [],
   "source": []
  },
  {
   "cell_type": "code",
   "execution_count": 10,
   "metadata": {
    "deletable": false,
    "id": "KplB5qWs_Zct"
   },
   "outputs": [],
   "source": [
    "columns_to_replace = ['track', 'artist', 'genre']\n",
    "for column in columns_to_replace:\n",
    "    df[column] = df[column].fillna('unknown')# перебор названий столбцов в цикле и замена пропущенных значений на 'unknown'"
   ]
  },
  {
   "cell_type": "markdown",
   "metadata": {
    "deletable": false,
    "editable": false,
    "id": "Ilsm-MZo_Zct",
    "tags": [
     "start_task"
    ]
   },
   "source": [
    "**Задание 11**\n",
    "\n",
    "Убедитесь, что в таблице не осталось пропусков. Для этого ещё раз посчитайте пропущенные значения."
   ]
  },
  {
   "cell_type": "code",
   "execution_count": 11,
   "metadata": {
    "deletable": false,
    "id": "Tq4nYRX4_Zct"
   },
   "outputs": [
    {
     "data": {
      "text/plain": [
       "user_id    0\n",
       "track      0\n",
       "artist     0\n",
       "genre      0\n",
       "city       0\n",
       "time       0\n",
       "day        0\n",
       "dtype: int64"
      ]
     },
     "execution_count": 11,
     "metadata": {},
     "output_type": "execute_result"
    }
   ],
   "source": [
    "df.isnull().sum()# подсчёт пропусков"
   ]
  },
  {
   "cell_type": "markdown",
   "metadata": {
    "deletable": false,
    "editable": false,
    "id": "BWKRtBJ3_Zct",
    "tags": [
     "start_task"
    ]
   },
   "source": [
    "### Дубликаты\n",
    "\n",
    "**Задание 12**\n",
    "\n",
    "Посчитайте явные дубликаты в таблице одной командой:"
   ]
  },
  {
   "cell_type": "code",
   "execution_count": 12,
   "metadata": {
    "deletable": false,
    "id": "36eES_S0_Zct"
   },
   "outputs": [
    {
     "data": {
      "text/plain": [
       "3826"
      ]
     },
     "execution_count": 12,
     "metadata": {},
     "output_type": "execute_result"
    }
   ],
   "source": [
    "df.duplicated().sum()# подсчёт явных дубликатов"
   ]
  },
  {
   "cell_type": "markdown",
   "metadata": {
    "deletable": false,
    "editable": false,
    "id": "Ot25h6XR_Zct",
    "tags": [
     "start_task"
    ]
   },
   "source": [
    "**Задание 13**\n",
    "\n",
    "Вызовите специальный метод `pandas`, чтобы удалить явные дубликаты:"
   ]
  },
  {
   "cell_type": "code",
   "execution_count": 13,
   "metadata": {
    "deletable": false,
    "id": "exFHq6tt_Zct"
   },
   "outputs": [],
   "source": [
    "df = df.drop_duplicates().reset_index(drop=True)# удаление явных дубликатов"
   ]
  },
  {
   "cell_type": "markdown",
   "metadata": {
    "deletable": false,
    "editable": false,
    "id": "Im2YwBEG_Zct",
    "tags": [
     "start_task"
    ]
   },
   "source": [
    "**Задание 14**\n",
    "\n",
    "Ещё раз посчитайте явные дубликаты в таблице — убедитесь, что полностью от них избавились:"
   ]
  },
  {
   "cell_type": "code",
   "execution_count": 14,
   "metadata": {
    "deletable": false,
    "id": "-8PuNWQ0_Zct"
   },
   "outputs": [
    {
     "data": {
      "text/plain": [
       "0"
      ]
     },
     "execution_count": 14,
     "metadata": {},
     "output_type": "execute_result"
    }
   ],
   "source": [
    "df.duplicated().sum()# проверка на отсутствие дубликатов"
   ]
  },
  {
   "cell_type": "markdown",
   "metadata": {
    "deletable": false,
    "editable": false,
    "id": "QlFBsxAr_Zct"
   },
   "source": [
    "Теперь избавьтесь от неявных дубликатов в колонке `genre`. Например, название одного и того же жанра может быть записано немного по-разному. Такие ошибки тоже повлияют на результат исследования."
   ]
  },
  {
   "cell_type": "markdown",
   "metadata": {
    "deletable": false,
    "editable": false,
    "id": "eSjWwsOh_Zct",
    "tags": [
     "start_task"
    ]
   },
   "source": [
    "**Задание 15**\n",
    "\n",
    "Выведите на экран список уникальных названий жанров, отсортированный в алфавитном порядке. Для этого:\n",
    "1. извлеките нужный столбец датафрейма; \n",
    "2. примените к нему метод сортировки;\n",
    "3. для отсортированного столбца вызовите метод, который вернёт уникальные значения из столбца."
   ]
  },
  {
   "cell_type": "code",
   "execution_count": 15,
   "metadata": {
    "deletable": false,
    "id": "JIUcqzZN_Zct"
   },
   "outputs": [
    {
     "name": "stdout",
     "output_type": "stream",
     "text": [
      "['rock' 'pop' 'folk' 'dance' 'rusrap' 'ruspop' 'world' 'electronic'\n",
      " 'unknown' 'alternative' 'children' 'rnb' 'hip' 'jazz' 'postrock' 'latin'\n",
      " 'classical' 'metal' 'reggae' 'tatar' 'blues' 'instrumental' 'rusrock'\n",
      " 'dnb' 'türk' 'post' 'country' 'psychedelic' 'conjazz' 'indie'\n",
      " 'posthardcore' 'local' 'avantgarde' 'punk' 'videogame' 'techno' 'house'\n",
      " 'christmas' 'melodic' 'caucasian' 'reggaeton' 'soundtrack' 'singer' 'ska'\n",
      " 'shanson' 'ambient' 'film' 'western' 'rap' 'beats' \"hard'n'heavy\"\n",
      " 'progmetal' 'minimal' 'contemporary' 'new' 'soul' 'holiday' 'german'\n",
      " 'tropical' 'fairytail' 'spiritual' 'urban' 'gospel' 'nujazz' 'folkmetal'\n",
      " 'trance' 'miscellaneous' 'anime' 'hardcore' 'progressive' 'chanson'\n",
      " 'numetal' 'vocal' 'estrada' 'russian' 'classicmetal' 'dubstep' 'club'\n",
      " 'deep' 'southern' 'black' 'folkrock' 'fitness' 'french' 'disco'\n",
      " 'religious' 'hiphop' 'drum' 'extrememetal' 'türkçe' 'experimental' 'easy'\n",
      " 'metalcore' 'modern' 'argentinetango' 'old' 'breaks' 'eurofolk'\n",
      " 'stonerrock' 'industrial' 'funk' 'jpop' 'middle' 'variété' 'other'\n",
      " 'adult' 'christian' 'gothic' 'international' 'muslim' 'relax' 'schlager'\n",
      " 'caribbean' 'ukrrock' 'nu' 'breakbeat' 'comedy' 'chill' 'newage'\n",
      " 'specialty' 'uzbek' 'k-pop' 'balkan' 'chinese' 'meditative' 'dub' 'power'\n",
      " 'death' 'grime' 'arabesk' 'romance' 'flamenco' 'leftfield' 'european'\n",
      " 'tech' 'newwave' 'dancehall' 'mpb' 'piano' 'top' 'bigroom' 'opera'\n",
      " 'celtic' 'tradjazz' 'acoustic' 'epicmetal' 'hip-hop' 'historisch'\n",
      " 'downbeat' 'downtempo' 'africa' 'audiobook' 'jewish' 'sängerportrait'\n",
      " 'deutschrock' 'eastern' 'action' 'future' 'electropop' 'folklore'\n",
      " 'bollywood' 'marschmusik' 'rnr' 'karaoke' 'indian' 'rancheras'\n",
      " 'электроника' 'afrikaans' 'tango' 'rhythm' 'sound' 'deutschspr' 'trip'\n",
      " 'lovers' 'choral' 'dancepop' 'podcasts' 'retro' 'smooth' 'mexican'\n",
      " 'brazilian' 'ïîï' 'mood' 'surf' 'author' 'gangsta' 'triphop'\n",
      " 'inspirational' 'idm' 'ethnic' 'bluegrass' 'broadway' 'animated'\n",
      " 'americana' 'karadeniz' 'rockabilly' 'colombian' 'self' 'hop' 'synthrock'\n",
      " 'sertanejo' 'japanese' 'canzone' 'swing' 'lounge' 'sport' 'korean'\n",
      " 'ragga' 'traditional' 'gitarre' 'frankreich' 'alternativepunk' 'emo'\n",
      " 'laiko' 'cantopop' 'glitch' 'documentary' 'rockalternative' 'thrash'\n",
      " 'hymn' 'oceania' 'rockother' 'popeurodance' 'dark' 'vi' 'grunge'\n",
      " 'hardstyle' 'samba' 'garage' 'soft' 'art' 'folktronica' 'entehno'\n",
      " 'mediterranean' 'chamber' 'cuban' 'taraftar' 'rockindie' 'gypsy'\n",
      " 'hardtechno' 'shoegazing' 'skarock' 'bossa' 'salsa' 'latino' 'worldbeat'\n",
      " 'malaysian' 'baile' 'ghazal' 'loungeelectronic' 'arabic' 'popelectronic'\n",
      " 'acid' 'kayokyoku' 'neoklassik' 'tribal' 'tanzorchester' 'native'\n",
      " 'independent' 'cantautori' 'handsup' 'poprussian' 'punjabi' 'synthpop'\n",
      " 'rave' 'französisch' 'quebecois' 'speech' 'soulful' 'teen' 'jam' 'ram'\n",
      " 'horror' 'scenic' 'orchestral' 'neue' 'roots' 'slow' 'jungle' 'indipop'\n",
      " 'axé' 'fado' 'showtunes' 'arena' 'irish' 'mandopop' 'forró' 'popdance'\n",
      " 'dirty' 'regional']\n"
     ]
    }
   ],
   "source": [
    "df['genre'] = df['genre'].sort_values()\n",
    "print(df['genre'].unique()) # Просмотр уникальных названий жанров"
   ]
  },
  {
   "cell_type": "markdown",
   "metadata": {
    "deletable": false,
    "editable": false,
    "id": "qej-Qmuo_Zct",
    "tags": [
     "start_task"
    ]
   },
   "source": [
    "**Задание 16**\n",
    "\n",
    "Просмотрите список и найдите неявные дубликаты названия `hiphop`. Это могут быть названия с ошибками или альтернативные названия того же жанра.\n",
    "\n",
    "Вы увидите следующие неявные дубликаты:\n",
    "* *hip*,\n",
    "* *hop*,\n",
    "* *hip-hop*.\n",
    "\n",
    "Чтобы очистить от них таблицу используйте метод `replace()` с двумя аргументами: списком строк-дубликатов (включащий *hip*, *hop* и *hip-hop*) и строкой с правильным значением. Вам нужно исправить колонку `genre` в таблице `df`: заменить каждое значение из списка дубликатов на верное. Вместо `hip`, `hop` и `hip-hop` в таблице должно быть значение `hiphop`:"
   ]
  },
  {
   "cell_type": "code",
   "execution_count": 16,
   "metadata": {
    "deletable": false,
    "id": "ErNDkmns_Zct"
   },
   "outputs": [],
   "source": [
    "df['genre'] = df['genre'].replace(['hip', 'hop', 'hip-hop'], 'hiphop')"
   ]
  },
  {
   "cell_type": "markdown",
   "metadata": {
    "deletable": false,
    "editable": false,
    "id": "zQKF16_RG15m",
    "tags": [
     "start_task"
    ]
   },
   "source": [
    "**Задание 17**\n",
    "\n",
    "Проверьте, что заменили неправильные названия:\n",
    "\n",
    "*   hip,\n",
    "*   hop,\n",
    "*   hip-hop.\n",
    "\n",
    "Выведите отсортированный список уникальных значений столбца `genre`:"
   ]
  },
  {
   "cell_type": "code",
   "execution_count": 17,
   "metadata": {
    "deletable": false,
    "id": "wvixALnFG15m"
   },
   "outputs": [
    {
     "data": {
      "text/plain": [
       "array(['acid', 'acoustic', 'action', 'adult', 'africa', 'afrikaans',\n",
       "       'alternative', 'alternativepunk', 'ambient', 'americana',\n",
       "       'animated', 'anime', 'arabesk', 'arabic', 'arena',\n",
       "       'argentinetango', 'art', 'audiobook', 'author', 'avantgarde',\n",
       "       'axé', 'baile', 'balkan', 'beats', 'bigroom', 'black', 'bluegrass',\n",
       "       'blues', 'bollywood', 'bossa', 'brazilian', 'breakbeat', 'breaks',\n",
       "       'broadway', 'cantautori', 'cantopop', 'canzone', 'caribbean',\n",
       "       'caucasian', 'celtic', 'chamber', 'chanson', 'children', 'chill',\n",
       "       'chinese', 'choral', 'christian', 'christmas', 'classical',\n",
       "       'classicmetal', 'club', 'colombian', 'comedy', 'conjazz',\n",
       "       'contemporary', 'country', 'cuban', 'dance', 'dancehall',\n",
       "       'dancepop', 'dark', 'death', 'deep', 'deutschrock', 'deutschspr',\n",
       "       'dirty', 'disco', 'dnb', 'documentary', 'downbeat', 'downtempo',\n",
       "       'drum', 'dub', 'dubstep', 'eastern', 'easy', 'electronic',\n",
       "       'electropop', 'emo', 'entehno', 'epicmetal', 'estrada', 'ethnic',\n",
       "       'eurofolk', 'european', 'experimental', 'extrememetal', 'fado',\n",
       "       'fairytail', 'film', 'fitness', 'flamenco', 'folk', 'folklore',\n",
       "       'folkmetal', 'folkrock', 'folktronica', 'forró', 'frankreich',\n",
       "       'französisch', 'french', 'funk', 'future', 'gangsta', 'garage',\n",
       "       'german', 'ghazal', 'gitarre', 'glitch', 'gospel', 'gothic',\n",
       "       'grime', 'grunge', 'gypsy', 'handsup', \"hard'n'heavy\", 'hardcore',\n",
       "       'hardstyle', 'hardtechno', 'hiphop', 'historisch', 'holiday',\n",
       "       'horror', 'house', 'hymn', 'idm', 'independent', 'indian', 'indie',\n",
       "       'indipop', 'industrial', 'inspirational', 'instrumental',\n",
       "       'international', 'irish', 'jam', 'japanese', 'jazz', 'jewish',\n",
       "       'jpop', 'jungle', 'k-pop', 'karadeniz', 'karaoke', 'kayokyoku',\n",
       "       'korean', 'laiko', 'latin', 'latino', 'leftfield', 'local',\n",
       "       'lounge', 'loungeelectronic', 'lovers', 'malaysian', 'mandopop',\n",
       "       'marschmusik', 'meditative', 'mediterranean', 'melodic', 'metal',\n",
       "       'metalcore', 'mexican', 'middle', 'minimal', 'miscellaneous',\n",
       "       'modern', 'mood', 'mpb', 'muslim', 'native', 'neoklassik', 'neue',\n",
       "       'new', 'newage', 'newwave', 'nu', 'nujazz', 'numetal', 'oceania',\n",
       "       'old', 'opera', 'orchestral', 'other', 'piano', 'podcasts', 'pop',\n",
       "       'popdance', 'popelectronic', 'popeurodance', 'poprussian', 'post',\n",
       "       'posthardcore', 'postrock', 'power', 'progmetal', 'progressive',\n",
       "       'psychedelic', 'punjabi', 'punk', 'quebecois', 'ragga', 'ram',\n",
       "       'rancheras', 'rap', 'rave', 'reggae', 'reggaeton', 'regional',\n",
       "       'relax', 'religious', 'retro', 'rhythm', 'rnb', 'rnr', 'rock',\n",
       "       'rockabilly', 'rockalternative', 'rockindie', 'rockother',\n",
       "       'romance', 'roots', 'ruspop', 'rusrap', 'rusrock', 'russian',\n",
       "       'salsa', 'samba', 'scenic', 'schlager', 'self', 'sertanejo',\n",
       "       'shanson', 'shoegazing', 'showtunes', 'singer', 'ska', 'skarock',\n",
       "       'slow', 'smooth', 'soft', 'soul', 'soulful', 'sound', 'soundtrack',\n",
       "       'southern', 'specialty', 'speech', 'spiritual', 'sport',\n",
       "       'stonerrock', 'surf', 'swing', 'synthpop', 'synthrock',\n",
       "       'sängerportrait', 'tango', 'tanzorchester', 'taraftar', 'tatar',\n",
       "       'tech', 'techno', 'teen', 'thrash', 'top', 'traditional',\n",
       "       'tradjazz', 'trance', 'tribal', 'trip', 'triphop', 'tropical',\n",
       "       'türk', 'türkçe', 'ukrrock', 'unknown', 'urban', 'uzbek',\n",
       "       'variété', 'vi', 'videogame', 'vocal', 'western', 'world',\n",
       "       'worldbeat', 'ïîï', 'электроника'], dtype=object)"
      ]
     },
     "execution_count": 17,
     "metadata": {},
     "output_type": "execute_result"
    }
   ],
   "source": [
    "new_perem = df['genre'].sort_values(axis='index', ascending=True)\n",
    "new_perem.unique()"
   ]
  },
  {
   "cell_type": "markdown",
   "metadata": {
    "deletable": false,
    "editable": false,
    "id": "jz6a9-7HQUDd"
   },
   "source": [
    "**Выводы**\n",
    "\n",
    "Предобработка обнаружила три проблемы в данных:\n",
    "\n",
    "- нарушения в стиле заголовков,\n",
    "- пропущенные значения,\n",
    "- дубликаты — явные и неявные.\n",
    "\n",
    "Вы исправили заголовки, чтобы упростить работу с таблицей. Без дубликатов исследование станет более точным.\n",
    "\n",
    "Пропущенные значения вы заменили на `'unknown'`. Ещё предстоит увидеть, не повредят ли исследованию пропуски в колонке `genre`.\n",
    "\n",
    "Теперь можно перейти к проверке гипотез. "
   ]
  },
  {
   "cell_type": "markdown",
   "metadata": {
    "deletable": false,
    "editable": false,
    "id": "WttZHXH0SqKk"
   },
   "source": [
    "## Проверка гипотез"
   ]
  },
  {
   "cell_type": "markdown",
   "metadata": {
    "deletable": false,
    "editable": false,
    "id": "Im936VVi_Zcu"
   },
   "source": [
    "### Сравнение поведения пользователей двух столиц"
   ]
  },
  {
   "cell_type": "markdown",
   "metadata": {
    "deletable": false,
    "editable": false,
    "id": "nwt_MuaL_Zcu"
   },
   "source": [
    "Первая гипотеза утверждает, что пользователи по-разному слушают музыку в Москве и Санкт-Петербурге. Проверьте это предположение по данным о трёх днях недели — понедельнике, среде и пятнице. Для этого:\n",
    "\n",
    "* Разделите пользователей Москвы и Санкт-Петербурга.\n",
    "* Сравните, сколько треков послушала каждая группа пользователей в понедельник, среду и пятницу.\n"
   ]
  },
  {
   "cell_type": "markdown",
   "metadata": {
    "deletable": false,
    "editable": false,
    "id": "8Dw_YMmT_Zcu",
    "tags": [
     "start_task"
    ]
   },
   "source": [
    "**Задание 18**\n",
    "\n",
    "Для тренировки сначала выполните каждый из расчётов по отдельности. \n",
    "\n",
    "Оцените активность пользователей в каждом городе. Сгруппируйте данные по городу и посчитайте прослушивания в каждой группе.\n",
    "\n"
   ]
  },
  {
   "cell_type": "code",
   "execution_count": 18,
   "metadata": {
    "deletable": false,
    "id": "0_Qs96oh_Zcu"
   },
   "outputs": [
    {
     "name": "stdout",
     "output_type": "stream",
     "text": [
      "city\n",
      "Moscow              42741\n",
      "Saint-Petersburg    18512\n",
      "Name: city, dtype: int64\n"
     ]
    }
   ],
   "source": [
    "moscow_city = df.groupby('city')\n",
    "moscow_acrivity = moscow_city['city'].count()\n",
    "print(moscow_acrivity)# Подсчёт прослушиваний в каждом городе"
   ]
  },
  {
   "cell_type": "markdown",
   "metadata": {
    "deletable": false,
    "editable": false,
    "id": "dzli3w8o_Zcu",
    "tags": [
     "start_task"
    ]
   },
   "source": [
    "В Москве прослушиваний больше, чем в Петербурге. Из этого не следует, что московские пользователи чаще слушают музыку. Просто самих пользователей в Москве больше.\n",
    "\n",
    "**Задание 19**\n",
    "\n",
    "Теперь сгруппируйте данные по дню недели и посчитайте прослушивания в понедельник, среду и пятницу. Учтите, что в данных есть информация о прослушиваниях только за эти дни.\n"
   ]
  },
  {
   "cell_type": "code",
   "execution_count": 19,
   "metadata": {
    "deletable": false,
    "id": "uZMKjiJz_Zcu"
   },
   "outputs": [
    {
     "name": "stdout",
     "output_type": "stream",
     "text": [
      "day\n",
      "Friday       21840\n",
      "Monday       21354\n",
      "Wednesday    18059\n",
      "Name: day, dtype: int64\n"
     ]
    }
   ],
   "source": [
    "day_info = df.groupby('day')\n",
    "daily_act = day_info['day'].count()\n",
    "print(daily_act)# Подсчёт прослушиваний в каждый из трёх дней"
   ]
  },
  {
   "cell_type": "markdown",
   "metadata": {
    "deletable": false,
    "editable": false,
    "id": "cC2tNrlL_Zcu"
   },
   "source": [
    "В среднем пользователи из двух городов менее активны по средам. Но картина может измениться, если рассмотреть каждый город в отдельности."
   ]
  },
  {
   "cell_type": "markdown",
   "metadata": {
    "deletable": false,
    "editable": false,
    "id": "POzs8bGa_Zcu",
    "tags": [
     "start_task"
    ]
   },
   "source": [
    "**Задание 20**\n",
    "\n",
    "\n",
    "Вы видели, как работает группировка по городу и по дням недели. Теперь напишите функцию, которая объединит два эти расчёта.\n",
    "\n",
    "Создайте функцию `number_tracks()`, которая посчитает прослушивания для заданного дня и города. Ей понадобятся два параметра:\n",
    "* день недели,\n",
    "* название города.\n",
    "\n",
    "В функции сохраните в переменную строки исходной таблицы, у которых значение:\n",
    "  * в колонке `day` равно параметру `day`,\n",
    "  * в колонке `city` равно параметру `city`.\n",
    "\n",
    "Для этого примените последовательную фильтрацию с логической индексацией (или сложные логические выражения в одну строку, если вы уже знакомы с ними).\n",
    "\n",
    "Затем посчитайте значения в столбце `user_id` получившейся таблицы. Результат сохраните в новую переменную. Верните эту переменную из функции."
   ]
  },
  {
   "cell_type": "code",
   "execution_count": 20,
   "metadata": {
    "deletable": false,
    "id": "Nz3GdQB1_Zcu"
   },
   "outputs": [],
   "source": [
    "def number_tracks(day, city):# Объявляется функция с двумя параметрами: day, city.\n",
    "    track_list = df[(df['day']==day) & (df['city']==city)] # В переменной track_list сохраняются те строки таблицы df, для которых\n",
    "    track_list_count = track_list['user_id'].count()\n",
    "    return track_list_count\n",
    "# значение в столбце 'day' равно параметру day и одновременно значение\n",
    "# в столбце 'city' равно параметру city (используйте последовательную фильтрацию\n",
    "# с помощью логической индексации или сложные логические выражения в одну строку, если вы уже знакомы с ними).\n",
    "# В переменной track_list_count сохраняется число значений столбца 'user_id',\n",
    "# рассчитанное методом count() для таблицы track_list.\n",
    "# Функция возвращает число - значение track_list_count.\n",
    "\n",
    "# Функция для подсчёта прослушиваний для конкретного города и дня.\n",
    "# С помощью последовательной фильтрации с логической индексацией она \n",
    "# сначала получит из исходной таблицы строки с нужным днём,\n",
    "# затем из результата отфильтрует строки с нужным городом,\n",
    "# методом count() посчитает количество значений в колонке user_id. \n",
    "# Это количество функция вернёт в качестве результата"
   ]
  },
  {
   "cell_type": "markdown",
   "metadata": {
    "deletable": false,
    "editable": false,
    "id": "ytf7xFrFJQ2r",
    "tags": [
     "start_task"
    ]
   },
   "source": [
    "**Задание 21**\n",
    "\n",
    "Вызовите `number_tracks()` шесть раз, меняя значение параметров — так, чтобы получить данные для каждого города в каждый из трёх дней."
   ]
  },
  {
   "cell_type": "code",
   "execution_count": 21,
   "metadata": {
    "deletable": false,
    "id": "rJcRATNQ_Zcu"
   },
   "outputs": [
    {
     "data": {
      "text/plain": [
       "15740"
      ]
     },
     "execution_count": 21,
     "metadata": {},
     "output_type": "execute_result"
    }
   ],
   "source": [
    "number_tracks('Monday', 'Moscow')# количество прослушиваний в Москве по понедельникам"
   ]
  },
  {
   "cell_type": "code",
   "execution_count": 22,
   "metadata": {
    "deletable": false,
    "id": "hq_ncZ5T_Zcu"
   },
   "outputs": [
    {
     "data": {
      "text/plain": [
       "5614"
      ]
     },
     "execution_count": 22,
     "metadata": {},
     "output_type": "execute_result"
    }
   ],
   "source": [
    "number_tracks('Monday', 'Saint-Petersburg')# количество прослушиваний в Санкт-Петербурге по понедельникам"
   ]
  },
  {
   "cell_type": "code",
   "execution_count": 23,
   "metadata": {
    "deletable": false,
    "id": "_NTy2VPU_Zcu"
   },
   "outputs": [
    {
     "data": {
      "text/plain": [
       "11056"
      ]
     },
     "execution_count": 23,
     "metadata": {},
     "output_type": "execute_result"
    }
   ],
   "source": [
    "number_tracks('Wednesday', 'Moscow')# количество прослушиваний в Москве по средам"
   ]
  },
  {
   "cell_type": "code",
   "execution_count": 24,
   "metadata": {
    "deletable": false,
    "id": "j2y3TAwo_Zcu"
   },
   "outputs": [
    {
     "data": {
      "text/plain": [
       "7003"
      ]
     },
     "execution_count": 24,
     "metadata": {},
     "output_type": "execute_result"
    }
   ],
   "source": [
    "number_tracks('Wednesday', 'Saint-Petersburg')# количество прослушиваний в Санкт-Петербурге по средам"
   ]
  },
  {
   "cell_type": "code",
   "execution_count": 25,
   "metadata": {
    "deletable": false,
    "id": "vYDw5u_K_Zcu"
   },
   "outputs": [
    {
     "data": {
      "text/plain": [
       "15945"
      ]
     },
     "execution_count": 25,
     "metadata": {},
     "output_type": "execute_result"
    }
   ],
   "source": [
    "number_tracks('Friday', 'Moscow')# количество прослушиваний в Москве по пятницам"
   ]
  },
  {
   "cell_type": "code",
   "execution_count": 26,
   "metadata": {
    "deletable": false,
    "id": "8_yzFtW3_Zcu"
   },
   "outputs": [
    {
     "data": {
      "text/plain": [
       "5895"
      ]
     },
     "execution_count": 26,
     "metadata": {},
     "output_type": "execute_result"
    }
   ],
   "source": [
    "number_tracks('Friday', 'Saint-Petersburg')# количество прослушиваний в Санкт-Петербурге по пятницам"
   ]
  },
  {
   "cell_type": "markdown",
   "metadata": {
    "deletable": false,
    "editable": false,
    "id": "7QXffbO-_Zcu",
    "tags": [
     "start_task"
    ]
   },
   "source": [
    "**Задание 22**\n",
    "\n",
    "Создайте c помощью конструктора `pd.DataFrame` таблицу, где\n",
    "* названия колонок — `['city', 'monday', 'wednesday', 'friday']`;\n",
    "* данные — результаты, которые вы получили с помощью `number_tracks`."
   ]
  },
  {
   "cell_type": "code",
   "execution_count": 27,
   "metadata": {
    "deletable": false,
    "id": "APAcLpOr_Zcu"
   },
   "outputs": [],
   "source": [
    "info = pd.DataFrame(data=[['Moscow', 15740, 11056, 15945], ['Saint-Petersburg', 5614, 7003, 5895]], columns=['city', 'monday', 'wednesday', 'friday'])# Таблица с результатами"
   ]
  },
  {
   "cell_type": "markdown",
   "metadata": {
    "deletable": false,
    "editable": false,
    "id": "-EgPIHYu_Zcu"
   },
   "source": [
    "**Выводы**\n",
    "\n",
    "Данные показывают разницу поведения пользователей:\n",
    "\n",
    "- В Москве пик прослушиваний приходится на понедельник и пятницу, а в среду заметен спад.\n",
    "- В Петербурге, наоборот, больше слушают музыку по средам. Активность в понедельник и пятницу здесь почти в равной мере уступает среде.\n",
    "\n",
    "Значит, данные говорят в пользу первой гипотезы."
   ]
  },
  {
   "cell_type": "markdown",
   "metadata": {
    "deletable": false,
    "editable": false,
    "id": "atZAxtq4_Zcu"
   },
   "source": [
    "### Музыка в начале и в конце недели"
   ]
  },
  {
   "cell_type": "markdown",
   "metadata": {
    "deletable": false,
    "editable": false,
    "id": "eXrQqXFH_Zcu"
   },
   "source": [
    "Согласно второй гипотезе, утром в понедельник в Москве преобладают одни жанры, а в Петербурге — другие. Так же и вечером пятницы преобладают разные жанры — в зависимости от города."
   ]
  },
  {
   "cell_type": "markdown",
   "metadata": {
    "deletable": false,
    "editable": false,
    "id": "S8UcW6Hw_Zcu",
    "tags": [
     "start_task"
    ]
   },
   "source": [
    "**Задание 23**\n",
    "\n",
    "Сохраните таблицы с данными в две переменные:\n",
    "* по Москве — в `moscow_general`;\n",
    "* по Санкт-Петербургу — в `spb_general`."
   ]
  },
  {
   "cell_type": "code",
   "execution_count": 28,
   "metadata": {
    "deletable": false,
    "id": "qeaFfM_P_Zcu"
   },
   "outputs": [],
   "source": [
    "# получение таблицы moscow_general из тех строк таблицы df, \n",
    "# для которых значение в столбце 'city' равно 'Moscow'\n",
    "moscow_general = df[df['city']=='Moscow']"
   ]
  },
  {
   "cell_type": "code",
   "execution_count": 29,
   "metadata": {
    "deletable": false,
    "id": "ORaVRKto_Zcu"
   },
   "outputs": [],
   "source": [
    "# получение таблицы spb_general из тех строк таблицы df,\n",
    "# для которых значение в столбце 'city' равно 'Saint-Petersburg'\n",
    "spb_general = df[df['city']=='Saint-Petersburg']"
   ]
  },
  {
   "cell_type": "markdown",
   "metadata": {
    "deletable": false,
    "editable": false,
    "id": "MEJV-CX2_Zcu",
    "tags": [
     "start_task"
    ]
   },
   "source": [
    "**Задание 24**\n",
    "\n",
    "Создайте функцию `genre_weekday()` с четырьмя параметрами:\n",
    "* таблица (датафрейм) с данными,\n",
    "* день недели,\n",
    "* начальная временная метка в формате 'hh:mm', \n",
    "* последняя временная метка в формате 'hh:mm'.\n",
    "\n",
    "Функция должна вернуть информацию о топ-10 жанров тех треков, которые прослушивали в указанный день, в промежутке между двумя отметками времени."
   ]
  },
  {
   "cell_type": "code",
   "execution_count": 30,
   "metadata": {
    "deletable": false,
    "id": "laJT9BYl_Zcu"
   },
   "outputs": [],
   "source": [
    "# Объявление функции genre_weekday() с параметрами table, day, time1, time2,\n",
    "# которая возвращает информацию о самых популярных жанрах в указанный день в\n",
    "# заданное время:\n",
    "# 1) в переменную genre_df сохраняются те строки переданного датафрейма table, для\n",
    "#    которых одновременно:\n",
    "#    - значение в столбце day равно значению аргумента day\n",
    "#    - значение в столбце time больше значения аргумента time1\n",
    "#    - значение в столбце time меньше значения аргумента time2\n",
    "#    Используйте последовательную фильтрацию с помощью логической индексации.\n",
    "# 2) сгруппировать датафрейм genre_df по столбцу genre, взять один из его\n",
    "#    столбцов и посчитать методом count() количество записей для каждого из\n",
    "#    присутствующих жанров, получившийся Series записать в переменную\n",
    "#    genre_df_count\n",
    "# 3) отсортировать genre_df_count по убыванию встречаемости и сохранить\n",
    "#    в переменную genre_df_sorted\n",
    "# 4) вернуть Series из 10 первых значений genre_df_sorted, это будут топ-10\n",
    "#    популярных жанров (в указанный день, в заданное время)\n",
    "\n",
    "def genre_weekday(df, day, time1, time2):\n",
    "    # последовательная фильтрация\n",
    "    # оставляем в genre_df только те строки df, у которых день равен day\n",
    "    genre_df = df[df['day']==day]\n",
    "    # оставляем в genre_df только те строки genre_df, у которых время меньше time2\n",
    "    genre_df = genre_df[df['time'] < time2]\n",
    "    # оставляем в genre_df только те строки genre_df, у которых время больше time1\n",
    "    genre_df = genre_df[df['time'] > time1]\n",
    "    # сгруппируем отфильтрованный датафрейм по столбцу с названиями жанров, возьмём столбец genre и посчитаем кол-во строк для каждого жанра методом count()\n",
    "    genre_df_grouped = genre_df.groupby('genre')['genre'].count()\n",
    "    # отсортируем результат по убыванию (чтобы в начале Series оказались самые популярные жанры)\n",
    "    genre_df_sorted = genre_df_grouped.sort_values(ascending=False)\n",
    "    # вернём Series с 10 самыми популярными жанрами в указанный отрезок времени заданного дня\n",
    "    return genre_df_sorted[:10]"
   ]
  },
  {
   "cell_type": "markdown",
   "metadata": {
    "deletable": false,
    "editable": false,
    "id": "la2s2_PF_Zcu",
    "tags": [
     "start_task"
    ]
   },
   "source": [
    "**Задание 25**\n",
    "\n",
    "\n",
    "Cравните результаты функции `genre_weekday()` для Москвы и Санкт-Петербурга в понедельник утром (с 7:00 до 11:00) и в пятницу вечером (с 17:00 до 23:00):"
   ]
  },
  {
   "cell_type": "code",
   "execution_count": 31,
   "metadata": {
    "deletable": false,
    "id": "yz7itPUQ_Zcu"
   },
   "outputs": [
    {
     "name": "stderr",
     "output_type": "stream",
     "text": [
      "/tmp/ipykernel_158/29343031.py:24: UserWarning: Boolean Series key will be reindexed to match DataFrame index.\n",
      "  genre_df = genre_df[df['time'] < time2]\n",
      "/tmp/ipykernel_158/29343031.py:26: UserWarning: Boolean Series key will be reindexed to match DataFrame index.\n",
      "  genre_df = genre_df[df['time'] > time1]\n"
     ]
    },
    {
     "data": {
      "text/plain": [
       "genre\n",
       "pop            781\n",
       "dance          549\n",
       "electronic     480\n",
       "rock           474\n",
       "hiphop         286\n",
       "ruspop         186\n",
       "world          181\n",
       "rusrap         175\n",
       "alternative    164\n",
       "unknown        161\n",
       "Name: genre, dtype: int64"
      ]
     },
     "execution_count": 31,
     "metadata": {},
     "output_type": "execute_result"
    }
   ],
   "source": [
    "genre_weekday(moscow_general, 'Monday', '07:00', '11:00')# вызов функции для утра понедельника в Москве (вместо df — таблица moscow_general)\n",
    "# объекты, хранящие время, являются строками и сравниваются как строки\n",
    "# пример вызова: genre_weekday(moscow_general, 'Monday', '07:00', '11:00')"
   ]
  },
  {
   "cell_type": "code",
   "execution_count": 32,
   "metadata": {
    "deletable": false,
    "id": "kwUcHPdy_Zcu"
   },
   "outputs": [
    {
     "name": "stderr",
     "output_type": "stream",
     "text": [
      "/tmp/ipykernel_158/29343031.py:24: UserWarning: Boolean Series key will be reindexed to match DataFrame index.\n",
      "  genre_df = genre_df[df['time'] < time2]\n",
      "/tmp/ipykernel_158/29343031.py:26: UserWarning: Boolean Series key will be reindexed to match DataFrame index.\n",
      "  genre_df = genre_df[df['time'] > time1]\n"
     ]
    },
    {
     "data": {
      "text/plain": [
       "genre\n",
       "pop            218\n",
       "dance          182\n",
       "rock           162\n",
       "electronic     147\n",
       "hiphop          80\n",
       "ruspop          64\n",
       "alternative     58\n",
       "rusrap          55\n",
       "jazz            44\n",
       "classical       40\n",
       "Name: genre, dtype: int64"
      ]
     },
     "execution_count": 32,
     "metadata": {},
     "output_type": "execute_result"
    }
   ],
   "source": [
    "genre_weekday(spb_general, 'Monday', '07:00', '11:00')# вызов функции для утра понедельника в Петербурге (вместо df — таблица spb_general)"
   ]
  },
  {
   "cell_type": "code",
   "execution_count": 33,
   "metadata": {
    "deletable": false,
    "id": "EzXVRE1o_Zcu"
   },
   "outputs": [
    {
     "name": "stderr",
     "output_type": "stream",
     "text": [
      "/tmp/ipykernel_158/29343031.py:24: UserWarning: Boolean Series key will be reindexed to match DataFrame index.\n",
      "  genre_df = genre_df[df['time'] < time2]\n",
      "/tmp/ipykernel_158/29343031.py:26: UserWarning: Boolean Series key will be reindexed to match DataFrame index.\n",
      "  genre_df = genre_df[df['time'] > time1]\n"
     ]
    },
    {
     "data": {
      "text/plain": [
       "genre\n",
       "pop            713\n",
       "rock           517\n",
       "dance          495\n",
       "electronic     482\n",
       "hiphop         273\n",
       "world          208\n",
       "ruspop         170\n",
       "alternative    163\n",
       "classical      163\n",
       "rusrap         142\n",
       "Name: genre, dtype: int64"
      ]
     },
     "execution_count": 33,
     "metadata": {},
     "output_type": "execute_result"
    }
   ],
   "source": [
    "genre_weekday(moscow_general, 'Friday', '17:00', '23:00')# вызов функции для вечера пятницы в Москве"
   ]
  },
  {
   "cell_type": "code",
   "execution_count": 34,
   "metadata": {
    "deletable": false,
    "id": "JZaEKu5v_Zcu"
   },
   "outputs": [
    {
     "name": "stderr",
     "output_type": "stream",
     "text": [
      "/tmp/ipykernel_158/29343031.py:24: UserWarning: Boolean Series key will be reindexed to match DataFrame index.\n",
      "  genre_df = genre_df[df['time'] < time2]\n",
      "/tmp/ipykernel_158/29343031.py:26: UserWarning: Boolean Series key will be reindexed to match DataFrame index.\n",
      "  genre_df = genre_df[df['time'] > time1]\n"
     ]
    },
    {
     "data": {
      "text/plain": [
       "genre\n",
       "pop            256\n",
       "electronic     216\n",
       "rock           216\n",
       "dance          210\n",
       "hiphop          97\n",
       "alternative     63\n",
       "jazz            61\n",
       "classical       60\n",
       "rusrap          59\n",
       "world           54\n",
       "Name: genre, dtype: int64"
      ]
     },
     "execution_count": 34,
     "metadata": {},
     "output_type": "execute_result"
    }
   ],
   "source": [
    "genre_weekday(spb_general, 'Friday', '17:00', '23:00')# вызов функции для вечера пятницы в Петербурге"
   ]
  },
  {
   "cell_type": "markdown",
   "metadata": {
    "deletable": false,
    "editable": false,
    "id": "wrCe4MNX_Zcu"
   },
   "source": [
    "**Выводы**\n",
    "\n",
    "Если сравнить топ-10 жанров в понедельник утром, можно сделать такие выводы:\n",
    "\n",
    "1. В Москве и Петербурге слушают похожую музыку. Единственное отличие — в московский рейтинг вошёл жанр “world”, а в петербургский — джаз и классика.\n",
    "\n",
    "2. В Москве пропущенных значений оказалось так много, что значение `'unknown'` заняло десятое место среди самых популярных жанров. Значит, пропущенные значения занимают существенную долю в данных и угрожают достоверности исследования.\n",
    "\n",
    "Вечер пятницы не меняет эту картину. Некоторые жанры поднимаются немного выше, другие спускаются, но в целом топ-10 остаётся тем же самым.\n",
    "\n",
    "Таким образом, вторая гипотеза подтвердилась лишь частично:\n",
    "* Пользователи слушают похожую музыку в начале недели и в конце.\n",
    "* Разница между Москвой и Петербургом не слишком выражена. В Москве чаще слушают русскую популярную музыку, в Петербурге — джаз.\n",
    "\n",
    "Однако пропуски в данных ставят под сомнение этот результат. В Москве их так много, что рейтинг топ-10 мог бы выглядеть иначе, если бы не утерянные  данные о жанрах."
   ]
  },
  {
   "cell_type": "markdown",
   "metadata": {
    "deletable": false,
    "editable": false,
    "id": "JolODAqr_Zcu"
   },
   "source": [
    "### Жанровые предпочтения в Москве и Петербурге\n",
    "\n",
    "Гипотеза: Петербург — столица рэпа, музыку этого жанра там слушают чаще, чем в Москве.  А Москва — город контрастов, в котором, тем не менее, преобладает поп-музыка."
   ]
  },
  {
   "cell_type": "markdown",
   "metadata": {
    "deletable": false,
    "editable": false,
    "id": "DlegSvaT_Zcu",
    "tags": [
     "start_task"
    ]
   },
   "source": [
    "**Задание 26**\n",
    "\n",
    "Сгруппируйте таблицу `moscow_general` по жанру и посчитайте прослушивания треков каждого жанра методом `count()`. Затем отсортируйте результат в порядке убывания и сохраните его в таблице `moscow_genres`."
   ]
  },
  {
   "cell_type": "code",
   "execution_count": 35,
   "metadata": {
    "deletable": false,
    "id": "r19lIPke_Zcu"
   },
   "outputs": [],
   "source": [
    "moscow_genres = moscow_general.groupby('genre')['genre'].count()\n",
    "moscow_genres = moscow_genres.sort_values(ascending=False)# одной строкой: группировка таблицы moscow_general по столбцу 'genre', \n",
    "# подсчёт числа значений 'genre' в этой группировке методом count(), \n",
    "# сортировка получившегося Series в порядке убывания и сохранение в moscow_genres"
   ]
  },
  {
   "cell_type": "markdown",
   "metadata": {
    "deletable": false,
    "editable": false,
    "id": "6kMuomxTiIr8",
    "tags": [
     "start_task"
    ]
   },
   "source": [
    "**Задание 27**\n",
    "\n",
    "Выведите на экран первые десять строк `moscow_genres`:"
   ]
  },
  {
   "cell_type": "code",
   "execution_count": 36,
   "metadata": {
    "deletable": false,
    "id": "WhCSooF8_Zcv"
   },
   "outputs": [
    {
     "data": {
      "text/plain": [
       "genre\n",
       "pop            5892\n",
       "dance          4435\n",
       "rock           3965\n",
       "electronic     3786\n",
       "hiphop         2096\n",
       "classical      1616\n",
       "world          1432\n",
       "alternative    1379\n",
       "ruspop         1372\n",
       "rusrap         1161\n",
       "Name: genre, dtype: int64"
      ]
     },
     "execution_count": 36,
     "metadata": {},
     "output_type": "execute_result"
    }
   ],
   "source": [
    "moscow_genres.head(10)# просмотр первых 10 строк moscow_genres"
   ]
  },
  {
   "cell_type": "markdown",
   "metadata": {
    "deletable": false,
    "editable": false,
    "id": "cnPG2vnN_Zcv",
    "tags": [
     "start_task"
    ]
   },
   "source": [
    "**Задание 28**\n",
    "\n",
    "\n",
    "Теперь повторите то же и для Петербурга.\n",
    "\n",
    "Сгруппируйте таблицу `spb_general` по жанру. Посчитайте прослушивания треков каждого жанра. Результат отсортируйте в порядке убывания и сохраните в таблице `spb_genres`:\n"
   ]
  },
  {
   "cell_type": "code",
   "execution_count": 37,
   "metadata": {
    "deletable": false,
    "id": "gluLIpE7_Zcv"
   },
   "outputs": [],
   "source": [
    "spb_genres = spb_general.groupby('genre')['genre'].count()\n",
    "spb_genres = spb_genres.sort_values(ascending=False)# одной строкой: группировка таблицы spb_general по столбцу 'genre', \n",
    "# подсчёт числа значений 'genre' в этой группировке методом count(), \n",
    "# сортировка получившегося Series в порядке убывания и сохранение в spb_genres"
   ]
  },
  {
   "cell_type": "markdown",
   "metadata": {
    "deletable": false,
    "editable": false,
    "id": "5Doha_ODgyQ8",
    "tags": [
     "start_task"
    ]
   },
   "source": [
    "**Задание 29**\n",
    "\n",
    "Выведите на экран первые десять строк `spb_genres`:"
   ]
  },
  {
   "cell_type": "code",
   "execution_count": 38,
   "metadata": {
    "deletable": false,
    "id": "uaGJHjVU_Zcv"
   },
   "outputs": [],
   "source": [
    "spb_genres.head(10)# просмотр первых 10 строк spb_genres"
   ]
  },
  {
   "cell_type": "markdown",
   "metadata": {
    "deletable": false,
    "editable": false,
    "id": "RY51YJYu_Zcv"
   },
   "source": [
    "**Выводы**"
   ]
  },
  {
   "cell_type": "markdown",
   "metadata": {
    "deletable": false,
    "editable": false,
    "id": "nVhnJEm__Zcv"
   },
   "source": [
    "Гипотеза частично подтвердилась:\n",
    "* Поп-музыка — самый популярный жанр в Москве, как и предполагала гипотеза. Более того, в топ-10 жанров встречается близкий жанр — русская популярная музыка.\n",
    "* Вопреки ожиданиям, рэп одинаково популярен в Москве и Петербурге. \n"
   ]
  },
  {
   "cell_type": "markdown",
   "metadata": {
    "deletable": false,
    "editable": false,
    "id": "ykKQ0N65_Zcv"
   },
   "source": [
    "## Итоги исследования"
   ]
  },
  {
   "cell_type": "markdown",
   "metadata": {
    "deletable": false,
    "editable": false,
    "id": "tjUwbHb3_Zcv"
   },
   "source": [
    "Вы проверили три гипотезы и установили:\n",
    "\n",
    "1. День недели по-разному влияет на активность пользователей в Москве и Петербурге. \n",
    "\n",
    "Первая гипотеза полностью подтвердилась.\n",
    "\n",
    "2. Музыкальные предпочтения не сильно меняются в течение недели — будь то Москва или Петербург. Небольшие различия заметны в начале недели, по понедельникам:\n",
    "* в Москве слушают музыку жанра “world”,\n",
    "* в Петербурге — джаз и классику.\n",
    "\n",
    "Таким образом, вторая гипотеза подтвердилась лишь отчасти. Этот результат мог оказаться иным, если бы не пропуски в данных.\n",
    "\n",
    "3. Во вкусах пользователей Москвы и Петербурга больше общего чем различий. Вопреки ожиданиям, предпочтения жанров в Петербурге напоминают московские.\n",
    "\n",
    "Третья гипотеза не подтвердилась. Если различия в предпочтениях и существуют, на основной массе пользователей они незаметны.\n",
    "\n",
    "**На практике исследования содержат проверки статистических гипотез.**\n",
    "Из данных одного сервиса не всегда можно сделать вывод о всех жителях города.\n",
    "Проверки статистических гипотез покажут, насколько они достоверны, исходя из имеющихся данных. \n",
    "С методами проверок гипотез вы ещё познакомитесь в следующих темах."
   ]
  }
 ],
 "metadata": {
  "ExecuteTimeLog": [
   {
    "duration": 58,
    "start_time": "2022-09-03T10:26:47.150Z"
   },
   {
    "duration": 8,
    "start_time": "2022-09-03T10:27:14.181Z"
   },
   {
    "duration": 6,
    "start_time": "2022-09-03T10:28:21.741Z"
   },
   {
    "duration": 6,
    "start_time": "2022-09-03T10:28:24.975Z"
   },
   {
    "duration": 6,
    "start_time": "2022-09-03T10:33:28.724Z"
   },
   {
    "duration": 448,
    "start_time": "2022-09-03T11:02:07.616Z"
   },
   {
    "duration": 305,
    "start_time": "2022-09-03T11:02:08.066Z"
   },
   {
    "duration": 23,
    "start_time": "2022-09-03T11:02:08.373Z"
   },
   {
    "duration": 34,
    "start_time": "2022-09-03T11:02:08.399Z"
   },
   {
    "duration": 3,
    "start_time": "2022-09-03T11:02:08.434Z"
   },
   {
    "duration": 7,
    "start_time": "2022-09-03T11:02:08.438Z"
   },
   {
    "duration": 9,
    "start_time": "2022-09-03T11:02:08.446Z"
   },
   {
    "duration": 23,
    "start_time": "2022-09-03T11:02:08.457Z"
   },
   {
    "duration": 44,
    "start_time": "2022-09-03T11:02:08.481Z"
   },
   {
    "duration": 66,
    "start_time": "2022-09-03T11:02:08.528Z"
   },
   {
    "duration": 0,
    "start_time": "2022-09-03T11:02:08.596Z"
   },
   {
    "duration": 0,
    "start_time": "2022-09-03T11:02:08.599Z"
   },
   {
    "duration": 0,
    "start_time": "2022-09-03T11:02:08.600Z"
   },
   {
    "duration": 0,
    "start_time": "2022-09-03T11:02:08.601Z"
   },
   {
    "duration": 0,
    "start_time": "2022-09-03T11:02:08.602Z"
   },
   {
    "duration": 0,
    "start_time": "2022-09-03T11:02:08.603Z"
   },
   {
    "duration": 0,
    "start_time": "2022-09-03T11:02:08.604Z"
   },
   {
    "duration": 0,
    "start_time": "2022-09-03T11:02:08.605Z"
   },
   {
    "duration": 0,
    "start_time": "2022-09-03T11:02:08.607Z"
   },
   {
    "duration": 0,
    "start_time": "2022-09-03T11:02:08.609Z"
   },
   {
    "duration": 0,
    "start_time": "2022-09-03T11:02:08.610Z"
   },
   {
    "duration": 0,
    "start_time": "2022-09-03T11:02:08.611Z"
   },
   {
    "duration": 0,
    "start_time": "2022-09-03T11:02:08.612Z"
   },
   {
    "duration": 0,
    "start_time": "2022-09-03T11:02:08.613Z"
   },
   {
    "duration": 0,
    "start_time": "2022-09-03T11:02:08.614Z"
   },
   {
    "duration": 0,
    "start_time": "2022-09-03T11:02:08.615Z"
   },
   {
    "duration": 0,
    "start_time": "2022-09-03T11:02:08.616Z"
   },
   {
    "duration": 0,
    "start_time": "2022-09-03T11:02:08.617Z"
   },
   {
    "duration": 0,
    "start_time": "2022-09-03T11:02:08.618Z"
   },
   {
    "duration": 0,
    "start_time": "2022-09-03T11:02:08.620Z"
   },
   {
    "duration": 0,
    "start_time": "2022-09-03T11:02:08.620Z"
   },
   {
    "duration": 0,
    "start_time": "2022-09-03T11:02:08.622Z"
   },
   {
    "duration": 0,
    "start_time": "2022-09-03T11:02:08.622Z"
   },
   {
    "duration": 0,
    "start_time": "2022-09-03T11:02:08.624Z"
   },
   {
    "duration": 0,
    "start_time": "2022-09-03T11:02:08.624Z"
   },
   {
    "duration": 0,
    "start_time": "2022-09-03T11:02:08.626Z"
   },
   {
    "duration": 0,
    "start_time": "2022-09-03T11:02:08.627Z"
   },
   {
    "duration": 0,
    "start_time": "2022-09-03T11:02:08.628Z"
   },
   {
    "duration": 44,
    "start_time": "2022-09-03T11:31:18.173Z"
   },
   {
    "duration": 43,
    "start_time": "2022-09-03T11:31:23.286Z"
   },
   {
    "duration": 44,
    "start_time": "2022-09-03T11:31:29.040Z"
   },
   {
    "duration": 45,
    "start_time": "2022-09-03T11:31:42.542Z"
   },
   {
    "duration": 59,
    "start_time": "2022-09-03T11:32:10.960Z"
   },
   {
    "duration": 8,
    "start_time": "2022-09-03T11:41:02.935Z"
   },
   {
    "duration": 479,
    "start_time": "2022-09-03T11:44:51.890Z"
   },
   {
    "duration": 182,
    "start_time": "2022-09-03T11:44:52.371Z"
   },
   {
    "duration": 18,
    "start_time": "2022-09-03T11:44:52.555Z"
   },
   {
    "duration": 41,
    "start_time": "2022-09-03T11:44:52.575Z"
   },
   {
    "duration": 5,
    "start_time": "2022-09-03T11:44:52.619Z"
   },
   {
    "duration": 12,
    "start_time": "2022-09-03T11:44:52.625Z"
   },
   {
    "duration": 36,
    "start_time": "2022-09-03T11:44:52.639Z"
   },
   {
    "duration": 16,
    "start_time": "2022-09-03T11:44:52.677Z"
   },
   {
    "duration": 38,
    "start_time": "2022-09-03T11:44:52.694Z"
   },
   {
    "duration": 28,
    "start_time": "2022-09-03T11:44:52.734Z"
   },
   {
    "duration": 27,
    "start_time": "2022-09-03T11:44:52.764Z"
   },
   {
    "duration": 78,
    "start_time": "2022-09-03T11:44:52.792Z"
   },
   {
    "duration": 92,
    "start_time": "2022-09-03T11:44:52.872Z"
   },
   {
    "duration": 78,
    "start_time": "2022-09-03T11:44:52.967Z"
   },
   {
    "duration": 49,
    "start_time": "2022-09-03T11:44:53.046Z"
   },
   {
    "duration": 15,
    "start_time": "2022-09-03T11:44:53.096Z"
   },
   {
    "duration": 3,
    "start_time": "2022-09-03T11:44:53.112Z"
   },
   {
    "duration": 15,
    "start_time": "2022-09-03T11:44:53.117Z"
   },
   {
    "duration": 8,
    "start_time": "2022-09-03T11:44:53.133Z"
   },
   {
    "duration": 6,
    "start_time": "2022-09-03T11:44:53.142Z"
   },
   {
    "duration": 7,
    "start_time": "2022-09-03T11:44:53.150Z"
   },
   {
    "duration": 15,
    "start_time": "2022-09-03T11:44:53.159Z"
   },
   {
    "duration": 16,
    "start_time": "2022-09-03T11:44:53.176Z"
   },
   {
    "duration": 6,
    "start_time": "2022-09-03T11:44:53.194Z"
   },
   {
    "duration": 18,
    "start_time": "2022-09-03T11:44:53.202Z"
   },
   {
    "duration": 10,
    "start_time": "2022-09-03T11:44:53.222Z"
   },
   {
    "duration": 5,
    "start_time": "2022-09-03T11:44:53.234Z"
   },
   {
    "duration": 7,
    "start_time": "2022-09-03T11:44:53.241Z"
   },
   {
    "duration": 8,
    "start_time": "2022-09-03T11:44:53.250Z"
   },
   {
    "duration": 84,
    "start_time": "2022-09-03T11:44:53.261Z"
   },
   {
    "duration": 0,
    "start_time": "2022-09-03T11:44:53.347Z"
   },
   {
    "duration": 0,
    "start_time": "2022-09-03T11:44:53.350Z"
   },
   {
    "duration": 0,
    "start_time": "2022-09-03T11:44:53.352Z"
   },
   {
    "duration": 0,
    "start_time": "2022-09-03T11:44:53.353Z"
   },
   {
    "duration": 0,
    "start_time": "2022-09-03T11:44:53.354Z"
   },
   {
    "duration": 1,
    "start_time": "2022-09-03T11:44:53.355Z"
   },
   {
    "duration": 0,
    "start_time": "2022-09-03T11:44:53.356Z"
   },
   {
    "duration": 0,
    "start_time": "2022-09-03T11:44:53.358Z"
   },
   {
    "duration": 1232,
    "start_time": "2022-09-03T11:51:02.110Z"
   },
   {
    "duration": 1009,
    "start_time": "2022-09-03T11:51:24.184Z"
   },
   {
    "duration": 1428,
    "start_time": "2022-09-03T11:52:22.051Z"
   },
   {
    "duration": 963,
    "start_time": "2022-09-03T11:52:50.504Z"
   },
   {
    "duration": 2757,
    "start_time": "2022-09-03T12:36:19.001Z"
   },
   {
    "duration": 1129,
    "start_time": "2022-09-03T13:17:29.655Z"
   },
   {
    "duration": 853,
    "start_time": "2022-09-03T13:19:42.375Z"
   },
   {
    "duration": 446,
    "start_time": "2022-09-03T13:21:04.265Z"
   },
   {
    "duration": 179,
    "start_time": "2022-09-03T13:21:04.713Z"
   },
   {
    "duration": 19,
    "start_time": "2022-09-03T13:21:04.893Z"
   },
   {
    "duration": 36,
    "start_time": "2022-09-03T13:21:04.914Z"
   },
   {
    "duration": 3,
    "start_time": "2022-09-03T13:21:04.952Z"
   },
   {
    "duration": 8,
    "start_time": "2022-09-03T13:21:04.956Z"
   },
   {
    "duration": 27,
    "start_time": "2022-09-03T13:21:04.965Z"
   },
   {
    "duration": 6,
    "start_time": "2022-09-03T13:21:04.993Z"
   },
   {
    "duration": 29,
    "start_time": "2022-09-03T13:21:05.001Z"
   },
   {
    "duration": 24,
    "start_time": "2022-09-03T13:21:05.033Z"
   },
   {
    "duration": 46,
    "start_time": "2022-09-03T13:21:05.059Z"
   },
   {
    "duration": 74,
    "start_time": "2022-09-03T13:21:05.107Z"
   },
   {
    "duration": 81,
    "start_time": "2022-09-03T13:21:05.192Z"
   },
   {
    "duration": 79,
    "start_time": "2022-09-03T13:21:05.274Z"
   },
   {
    "duration": 55,
    "start_time": "2022-09-03T13:21:05.355Z"
   },
   {
    "duration": 12,
    "start_time": "2022-09-03T13:21:05.412Z"
   },
   {
    "duration": 84,
    "start_time": "2022-09-03T13:21:05.425Z"
   },
   {
    "duration": 0,
    "start_time": "2022-09-03T13:21:05.511Z"
   },
   {
    "duration": 0,
    "start_time": "2022-09-03T13:21:05.512Z"
   },
   {
    "duration": 0,
    "start_time": "2022-09-03T13:21:05.513Z"
   },
   {
    "duration": 0,
    "start_time": "2022-09-03T13:21:05.514Z"
   },
   {
    "duration": 0,
    "start_time": "2022-09-03T13:21:05.515Z"
   },
   {
    "duration": 0,
    "start_time": "2022-09-03T13:21:05.515Z"
   },
   {
    "duration": 0,
    "start_time": "2022-09-03T13:21:05.516Z"
   },
   {
    "duration": 0,
    "start_time": "2022-09-03T13:21:05.518Z"
   },
   {
    "duration": 0,
    "start_time": "2022-09-03T13:21:05.519Z"
   },
   {
    "duration": 0,
    "start_time": "2022-09-03T13:21:05.520Z"
   },
   {
    "duration": 0,
    "start_time": "2022-09-03T13:21:05.521Z"
   },
   {
    "duration": 0,
    "start_time": "2022-09-03T13:21:05.522Z"
   },
   {
    "duration": 0,
    "start_time": "2022-09-03T13:21:05.523Z"
   },
   {
    "duration": 0,
    "start_time": "2022-09-03T13:21:05.524Z"
   },
   {
    "duration": 0,
    "start_time": "2022-09-03T13:21:05.525Z"
   },
   {
    "duration": 0,
    "start_time": "2022-09-03T13:21:05.526Z"
   },
   {
    "duration": 0,
    "start_time": "2022-09-03T13:21:05.527Z"
   },
   {
    "duration": 0,
    "start_time": "2022-09-03T13:21:05.528Z"
   },
   {
    "duration": 0,
    "start_time": "2022-09-03T13:21:05.530Z"
   },
   {
    "duration": 0,
    "start_time": "2022-09-03T13:21:05.531Z"
   },
   {
    "duration": 0,
    "start_time": "2022-09-03T13:21:05.532Z"
   },
   {
    "duration": 39,
    "start_time": "2022-09-03T13:23:00.547Z"
   },
   {
    "duration": 42,
    "start_time": "2022-09-03T13:23:17.597Z"
   },
   {
    "duration": 39,
    "start_time": "2022-09-03T13:23:34.567Z"
   },
   {
    "duration": 42,
    "start_time": "2022-09-03T13:23:37.465Z"
   },
   {
    "duration": 44,
    "start_time": "2022-09-03T13:25:41.454Z"
   },
   {
    "duration": 41,
    "start_time": "2022-09-03T13:30:55.433Z"
   },
   {
    "duration": 51,
    "start_time": "2022-09-03T13:30:58.564Z"
   },
   {
    "duration": 10,
    "start_time": "2022-09-03T13:31:09.761Z"
   },
   {
    "duration": 10,
    "start_time": "2022-09-03T13:31:12.924Z"
   },
   {
    "duration": 40,
    "start_time": "2022-09-03T13:31:18.310Z"
   },
   {
    "duration": 8,
    "start_time": "2022-09-03T13:31:29.832Z"
   },
   {
    "duration": 46,
    "start_time": "2022-09-03T13:31:40.930Z"
   },
   {
    "duration": 9,
    "start_time": "2022-09-03T13:31:47.761Z"
   },
   {
    "duration": 46,
    "start_time": "2022-09-03T13:31:52.284Z"
   },
   {
    "duration": 53,
    "start_time": "2022-09-03T13:32:56.751Z"
   },
   {
    "duration": 37,
    "start_time": "2022-09-03T13:33:23.752Z"
   },
   {
    "duration": 39,
    "start_time": "2022-09-03T13:33:31.284Z"
   },
   {
    "duration": 51,
    "start_time": "2022-09-04T09:11:13.347Z"
   },
   {
    "duration": 467,
    "start_time": "2022-09-04T09:12:31.706Z"
   },
   {
    "duration": 469,
    "start_time": "2022-09-04T09:12:32.175Z"
   },
   {
    "duration": 18,
    "start_time": "2022-09-04T09:12:32.645Z"
   },
   {
    "duration": 31,
    "start_time": "2022-09-04T09:12:32.665Z"
   },
   {
    "duration": 3,
    "start_time": "2022-09-04T09:12:32.698Z"
   },
   {
    "duration": 9,
    "start_time": "2022-09-04T09:12:32.702Z"
   },
   {
    "duration": 5,
    "start_time": "2022-09-04T09:12:32.712Z"
   },
   {
    "duration": 8,
    "start_time": "2022-09-04T09:12:32.719Z"
   },
   {
    "duration": 28,
    "start_time": "2022-09-04T09:12:32.729Z"
   },
   {
    "duration": 42,
    "start_time": "2022-09-04T09:12:32.760Z"
   },
   {
    "duration": 26,
    "start_time": "2022-09-04T09:12:32.804Z"
   },
   {
    "duration": 83,
    "start_time": "2022-09-04T09:12:32.831Z"
   },
   {
    "duration": 92,
    "start_time": "2022-09-04T09:12:32.915Z"
   },
   {
    "duration": 66,
    "start_time": "2022-09-04T09:12:33.009Z"
   },
   {
    "duration": 57,
    "start_time": "2022-09-04T09:12:33.077Z"
   },
   {
    "duration": 11,
    "start_time": "2022-09-04T09:12:33.136Z"
   },
   {
    "duration": 59,
    "start_time": "2022-09-04T09:12:33.149Z"
   },
   {
    "duration": 32,
    "start_time": "2022-09-04T09:12:33.210Z"
   },
   {
    "duration": 2,
    "start_time": "2022-09-04T09:12:33.244Z"
   },
   {
    "duration": 8,
    "start_time": "2022-09-04T09:12:33.248Z"
   },
   {
    "duration": 7,
    "start_time": "2022-09-04T09:12:33.258Z"
   },
   {
    "duration": 5,
    "start_time": "2022-09-04T09:12:33.267Z"
   },
   {
    "duration": 18,
    "start_time": "2022-09-04T09:12:33.274Z"
   },
   {
    "duration": 2,
    "start_time": "2022-09-04T09:12:33.294Z"
   },
   {
    "duration": 5,
    "start_time": "2022-09-04T09:12:33.297Z"
   },
   {
    "duration": 5,
    "start_time": "2022-09-04T09:12:33.303Z"
   },
   {
    "duration": 5,
    "start_time": "2022-09-04T09:12:33.309Z"
   },
   {
    "duration": 6,
    "start_time": "2022-09-04T09:12:33.316Z"
   },
   {
    "duration": 7,
    "start_time": "2022-09-04T09:12:33.323Z"
   },
   {
    "duration": 71,
    "start_time": "2022-09-04T09:12:33.331Z"
   },
   {
    "duration": 0,
    "start_time": "2022-09-04T09:12:33.404Z"
   },
   {
    "duration": 0,
    "start_time": "2022-09-04T09:12:33.405Z"
   },
   {
    "duration": 0,
    "start_time": "2022-09-04T09:12:33.406Z"
   },
   {
    "duration": 0,
    "start_time": "2022-09-04T09:12:33.407Z"
   },
   {
    "duration": 0,
    "start_time": "2022-09-04T09:12:33.408Z"
   },
   {
    "duration": 0,
    "start_time": "2022-09-04T09:12:33.409Z"
   },
   {
    "duration": 0,
    "start_time": "2022-09-04T09:12:33.411Z"
   },
   {
    "duration": 0,
    "start_time": "2022-09-04T09:12:33.412Z"
   },
   {
    "duration": 12,
    "start_time": "2022-09-04T09:13:19.138Z"
   },
   {
    "duration": 10,
    "start_time": "2022-09-04T09:13:28.452Z"
   },
   {
    "duration": 10,
    "start_time": "2022-09-04T09:13:39.401Z"
   },
   {
    "duration": 10,
    "start_time": "2022-09-04T09:14:18.840Z"
   },
   {
    "duration": 12,
    "start_time": "2022-09-04T09:14:31.007Z"
   },
   {
    "duration": 4,
    "start_time": "2022-09-04T09:15:59.280Z"
   },
   {
    "duration": 10,
    "start_time": "2022-09-04T09:16:54.024Z"
   },
   {
    "duration": 3,
    "start_time": "2022-09-04T09:32:52.544Z"
   },
   {
    "duration": 1677,
    "start_time": "2022-09-04T10:04:54.234Z"
   },
   {
    "duration": 438,
    "start_time": "2022-09-04T10:10:45.358Z"
   },
   {
    "duration": 187,
    "start_time": "2022-09-04T10:10:45.798Z"
   },
   {
    "duration": 24,
    "start_time": "2022-09-04T10:10:45.987Z"
   },
   {
    "duration": 32,
    "start_time": "2022-09-04T10:10:46.013Z"
   },
   {
    "duration": 3,
    "start_time": "2022-09-04T10:10:46.046Z"
   },
   {
    "duration": 10,
    "start_time": "2022-09-04T10:10:46.050Z"
   },
   {
    "duration": 6,
    "start_time": "2022-09-04T10:10:46.061Z"
   },
   {
    "duration": 25,
    "start_time": "2022-09-04T10:10:46.068Z"
   },
   {
    "duration": 27,
    "start_time": "2022-09-04T10:10:46.095Z"
   },
   {
    "duration": 20,
    "start_time": "2022-09-04T10:10:46.125Z"
   },
   {
    "duration": 45,
    "start_time": "2022-09-04T10:10:46.147Z"
   },
   {
    "duration": 69,
    "start_time": "2022-09-04T10:10:46.194Z"
   },
   {
    "duration": 100,
    "start_time": "2022-09-04T10:10:46.265Z"
   },
   {
    "duration": 68,
    "start_time": "2022-09-04T10:10:46.367Z"
   },
   {
    "duration": 56,
    "start_time": "2022-09-04T10:10:46.436Z"
   },
   {
    "duration": 12,
    "start_time": "2022-09-04T10:10:46.494Z"
   },
   {
    "duration": 41,
    "start_time": "2022-09-04T10:10:46.508Z"
   },
   {
    "duration": 11,
    "start_time": "2022-09-04T10:10:46.551Z"
   },
   {
    "duration": 32,
    "start_time": "2022-09-04T10:10:46.564Z"
   },
   {
    "duration": 4,
    "start_time": "2022-09-04T10:10:46.598Z"
   },
   {
    "duration": 21,
    "start_time": "2022-09-04T10:10:46.603Z"
   },
   {
    "duration": 15,
    "start_time": "2022-09-04T10:10:46.625Z"
   },
   {
    "duration": 14,
    "start_time": "2022-09-04T10:10:46.642Z"
   },
   {
    "duration": 43,
    "start_time": "2022-09-04T10:10:46.658Z"
   },
   {
    "duration": 18,
    "start_time": "2022-09-04T10:10:46.702Z"
   },
   {
    "duration": 15,
    "start_time": "2022-09-04T10:10:46.721Z"
   },
   {
    "duration": 95,
    "start_time": "2022-09-04T10:10:46.737Z"
   },
   {
    "duration": 0,
    "start_time": "2022-09-04T10:10:46.835Z"
   },
   {
    "duration": 0,
    "start_time": "2022-09-04T10:10:46.837Z"
   },
   {
    "duration": 0,
    "start_time": "2022-09-04T10:10:46.838Z"
   },
   {
    "duration": 0,
    "start_time": "2022-09-04T10:10:46.839Z"
   },
   {
    "duration": 0,
    "start_time": "2022-09-04T10:10:46.841Z"
   },
   {
    "duration": 0,
    "start_time": "2022-09-04T10:10:46.842Z"
   },
   {
    "duration": 0,
    "start_time": "2022-09-04T10:10:46.844Z"
   },
   {
    "duration": 0,
    "start_time": "2022-09-04T10:10:46.845Z"
   },
   {
    "duration": 0,
    "start_time": "2022-09-04T10:10:46.846Z"
   },
   {
    "duration": 0,
    "start_time": "2022-09-04T10:10:46.847Z"
   },
   {
    "duration": 0,
    "start_time": "2022-09-04T10:10:46.849Z"
   },
   {
    "duration": 10,
    "start_time": "2022-09-04T10:14:27.156Z"
   },
   {
    "duration": 4,
    "start_time": "2022-09-04T10:15:38.964Z"
   },
   {
    "duration": 17,
    "start_time": "2022-09-04T10:17:56.184Z"
   },
   {
    "duration": 15,
    "start_time": "2022-09-04T10:18:52.835Z"
   },
   {
    "duration": 5,
    "start_time": "2022-09-04T10:34:21.088Z"
   },
   {
    "duration": 4,
    "start_time": "2022-09-04T10:34:31.505Z"
   },
   {
    "duration": 401,
    "start_time": "2022-09-04T10:34:38.162Z"
   },
   {
    "duration": 194,
    "start_time": "2022-09-04T10:34:38.565Z"
   },
   {
    "duration": 31,
    "start_time": "2022-09-04T10:34:38.762Z"
   },
   {
    "duration": 36,
    "start_time": "2022-09-04T10:34:38.798Z"
   },
   {
    "duration": 3,
    "start_time": "2022-09-04T10:34:38.836Z"
   },
   {
    "duration": 9,
    "start_time": "2022-09-04T10:34:38.840Z"
   },
   {
    "duration": 5,
    "start_time": "2022-09-04T10:34:38.851Z"
   },
   {
    "duration": 6,
    "start_time": "2022-09-04T10:34:38.859Z"
   },
   {
    "duration": 57,
    "start_time": "2022-09-04T10:34:38.867Z"
   },
   {
    "duration": 22,
    "start_time": "2022-09-04T10:34:38.927Z"
   },
   {
    "duration": 56,
    "start_time": "2022-09-04T10:34:38.951Z"
   },
   {
    "duration": 77,
    "start_time": "2022-09-04T10:34:39.009Z"
   },
   {
    "duration": 131,
    "start_time": "2022-09-04T10:34:39.088Z"
   },
   {
    "duration": 73,
    "start_time": "2022-09-04T10:34:39.221Z"
   },
   {
    "duration": 68,
    "start_time": "2022-09-04T10:34:39.300Z"
   },
   {
    "duration": 35,
    "start_time": "2022-09-04T10:34:39.370Z"
   },
   {
    "duration": 55,
    "start_time": "2022-09-04T10:34:39.412Z"
   },
   {
    "duration": 13,
    "start_time": "2022-09-04T10:34:39.469Z"
   },
   {
    "duration": 25,
    "start_time": "2022-09-04T10:34:39.484Z"
   },
   {
    "duration": 20,
    "start_time": "2022-09-04T10:34:39.511Z"
   },
   {
    "duration": 31,
    "start_time": "2022-09-04T10:34:39.533Z"
   },
   {
    "duration": 51,
    "start_time": "2022-09-04T10:34:39.566Z"
   },
   {
    "duration": 30,
    "start_time": "2022-09-04T10:34:39.619Z"
   },
   {
    "duration": 21,
    "start_time": "2022-09-04T10:34:39.651Z"
   },
   {
    "duration": 34,
    "start_time": "2022-09-04T10:34:39.674Z"
   },
   {
    "duration": 25,
    "start_time": "2022-09-04T10:34:39.710Z"
   },
   {
    "duration": 5,
    "start_time": "2022-09-04T10:34:39.736Z"
   },
   {
    "duration": 19,
    "start_time": "2022-09-04T10:34:39.744Z"
   },
   {
    "duration": 12,
    "start_time": "2022-09-04T10:34:39.765Z"
   },
   {
    "duration": 18,
    "start_time": "2022-09-04T10:34:39.779Z"
   },
   {
    "duration": 28,
    "start_time": "2022-09-04T10:34:39.799Z"
   },
   {
    "duration": 7,
    "start_time": "2022-09-04T10:34:39.829Z"
   },
   {
    "duration": 7,
    "start_time": "2022-09-04T10:34:39.837Z"
   },
   {
    "duration": 12,
    "start_time": "2022-09-04T10:34:39.846Z"
   },
   {
    "duration": 5,
    "start_time": "2022-09-04T10:34:39.859Z"
   },
   {
    "duration": 11,
    "start_time": "2022-09-04T10:34:39.866Z"
   },
   {
    "duration": 19,
    "start_time": "2022-09-04T10:34:39.879Z"
   },
   {
    "duration": 14,
    "start_time": "2022-09-04T10:34:39.899Z"
   },
   {
    "duration": 4,
    "start_time": "2022-09-04T10:36:14.740Z"
   },
   {
    "duration": 439,
    "start_time": "2022-09-04T10:41:02.085Z"
   },
   {
    "duration": 181,
    "start_time": "2022-09-04T10:41:02.525Z"
   },
   {
    "duration": 22,
    "start_time": "2022-09-04T10:41:02.707Z"
   },
   {
    "duration": 65,
    "start_time": "2022-09-04T10:41:02.732Z"
   },
   {
    "duration": 3,
    "start_time": "2022-09-04T10:41:02.800Z"
   },
   {
    "duration": 6,
    "start_time": "2022-09-04T10:41:02.806Z"
   },
   {
    "duration": 8,
    "start_time": "2022-09-04T10:41:02.813Z"
   },
   {
    "duration": 13,
    "start_time": "2022-09-04T10:41:02.822Z"
   },
   {
    "duration": 28,
    "start_time": "2022-09-04T10:41:02.836Z"
   },
   {
    "duration": 34,
    "start_time": "2022-09-04T10:41:02.867Z"
   },
   {
    "duration": 26,
    "start_time": "2022-09-04T10:41:02.903Z"
   },
   {
    "duration": 84,
    "start_time": "2022-09-04T10:41:02.931Z"
   },
   {
    "duration": 89,
    "start_time": "2022-09-04T10:41:03.017Z"
   },
   {
    "duration": 64,
    "start_time": "2022-09-04T10:41:03.108Z"
   },
   {
    "duration": 60,
    "start_time": "2022-09-04T10:41:03.174Z"
   },
   {
    "duration": 13,
    "start_time": "2022-09-04T10:41:03.236Z"
   },
   {
    "duration": 63,
    "start_time": "2022-09-04T10:41:03.251Z"
   },
   {
    "duration": 12,
    "start_time": "2022-09-04T10:41:03.316Z"
   },
   {
    "duration": 12,
    "start_time": "2022-09-04T10:41:03.329Z"
   },
   {
    "duration": 3,
    "start_time": "2022-09-04T10:41:03.343Z"
   },
   {
    "duration": 45,
    "start_time": "2022-09-04T10:41:03.348Z"
   },
   {
    "duration": 16,
    "start_time": "2022-09-04T10:41:03.394Z"
   },
   {
    "duration": 19,
    "start_time": "2022-09-04T10:41:03.411Z"
   },
   {
    "duration": 16,
    "start_time": "2022-09-04T10:41:03.432Z"
   },
   {
    "duration": 48,
    "start_time": "2022-09-04T10:41:03.450Z"
   },
   {
    "duration": 15,
    "start_time": "2022-09-04T10:41:03.500Z"
   },
   {
    "duration": 5,
    "start_time": "2022-09-04T10:41:03.516Z"
   },
   {
    "duration": 12,
    "start_time": "2022-09-04T10:41:03.524Z"
   },
   {
    "duration": 12,
    "start_time": "2022-09-04T10:41:03.538Z"
   },
   {
    "duration": 4,
    "start_time": "2022-09-04T10:41:03.552Z"
   },
   {
    "duration": 34,
    "start_time": "2022-09-04T10:41:03.558Z"
   },
   {
    "duration": 6,
    "start_time": "2022-09-04T10:41:03.594Z"
   },
   {
    "duration": 5,
    "start_time": "2022-09-04T10:41:03.602Z"
   },
   {
    "duration": 6,
    "start_time": "2022-09-04T10:41:03.608Z"
   },
   {
    "duration": 8,
    "start_time": "2022-09-04T10:41:03.615Z"
   },
   {
    "duration": 9,
    "start_time": "2022-09-04T10:41:03.624Z"
   },
   {
    "duration": 8,
    "start_time": "2022-09-04T10:41:03.635Z"
   },
   {
    "duration": 5,
    "start_time": "2022-09-04T10:41:03.645Z"
   },
   {
    "duration": 417,
    "start_time": "2022-09-04T10:49:18.084Z"
   },
   {
    "duration": 186,
    "start_time": "2022-09-04T10:49:18.503Z"
   },
   {
    "duration": 18,
    "start_time": "2022-09-04T10:49:18.691Z"
   },
   {
    "duration": 35,
    "start_time": "2022-09-04T10:49:18.711Z"
   },
   {
    "duration": 3,
    "start_time": "2022-09-04T10:49:18.748Z"
   },
   {
    "duration": 8,
    "start_time": "2022-09-04T10:49:18.752Z"
   },
   {
    "duration": 6,
    "start_time": "2022-09-04T10:49:18.791Z"
   },
   {
    "duration": 20,
    "start_time": "2022-09-04T10:49:18.799Z"
   },
   {
    "duration": 29,
    "start_time": "2022-09-04T10:49:18.820Z"
   },
   {
    "duration": 23,
    "start_time": "2022-09-04T10:49:18.852Z"
   },
   {
    "duration": 39,
    "start_time": "2022-09-04T10:49:18.877Z"
   },
   {
    "duration": 83,
    "start_time": "2022-09-04T10:49:18.918Z"
   },
   {
    "duration": 115,
    "start_time": "2022-09-04T10:49:19.003Z"
   },
   {
    "duration": 72,
    "start_time": "2022-09-04T10:49:19.120Z"
   },
   {
    "duration": 45,
    "start_time": "2022-09-04T10:49:19.194Z"
   },
   {
    "duration": 13,
    "start_time": "2022-09-04T10:49:19.241Z"
   },
   {
    "duration": 86,
    "start_time": "2022-09-04T10:49:19.256Z"
   },
   {
    "duration": 16,
    "start_time": "2022-09-04T10:49:19.344Z"
   },
   {
    "duration": 33,
    "start_time": "2022-09-04T10:49:19.362Z"
   },
   {
    "duration": 5,
    "start_time": "2022-09-04T10:49:19.397Z"
   },
   {
    "duration": 55,
    "start_time": "2022-09-04T10:49:19.404Z"
   },
   {
    "duration": 32,
    "start_time": "2022-09-04T10:49:19.461Z"
   },
   {
    "duration": 47,
    "start_time": "2022-09-04T10:49:19.495Z"
   },
   {
    "duration": 19,
    "start_time": "2022-09-04T10:49:19.544Z"
   },
   {
    "duration": 34,
    "start_time": "2022-09-04T10:49:19.565Z"
   },
   {
    "duration": 31,
    "start_time": "2022-09-04T10:49:19.600Z"
   },
   {
    "duration": 23,
    "start_time": "2022-09-04T10:49:19.633Z"
   },
   {
    "duration": 30,
    "start_time": "2022-09-04T10:49:19.661Z"
   },
   {
    "duration": 24,
    "start_time": "2022-09-04T10:49:19.693Z"
   },
   {
    "duration": 17,
    "start_time": "2022-09-04T10:49:19.720Z"
   },
   {
    "duration": 67,
    "start_time": "2022-09-04T10:49:19.739Z"
   },
   {
    "duration": 17,
    "start_time": "2022-09-04T10:49:19.808Z"
   },
   {
    "duration": 24,
    "start_time": "2022-09-04T10:49:19.828Z"
   },
   {
    "duration": 43,
    "start_time": "2022-09-04T10:49:19.854Z"
   },
   {
    "duration": 14,
    "start_time": "2022-09-04T10:49:19.899Z"
   },
   {
    "duration": 20,
    "start_time": "2022-09-04T10:49:19.915Z"
   },
   {
    "duration": 18,
    "start_time": "2022-09-04T10:49:19.937Z"
   },
   {
    "duration": 24,
    "start_time": "2022-09-04T10:49:19.957Z"
   },
   {
    "duration": 5,
    "start_time": "2022-09-04T10:52:36.238Z"
   },
   {
    "duration": 435,
    "start_time": "2022-09-04T10:53:15.085Z"
   },
   {
    "duration": 188,
    "start_time": "2022-09-04T10:53:15.522Z"
   },
   {
    "duration": 18,
    "start_time": "2022-09-04T10:53:15.711Z"
   },
   {
    "duration": 31,
    "start_time": "2022-09-04T10:53:15.731Z"
   },
   {
    "duration": 3,
    "start_time": "2022-09-04T10:53:15.764Z"
   },
   {
    "duration": 27,
    "start_time": "2022-09-04T10:53:15.768Z"
   },
   {
    "duration": 7,
    "start_time": "2022-09-04T10:53:15.796Z"
   },
   {
    "duration": 8,
    "start_time": "2022-09-04T10:53:15.805Z"
   },
   {
    "duration": 31,
    "start_time": "2022-09-04T10:53:15.815Z"
   },
   {
    "duration": 34,
    "start_time": "2022-09-04T10:53:15.848Z"
   },
   {
    "duration": 26,
    "start_time": "2022-09-04T10:53:15.891Z"
   },
   {
    "duration": 93,
    "start_time": "2022-09-04T10:53:15.919Z"
   },
   {
    "duration": 92,
    "start_time": "2022-09-04T10:53:16.014Z"
   },
   {
    "duration": 66,
    "start_time": "2022-09-04T10:53:16.109Z"
   },
   {
    "duration": 61,
    "start_time": "2022-09-04T10:53:16.176Z"
   },
   {
    "duration": 12,
    "start_time": "2022-09-04T10:53:16.238Z"
   },
   {
    "duration": 59,
    "start_time": "2022-09-04T10:53:16.252Z"
   },
   {
    "duration": 11,
    "start_time": "2022-09-04T10:53:16.313Z"
   },
   {
    "duration": 12,
    "start_time": "2022-09-04T10:53:16.325Z"
   },
   {
    "duration": 3,
    "start_time": "2022-09-04T10:53:16.339Z"
   },
   {
    "duration": 24,
    "start_time": "2022-09-04T10:53:16.344Z"
   },
   {
    "duration": 16,
    "start_time": "2022-09-04T10:53:16.391Z"
   },
   {
    "duration": 20,
    "start_time": "2022-09-04T10:53:16.408Z"
   },
   {
    "duration": 16,
    "start_time": "2022-09-04T10:53:16.430Z"
   },
   {
    "duration": 49,
    "start_time": "2022-09-04T10:53:16.447Z"
   },
   {
    "duration": 16,
    "start_time": "2022-09-04T10:53:16.498Z"
   },
   {
    "duration": 5,
    "start_time": "2022-09-04T10:53:16.516Z"
   },
   {
    "duration": 14,
    "start_time": "2022-09-04T10:53:16.523Z"
   },
   {
    "duration": 12,
    "start_time": "2022-09-04T10:53:16.539Z"
   },
   {
    "duration": 39,
    "start_time": "2022-09-04T10:53:16.553Z"
   },
   {
    "duration": 33,
    "start_time": "2022-09-04T10:53:16.594Z"
   },
   {
    "duration": 16,
    "start_time": "2022-09-04T10:53:16.629Z"
   },
   {
    "duration": 46,
    "start_time": "2022-09-04T10:53:16.647Z"
   },
   {
    "duration": 16,
    "start_time": "2022-09-04T10:53:16.694Z"
   },
   {
    "duration": 9,
    "start_time": "2022-09-04T10:53:16.712Z"
   },
   {
    "duration": 6,
    "start_time": "2022-09-04T10:53:16.722Z"
   },
   {
    "duration": 6,
    "start_time": "2022-09-04T10:53:16.729Z"
   },
   {
    "duration": 5,
    "start_time": "2022-09-04T10:53:16.736Z"
   }
  ],
  "colab": {
   "collapsed_sections": [
    "E0vqbgi9ay0H",
    "VUC88oWjTJw2"
   ],
   "name": "automatization_template_upd4.ipynb",
   "provenance": []
  },
  "kernelspec": {
   "display_name": "Python 3 (ipykernel)",
   "language": "python",
   "name": "python3"
  },
  "language_info": {
   "codemirror_mode": {
    "name": "ipython",
    "version": 3
   },
   "file_extension": ".py",
   "mimetype": "text/x-python",
   "name": "python",
   "nbconvert_exporter": "python",
   "pygments_lexer": "ipython3",
   "version": "3.9.12"
  },
  "toc": {
   "base_numbering": 1,
   "nav_menu": {
    "height": "215px",
    "width": "403px"
   },
   "number_sections": true,
   "sideBar": true,
   "skip_h1_title": true,
   "title_cell": "Table of Contents",
   "title_sidebar": "Contents",
   "toc_cell": false,
   "toc_position": {
    "height": "calc(100% - 180px)",
    "left": "10px",
    "top": "150px",
    "width": "285.825px"
   },
   "toc_section_display": true,
   "toc_window_display": false
  }
 },
 "nbformat": 4,
 "nbformat_minor": 1
}
