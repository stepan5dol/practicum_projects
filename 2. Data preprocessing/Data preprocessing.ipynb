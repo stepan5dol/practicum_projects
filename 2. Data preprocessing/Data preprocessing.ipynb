{
 "cells": [
  {
   "cell_type": "markdown",
   "id": "64019a98",
   "metadata": {
    "deletable": false,
    "editable": false,
    "id": "64019a98"
   },
   "source": [
    "# Исследование надежности заемщиков\n"
   ]
  },
  {
   "cell_type": "markdown",
   "id": "ff635534",
   "metadata": {
    "deletable": false,
    "editable": false,
    "id": "ff635534"
   },
   "source": [
    "Во второй части проекта вы выполните шаги 3 и 4. Их вручную проверит ревьюер.\n",
    "Чтобы вам не пришлось писать код заново для шагов 1 и 2, мы добавили авторские решения в ячейки с кодом. \n",
    "\n"
   ]
  },
  {
   "cell_type": "markdown",
   "id": "63714007",
   "metadata": {
    "deletable": false,
    "editable": false,
    "id": "63714007"
   },
   "source": [
    "## Откройте таблицу и изучите общую информацию о данных"
   ]
  },
  {
   "cell_type": "markdown",
   "id": "973bd067",
   "metadata": {
    "deletable": false,
    "editable": false,
    "id": "973bd067"
   },
   "source": [
    "**Задание 1. Импортируйте библиотеку pandas. Считайте данные из csv-файла в датафрейм и сохраните в переменную `data`. Путь к файлу:**\n",
    "\n",
    "`/datasets/data.csv`"
   ]
  },
  {
   "cell_type": "code",
   "execution_count": 80,
   "id": "ad317335",
   "metadata": {
    "deletable": false,
    "id": "ad317335"
   },
   "outputs": [],
   "source": [
    "import seaborn as sb\n",
    "import pandas as pd\n",
    "import matplotlib as mpl\n",
    "import matplotlib.pyplot as plt\n",
    "\n",
    "try:\n",
    "    data = pd.read_csv('/datasets/data.csv')\n",
    "except:\n",
    "    data = pd.read_csv('https://code.s3.yandex.net/datasets/data.csv')\n",
    "    \n",
    "sb.set(rc={'figure.figsize':(11.7,8.27)}, font_scale=1.5)"
   ]
  },
  {
   "cell_type": "markdown",
   "id": "0d9d9c9c",
   "metadata": {
    "deletable": false,
    "editable": false,
    "id": "0d9d9c9c"
   },
   "source": [
    "**Задание 2. Выведите первые 20 строчек датафрейма `data` на экран.**"
   ]
  },
  {
   "cell_type": "code",
   "execution_count": 81,
   "id": "51d60bf3",
   "metadata": {
    "colab": {
     "base_uri": "https://localhost:8080/",
     "height": 713
    },
    "deletable": false,
    "id": "51d60bf3",
    "outputId": "51a2c4dd-c5aa-47f6-8f7c-99c8967e37c3"
   },
   "outputs": [
    {
     "data": {
      "text/html": [
       "<div>\n",
       "<style scoped>\n",
       "    .dataframe tbody tr th:only-of-type {\n",
       "        vertical-align: middle;\n",
       "    }\n",
       "\n",
       "    .dataframe tbody tr th {\n",
       "        vertical-align: top;\n",
       "    }\n",
       "\n",
       "    .dataframe thead th {\n",
       "        text-align: right;\n",
       "    }\n",
       "</style>\n",
       "<table border=\"1\" class=\"dataframe\">\n",
       "  <thead>\n",
       "    <tr style=\"text-align: right;\">\n",
       "      <th></th>\n",
       "      <th>children</th>\n",
       "      <th>days_employed</th>\n",
       "      <th>dob_years</th>\n",
       "      <th>education</th>\n",
       "      <th>education_id</th>\n",
       "      <th>family_status</th>\n",
       "      <th>family_status_id</th>\n",
       "      <th>gender</th>\n",
       "      <th>income_type</th>\n",
       "      <th>debt</th>\n",
       "      <th>total_income</th>\n",
       "      <th>purpose</th>\n",
       "    </tr>\n",
       "  </thead>\n",
       "  <tbody>\n",
       "    <tr>\n",
       "      <th>0</th>\n",
       "      <td>1</td>\n",
       "      <td>-8437.673028</td>\n",
       "      <td>42</td>\n",
       "      <td>высшее</td>\n",
       "      <td>0</td>\n",
       "      <td>женат / замужем</td>\n",
       "      <td>0</td>\n",
       "      <td>F</td>\n",
       "      <td>сотрудник</td>\n",
       "      <td>0</td>\n",
       "      <td>253875.639453</td>\n",
       "      <td>покупка жилья</td>\n",
       "    </tr>\n",
       "    <tr>\n",
       "      <th>1</th>\n",
       "      <td>1</td>\n",
       "      <td>-4024.803754</td>\n",
       "      <td>36</td>\n",
       "      <td>среднее</td>\n",
       "      <td>1</td>\n",
       "      <td>женат / замужем</td>\n",
       "      <td>0</td>\n",
       "      <td>F</td>\n",
       "      <td>сотрудник</td>\n",
       "      <td>0</td>\n",
       "      <td>112080.014102</td>\n",
       "      <td>приобретение автомобиля</td>\n",
       "    </tr>\n",
       "    <tr>\n",
       "      <th>2</th>\n",
       "      <td>0</td>\n",
       "      <td>-5623.422610</td>\n",
       "      <td>33</td>\n",
       "      <td>Среднее</td>\n",
       "      <td>1</td>\n",
       "      <td>женат / замужем</td>\n",
       "      <td>0</td>\n",
       "      <td>M</td>\n",
       "      <td>сотрудник</td>\n",
       "      <td>0</td>\n",
       "      <td>145885.952297</td>\n",
       "      <td>покупка жилья</td>\n",
       "    </tr>\n",
       "    <tr>\n",
       "      <th>3</th>\n",
       "      <td>3</td>\n",
       "      <td>-4124.747207</td>\n",
       "      <td>32</td>\n",
       "      <td>среднее</td>\n",
       "      <td>1</td>\n",
       "      <td>женат / замужем</td>\n",
       "      <td>0</td>\n",
       "      <td>M</td>\n",
       "      <td>сотрудник</td>\n",
       "      <td>0</td>\n",
       "      <td>267628.550329</td>\n",
       "      <td>дополнительное образование</td>\n",
       "    </tr>\n",
       "    <tr>\n",
       "      <th>4</th>\n",
       "      <td>0</td>\n",
       "      <td>340266.072047</td>\n",
       "      <td>53</td>\n",
       "      <td>среднее</td>\n",
       "      <td>1</td>\n",
       "      <td>гражданский брак</td>\n",
       "      <td>1</td>\n",
       "      <td>F</td>\n",
       "      <td>пенсионер</td>\n",
       "      <td>0</td>\n",
       "      <td>158616.077870</td>\n",
       "      <td>сыграть свадьбу</td>\n",
       "    </tr>\n",
       "    <tr>\n",
       "      <th>5</th>\n",
       "      <td>0</td>\n",
       "      <td>-926.185831</td>\n",
       "      <td>27</td>\n",
       "      <td>высшее</td>\n",
       "      <td>0</td>\n",
       "      <td>гражданский брак</td>\n",
       "      <td>1</td>\n",
       "      <td>M</td>\n",
       "      <td>компаньон</td>\n",
       "      <td>0</td>\n",
       "      <td>255763.565419</td>\n",
       "      <td>покупка жилья</td>\n",
       "    </tr>\n",
       "    <tr>\n",
       "      <th>6</th>\n",
       "      <td>0</td>\n",
       "      <td>-2879.202052</td>\n",
       "      <td>43</td>\n",
       "      <td>высшее</td>\n",
       "      <td>0</td>\n",
       "      <td>женат / замужем</td>\n",
       "      <td>0</td>\n",
       "      <td>F</td>\n",
       "      <td>компаньон</td>\n",
       "      <td>0</td>\n",
       "      <td>240525.971920</td>\n",
       "      <td>операции с жильем</td>\n",
       "    </tr>\n",
       "    <tr>\n",
       "      <th>7</th>\n",
       "      <td>0</td>\n",
       "      <td>-152.779569</td>\n",
       "      <td>50</td>\n",
       "      <td>СРЕДНЕЕ</td>\n",
       "      <td>1</td>\n",
       "      <td>женат / замужем</td>\n",
       "      <td>0</td>\n",
       "      <td>M</td>\n",
       "      <td>сотрудник</td>\n",
       "      <td>0</td>\n",
       "      <td>135823.934197</td>\n",
       "      <td>образование</td>\n",
       "    </tr>\n",
       "    <tr>\n",
       "      <th>8</th>\n",
       "      <td>2</td>\n",
       "      <td>-6929.865299</td>\n",
       "      <td>35</td>\n",
       "      <td>ВЫСШЕЕ</td>\n",
       "      <td>0</td>\n",
       "      <td>гражданский брак</td>\n",
       "      <td>1</td>\n",
       "      <td>F</td>\n",
       "      <td>сотрудник</td>\n",
       "      <td>0</td>\n",
       "      <td>95856.832424</td>\n",
       "      <td>на проведение свадьбы</td>\n",
       "    </tr>\n",
       "    <tr>\n",
       "      <th>9</th>\n",
       "      <td>0</td>\n",
       "      <td>-2188.756445</td>\n",
       "      <td>41</td>\n",
       "      <td>среднее</td>\n",
       "      <td>1</td>\n",
       "      <td>женат / замужем</td>\n",
       "      <td>0</td>\n",
       "      <td>M</td>\n",
       "      <td>сотрудник</td>\n",
       "      <td>0</td>\n",
       "      <td>144425.938277</td>\n",
       "      <td>покупка жилья для семьи</td>\n",
       "    </tr>\n",
       "    <tr>\n",
       "      <th>10</th>\n",
       "      <td>2</td>\n",
       "      <td>-4171.483647</td>\n",
       "      <td>36</td>\n",
       "      <td>высшее</td>\n",
       "      <td>0</td>\n",
       "      <td>женат / замужем</td>\n",
       "      <td>0</td>\n",
       "      <td>M</td>\n",
       "      <td>компаньон</td>\n",
       "      <td>0</td>\n",
       "      <td>113943.491460</td>\n",
       "      <td>покупка недвижимости</td>\n",
       "    </tr>\n",
       "    <tr>\n",
       "      <th>11</th>\n",
       "      <td>0</td>\n",
       "      <td>-792.701887</td>\n",
       "      <td>40</td>\n",
       "      <td>среднее</td>\n",
       "      <td>1</td>\n",
       "      <td>женат / замужем</td>\n",
       "      <td>0</td>\n",
       "      <td>F</td>\n",
       "      <td>сотрудник</td>\n",
       "      <td>0</td>\n",
       "      <td>77069.234271</td>\n",
       "      <td>покупка коммерческой недвижимости</td>\n",
       "    </tr>\n",
       "    <tr>\n",
       "      <th>12</th>\n",
       "      <td>0</td>\n",
       "      <td>NaN</td>\n",
       "      <td>65</td>\n",
       "      <td>среднее</td>\n",
       "      <td>1</td>\n",
       "      <td>гражданский брак</td>\n",
       "      <td>1</td>\n",
       "      <td>M</td>\n",
       "      <td>пенсионер</td>\n",
       "      <td>0</td>\n",
       "      <td>NaN</td>\n",
       "      <td>сыграть свадьбу</td>\n",
       "    </tr>\n",
       "    <tr>\n",
       "      <th>13</th>\n",
       "      <td>0</td>\n",
       "      <td>-1846.641941</td>\n",
       "      <td>54</td>\n",
       "      <td>неоконченное высшее</td>\n",
       "      <td>2</td>\n",
       "      <td>женат / замужем</td>\n",
       "      <td>0</td>\n",
       "      <td>F</td>\n",
       "      <td>сотрудник</td>\n",
       "      <td>0</td>\n",
       "      <td>130458.228857</td>\n",
       "      <td>приобретение автомобиля</td>\n",
       "    </tr>\n",
       "    <tr>\n",
       "      <th>14</th>\n",
       "      <td>0</td>\n",
       "      <td>-1844.956182</td>\n",
       "      <td>56</td>\n",
       "      <td>высшее</td>\n",
       "      <td>0</td>\n",
       "      <td>гражданский брак</td>\n",
       "      <td>1</td>\n",
       "      <td>F</td>\n",
       "      <td>компаньон</td>\n",
       "      <td>1</td>\n",
       "      <td>165127.911772</td>\n",
       "      <td>покупка жилой недвижимости</td>\n",
       "    </tr>\n",
       "    <tr>\n",
       "      <th>15</th>\n",
       "      <td>1</td>\n",
       "      <td>-972.364419</td>\n",
       "      <td>26</td>\n",
       "      <td>среднее</td>\n",
       "      <td>1</td>\n",
       "      <td>женат / замужем</td>\n",
       "      <td>0</td>\n",
       "      <td>F</td>\n",
       "      <td>сотрудник</td>\n",
       "      <td>0</td>\n",
       "      <td>116820.904450</td>\n",
       "      <td>строительство собственной недвижимости</td>\n",
       "    </tr>\n",
       "    <tr>\n",
       "      <th>16</th>\n",
       "      <td>0</td>\n",
       "      <td>-1719.934226</td>\n",
       "      <td>35</td>\n",
       "      <td>среднее</td>\n",
       "      <td>1</td>\n",
       "      <td>женат / замужем</td>\n",
       "      <td>0</td>\n",
       "      <td>F</td>\n",
       "      <td>сотрудник</td>\n",
       "      <td>0</td>\n",
       "      <td>289202.704229</td>\n",
       "      <td>недвижимость</td>\n",
       "    </tr>\n",
       "    <tr>\n",
       "      <th>17</th>\n",
       "      <td>0</td>\n",
       "      <td>-2369.999720</td>\n",
       "      <td>33</td>\n",
       "      <td>высшее</td>\n",
       "      <td>0</td>\n",
       "      <td>гражданский брак</td>\n",
       "      <td>1</td>\n",
       "      <td>M</td>\n",
       "      <td>сотрудник</td>\n",
       "      <td>0</td>\n",
       "      <td>90410.586745</td>\n",
       "      <td>строительство недвижимости</td>\n",
       "    </tr>\n",
       "    <tr>\n",
       "      <th>18</th>\n",
       "      <td>0</td>\n",
       "      <td>400281.136913</td>\n",
       "      <td>53</td>\n",
       "      <td>среднее</td>\n",
       "      <td>1</td>\n",
       "      <td>вдовец / вдова</td>\n",
       "      <td>2</td>\n",
       "      <td>F</td>\n",
       "      <td>пенсионер</td>\n",
       "      <td>0</td>\n",
       "      <td>56823.777243</td>\n",
       "      <td>на покупку подержанного автомобиля</td>\n",
       "    </tr>\n",
       "    <tr>\n",
       "      <th>19</th>\n",
       "      <td>0</td>\n",
       "      <td>-10038.818549</td>\n",
       "      <td>48</td>\n",
       "      <td>СРЕДНЕЕ</td>\n",
       "      <td>1</td>\n",
       "      <td>в разводе</td>\n",
       "      <td>3</td>\n",
       "      <td>F</td>\n",
       "      <td>сотрудник</td>\n",
       "      <td>0</td>\n",
       "      <td>242831.107982</td>\n",
       "      <td>на покупку своего автомобиля</td>\n",
       "    </tr>\n",
       "  </tbody>\n",
       "</table>\n",
       "</div>"
      ],
      "text/plain": [
       "    children  days_employed  dob_years            education  education_id  \\\n",
       "0          1   -8437.673028         42               высшее             0   \n",
       "1          1   -4024.803754         36              среднее             1   \n",
       "2          0   -5623.422610         33              Среднее             1   \n",
       "3          3   -4124.747207         32              среднее             1   \n",
       "4          0  340266.072047         53              среднее             1   \n",
       "5          0    -926.185831         27               высшее             0   \n",
       "6          0   -2879.202052         43               высшее             0   \n",
       "7          0    -152.779569         50              СРЕДНЕЕ             1   \n",
       "8          2   -6929.865299         35               ВЫСШЕЕ             0   \n",
       "9          0   -2188.756445         41              среднее             1   \n",
       "10         2   -4171.483647         36               высшее             0   \n",
       "11         0    -792.701887         40              среднее             1   \n",
       "12         0            NaN         65              среднее             1   \n",
       "13         0   -1846.641941         54  неоконченное высшее             2   \n",
       "14         0   -1844.956182         56               высшее             0   \n",
       "15         1    -972.364419         26              среднее             1   \n",
       "16         0   -1719.934226         35              среднее             1   \n",
       "17         0   -2369.999720         33               высшее             0   \n",
       "18         0  400281.136913         53              среднее             1   \n",
       "19         0  -10038.818549         48              СРЕДНЕЕ             1   \n",
       "\n",
       "       family_status  family_status_id gender income_type  debt  \\\n",
       "0    женат / замужем                 0      F   сотрудник     0   \n",
       "1    женат / замужем                 0      F   сотрудник     0   \n",
       "2    женат / замужем                 0      M   сотрудник     0   \n",
       "3    женат / замужем                 0      M   сотрудник     0   \n",
       "4   гражданский брак                 1      F   пенсионер     0   \n",
       "5   гражданский брак                 1      M   компаньон     0   \n",
       "6    женат / замужем                 0      F   компаньон     0   \n",
       "7    женат / замужем                 0      M   сотрудник     0   \n",
       "8   гражданский брак                 1      F   сотрудник     0   \n",
       "9    женат / замужем                 0      M   сотрудник     0   \n",
       "10   женат / замужем                 0      M   компаньон     0   \n",
       "11   женат / замужем                 0      F   сотрудник     0   \n",
       "12  гражданский брак                 1      M   пенсионер     0   \n",
       "13   женат / замужем                 0      F   сотрудник     0   \n",
       "14  гражданский брак                 1      F   компаньон     1   \n",
       "15   женат / замужем                 0      F   сотрудник     0   \n",
       "16   женат / замужем                 0      F   сотрудник     0   \n",
       "17  гражданский брак                 1      M   сотрудник     0   \n",
       "18    вдовец / вдова                 2      F   пенсионер     0   \n",
       "19         в разводе                 3      F   сотрудник     0   \n",
       "\n",
       "     total_income                                 purpose  \n",
       "0   253875.639453                           покупка жилья  \n",
       "1   112080.014102                 приобретение автомобиля  \n",
       "2   145885.952297                           покупка жилья  \n",
       "3   267628.550329              дополнительное образование  \n",
       "4   158616.077870                         сыграть свадьбу  \n",
       "5   255763.565419                           покупка жилья  \n",
       "6   240525.971920                       операции с жильем  \n",
       "7   135823.934197                             образование  \n",
       "8    95856.832424                   на проведение свадьбы  \n",
       "9   144425.938277                 покупка жилья для семьи  \n",
       "10  113943.491460                    покупка недвижимости  \n",
       "11   77069.234271       покупка коммерческой недвижимости  \n",
       "12            NaN                         сыграть свадьбу  \n",
       "13  130458.228857                 приобретение автомобиля  \n",
       "14  165127.911772              покупка жилой недвижимости  \n",
       "15  116820.904450  строительство собственной недвижимости  \n",
       "16  289202.704229                            недвижимость  \n",
       "17   90410.586745              строительство недвижимости  \n",
       "18   56823.777243      на покупку подержанного автомобиля  \n",
       "19  242831.107982            на покупку своего автомобиля  "
      ]
     },
     "execution_count": 81,
     "metadata": {},
     "output_type": "execute_result"
    }
   ],
   "source": [
    "data.head(20)"
   ]
  },
  {
   "cell_type": "markdown",
   "id": "5154620f",
   "metadata": {
    "deletable": false,
    "editable": false,
    "id": "5154620f"
   },
   "source": [
    "**Задание 3. Выведите основную информацию о датафрейме с помощью метода `info()`.**"
   ]
  },
  {
   "cell_type": "code",
   "execution_count": 82,
   "id": "2e5de2dd",
   "metadata": {
    "colab": {
     "base_uri": "https://localhost:8080/"
    },
    "deletable": false,
    "id": "2e5de2dd",
    "outputId": "ba5e3e7f-74cd-4a42-fd67-e13c0f543ab4"
   },
   "outputs": [
    {
     "name": "stdout",
     "output_type": "stream",
     "text": [
      "<class 'pandas.core.frame.DataFrame'>\n",
      "RangeIndex: 21525 entries, 0 to 21524\n",
      "Data columns (total 12 columns):\n",
      " #   Column            Non-Null Count  Dtype  \n",
      "---  ------            --------------  -----  \n",
      " 0   children          21525 non-null  int64  \n",
      " 1   days_employed     19351 non-null  float64\n",
      " 2   dob_years         21525 non-null  int64  \n",
      " 3   education         21525 non-null  object \n",
      " 4   education_id      21525 non-null  int64  \n",
      " 5   family_status     21525 non-null  object \n",
      " 6   family_status_id  21525 non-null  int64  \n",
      " 7   gender            21525 non-null  object \n",
      " 8   income_type       21525 non-null  object \n",
      " 9   debt              21525 non-null  int64  \n",
      " 10  total_income      19351 non-null  float64\n",
      " 11  purpose           21525 non-null  object \n",
      "dtypes: float64(2), int64(5), object(5)\n",
      "memory usage: 2.0+ MB\n"
     ]
    }
   ],
   "source": [
    "data.info()"
   ]
  },
  {
   "cell_type": "markdown",
   "id": "5502b61b",
   "metadata": {
    "deletable": false,
    "editable": false,
    "id": "5502b61b"
   },
   "source": [
    "## Предобработка данных"
   ]
  },
  {
   "cell_type": "markdown",
   "id": "762c33ee",
   "metadata": {
    "deletable": false,
    "editable": false,
    "id": "762c33ee"
   },
   "source": [
    "### Удаление пропусков"
   ]
  },
  {
   "cell_type": "markdown",
   "id": "45b8a2a3",
   "metadata": {
    "deletable": false,
    "editable": false,
    "id": "45b8a2a3"
   },
   "source": [
    "**Задание 4. Выведите количество пропущенных значений для каждого столбца. Используйте комбинацию двух методов.**"
   ]
  },
  {
   "cell_type": "code",
   "execution_count": 83,
   "id": "ce6f44d2",
   "metadata": {
    "colab": {
     "base_uri": "https://localhost:8080/"
    },
    "deletable": false,
    "id": "ce6f44d2",
    "outputId": "1416670e-b0aa-4016-b175-08d6672c9c0d"
   },
   "outputs": [
    {
     "data": {
      "text/plain": [
       "children               0\n",
       "days_employed       2174\n",
       "dob_years              0\n",
       "education              0\n",
       "education_id           0\n",
       "family_status          0\n",
       "family_status_id       0\n",
       "gender                 0\n",
       "income_type            0\n",
       "debt                   0\n",
       "total_income        2174\n",
       "purpose                0\n",
       "dtype: int64"
      ]
     },
     "execution_count": 83,
     "metadata": {},
     "output_type": "execute_result"
    }
   ],
   "source": [
    "data.isna().sum()"
   ]
  },
  {
   "cell_type": "markdown",
   "id": "e5bc420c",
   "metadata": {
    "deletable": false,
    "editable": false,
    "id": "e5bc420c"
   },
   "source": [
    "**Задание 5. В двух столбцах есть пропущенные значения. Один из них — `days_employed`. Пропуски в этом столбце вы обработаете на следующем этапе. Другой столбец с пропущенными значениями — `total_income` — хранит данные о доходах. На сумму дохода сильнее всего влияет тип занятости, поэтому заполнить пропуски в этом столбце нужно медианным значением по каждому типу из столбца `income_type`. Например, у человека с типом занятости `сотрудник` пропуск в столбце `total_income` должен быть заполнен медианным доходом среди всех записей с тем же типом.**"
   ]
  },
  {
   "cell_type": "code",
   "execution_count": 84,
   "id": "b090787b",
   "metadata": {
    "deletable": false,
    "id": "b090787b"
   },
   "outputs": [],
   "source": [
    "for t in data['income_type'].unique():\n",
    "    data.loc[(data['income_type'] == t) & (data['total_income'].isna()), 'total_income'] = \\\n",
    "    data.loc[(data['income_type'] == t), 'total_income'].median()"
   ]
  },
  {
   "cell_type": "markdown",
   "id": "7536baef",
   "metadata": {
    "deletable": false,
    "editable": false,
    "id": "7536baef"
   },
   "source": [
    "### Обработка аномальных значений"
   ]
  },
  {
   "cell_type": "markdown",
   "id": "8cb2a325",
   "metadata": {
    "deletable": false,
    "editable": false,
    "id": "8cb2a325"
   },
   "source": [
    "**Задание 6. В данных могут встречаться артефакты (аномалии) — значения, которые не отражают действительность и появились по какой-то ошибке. таким артефактом будет отрицательное количество дней трудового стажа в столбце `days_employed`. Для реальных данных это нормально. Обработайте значения в этом столбце: замените все отрицательные значения положительными с помощью метода `abs()`.**"
   ]
  },
  {
   "cell_type": "code",
   "execution_count": 85,
   "id": "62b34563",
   "metadata": {
    "deletable": false,
    "id": "62b34563"
   },
   "outputs": [],
   "source": [
    "data['days_employed'] = data['days_employed'].abs()"
   ]
  },
  {
   "cell_type": "markdown",
   "id": "5c541b27",
   "metadata": {
    "deletable": false,
    "editable": false,
    "id": "5c541b27"
   },
   "source": [
    "**Задание 7. Для каждого типа занятости выведите медианное значение трудового стажа `days_employed` в днях.**"
   ]
  },
  {
   "cell_type": "code",
   "execution_count": 86,
   "id": "ff038154",
   "metadata": {
    "colab": {
     "base_uri": "https://localhost:8080/"
    },
    "deletable": false,
    "id": "ff038154",
    "outputId": "975047ec-2885-452e-d54b-89533a50be74"
   },
   "outputs": [
    {
     "data": {
      "text/plain": [
       "income_type\n",
       "безработный        366413.652744\n",
       "в декрете            3296.759962\n",
       "госслужащий          2689.368353\n",
       "компаньон            1547.382223\n",
       "пенсионер          365213.306266\n",
       "предприниматель       520.848083\n",
       "сотрудник            1574.202821\n",
       "студент               578.751554\n",
       "Name: days_employed, dtype: float64"
      ]
     },
     "execution_count": 86,
     "metadata": {},
     "output_type": "execute_result"
    }
   ],
   "source": [
    "data.groupby('income_type')['days_employed'].agg('median')"
   ]
  },
  {
   "cell_type": "markdown",
   "id": "bba16d87",
   "metadata": {
    "deletable": false,
    "editable": false,
    "id": "bba16d87"
   },
   "source": [
    "У двух типов (безработные и пенсионеры) получатся аномально большие значения. Исправить такие значения сложно, поэтому оставьте их как есть. Тем более этот столбец не понадобится вам для исследования."
   ]
  },
  {
   "cell_type": "markdown",
   "id": "482fc167",
   "metadata": {
    "deletable": false,
    "editable": false,
    "id": "482fc167"
   },
   "source": [
    "**Задание 8. Выведите перечень уникальных значений столбца `children`.**"
   ]
  },
  {
   "cell_type": "code",
   "execution_count": 87,
   "id": "a4b758c5",
   "metadata": {
    "colab": {
     "base_uri": "https://localhost:8080/"
    },
    "deletable": false,
    "id": "a4b758c5",
    "outputId": "2866b402-a99d-4e6b-9041-e8bd1acb7049"
   },
   "outputs": [
    {
     "data": {
      "text/plain": [
       "array([ 1,  0,  3,  2, -1,  4, 20,  5])"
      ]
     },
     "execution_count": 87,
     "metadata": {},
     "output_type": "execute_result"
    }
   ],
   "source": [
    "data['children'].unique()"
   ]
  },
  {
   "cell_type": "markdown",
   "id": "ac51374d",
   "metadata": {
    "deletable": false,
    "editable": false,
    "id": "ac51374d"
   },
   "source": [
    "**Задание 9. В столбце `children` есть два аномальных значения. Удалите строки, в которых встречаются такие аномальные значения из датафрейма `data`.**"
   ]
  },
  {
   "cell_type": "code",
   "execution_count": 88,
   "id": "28706298",
   "metadata": {
    "deletable": false,
    "id": "28706298"
   },
   "outputs": [],
   "source": [
    "data = data[(data['children'] != -1) & (data['children'] != 20)]"
   ]
  },
  {
   "cell_type": "markdown",
   "id": "eecf825e",
   "metadata": {
    "deletable": false,
    "editable": false,
    "id": "eecf825e"
   },
   "source": [
    "**Задание 10. Ещё раз выведите перечень уникальных значений столбца `children`, чтобы убедиться, что артефакты удалены.**"
   ]
  },
  {
   "cell_type": "code",
   "execution_count": 89,
   "id": "aa998d8c",
   "metadata": {
    "colab": {
     "base_uri": "https://localhost:8080/"
    },
    "deletable": false,
    "id": "aa998d8c",
    "outputId": "324f0ada-4f1d-440b-8966-daddf32dbccb"
   },
   "outputs": [
    {
     "data": {
      "text/plain": [
       "array([1, 0, 3, 2, 4, 5])"
      ]
     },
     "execution_count": 89,
     "metadata": {},
     "output_type": "execute_result"
    }
   ],
   "source": [
    "data['children'].unique()"
   ]
  },
  {
   "cell_type": "markdown",
   "id": "267559bf",
   "metadata": {
    "deletable": false,
    "editable": false,
    "id": "267559bf"
   },
   "source": [
    "### Удаление пропусков (продолжение)"
   ]
  },
  {
   "cell_type": "markdown",
   "id": "9142903d",
   "metadata": {
    "deletable": false,
    "editable": false,
    "id": "9142903d"
   },
   "source": [
    "**Задание 11. Заполните пропуски в столбце `days_employed` медианными значениями по каждого типа занятости `income_type`.**"
   ]
  },
  {
   "cell_type": "code",
   "execution_count": 90,
   "id": "db322ccd",
   "metadata": {
    "colab": {
     "base_uri": "https://localhost:8080/"
    },
    "deletable": false,
    "id": "db322ccd",
    "outputId": "3a28e701-5065-4d63-a209-5f3936a31fcc"
   },
   "outputs": [],
   "source": [
    "for t in data['income_type'].unique():\n",
    "    data.loc[(data['income_type'] == t) & (data['days_employed'].isna()), 'days_employed'] = \\\n",
    "    data.loc[(data['income_type'] == t), 'days_employed'].median()"
   ]
  },
  {
   "cell_type": "markdown",
   "id": "ba5be037",
   "metadata": {
    "deletable": false,
    "editable": false,
    "id": "ba5be037"
   },
   "source": [
    "**Задание 12. Убедитесь, что все пропуски заполнены. Проверьте себя и ещё раз выведите количество пропущенных значений для каждого столбца с помощью двух методов.**"
   ]
  },
  {
   "cell_type": "code",
   "execution_count": 91,
   "id": "e1679cf5",
   "metadata": {
    "colab": {
     "base_uri": "https://localhost:8080/"
    },
    "deletable": false,
    "id": "e1679cf5",
    "outputId": "b2613670-5109-4893-8892-3b847cbd239b"
   },
   "outputs": [
    {
     "data": {
      "text/plain": [
       "children            0\n",
       "days_employed       0\n",
       "dob_years           0\n",
       "education           0\n",
       "education_id        0\n",
       "family_status       0\n",
       "family_status_id    0\n",
       "gender              0\n",
       "income_type         0\n",
       "debt                0\n",
       "total_income        0\n",
       "purpose             0\n",
       "dtype: int64"
      ]
     },
     "execution_count": 91,
     "metadata": {},
     "output_type": "execute_result"
    }
   ],
   "source": [
    "data.isna().sum()"
   ]
  },
  {
   "cell_type": "markdown",
   "id": "5c543341",
   "metadata": {
    "deletable": false,
    "editable": false,
    "id": "5c543341"
   },
   "source": [
    "### Изменение типов данных"
   ]
  },
  {
   "cell_type": "markdown",
   "id": "11d250ea",
   "metadata": {
    "deletable": false,
    "editable": false,
    "id": "11d250ea"
   },
   "source": [
    "**Задание 13. Замените вещественный тип данных в столбце `total_income` на целочисленный с помощью метода `astype()`.**"
   ]
  },
  {
   "cell_type": "code",
   "execution_count": 92,
   "id": "abe167d0",
   "metadata": {
    "deletable": false,
    "id": "abe167d0"
   },
   "outputs": [],
   "source": [
    "data['total_income'] = data['total_income'].astype(int)"
   ]
  },
  {
   "cell_type": "markdown",
   "id": "51f091a5",
   "metadata": {
    "deletable": false,
    "editable": false,
    "id": "51f091a5"
   },
   "source": [
    "### Обработка дубликатов"
   ]
  },
  {
   "cell_type": "markdown",
   "id": "ed1a3758",
   "metadata": {
    "deletable": false,
    "editable": false,
    "id": "ed1a3758"
   },
   "source": [
    "**Задание 14. Обработайте неявные дубликаты в столбце `education`. В этом столбце есть одни и те же значения, но записанные по-разному: с использованием заглавных и строчных букв. Приведите их к нижнему регистру. Проверьте остальные столбцы.**"
   ]
  },
  {
   "cell_type": "code",
   "execution_count": 93,
   "id": "3a7b9816",
   "metadata": {
    "deletable": false,
    "id": "3a7b9816"
   },
   "outputs": [],
   "source": [
    "data['education'] = data['education'].str.lower()"
   ]
  },
  {
   "cell_type": "markdown",
   "id": "7950dfac",
   "metadata": {
    "deletable": false,
    "editable": false,
    "id": "7950dfac"
   },
   "source": [
    "**Задание 15. Выведите на экран количество строк-дубликатов в данных. Если такие строки присутствуют, удалите их.**"
   ]
  },
  {
   "cell_type": "code",
   "execution_count": 94,
   "id": "2ec41095",
   "metadata": {
    "colab": {
     "base_uri": "https://localhost:8080/"
    },
    "deletable": false,
    "id": "2ec41095",
    "outputId": "76e8cb6d-52dc-4103-888b-d0b915330d23"
   },
   "outputs": [
    {
     "data": {
      "text/plain": [
       "71"
      ]
     },
     "execution_count": 94,
     "metadata": {},
     "output_type": "execute_result"
    }
   ],
   "source": [
    "data.duplicated().sum()"
   ]
  },
  {
   "cell_type": "code",
   "execution_count": 95,
   "id": "cf0371ae",
   "metadata": {
    "deletable": false,
    "id": "cf0371ae"
   },
   "outputs": [],
   "source": [
    "data = data.drop_duplicates()"
   ]
  },
  {
   "cell_type": "markdown",
   "id": "72576c1d",
   "metadata": {
    "deletable": false,
    "editable": false,
    "id": "72576c1d"
   },
   "source": [
    "### Категоризация данных"
   ]
  },
  {
   "cell_type": "markdown",
   "id": "e6bd7bb8",
   "metadata": {
    "deletable": false,
    "editable": false,
    "id": "e6bd7bb8"
   },
   "source": [
    "**Задание 16. На основании диапазонов, указанных ниже, создайте в датафрейме `data` столбец `total_income_category` с категориями:**\n",
    "\n",
    "- 0–30000 — `'E'`;\n",
    "- 30001–50000 — `'D'`;\n",
    "- 50001–200000 — `'C'`;\n",
    "- 200001–1000000 — `'B'`;\n",
    "- 1000001 и выше — `'A'`.\n",
    "\n",
    "\n",
    "**Например, кредитополучателю с доходом 25000 нужно назначить категорию `'E'`, а клиенту, получающему 235000, — `'B'`. Используйте собственную функцию с именем `categorize_income()` и метод `apply()`.**"
   ]
  },
  {
   "cell_type": "code",
   "execution_count": 96,
   "id": "182de1d3",
   "metadata": {
    "deletable": false,
    "id": "182de1d3"
   },
   "outputs": [],
   "source": [
    "def categorize_income(income):\n",
    "    try:\n",
    "        if 0 <= income <= 30000:\n",
    "            return 'E'\n",
    "        elif 30001 <= income <= 50000:\n",
    "            return 'D'\n",
    "        elif 50001 <= income <= 200000:\n",
    "            return 'C'\n",
    "        elif 200001 <= income <= 1000000:\n",
    "            return 'B'\n",
    "        elif income >= 1000001:\n",
    "            return 'A'\n",
    "    except:\n",
    "        pass"
   ]
  },
  {
   "cell_type": "code",
   "execution_count": 97,
   "id": "3fcd22ce",
   "metadata": {
    "colab": {
     "base_uri": "https://localhost:8080/"
    },
    "deletable": false,
    "id": "3fcd22ce",
    "outputId": "4f16822e-fc5f-4d3d-8d4b-52df8b2d6600"
   },
   "outputs": [],
   "source": [
    "data['total_income_category'] = data['total_income'].apply(categorize_income)"
   ]
  },
  {
   "cell_type": "markdown",
   "id": "97318739",
   "metadata": {
    "deletable": false,
    "editable": false,
    "id": "97318739"
   },
   "source": [
    "**Задание 17. Выведите на экран перечень уникальных целей взятия кредита из столбца `purpose`.**"
   ]
  },
  {
   "cell_type": "code",
   "execution_count": 98,
   "id": "0abc7778",
   "metadata": {
    "colab": {
     "base_uri": "https://localhost:8080/"
    },
    "deletable": false,
    "id": "0abc7778",
    "outputId": "6e0c12b0-ef9a-4422-e042-1018220af3cb"
   },
   "outputs": [
    {
     "data": {
      "text/plain": [
       "array(['покупка жилья', 'приобретение автомобиля',\n",
       "       'дополнительное образование', 'сыграть свадьбу',\n",
       "       'операции с жильем', 'образование', 'на проведение свадьбы',\n",
       "       'покупка жилья для семьи', 'покупка недвижимости',\n",
       "       'покупка коммерческой недвижимости', 'покупка жилой недвижимости',\n",
       "       'строительство собственной недвижимости', 'недвижимость',\n",
       "       'строительство недвижимости', 'на покупку подержанного автомобиля',\n",
       "       'на покупку своего автомобиля',\n",
       "       'операции с коммерческой недвижимостью',\n",
       "       'строительство жилой недвижимости', 'жилье',\n",
       "       'операции со своей недвижимостью', 'автомобили',\n",
       "       'заняться образованием', 'сделка с подержанным автомобилем',\n",
       "       'получение образования', 'автомобиль', 'свадьба',\n",
       "       'получение дополнительного образования', 'покупка своего жилья',\n",
       "       'операции с недвижимостью', 'получение высшего образования',\n",
       "       'свой автомобиль', 'сделка с автомобилем',\n",
       "       'профильное образование', 'высшее образование',\n",
       "       'покупка жилья для сдачи', 'на покупку автомобиля', 'ремонт жилью',\n",
       "       'заняться высшим образованием'], dtype=object)"
      ]
     },
     "execution_count": 98,
     "metadata": {},
     "output_type": "execute_result"
    }
   ],
   "source": [
    "data['purpose'].unique()"
   ]
  },
  {
   "cell_type": "markdown",
   "id": "8d7dce65",
   "metadata": {
    "deletable": false,
    "editable": false,
    "id": "8d7dce65"
   },
   "source": [
    "**Задание 18. Создайте функцию, которая на основании данных из столбца `purpose` сформирует новый столбец `purpose_category`, в который войдут следующие категории:**\n",
    "\n",
    "- `'операции с автомобилем'`,\n",
    "- `'операции с недвижимостью'`,\n",
    "- `'проведение свадьбы'`,\n",
    "- `'получение образования'`.\n",
    "\n",
    "**Например, если в столбце `purpose` находится подстрока `'на покупку автомобиля'`, то в столбце `purpose_category` должна появиться строка `'операции с автомобилем'`.**\n",
    "\n",
    "**Используйте собственную функцию с именем `categorize_purpose()` и метод `apply()`. Изучите данные в столбце `purpose` и определите, какие подстроки помогут вам правильно определить категорию.**"
   ]
  },
  {
   "cell_type": "code",
   "execution_count": 99,
   "id": "5c4125bf",
   "metadata": {
    "deletable": false,
    "id": "5c4125bf"
   },
   "outputs": [],
   "source": [
    "def categorize_purpose(row):\n",
    "    try:\n",
    "        if 'автом' in row:\n",
    "            return 'операции с автомобилем'\n",
    "        elif 'жил' in row or 'недвиж' in row:\n",
    "            return 'операции с недвижимостью'\n",
    "        elif 'свад' in row:\n",
    "            return 'проведение свадьбы'\n",
    "        elif 'образов' in row:\n",
    "            return 'получение образования'\n",
    "    except:\n",
    "        return 'нет категории'"
   ]
  },
  {
   "cell_type": "code",
   "execution_count": 100,
   "id": "ad0bced7",
   "metadata": {
    "deletable": false,
    "id": "ad0bced7"
   },
   "outputs": [],
   "source": [
    "data['purpose_category'] = data['purpose'].apply(categorize_purpose)"
   ]
  },
  {
   "cell_type": "markdown",
   "id": "18d08b88",
   "metadata": {
    "deletable": false,
    "editable": false,
    "id": "18d08b88"
   },
   "source": [
    "### Шаг 3. Исследуйте данные и ответьте на вопросы"
   ]
  },
  {
   "cell_type": "markdown",
   "id": "e35f4693",
   "metadata": {
    "deletable": false,
    "editable": false,
    "id": "e35f4693"
   },
   "source": [
    "#### 3.1 Есть ли зависимость между количеством детей и возвратом кредита в срок?"
   ]
  },
  {
   "cell_type": "code",
   "execution_count": 101,
   "id": "738b844b",
   "metadata": {
    "colab": {
     "base_uri": "https://localhost:8080/",
     "height": 297
    },
    "deletable": false,
    "id": "738b844b",
    "outputId": "4e6cfaa8-8271-41b3-969a-07893a86f423"
   },
   "outputs": [
    {
     "data": {
      "text/plain": [
       "Text(0, 0.5, 'Вероятность возвратить долг')"
      ]
     },
     "execution_count": 101,
     "metadata": {},
     "output_type": "execute_result"
    },
    {
     "data": {
      "image/png": "[encoded data removed]",
      "text/plain": [
       "<Figure size 842.4x595.44 with 1 Axes>"
      ]
     },
     "metadata": {},
     "output_type": "display_data"
    }
   ],
   "source": [
    "# Ваш код будет здесь. Вы можете создавать новые ячейки.\n",
    "def childlover(row):\n",
    "    if row > 0:\n",
    "        return 1\n",
    "    else:\n",
    "        return 0\n",
    "data['children_id'] = data['children'].apply(childlover)\n",
    "\n",
    "data['debt'].corr(data['children_id'])\n",
    "fig1 = sb.barplot(x=(data['children_id']), y=(data['debt']))\n",
    "fig1.set_title('Связь количества детей с вероятностью возврата долга')\n",
    "fig1.set_xlabel('Отсуствие детей (синим) и наличие детей (оранжевым)')\n",
    "fig1.set_ylabel('Вероятность возвратить долг')"
   ]
  },
  {
   "cell_type": "markdown",
   "id": "4fb9a8d7",
   "metadata": {
    "deletable": false,
    "id": "4fb9a8d7"
   },
   "source": [
    "<div class=\"alert alert-info\"> \n",
    "    **Вывод:** слабая корреляция отражается при анализе по Пирсону. Столбчатая диаграмма также отражает бóльшую вероятность не вернуть долг у счастливых родителей, чем у грутных и безлужаечных. \n",
    "</div>"
   ]
  },
  {
   "cell_type": "markdown",
   "id": "00729deb",
   "metadata": {},
   "source": [
    "<div class=\"alert alert-warning\">\n",
    "    \n",
    "<b> Комментарий от ревьюера ⚠️</b>\n",
    "    \n",
    "1. Все библиотеки лучше импортировать в начале файла. Об этом говорится в [стилевом гайде по питону](https://www.python.org/dev/peps/pep-0008/#imports)\n",
    "    \n",
    "        Imports are always put at the top of the file, just after any module comments and docstrings, and before module globals and constants.\n",
    "    \n",
    "1. Добавь, пожалуйста, на все графики названия, подписи осей и легенду ((если рассматриваешь несколько наборов данных). Можешь посмотреть [тут](https://matplotlib.org/stable/tutorials/introductory/usage.html), как их добавлять\n",
    "1. Не нужно считать корреляцию для категориальных признаков. Кстати, ты забыл вывести ее на экран, можешь использовать для этого фунцию print или display\n",
    "</div>"
   ]
  },
  {
   "cell_type": "markdown",
   "id": "1640e0a7",
   "metadata": {},
   "source": [
    "<div class=\"alert alert-success\">\n",
    "    \n",
    "<b> Комментарий от ревьюера ✔️</b>\n",
    "    \n",
    "Здорово, что посмотрел на вероятность задолженности в группах, но стоило еще взглянуть на их размер. Для маленьких групп результаты анализа могут быть не репрезентативны\n",
    "</div>"
   ]
  },
  {
   "cell_type": "markdown",
   "id": "02bc66e1",
   "metadata": {
    "deletable": false,
    "editable": false,
    "id": "02bc66e1"
   },
   "source": [
    "#### 3.2 Есть ли зависимость между семейным положением и возвратом кредита в срок?"
   ]
  },
  {
   "cell_type": "code",
   "execution_count": 102,
   "id": "3421a947",
   "metadata": {
    "colab": {
     "base_uri": "https://localhost:8080/",
     "height": 297
    },
    "deletable": false,
    "id": "3421a947",
    "outputId": "e498b5ca-38dc-4f7d-a955-f07d74f7c3e2"
   },
   "outputs": [
    {
     "data": {
      "text/plain": [
       "Text(0, 0.5, 'Семейный статус')"
      ]
     },
     "execution_count": 102,
     "metadata": {},
     "output_type": "execute_result"
    },
    {
     "data": {
      "image/png": "[encoded data removed]",
      "text/plain": [
       "<Figure size 842.4x595.44 with 1 Axes>"
      ]
     },
     "metadata": {},
     "output_type": "display_data"
    }
   ],
   "source": [
    "fig2 = sb.barplot(x=(data['debt']), y=(data['family_status']))\n",
    "fig2.set_title('зависимость между семейным положением и возвратом кредита в срок')\n",
    "fig2.set_xlabel('Вероятность вернуть долг в срок')\n",
    "fig2.set_ylabel('Семейный статус')\n",
    "#sb.barplot(x=(data['family_status_id']), y=(data['debt']))\n",
    "# Ваш код будет здесь. Вы можете создавать новые ячейки."
   ]
  },
  {
   "cell_type": "markdown",
   "id": "3ccb4706",
   "metadata": {
    "deletable": false,
    "id": "3ccb4706"
   },
   "source": [
    "<div class=\"alert alert-info\">\n",
    "**Вывод:** Наиболее надежными заемщиками при ближайшем рассмотрелии кажутся вдовцы. За ними с небольшим отрывом следуют разведенные и женатые. Гражданский брак и холостяцкий образ жизни являются факторами риска. \n",
    "</div>"
   ]
  },
  {
   "cell_type": "markdown",
   "id": "f49fb1aa",
   "metadata": {},
   "source": [
    "<div class=\"alert alert-warning\">\n",
    "    \n",
    "<b> Комментарий от ревьюера ⚠️</b>\n",
    "    \n",
    "Давай увеличим график или повернем подписи оси Х на 90 градусов, потому что сейчас их сложно прочитать\n",
    "</div>"
   ]
  },
  {
   "cell_type": "markdown",
   "id": "692850b0",
   "metadata": {},
   "source": [
    "<div class=\"alert alert-success\">\n",
    "    \n",
    "<b> Комментарий от ревьюера 2 ✔️</b>\n",
    "\n",
    "Отлично! Теперь с подписями все замечательно\n",
    "</div>"
   ]
  },
  {
   "cell_type": "markdown",
   "id": "ccd81b81",
   "metadata": {
    "deletable": false,
    "editable": false,
    "id": "ccd81b81"
   },
   "source": [
    "#### 3.3 Есть ли зависимость между уровнем дохода и возвратом кредита в срок?"
   ]
  },
  {
   "cell_type": "code",
   "execution_count": 103,
   "id": "4996b65d",
   "metadata": {
    "colab": {
     "base_uri": "https://localhost:8080/",
     "height": 313
    },
    "deletable": false,
    "id": "4996b65d",
    "outputId": "35f5430c-0405-413c-a40c-62d29890b18b"
   },
   "outputs": [
    {
     "data": {
      "text/plain": [
       "total_income_category\n",
       "A       25\n",
       "B     5014\n",
       "C    15921\n",
       "D      349\n",
       "E       22\n",
       "Name: debt, dtype: int64"
      ]
     },
     "metadata": {},
     "output_type": "display_data"
    },
    {
     "data": {
      "text/plain": [
       "total_income_category\n",
       "A    1223042.0\n",
       "B     257558.0\n",
       "C     130355.0\n",
       "D      43929.0\n",
       "E      26431.0\n",
       "Name: total_income, dtype: float64"
      ]
     },
     "metadata": {},
     "output_type": "display_data"
    },
    {
     "data": {
      "text/plain": [
       "<AxesSubplot:xlabel='mean_income_in_category', ylabel='debt'>"
      ]
     },
     "execution_count": 103,
     "metadata": {},
     "output_type": "execute_result"
    },
    {
     "data": {
      "image/png": "[encoded data removed]",
      "text/plain": [
       "<Figure size 842.4x595.44 with 1 Axes>"
      ]
     },
     "metadata": {},
     "output_type": "display_data"
    }
   ],
   "source": [
    "#data1 = data.groupby('debt')['total_income']\n",
    "data2 = data.groupby('total_income_category')['debt'].count() #размеры каждой из групп\n",
    "display(data2)\n",
    "\n",
    "median_grouped = data.groupby('total_income_category')['total_income'].median()\n",
    "display(median_grouped) #вывод медиан каждой из групп\n",
    "def prisvoitel (income):\n",
    "    try:\n",
    "        if income == 'A':\n",
    "            return 1223042            \n",
    "        elif income == 'B':\n",
    "            return 257558\n",
    "        elif income == 'C':\n",
    "            return 130355\n",
    "        elif income == 'D':\n",
    "            return 43929\n",
    "        elif income == 'E':\n",
    "            return 26431\n",
    "    except:\n",
    "        pass\n",
    "data['mean_income_in_category'] = data['total_income_category'].apply(prisvoitel) #добавил столбец со средним по каждой категории\n",
    "sb.barplot(x=(data['mean_income_in_category']), y=(data['debt'])) #средняя зп в группе и вероятность выплатить долг в срок"
   ]
  },
  {
   "cell_type": "markdown",
   "id": "83142bdf",
   "metadata": {
    "deletable": false,
    "id": "83142bdf"
   },
   "source": [
    "<div class=\"alert alert-info\"> \n",
    "    **Вывод:** Хотя в среднем у всех групп населения примерно одинаковая вероятность вернуть долг, расброс в группах E и A значительно выше – там есть как те, кто платят в срок, так и те, кто не платит по счетам. Если учитывать группировку по признаку \"есть долг/нет долга\", то в группе, в которая выплачивает долги регулярно, доход в 11 раз выше. (богаче = чаще выплачивают в срок).\n",
    "</div>"
   ]
  },
  {
   "cell_type": "markdown",
   "id": "b83a76bc",
   "metadata": {},
   "source": [
    "<div class=\"alert alert-danger\">\n",
    "    \n",
    "<b> Комментарий от ревьюера ❗</b>\n",
    "    \n",
    "1. При анализе признака total_income_category нам точно стоит посмотреть на размеры групп. Давай выведем их на экран\n",
    "1. > в группе, в которая выплачивает долги регулярно, доход в 11 раз выше. (богаче = чаще выплачивают в срок).\n",
    "    \n",
    "    Интересное наблюдение! Давай тут тоже посмотрим на размеры групп. Если группы будут значительно отличаться по размеру, то не стоит сравнивать суммарных доходы, лучше посмотреть на медианные. \n",
    "\n",
    "</div>"
   ]
  },
  {
   "cell_type": "markdown",
   "id": "1a1528c7",
   "metadata": {},
   "source": [
    "<div class=\"alert alert-warning\">\n",
    "    \n",
    "<b> Комментарий от ревьюера 2 ⚠️</b>\n",
    "    \n",
    "Здорово, что дополнил исследование!\n",
    "    \n",
    "Тут мы видим, что клиентов в группах A, D, E не очень много. Выводы для них лучше не делать, потому что результаты анализа могут быть не репрезентативны\n",
    "    \n",
    "</div>"
   ]
  },
  {
   "cell_type": "markdown",
   "id": "5dbdbe74",
   "metadata": {
    "deletable": false,
    "editable": false,
    "id": "5dbdbe74"
   },
   "source": [
    "#### 3.4 Как разные цели кредита влияют на его возврат в срок?"
   ]
  },
  {
   "cell_type": "code",
   "execution_count": 104,
   "id": "71b5d682",
   "metadata": {
    "colab": {
     "base_uri": "https://localhost:8080/",
     "height": 297
    },
    "deletable": false,
    "id": "71b5d682",
    "outputId": "9b129771-9c99-43ff-a59a-5e3b3b7e1f7d"
   },
   "outputs": [
    {
     "data": {
      "text/plain": [
       "<AxesSubplot:xlabel='purpose_category', ylabel='debt'>"
      ]
     },
     "execution_count": 104,
     "metadata": {},
     "output_type": "execute_result"
    },
    {
     "data": {
      "image/png": "[encoded data removed]",
      "text/plain": [
       "<Figure size 842.4x595.44 with 1 Axes>"
      ]
     },
     "metadata": {},
     "output_type": "display_data"
    }
   ],
   "source": [
    "sb.barplot(x=(data['purpose_category']), y=(data['debt'])) # Ваш код будет здесь. Вы можете создавать новые ячейки."
   ]
  },
  {
   "cell_type": "markdown",
   "id": "1bc03ef2",
   "metadata": {
    "deletable": false,
    "id": "1bc03ef2"
   },
   "source": [
    "**Вывод:** Люди, берущие заем на недвижимость и свадьбу, выплачивают доллг более охотно, чем автолюбители и студенты."
   ]
  },
  {
   "cell_type": "markdown",
   "id": "8d2484f5",
   "metadata": {},
   "source": [
    "<div class=\"alert alert-success\">\n",
    "    \n",
    "<b> Комментарий от ревьюера ✔️</b>\n",
    "    \n",
    "Все верно\n",
    "</div>"
   ]
  },
  {
   "cell_type": "markdown",
   "id": "8aef8b20",
   "metadata": {
    "deletable": false,
    "editable": false,
    "id": "8aef8b20"
   },
   "source": [
    "#### 3.5 Приведите возможные причины появления пропусков в исходных данных."
   ]
  },
  {
   "cell_type": "markdown",
   "id": "38964172",
   "metadata": {
    "deletable": false,
    "id": "38964172"
   },
   "source": [
    "*Ответ:* Пример: Пропуски в total_income обусловлены либо отсутствием заработка, как у пенсионеров, либо сознательным сокрытием данных, как у госслужащих. \n",
    "\n",
    "В целом, данные могли быть заполнены неаккуратно, если был перенос вручную с бумаги на электронный носитель. Однако, учитывая, что потерянные данные о количестве трудовых дней и о количестве выплат совпадают, делаем вывод, что эти колонки не заполнялись сознательно. "
   ]
  },
  {
   "cell_type": "markdown",
   "id": "6a5045a4",
   "metadata": {},
   "source": [
    "<div class=\"alert alert-success\">\n",
    "    \n",
    "<b> Комментарий от ревьюера ✔️</b>\n",
    "    \n",
    "Действительно, клиенты могли не предоставить данные. Еще, например, мы могли потерять данные при выгрузке из-за технической ошибки.\n",
    "</div>"
   ]
  },
  {
   "cell_type": "markdown",
   "id": "f0121cf4",
   "metadata": {
    "deletable": false,
    "editable": false,
    "id": "f0121cf4"
   },
   "source": [
    "#### 3.6 Объясните, почему заполнить пропуски медианным значением — лучшее решение для количественных переменных."
   ]
  },
  {
   "cell_type": "markdown",
   "id": "120f26d7",
   "metadata": {
    "deletable": false,
    "id": "120f26d7"
   },
   "source": [
    "<div class=\"alert alert-info\">  \n",
    "    *Ответ:* чтобы не сокращать размер выборки, лучше данные заполнить. Разброс в оплате труда в отдельных категориях работы может быть разным. Чтобы не терять качество данных, берем медианное значение – делящее группу на две равные части. \n",
    "\n",
    "Мода – наиболее часто встречающийся признак. \n",
    "</div>"
   ]
  },
  {
   "cell_type": "markdown",
   "id": "6e8096c1",
   "metadata": {},
   "source": [
    "<div class=\"alert alert-danger\">\n",
    "    \n",
    "<b> Комментарий от ревьюера ❗</b>\n",
    "    \n",
    ">  медианное значение – наиболее частый размер оплаты труда для данной категории\n",
    "    \n",
    "Подскажи, пожалуйста, что значит частый? А мода тогда что такое (в контексте статистики)?\n",
    "</div>"
   ]
  },
  {
   "cell_type": "markdown",
   "id": "8b44b524",
   "metadata": {},
   "source": [
    "<div class=\"alert alert-success\">\n",
    "    \n",
    "<b> Комментарий от ревьюера 2 ✔️</b>\n",
    "\n",
    "Все верно\n",
    "\n",
    "</div>"
   ]
  },
  {
   "cell_type": "markdown",
   "id": "0c797dce",
   "metadata": {
    "deletable": false,
    "editable": false,
    "id": "0c797dce"
   },
   "source": [
    "### Шаг 4: общий вывод."
   ]
  },
  {
   "cell_type": "markdown",
   "id": "589dcc90",
   "metadata": {
    "deletable": false,
    "id": "589dcc90"
   },
   "source": [
    "Да, семейное положение и количество детей клиента влияют на вероятность выплаты в срок. К очень бедным, очень богатым, холостякам и людям с детьми лучше относиться осторожнее – они значительно реже выплачивают долги вовремя. "
   ]
  },
  {
   "cell_type": "markdown",
   "id": "c7bb6668",
   "metadata": {},
   "source": [
    "<div class=\"alert alert-success\">\n",
    "    \n",
    "<b> Комментарий от ревьюера ✔️</b>\n",
    "    \n",
    "Здорово, что составил портрет \"плохого\" клиента!\n",
    "    \n",
    "Ответ на основной вопрос исследования стоит давать более развернуто (например, не \"семейное положение ... влияют на вероятность\", а \"с появлением детей увеличивается вероятность задолженности\"). Мы ведь хотим, чтобы из вывода можно было понять основные результаты проекта. Еще сюда можно добавить краткое описание работы, отметить интересные особенности.\n",
    "</div>"
   ]
  },
  {
   "cell_type": "markdown",
   "id": "7fec0628",
   "metadata": {},
   "source": [
    "<div class=\"alert alert-success\">\n",
    "    \n",
    "<b> Комментарий от ревьюера ✔️</b>\n",
    "    \n",
    "Спасибо за твою работу! Здорово, что использовал графики!\n",
    "\n",
    "Осталось немного доработать проект:\n",
    "\n",
    "- дополнить анализ зависимости задолженности от уровня дохода\n",
    "- прокомментировать использование медианы для обработки пропусков\n",
    " \n",
    "Задавай вопросы к моим комментариям, если есть. Жду твои исправления:)\n",
    "\n",
    "</div>"
   ]
  },
  {
   "cell_type": "markdown",
   "id": "dca6cb69",
   "metadata": {},
   "source": [
    "<div class=\"alert alert-success\">\n",
    "<b> Комментарий от ревьюера 2 ✔️</b>\n",
    "\n",
    "Спасибо, что учел мои комментарии. Надеюсь, эта работа была полезна для тебя. Я принимаю проект и желаю удачи в прохождении курса!\n",
    "\n",
    "</div>"
   ]
  }
 ],
 "metadata": {
  "ExecuteTimeLog": [
   {
    "duration": 1484,
    "start_time": "2022-09-19T19:13:16.284Z"
   },
   {
    "duration": 537,
    "start_time": "2022-09-19T19:13:30.148Z"
   },
   {
    "duration": 35,
    "start_time": "2022-09-19T19:13:30.686Z"
   },
   {
    "duration": 23,
    "start_time": "2022-09-19T19:13:30.723Z"
   },
   {
    "duration": 29,
    "start_time": "2022-09-19T19:13:30.748Z"
   },
   {
    "duration": 52,
    "start_time": "2022-09-19T19:13:30.779Z"
   },
   {
    "duration": 3,
    "start_time": "2022-09-19T19:13:30.834Z"
   },
   {
    "duration": 14,
    "start_time": "2022-09-19T19:13:30.839Z"
   },
   {
    "duration": 4,
    "start_time": "2022-09-19T19:13:30.855Z"
   },
   {
    "duration": 21,
    "start_time": "2022-09-19T19:13:30.861Z"
   },
   {
    "duration": 19,
    "start_time": "2022-09-19T19:13:30.887Z"
   },
   {
    "duration": 58,
    "start_time": "2022-09-19T19:13:30.912Z"
   },
   {
    "duration": 10,
    "start_time": "2022-09-19T19:13:30.972Z"
   },
   {
    "duration": 14,
    "start_time": "2022-09-19T19:13:30.984Z"
   },
   {
    "duration": 57,
    "start_time": "2022-09-19T19:13:31.000Z"
   },
   {
    "duration": 45,
    "start_time": "2022-09-19T19:13:31.060Z"
   },
   {
    "duration": 21,
    "start_time": "2022-09-19T19:13:31.111Z"
   },
   {
    "duration": 6,
    "start_time": "2022-09-19T19:13:31.134Z"
   },
   {
    "duration": 14,
    "start_time": "2022-09-19T19:13:31.141Z"
   },
   {
    "duration": 16,
    "start_time": "2022-09-19T19:13:31.157Z"
   },
   {
    "duration": 9,
    "start_time": "2022-09-19T19:13:31.175Z"
   },
   {
    "duration": 22,
    "start_time": "2022-09-19T19:13:31.186Z"
   },
   {
    "duration": 1261,
    "start_time": "2022-09-19T19:13:31.210Z"
   },
   {
    "duration": 3,
    "start_time": "2022-09-19T19:13:32.473Z"
   },
   {
    "duration": 36,
    "start_time": "2022-09-19T19:13:32.477Z"
   },
   {
    "duration": 9,
    "start_time": "2022-09-19T19:13:32.515Z"
   },
   {
    "duration": 178,
    "start_time": "2022-09-19T19:17:51.823Z"
   },
   {
    "duration": 175,
    "start_time": "2022-09-19T19:22:21.961Z"
   },
   {
    "duration": 169,
    "start_time": "2022-09-19T19:25:23.548Z"
   },
   {
    "duration": 280,
    "start_time": "2022-09-19T19:27:04.183Z"
   },
   {
    "duration": 252,
    "start_time": "2022-09-19T19:27:24.912Z"
   },
   {
    "duration": 321,
    "start_time": "2022-09-19T19:27:34.011Z"
   },
   {
    "duration": 311,
    "start_time": "2022-09-19T19:28:01.656Z"
   },
   {
    "duration": 2919,
    "start_time": "2022-09-19T19:37:49.206Z"
   },
   {
    "duration": 15,
    "start_time": "2022-09-19T19:38:08.819Z"
   },
   {
    "duration": 14,
    "start_time": "2022-09-19T19:38:17.268Z"
   },
   {
    "duration": 14,
    "start_time": "2022-09-19T19:38:27.100Z"
   },
   {
    "duration": 16,
    "start_time": "2022-09-19T19:38:31.907Z"
   },
   {
    "duration": 13,
    "start_time": "2022-09-19T19:38:48.841Z"
   },
   {
    "duration": 362,
    "start_time": "2022-09-19T19:39:46.645Z"
   },
   {
    "duration": 261,
    "start_time": "2022-09-19T19:40:08.343Z"
   },
   {
    "duration": 253,
    "start_time": "2022-09-19T19:45:02.991Z"
   },
   {
    "duration": 509,
    "start_time": "2022-09-19T19:45:44.593Z"
   },
   {
    "duration": 24,
    "start_time": "2022-09-19T19:45:45.105Z"
   },
   {
    "duration": 16,
    "start_time": "2022-09-19T19:45:45.134Z"
   },
   {
    "duration": 11,
    "start_time": "2022-09-19T19:45:45.152Z"
   },
   {
    "duration": 61,
    "start_time": "2022-09-19T19:45:45.165Z"
   },
   {
    "duration": 4,
    "start_time": "2022-09-19T19:45:45.228Z"
   },
   {
    "duration": 14,
    "start_time": "2022-09-19T19:45:45.233Z"
   },
   {
    "duration": 4,
    "start_time": "2022-09-19T19:45:45.249Z"
   },
   {
    "duration": 12,
    "start_time": "2022-09-19T19:45:45.255Z"
   },
   {
    "duration": 15,
    "start_time": "2022-09-19T19:45:45.269Z"
   },
   {
    "duration": 36,
    "start_time": "2022-09-19T19:45:45.296Z"
   },
   {
    "duration": 10,
    "start_time": "2022-09-19T19:45:45.334Z"
   },
   {
    "duration": 4,
    "start_time": "2022-09-19T19:45:45.346Z"
   },
   {
    "duration": 15,
    "start_time": "2022-09-19T19:45:45.351Z"
   },
   {
    "duration": 44,
    "start_time": "2022-09-19T19:45:45.367Z"
   },
   {
    "duration": 18,
    "start_time": "2022-09-19T19:45:45.412Z"
   },
   {
    "duration": 3,
    "start_time": "2022-09-19T19:45:45.431Z"
   },
   {
    "duration": 13,
    "start_time": "2022-09-19T19:45:45.436Z"
   },
   {
    "duration": 6,
    "start_time": "2022-09-19T19:45:45.450Z"
   },
   {
    "duration": 3,
    "start_time": "2022-09-19T19:45:45.457Z"
   },
   {
    "duration": 41,
    "start_time": "2022-09-19T19:45:45.462Z"
   },
   {
    "duration": 1002,
    "start_time": "2022-09-19T19:45:45.505Z"
   },
   {
    "duration": 344,
    "start_time": "2022-09-19T19:45:46.509Z"
   },
   {
    "duration": 0,
    "start_time": "2022-09-19T19:45:46.855Z"
   },
   {
    "duration": 0,
    "start_time": "2022-09-19T19:45:46.856Z"
   },
   {
    "duration": 346,
    "start_time": "2022-09-19T19:46:18.538Z"
   },
   {
    "duration": 392,
    "start_time": "2022-09-19T19:47:14.765Z"
   },
   {
    "duration": 187,
    "start_time": "2022-09-19T19:47:21.758Z"
   },
   {
    "duration": 332,
    "start_time": "2022-09-19T19:47:43.729Z"
   },
   {
    "duration": 582,
    "start_time": "2022-09-19T20:10:29.042Z"
   },
   {
    "duration": 554,
    "start_time": "2022-09-19T20:10:53.711Z"
   },
   {
    "duration": 565,
    "start_time": "2022-09-19T20:11:06.871Z"
   },
   {
    "duration": 547,
    "start_time": "2022-09-19T20:11:15.213Z"
   },
   {
    "duration": 432,
    "start_time": "2022-09-19T20:11:24.183Z"
   },
   {
    "duration": 347,
    "start_time": "2022-09-19T20:11:35.840Z"
   },
   {
    "duration": 568,
    "start_time": "2022-09-19T20:11:46.313Z"
   },
   {
    "duration": 353,
    "start_time": "2022-09-19T20:12:21.745Z"
   },
   {
    "duration": 512,
    "start_time": "2022-09-19T20:15:30.475Z"
   },
   {
    "duration": 23,
    "start_time": "2022-09-19T20:15:30.989Z"
   },
   {
    "duration": 16,
    "start_time": "2022-09-19T20:15:31.014Z"
   },
   {
    "duration": 11,
    "start_time": "2022-09-19T20:15:31.032Z"
   },
   {
    "duration": 63,
    "start_time": "2022-09-19T20:15:31.045Z"
   },
   {
    "duration": 4,
    "start_time": "2022-09-19T20:15:31.109Z"
   },
   {
    "duration": 27,
    "start_time": "2022-09-19T20:15:31.115Z"
   },
   {
    "duration": 11,
    "start_time": "2022-09-19T20:15:31.144Z"
   },
   {
    "duration": 28,
    "start_time": "2022-09-19T20:15:31.157Z"
   },
   {
    "duration": 20,
    "start_time": "2022-09-19T20:15:31.189Z"
   },
   {
    "duration": 54,
    "start_time": "2022-09-19T20:15:31.211Z"
   },
   {
    "duration": 13,
    "start_time": "2022-09-19T20:15:31.267Z"
   },
   {
    "duration": 17,
    "start_time": "2022-09-19T20:15:31.282Z"
   },
   {
    "duration": 25,
    "start_time": "2022-09-19T20:15:31.301Z"
   },
   {
    "duration": 43,
    "start_time": "2022-09-19T20:15:31.328Z"
   },
   {
    "duration": 19,
    "start_time": "2022-09-19T20:15:31.374Z"
   },
   {
    "duration": 4,
    "start_time": "2022-09-19T20:15:31.395Z"
   },
   {
    "duration": 35,
    "start_time": "2022-09-19T20:15:31.401Z"
   },
   {
    "duration": 8,
    "start_time": "2022-09-19T20:15:31.438Z"
   },
   {
    "duration": 5,
    "start_time": "2022-09-19T20:15:31.448Z"
   },
   {
    "duration": 18,
    "start_time": "2022-09-19T20:15:31.454Z"
   },
   {
    "duration": 1048,
    "start_time": "2022-09-19T20:15:31.474Z"
   },
   {
    "duration": 373,
    "start_time": "2022-09-19T20:15:32.525Z"
   },
   {
    "duration": 42,
    "start_time": "2022-09-20T07:47:06.263Z"
   },
   {
    "duration": 687,
    "start_time": "2022-09-20T07:47:13.502Z"
   },
   {
    "duration": 27,
    "start_time": "2022-09-20T07:47:14.191Z"
   },
   {
    "duration": 14,
    "start_time": "2022-09-20T07:47:14.220Z"
   },
   {
    "duration": 12,
    "start_time": "2022-09-20T07:47:14.236Z"
   },
   {
    "duration": 29,
    "start_time": "2022-09-20T07:47:14.250Z"
   },
   {
    "duration": 4,
    "start_time": "2022-09-20T07:47:14.299Z"
   },
   {
    "duration": 12,
    "start_time": "2022-09-20T07:47:14.304Z"
   },
   {
    "duration": 4,
    "start_time": "2022-09-20T07:47:14.318Z"
   },
   {
    "duration": 8,
    "start_time": "2022-09-20T07:47:14.323Z"
   },
   {
    "duration": 4,
    "start_time": "2022-09-20T07:47:14.335Z"
   },
   {
    "duration": 63,
    "start_time": "2022-09-20T07:47:14.341Z"
   },
   {
    "duration": 11,
    "start_time": "2022-09-20T07:47:14.406Z"
   },
   {
    "duration": 14,
    "start_time": "2022-09-20T07:47:14.419Z"
   },
   {
    "duration": 18,
    "start_time": "2022-09-20T07:47:14.435Z"
   },
   {
    "duration": 28,
    "start_time": "2022-09-20T07:47:14.454Z"
   },
   {
    "duration": 27,
    "start_time": "2022-09-20T07:47:14.483Z"
   },
   {
    "duration": 5,
    "start_time": "2022-09-20T07:47:14.511Z"
   },
   {
    "duration": 12,
    "start_time": "2022-09-20T07:47:14.517Z"
   },
   {
    "duration": 11,
    "start_time": "2022-09-20T07:47:14.531Z"
   },
   {
    "duration": 3,
    "start_time": "2022-09-20T07:47:14.543Z"
   },
   {
    "duration": 15,
    "start_time": "2022-09-20T07:47:14.548Z"
   },
   {
    "duration": 1113,
    "start_time": "2022-09-20T07:47:14.564Z"
   },
   {
    "duration": 341,
    "start_time": "2022-09-20T07:47:15.679Z"
   },
   {
    "duration": 7,
    "start_time": "2022-09-20T11:10:16.516Z"
   },
   {
    "duration": 525,
    "start_time": "2022-09-20T11:10:24.995Z"
   },
   {
    "duration": 19,
    "start_time": "2022-09-20T11:10:25.522Z"
   },
   {
    "duration": 13,
    "start_time": "2022-09-20T11:10:25.544Z"
   },
   {
    "duration": 8,
    "start_time": "2022-09-20T11:10:25.558Z"
   },
   {
    "duration": 38,
    "start_time": "2022-09-20T11:10:25.567Z"
   },
   {
    "duration": 3,
    "start_time": "2022-09-20T11:10:25.607Z"
   },
   {
    "duration": 9,
    "start_time": "2022-09-20T11:10:25.611Z"
   },
   {
    "duration": 3,
    "start_time": "2022-09-20T11:10:25.621Z"
   },
   {
    "duration": 7,
    "start_time": "2022-09-20T11:10:25.626Z"
   },
   {
    "duration": 4,
    "start_time": "2022-09-20T11:10:25.635Z"
   },
   {
    "duration": 29,
    "start_time": "2022-09-20T11:10:25.640Z"
   },
   {
    "duration": 8,
    "start_time": "2022-09-20T11:10:25.670Z"
   },
   {
    "duration": 4,
    "start_time": "2022-09-20T11:10:25.705Z"
   },
   {
    "duration": 13,
    "start_time": "2022-09-20T11:10:25.710Z"
   },
   {
    "duration": 16,
    "start_time": "2022-09-20T11:10:25.724Z"
   },
   {
    "duration": 14,
    "start_time": "2022-09-20T11:10:25.742Z"
   },
   {
    "duration": 3,
    "start_time": "2022-09-20T11:10:25.757Z"
   },
   {
    "duration": 15,
    "start_time": "2022-09-20T11:10:25.761Z"
   },
   {
    "duration": 7,
    "start_time": "2022-09-20T11:10:25.777Z"
   },
   {
    "duration": 22,
    "start_time": "2022-09-20T11:10:25.785Z"
   },
   {
    "duration": 12,
    "start_time": "2022-09-20T11:10:25.809Z"
   },
   {
    "duration": 1093,
    "start_time": "2022-09-20T11:10:25.822Z"
   },
   {
    "duration": 316,
    "start_time": "2022-09-20T11:10:26.916Z"
   },
   {
    "duration": 4,
    "start_time": "2022-09-20T11:10:27.233Z"
   },
   {
    "duration": 0,
    "start_time": "2022-09-20T11:10:27.238Z"
   },
   {
    "duration": 1213,
    "start_time": "2022-09-20T11:10:31.371Z"
   },
   {
    "duration": 1175,
    "start_time": "2022-09-20T18:59:12.336Z"
   },
   {
    "duration": 28,
    "start_time": "2022-09-20T18:59:13.513Z"
   },
   {
    "duration": 21,
    "start_time": "2022-09-20T18:59:13.543Z"
   },
   {
    "duration": 12,
    "start_time": "2022-09-20T18:59:13.567Z"
   },
   {
    "duration": 35,
    "start_time": "2022-09-20T18:59:13.581Z"
   },
   {
    "duration": 22,
    "start_time": "2022-09-20T18:59:13.618Z"
   },
   {
    "duration": 44,
    "start_time": "2022-09-20T18:59:13.644Z"
   },
   {
    "duration": 4,
    "start_time": "2022-09-20T18:59:13.689Z"
   },
   {
    "duration": 10,
    "start_time": "2022-09-20T18:59:13.695Z"
   },
   {
    "duration": 4,
    "start_time": "2022-09-20T18:59:13.707Z"
   },
   {
    "duration": 55,
    "start_time": "2022-09-20T18:59:13.712Z"
   },
   {
    "duration": 10,
    "start_time": "2022-09-20T18:59:13.770Z"
   },
   {
    "duration": 4,
    "start_time": "2022-09-20T18:59:13.781Z"
   },
   {
    "duration": 13,
    "start_time": "2022-09-20T18:59:13.786Z"
   },
   {
    "duration": 42,
    "start_time": "2022-09-20T18:59:13.801Z"
   },
   {
    "duration": 27,
    "start_time": "2022-09-20T18:59:13.845Z"
   },
   {
    "duration": 4,
    "start_time": "2022-09-20T18:59:13.874Z"
   },
   {
    "duration": 13,
    "start_time": "2022-09-20T18:59:13.880Z"
   },
   {
    "duration": 9,
    "start_time": "2022-09-20T18:59:13.894Z"
   },
   {
    "duration": 7,
    "start_time": "2022-09-20T18:59:13.905Z"
   },
   {
    "duration": 23,
    "start_time": "2022-09-20T18:59:13.913Z"
   },
   {
    "duration": 1239,
    "start_time": "2022-09-20T18:59:13.940Z"
   },
   {
    "duration": 400,
    "start_time": "2022-09-20T18:59:15.183Z"
   },
   {
    "duration": 382,
    "start_time": "2022-09-20T18:59:15.585Z"
   },
   {
    "duration": 415,
    "start_time": "2022-09-20T18:59:15.970Z"
   },
   {
    "duration": 4,
    "start_time": "2022-09-20T19:04:52.398Z"
   },
   {
    "duration": 1684,
    "start_time": "2022-09-26T07:48:51.781Z"
   },
   {
    "duration": 20,
    "start_time": "2022-09-26T07:48:53.467Z"
   },
   {
    "duration": 14,
    "start_time": "2022-09-26T07:48:53.488Z"
   },
   {
    "duration": 9,
    "start_time": "2022-09-26T07:48:53.504Z"
   },
   {
    "duration": 31,
    "start_time": "2022-09-26T07:48:53.514Z"
   },
   {
    "duration": 3,
    "start_time": "2022-09-26T07:48:53.547Z"
   },
   {
    "duration": 11,
    "start_time": "2022-09-26T07:48:53.551Z"
   },
   {
    "duration": 5,
    "start_time": "2022-09-26T07:48:53.563Z"
   },
   {
    "duration": 7,
    "start_time": "2022-09-26T07:48:53.570Z"
   },
   {
    "duration": 30,
    "start_time": "2022-09-26T07:48:53.580Z"
   },
   {
    "duration": 32,
    "start_time": "2022-09-26T07:48:53.611Z"
   },
   {
    "duration": 9,
    "start_time": "2022-09-26T07:48:53.645Z"
   },
   {
    "duration": 8,
    "start_time": "2022-09-26T07:48:53.656Z"
   },
   {
    "duration": 13,
    "start_time": "2022-09-26T07:48:53.665Z"
   },
   {
    "duration": 36,
    "start_time": "2022-09-26T07:48:53.679Z"
   },
   {
    "duration": 18,
    "start_time": "2022-09-26T07:48:53.717Z"
   },
   {
    "duration": 5,
    "start_time": "2022-09-26T07:48:53.736Z"
   },
   {
    "duration": 12,
    "start_time": "2022-09-26T07:48:53.742Z"
   },
   {
    "duration": 6,
    "start_time": "2022-09-26T07:48:53.756Z"
   },
   {
    "duration": 4,
    "start_time": "2022-09-26T07:48:53.764Z"
   },
   {
    "duration": 41,
    "start_time": "2022-09-26T07:48:53.769Z"
   },
   {
    "duration": 292,
    "start_time": "2022-09-26T07:48:53.812Z"
   },
   {
    "duration": 338,
    "start_time": "2022-09-26T07:48:54.105Z"
   },
   {
    "duration": 327,
    "start_time": "2022-09-26T07:48:54.445Z"
   },
   {
    "duration": 324,
    "start_time": "2022-09-26T07:48:54.774Z"
   },
   {
    "duration": 258,
    "start_time": "2022-09-26T07:50:45.584Z"
   },
   {
    "duration": 274,
    "start_time": "2022-09-26T07:51:26.604Z"
   },
   {
    "duration": 360,
    "start_time": "2022-09-26T07:52:37.882Z"
   },
   {
    "duration": 373,
    "start_time": "2022-09-26T07:54:03.663Z"
   },
   {
    "duration": 66,
    "start_time": "2022-09-26T07:55:33.366Z"
   },
   {
    "duration": 262,
    "start_time": "2022-09-26T07:55:51.286Z"
   },
   {
    "duration": 412,
    "start_time": "2022-09-26T07:59:18.730Z"
   },
   {
    "duration": 329,
    "start_time": "2022-09-26T08:00:38.966Z"
   },
   {
    "duration": 326,
    "start_time": "2022-09-26T08:00:50.703Z"
   },
   {
    "duration": 356,
    "start_time": "2022-09-26T08:01:15.088Z"
   },
   {
    "duration": 122,
    "start_time": "2022-09-26T08:01:52.927Z"
   },
   {
    "duration": 331,
    "start_time": "2022-09-26T08:01:59.095Z"
   },
   {
    "duration": 340,
    "start_time": "2022-09-26T08:04:07.160Z"
   },
   {
    "duration": 386,
    "start_time": "2022-09-26T08:09:24.336Z"
   },
   {
    "duration": 12,
    "start_time": "2022-09-26T08:13:03.860Z"
   },
   {
    "duration": 368,
    "start_time": "2022-09-26T08:13:41.786Z"
   },
   {
    "duration": 100,
    "start_time": "2022-09-26T10:47:16.184Z"
   },
   {
    "duration": 39,
    "start_time": "2022-09-26T10:47:30.158Z"
   },
   {
    "duration": 1334,
    "start_time": "2022-09-26T10:47:37.580Z"
   },
   {
    "duration": 17,
    "start_time": "2022-09-26T10:47:38.915Z"
   },
   {
    "duration": 28,
    "start_time": "2022-09-26T10:47:38.933Z"
   },
   {
    "duration": 9,
    "start_time": "2022-09-26T10:47:38.963Z"
   },
   {
    "duration": 42,
    "start_time": "2022-09-26T10:47:38.973Z"
   },
   {
    "duration": 3,
    "start_time": "2022-09-26T10:47:39.017Z"
   },
   {
    "duration": 16,
    "start_time": "2022-09-26T10:47:39.021Z"
   },
   {
    "duration": 20,
    "start_time": "2022-09-26T10:47:39.038Z"
   },
   {
    "duration": 22,
    "start_time": "2022-09-26T10:47:39.059Z"
   },
   {
    "duration": 11,
    "start_time": "2022-09-26T10:47:39.083Z"
   },
   {
    "duration": 42,
    "start_time": "2022-09-26T10:47:39.095Z"
   },
   {
    "duration": 8,
    "start_time": "2022-09-26T10:47:39.139Z"
   },
   {
    "duration": 15,
    "start_time": "2022-09-26T10:47:39.148Z"
   },
   {
    "duration": 38,
    "start_time": "2022-09-26T10:47:39.165Z"
   },
   {
    "duration": 26,
    "start_time": "2022-09-26T10:47:39.204Z"
   },
   {
    "duration": 23,
    "start_time": "2022-09-26T10:47:39.231Z"
   },
   {
    "duration": 4,
    "start_time": "2022-09-26T10:47:39.255Z"
   },
   {
    "duration": 28,
    "start_time": "2022-09-26T10:47:39.260Z"
   },
   {
    "duration": 14,
    "start_time": "2022-09-26T10:47:39.290Z"
   },
   {
    "duration": 21,
    "start_time": "2022-09-26T10:47:39.305Z"
   },
   {
    "duration": 25,
    "start_time": "2022-09-26T10:47:39.327Z"
   },
   {
    "duration": 252,
    "start_time": "2022-09-26T10:47:39.353Z"
   },
   {
    "duration": 318,
    "start_time": "2022-09-26T10:47:39.607Z"
   },
   {
    "duration": 110,
    "start_time": "2022-09-26T10:47:39.926Z"
   },
   {
    "duration": 302,
    "start_time": "2022-09-26T10:47:40.037Z"
   },
   {
    "duration": 146,
    "start_time": "2022-09-26T10:48:25.803Z"
   },
   {
    "duration": 123,
    "start_time": "2022-09-26T10:49:55.053Z"
   },
   {
    "duration": 315,
    "start_time": "2022-09-26T10:50:47.240Z"
   },
   {
    "duration": 309,
    "start_time": "2022-09-26T10:51:08.697Z"
   },
   {
    "duration": 428,
    "start_time": "2022-09-26T10:56:07.915Z"
   },
   {
    "duration": 363,
    "start_time": "2022-09-26T10:56:34.788Z"
   },
   {
    "duration": 288,
    "start_time": "2022-09-26T10:56:51.295Z"
   },
   {
    "duration": 283,
    "start_time": "2022-09-26T10:57:40.594Z"
   },
   {
    "duration": 293,
    "start_time": "2022-09-26T10:58:09.284Z"
   },
   {
    "duration": 307,
    "start_time": "2022-09-26T10:58:16.537Z"
   },
   {
    "duration": 1238,
    "start_time": "2022-09-26T12:58:22.976Z"
   },
   {
    "duration": 18,
    "start_time": "2022-09-26T12:58:24.216Z"
   },
   {
    "duration": 13,
    "start_time": "2022-09-26T12:58:24.235Z"
   },
   {
    "duration": 10,
    "start_time": "2022-09-26T12:58:24.249Z"
   },
   {
    "duration": 38,
    "start_time": "2022-09-26T12:58:24.260Z"
   },
   {
    "duration": 3,
    "start_time": "2022-09-26T12:58:24.299Z"
   },
   {
    "duration": 22,
    "start_time": "2022-09-26T12:58:24.303Z"
   },
   {
    "duration": 3,
    "start_time": "2022-09-26T12:58:24.327Z"
   },
   {
    "duration": 11,
    "start_time": "2022-09-26T12:58:24.332Z"
   },
   {
    "duration": 13,
    "start_time": "2022-09-26T12:58:24.344Z"
   },
   {
    "duration": 34,
    "start_time": "2022-09-26T12:58:24.358Z"
   },
   {
    "duration": 7,
    "start_time": "2022-09-26T12:58:24.393Z"
   },
   {
    "duration": 13,
    "start_time": "2022-09-26T12:58:24.401Z"
   },
   {
    "duration": 16,
    "start_time": "2022-09-26T12:58:24.416Z"
   },
   {
    "duration": 33,
    "start_time": "2022-09-26T12:58:24.433Z"
   },
   {
    "duration": 14,
    "start_time": "2022-09-26T12:58:24.467Z"
   },
   {
    "duration": 5,
    "start_time": "2022-09-26T12:58:24.483Z"
   },
   {
    "duration": 32,
    "start_time": "2022-09-26T12:58:24.489Z"
   },
   {
    "duration": 5,
    "start_time": "2022-09-26T12:58:24.522Z"
   },
   {
    "duration": 8,
    "start_time": "2022-09-26T12:58:24.528Z"
   },
   {
    "duration": 28,
    "start_time": "2022-09-26T12:58:24.537Z"
   },
   {
    "duration": 247,
    "start_time": "2022-09-26T12:58:24.566Z"
   },
   {
    "duration": 316,
    "start_time": "2022-09-26T12:58:24.814Z"
   },
   {
    "duration": 307,
    "start_time": "2022-09-26T12:58:25.132Z"
   },
   {
    "duration": 271,
    "start_time": "2022-09-26T12:58:25.441Z"
   },
   {
    "duration": 10,
    "start_time": "2022-09-26T13:01:39.414Z"
   }
  ],
  "colab": {
   "provenance": []
  },
  "kernelspec": {
   "display_name": "Python 3 (ipykernel)",
   "language": "python",
   "name": "python3"
  },
  "language_info": {
   "codemirror_mode": {
    "name": "ipython",
    "version": 3
   },
   "file_extension": ".py",
   "mimetype": "text/x-python",
   "name": "python",
   "nbconvert_exporter": "python",
   "pygments_lexer": "ipython3",
   "version": "3.9.12"
  },
  "toc": {
   "base_numbering": 1,
   "nav_menu": {},
   "number_sections": true,
   "sideBar": true,
   "skip_h1_title": true,
   "title_cell": "Table of Contents",
   "title_sidebar": "Contents",
   "toc_cell": false,
   "toc_position": {},
   "toc_section_display": true,
   "toc_window_display": false
  }
 },
 "nbformat": 4,
 "nbformat_minor": 5
}
