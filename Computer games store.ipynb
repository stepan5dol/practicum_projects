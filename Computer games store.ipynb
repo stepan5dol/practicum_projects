{
 "cells": [
  {
   "cell_type": "code",
   "execution_count": 18,
   "metadata": {},
   "outputs": [],
   "source": [
    "#импорт библиотек\n",
    "import pandas as pd\n",
    "import seaborn as sb\n",
    "import matplotlib.pyplot as plt\n",
    "from scipy import stats as st\n",
    "import numpy as np"
   ]
  },
  {
   "cell_type": "code",
   "execution_count": 2,
   "metadata": {},
   "outputs": [],
   "source": [
    "#открываю файл\n",
    "data = pd.read_csv('/datasets/games.csv')"
   ]
  },
  {
   "cell_type": "markdown",
   "metadata": {},
   "source": [
    "### Step 2. Prepare the data\n",
    "\n",
    "\n",
    "1. Replace the column names (lower case);👍\n",
    "2. Convert the data to the desired types. Describe in which columns the data type was replaced and why;👍\n",
    "3. Process the allowances if necessary:\n",
    "Explain why you filled in the gaps in a certain way or why you did not do it;👍\n",
    "4. Describe the reasons that could lead to omissions;👍\n",
    "5. Pay attention to the abbreviation 'tbd' in the column with the user rating. Separately analyze this value and describe how to process it;👍\n",
    "6. Calculate the total sales in all regions and record them in a separate column.👍"
   ]
  },
  {
   "cell_type": "code",
   "execution_count": 3,
   "metadata": {},
   "outputs": [
    {
     "data": {
      "text/html": [
       "<div>\n",
       "<style scoped>\n",
       "    .dataframe tbody tr th:only-of-type {\n",
       "        vertical-align: middle;\n",
       "    }\n",
       "\n",
       "    .dataframe tbody tr th {\n",
       "        vertical-align: top;\n",
       "    }\n",
       "\n",
       "    .dataframe thead th {\n",
       "        text-align: right;\n",
       "    }\n",
       "</style>\n",
       "<table border=\"1\" class=\"dataframe\">\n",
       "  <thead>\n",
       "    <tr style=\"text-align: right;\">\n",
       "      <th></th>\n",
       "      <th>Name</th>\n",
       "      <th>Platform</th>\n",
       "      <th>Year_of_Release</th>\n",
       "      <th>Genre</th>\n",
       "      <th>NA_sales</th>\n",
       "      <th>EU_sales</th>\n",
       "      <th>JP_sales</th>\n",
       "      <th>Other_sales</th>\n",
       "      <th>Critic_Score</th>\n",
       "      <th>User_Score</th>\n",
       "      <th>Rating</th>\n",
       "    </tr>\n",
       "  </thead>\n",
       "  <tbody>\n",
       "    <tr>\n",
       "      <th>0</th>\n",
       "      <td>Wii Sports</td>\n",
       "      <td>Wii</td>\n",
       "      <td>2006.0</td>\n",
       "      <td>Sports</td>\n",
       "      <td>41.36</td>\n",
       "      <td>28.96</td>\n",
       "      <td>3.77</td>\n",
       "      <td>8.45</td>\n",
       "      <td>76.0</td>\n",
       "      <td>8</td>\n",
       "      <td>E</td>\n",
       "    </tr>\n",
       "    <tr>\n",
       "      <th>1</th>\n",
       "      <td>Super Mario Bros.</td>\n",
       "      <td>NES</td>\n",
       "      <td>1985.0</td>\n",
       "      <td>Platform</td>\n",
       "      <td>29.08</td>\n",
       "      <td>3.58</td>\n",
       "      <td>6.81</td>\n",
       "      <td>0.77</td>\n",
       "      <td>NaN</td>\n",
       "      <td>NaN</td>\n",
       "      <td>NaN</td>\n",
       "    </tr>\n",
       "    <tr>\n",
       "      <th>2</th>\n",
       "      <td>Mario Kart Wii</td>\n",
       "      <td>Wii</td>\n",
       "      <td>2008.0</td>\n",
       "      <td>Racing</td>\n",
       "      <td>15.68</td>\n",
       "      <td>12.76</td>\n",
       "      <td>3.79</td>\n",
       "      <td>3.29</td>\n",
       "      <td>82.0</td>\n",
       "      <td>8.3</td>\n",
       "      <td>E</td>\n",
       "    </tr>\n",
       "    <tr>\n",
       "      <th>3</th>\n",
       "      <td>Wii Sports Resort</td>\n",
       "      <td>Wii</td>\n",
       "      <td>2009.0</td>\n",
       "      <td>Sports</td>\n",
       "      <td>15.61</td>\n",
       "      <td>10.93</td>\n",
       "      <td>3.28</td>\n",
       "      <td>2.95</td>\n",
       "      <td>80.0</td>\n",
       "      <td>8</td>\n",
       "      <td>E</td>\n",
       "    </tr>\n",
       "    <tr>\n",
       "      <th>4</th>\n",
       "      <td>Pokemon Red/Pokemon Blue</td>\n",
       "      <td>GB</td>\n",
       "      <td>1996.0</td>\n",
       "      <td>Role-Playing</td>\n",
       "      <td>11.27</td>\n",
       "      <td>8.89</td>\n",
       "      <td>10.22</td>\n",
       "      <td>1.00</td>\n",
       "      <td>NaN</td>\n",
       "      <td>NaN</td>\n",
       "      <td>NaN</td>\n",
       "    </tr>\n",
       "  </tbody>\n",
       "</table>\n",
       "</div>"
      ],
      "text/plain": [
       "                       Name Platform  Year_of_Release         Genre  NA_sales  \\\n",
       "0                Wii Sports      Wii           2006.0        Sports     41.36   \n",
       "1         Super Mario Bros.      NES           1985.0      Platform     29.08   \n",
       "2            Mario Kart Wii      Wii           2008.0        Racing     15.68   \n",
       "3         Wii Sports Resort      Wii           2009.0        Sports     15.61   \n",
       "4  Pokemon Red/Pokemon Blue       GB           1996.0  Role-Playing     11.27   \n",
       "\n",
       "   EU_sales  JP_sales  Other_sales  Critic_Score User_Score Rating  \n",
       "0     28.96      3.77         8.45          76.0          8      E  \n",
       "1      3.58      6.81         0.77           NaN        NaN    NaN  \n",
       "2     12.76      3.79         3.29          82.0        8.3      E  \n",
       "3     10.93      3.28         2.95          80.0          8      E  \n",
       "4      8.89     10.22         1.00           NaN        NaN    NaN  "
      ]
     },
     "metadata": {},
     "output_type": "display_data"
    },
    {
     "name": "stdout",
     "output_type": "stream",
     "text": [
      "<class 'pandas.core.frame.DataFrame'>\n",
      "RangeIndex: 16715 entries, 0 to 16714\n",
      "Data columns (total 11 columns):\n",
      " #   Column           Non-Null Count  Dtype  \n",
      "---  ------           --------------  -----  \n",
      " 0   name             16713 non-null  object \n",
      " 1   platform         16715 non-null  object \n",
      " 2   year_of_release  16446 non-null  float64\n",
      " 3   genre            16713 non-null  object \n",
      " 4   na_sales         16715 non-null  float64\n",
      " 5   eu_sales         16715 non-null  float64\n",
      " 6   jp_sales         16715 non-null  float64\n",
      " 7   other_sales      16715 non-null  float64\n",
      " 8   critic_score     8137 non-null   float64\n",
      " 9   user_score       10014 non-null  object \n",
      " 10  rating           9949 non-null   object \n",
      "dtypes: float64(6), object(5)\n",
      "memory usage: 1.4+ MB\n"
     ]
    },
    {
     "data": {
      "text/plain": [
       "None"
      ]
     },
     "metadata": {},
     "output_type": "display_data"
    },
    {
     "data": {
      "text/plain": [
       "269"
      ]
     },
     "execution_count": 3,
     "metadata": {},
     "output_type": "execute_result"
    }
   ],
   "source": [
    "#приведение столбцов к нижнему регистру\n",
    "display(data.head())\n",
    "data.columns = data.columns.str.lower()\n",
    "display(data.info())\n",
    "data['year_of_release'].isna().sum()"
   ]
  },
  {
   "cell_type": "code",
   "execution_count": 4,
   "metadata": {},
   "outputs": [
    {
     "name": "stdout",
     "output_type": "stream",
     "text": [
      "<class 'pandas.core.frame.DataFrame'>\n",
      "RangeIndex: 16715 entries, 0 to 16714\n",
      "Data columns (total 11 columns):\n",
      " #   Column           Non-Null Count  Dtype  \n",
      "---  ------           --------------  -----  \n",
      " 0   name             16713 non-null  object \n",
      " 1   platform         16715 non-null  object \n",
      " 2   year_of_release  16715 non-null  int64  \n",
      " 3   genre            16713 non-null  object \n",
      " 4   na_sales         16715 non-null  float64\n",
      " 5   eu_sales         16715 non-null  float64\n",
      " 6   jp_sales         16715 non-null  float64\n",
      " 7   other_sales      16715 non-null  float64\n",
      " 8   critic_score     9479 non-null   float64\n",
      " 9   user_score       16715 non-null  float64\n",
      " 10  rating           9999 non-null   object \n",
      "dtypes: float64(6), int64(1), object(4)\n",
      "memory usage: 1.4+ MB\n"
     ]
    }
   ],
   "source": [
    "#данные в нужные типы\n",
    "#год – всегда целое число\n",
    "data['year_of_release'] = data['year_of_release'].fillna(0)\n",
    "data['year_of_release'] = data['year_of_release'].astype(int)\n",
    "data['user_score'] = data['user_score'].fillna(0)\n",
    "data[data['user_score'] == 'tbd'] = 0 \n",
    "#так как to be determined не отличается от отсутствия рейтинга – заменю на 0\n",
    "data['user_score'] = data['user_score'].astype(float)\n",
    "data.info()\n",
    "#имена собственные – object, числовые рейтинги – float, год – integer."
   ]
  },
  {
   "cell_type": "code",
   "execution_count": 5,
   "metadata": {},
   "outputs": [
    {
     "data": {
      "text/plain": [
       "name                  2\n",
       "platform              0\n",
       "year_of_release       0\n",
       "genre                 2\n",
       "na_sales              0\n",
       "eu_sales              0\n",
       "jp_sales              0\n",
       "other_sales           0\n",
       "critic_score       7236\n",
       "user_score            0\n",
       "rating             6716\n",
       "dtype: int64"
      ]
     },
     "metadata": {},
     "output_type": "display_data"
    },
    {
     "data": {
      "text/html": [
       "<div>\n",
       "<style scoped>\n",
       "    .dataframe tbody tr th:only-of-type {\n",
       "        vertical-align: middle;\n",
       "    }\n",
       "\n",
       "    .dataframe tbody tr th {\n",
       "        vertical-align: top;\n",
       "    }\n",
       "\n",
       "    .dataframe thead th {\n",
       "        text-align: right;\n",
       "    }\n",
       "</style>\n",
       "<table border=\"1\" class=\"dataframe\">\n",
       "  <thead>\n",
       "    <tr style=\"text-align: right;\">\n",
       "      <th></th>\n",
       "      <th>name</th>\n",
       "      <th>platform</th>\n",
       "      <th>year_of_release</th>\n",
       "      <th>genre</th>\n",
       "      <th>na_sales</th>\n",
       "      <th>eu_sales</th>\n",
       "      <th>jp_sales</th>\n",
       "      <th>other_sales</th>\n",
       "      <th>critic_score</th>\n",
       "      <th>user_score</th>\n",
       "      <th>rating</th>\n",
       "    </tr>\n",
       "  </thead>\n",
       "  <tbody>\n",
       "    <tr>\n",
       "      <th>659</th>\n",
       "      <td>NaN</td>\n",
       "      <td>GEN</td>\n",
       "      <td>1993</td>\n",
       "      <td>NaN</td>\n",
       "      <td>1.78</td>\n",
       "      <td>0.53</td>\n",
       "      <td>0.00</td>\n",
       "      <td>0.08</td>\n",
       "      <td>NaN</td>\n",
       "      <td>0.0</td>\n",
       "      <td>NaN</td>\n",
       "    </tr>\n",
       "    <tr>\n",
       "      <th>14244</th>\n",
       "      <td>NaN</td>\n",
       "      <td>GEN</td>\n",
       "      <td>1993</td>\n",
       "      <td>NaN</td>\n",
       "      <td>0.00</td>\n",
       "      <td>0.00</td>\n",
       "      <td>0.03</td>\n",
       "      <td>0.00</td>\n",
       "      <td>NaN</td>\n",
       "      <td>0.0</td>\n",
       "      <td>NaN</td>\n",
       "    </tr>\n",
       "  </tbody>\n",
       "</table>\n",
       "</div>"
      ],
      "text/plain": [
       "      name platform  year_of_release genre  na_sales  eu_sales  jp_sales  \\\n",
       "659    NaN      GEN             1993   NaN      1.78      0.53      0.00   \n",
       "14244  NaN      GEN             1993   NaN      0.00      0.00      0.03   \n",
       "\n",
       "       other_sales  critic_score  user_score rating  \n",
       "659           0.08           NaN         0.0    NaN  \n",
       "14244         0.00           NaN         0.0    NaN  "
      ]
     },
     "execution_count": 5,
     "metadata": {},
     "output_type": "execute_result"
    }
   ],
   "source": [
    "display(data.isna().sum())\n",
    "data[data['name'].isna()]\n",
    "#пустые имена и жанры (совпадают) не относятся к 2017 году, а GEN - название сеги в америке. не вижу смысла с ними что-либо делать."
   ]
  },
  {
   "cell_type": "code",
   "execution_count": 6,
   "metadata": {},
   "outputs": [
    {
     "data": {
      "text/plain": [
       "name               241\n",
       "platform           241\n",
       "year_of_release    241\n",
       "genre              241\n",
       "na_sales           241\n",
       "eu_sales           241\n",
       "jp_sales           241\n",
       "other_sales        241\n",
       "critic_score         0\n",
       "user_score         241\n",
       "rating              38\n",
       "dtype: int64"
      ]
     },
     "metadata": {},
     "output_type": "display_data"
    },
    {
     "data": {
      "text/plain": [
       "name               468\n",
       "platform           468\n",
       "year_of_release    468\n",
       "genre              468\n",
       "na_sales           468\n",
       "eu_sales           468\n",
       "jp_sales           468\n",
       "other_sales        468\n",
       "critic_score       227\n",
       "user_score         468\n",
       "rating             250\n",
       "dtype: int64"
      ]
     },
     "metadata": {},
     "output_type": "display_data"
    }
   ],
   "source": [
    "crscore = data[data['critic_score'].isna()]\n",
    "display(crscore[crscore['year_of_release'] > 2015].count())\n",
    "display(data[data['year_of_release'] > 2015].count())\n",
    "data['rating'] = data['rating'].fillna('No rating')\n",
    "#половина данных по рейтингу критиков отсутствует. Не вижу смысла заменять её. Игры индивидуальны в оценках. \n",
    "#игры без рейтинга заменим на N/A"
   ]
  },
  {
   "cell_type": "code",
   "execution_count": 7,
   "metadata": {},
   "outputs": [
    {
     "data": {
      "text/html": [
       "<div>\n",
       "<style scoped>\n",
       "    .dataframe tbody tr th:only-of-type {\n",
       "        vertical-align: middle;\n",
       "    }\n",
       "\n",
       "    .dataframe tbody tr th {\n",
       "        vertical-align: top;\n",
       "    }\n",
       "\n",
       "    .dataframe thead th {\n",
       "        text-align: right;\n",
       "    }\n",
       "</style>\n",
       "<table border=\"1\" class=\"dataframe\">\n",
       "  <thead>\n",
       "    <tr style=\"text-align: right;\">\n",
       "      <th></th>\n",
       "      <th>name</th>\n",
       "      <th>platform</th>\n",
       "      <th>year_of_release</th>\n",
       "      <th>genre</th>\n",
       "      <th>na_sales</th>\n",
       "      <th>eu_sales</th>\n",
       "      <th>jp_sales</th>\n",
       "      <th>other_sales</th>\n",
       "      <th>critic_score</th>\n",
       "      <th>user_score</th>\n",
       "      <th>rating</th>\n",
       "      <th>world_sales</th>\n",
       "    </tr>\n",
       "  </thead>\n",
       "  <tbody>\n",
       "    <tr>\n",
       "      <th>0</th>\n",
       "      <td>Wii Sports</td>\n",
       "      <td>Wii</td>\n",
       "      <td>2006</td>\n",
       "      <td>Sports</td>\n",
       "      <td>41.36</td>\n",
       "      <td>28.96</td>\n",
       "      <td>3.77</td>\n",
       "      <td>8.45</td>\n",
       "      <td>76.0</td>\n",
       "      <td>8.0</td>\n",
       "      <td>E</td>\n",
       "      <td>82.54</td>\n",
       "    </tr>\n",
       "    <tr>\n",
       "      <th>1</th>\n",
       "      <td>Super Mario Bros.</td>\n",
       "      <td>NES</td>\n",
       "      <td>1985</td>\n",
       "      <td>Platform</td>\n",
       "      <td>29.08</td>\n",
       "      <td>3.58</td>\n",
       "      <td>6.81</td>\n",
       "      <td>0.77</td>\n",
       "      <td>NaN</td>\n",
       "      <td>0.0</td>\n",
       "      <td>No rating</td>\n",
       "      <td>40.24</td>\n",
       "    </tr>\n",
       "    <tr>\n",
       "      <th>2</th>\n",
       "      <td>Mario Kart Wii</td>\n",
       "      <td>Wii</td>\n",
       "      <td>2008</td>\n",
       "      <td>Racing</td>\n",
       "      <td>15.68</td>\n",
       "      <td>12.76</td>\n",
       "      <td>3.79</td>\n",
       "      <td>3.29</td>\n",
       "      <td>82.0</td>\n",
       "      <td>8.3</td>\n",
       "      <td>E</td>\n",
       "      <td>35.52</td>\n",
       "    </tr>\n",
       "    <tr>\n",
       "      <th>3</th>\n",
       "      <td>Wii Sports Resort</td>\n",
       "      <td>Wii</td>\n",
       "      <td>2009</td>\n",
       "      <td>Sports</td>\n",
       "      <td>15.61</td>\n",
       "      <td>10.93</td>\n",
       "      <td>3.28</td>\n",
       "      <td>2.95</td>\n",
       "      <td>80.0</td>\n",
       "      <td>8.0</td>\n",
       "      <td>E</td>\n",
       "      <td>32.77</td>\n",
       "    </tr>\n",
       "    <tr>\n",
       "      <th>4</th>\n",
       "      <td>Pokemon Red/Pokemon Blue</td>\n",
       "      <td>GB</td>\n",
       "      <td>1996</td>\n",
       "      <td>Role-Playing</td>\n",
       "      <td>11.27</td>\n",
       "      <td>8.89</td>\n",
       "      <td>10.22</td>\n",
       "      <td>1.00</td>\n",
       "      <td>NaN</td>\n",
       "      <td>0.0</td>\n",
       "      <td>No rating</td>\n",
       "      <td>31.38</td>\n",
       "    </tr>\n",
       "  </tbody>\n",
       "</table>\n",
       "</div>"
      ],
      "text/plain": [
       "                       name platform  year_of_release         genre  na_sales  \\\n",
       "0                Wii Sports      Wii             2006        Sports     41.36   \n",
       "1         Super Mario Bros.      NES             1985      Platform     29.08   \n",
       "2            Mario Kart Wii      Wii             2008        Racing     15.68   \n",
       "3         Wii Sports Resort      Wii             2009        Sports     15.61   \n",
       "4  Pokemon Red/Pokemon Blue       GB             1996  Role-Playing     11.27   \n",
       "\n",
       "   eu_sales  jp_sales  other_sales  critic_score  user_score     rating  \\\n",
       "0     28.96      3.77         8.45          76.0         8.0          E   \n",
       "1      3.58      6.81         0.77           NaN         0.0  No rating   \n",
       "2     12.76      3.79         3.29          82.0         8.3          E   \n",
       "3     10.93      3.28         2.95          80.0         8.0          E   \n",
       "4      8.89     10.22         1.00           NaN         0.0  No rating   \n",
       "\n",
       "   world_sales  \n",
       "0        82.54  \n",
       "1        40.24  \n",
       "2        35.52  \n",
       "3        32.77  \n",
       "4        31.38  "
      ]
     },
     "execution_count": 7,
     "metadata": {},
     "output_type": "execute_result"
    }
   ],
   "source": [
    "data['world_sales'] = data[['na_sales','eu_sales','jp_sales', 'other_sales']].sum(axis = 1)\n",
    "data.head()"
   ]
  },
  {
   "cell_type": "markdown",
   "metadata": {},
   "source": [
    "### Step 3. Conduct a research analysis of the data. \n",
    "\n",
    "Look at how many games were released in different years. Is the data for all periods important?"
   ]
  },
  {
   "cell_type": "code",
   "execution_count": 8,
   "metadata": {},
   "outputs": [
    {
     "name": "stdout",
     "output_type": "stream",
     "text": [
      "Игр с известным годом выпуска: 14068\n",
      "Игр всего: 16713\n",
      "Доля пропущенных значений: 0.1582600370968707\n"
     ]
    },
    {
     "data": {
      "image/png": "[encoded data removed]",
      "text/plain": [
       "<Figure size 1080x720 with 1 Axes>"
      ]
     },
     "metadata": {
      "needs_background": "light"
     },
     "output_type": "display_data"
    }
   ],
   "source": [
    "in_years = data[data['year_of_release'] > 0].groupby('year_of_release')['name'].count()\n",
    "print('Игр с известным годом выпуска:', in_years.sum())\n",
    "print('Игр всего:', data['name'].count())\n",
    "print('Доля пропущенных значений:', (data['name'].count() -  in_years.sum())/data['name'].count())\n",
    "ax = in_years.plot(kind='bar', figsize=(15,10))"
   ]
  },
  {
   "cell_type": "markdown",
   "metadata": {},
   "source": [
    "<b> Conclusion: </b> The release dynamics is important to estimate the number of games that will be released in future years. The number of games released grew by 2009 and then began to fall. This may affect the final output."
   ]
  },
  {
   "cell_type": "markdown",
   "metadata": {},
   "source": [
    "Look at how sales have changed across platforms. Select the platforms with the highest total sales and build a distribution by year. For what characteristic period of time do new platforms appear and old ones disappear?"
   ]
  },
  {
   "cell_type": "code",
   "execution_count": 9,
   "metadata": {},
   "outputs": [
    {
     "data": {
      "text/html": [
       "<div>\n",
       "<style scoped>\n",
       "    .dataframe tbody tr th:only-of-type {\n",
       "        vertical-align: middle;\n",
       "    }\n",
       "\n",
       "    .dataframe tbody tr th {\n",
       "        vertical-align: top;\n",
       "    }\n",
       "\n",
       "    .dataframe thead th {\n",
       "        text-align: right;\n",
       "    }\n",
       "</style>\n",
       "<table border=\"1\" class=\"dataframe\">\n",
       "  <thead>\n",
       "    <tr style=\"text-align: right;\">\n",
       "      <th></th>\n",
       "      <th>world_sales</th>\n",
       "    </tr>\n",
       "    <tr>\n",
       "      <th>platform</th>\n",
       "      <th></th>\n",
       "    </tr>\n",
       "  </thead>\n",
       "  <tbody>\n",
       "    <tr>\n",
       "      <th>PCFX</th>\n",
       "      <td>0.03</td>\n",
       "    </tr>\n",
       "    <tr>\n",
       "      <th>GG</th>\n",
       "      <td>0.04</td>\n",
       "    </tr>\n",
       "    <tr>\n",
       "      <th>3DO</th>\n",
       "      <td>0.10</td>\n",
       "    </tr>\n",
       "    <tr>\n",
       "      <th>TG16</th>\n",
       "      <td>0.16</td>\n",
       "    </tr>\n",
       "    <tr>\n",
       "      <th>WS</th>\n",
       "      <td>1.42</td>\n",
       "    </tr>\n",
       "    <tr>\n",
       "      <th>NG</th>\n",
       "      <td>1.44</td>\n",
       "    </tr>\n",
       "    <tr>\n",
       "      <th>SCD</th>\n",
       "      <td>1.86</td>\n",
       "    </tr>\n",
       "    <tr>\n",
       "      <th>DC</th>\n",
       "      <td>15.95</td>\n",
       "    </tr>\n",
       "    <tr>\n",
       "      <th>GEN</th>\n",
       "      <td>30.77</td>\n",
       "    </tr>\n",
       "    <tr>\n",
       "      <th>SAT</th>\n",
       "      <td>33.59</td>\n",
       "    </tr>\n",
       "    <tr>\n",
       "      <th>PSV</th>\n",
       "      <td>53.76</td>\n",
       "    </tr>\n",
       "    <tr>\n",
       "      <th>WiiU</th>\n",
       "      <td>81.79</td>\n",
       "    </tr>\n",
       "    <tr>\n",
       "      <th>2600</th>\n",
       "      <td>96.98</td>\n",
       "    </tr>\n",
       "    <tr>\n",
       "      <th>XOne</th>\n",
       "      <td>158.77</td>\n",
       "    </tr>\n",
       "    <tr>\n",
       "      <th>GC</th>\n",
       "      <td>187.56</td>\n",
       "    </tr>\n",
       "    <tr>\n",
       "      <th>SNES</th>\n",
       "      <td>200.04</td>\n",
       "    </tr>\n",
       "    <tr>\n",
       "      <th>N64</th>\n",
       "      <td>218.68</td>\n",
       "    </tr>\n",
       "    <tr>\n",
       "      <th>XB</th>\n",
       "      <td>241.41</td>\n",
       "    </tr>\n",
       "    <tr>\n",
       "      <th>NES</th>\n",
       "      <td>251.05</td>\n",
       "    </tr>\n",
       "    <tr>\n",
       "      <th>3DS</th>\n",
       "      <td>254.15</td>\n",
       "    </tr>\n",
       "    <tr>\n",
       "      <th>GB</th>\n",
       "      <td>255.46</td>\n",
       "    </tr>\n",
       "    <tr>\n",
       "      <th>PC</th>\n",
       "      <td>256.01</td>\n",
       "    </tr>\n",
       "    <tr>\n",
       "      <th>GBA</th>\n",
       "      <td>265.92</td>\n",
       "    </tr>\n",
       "    <tr>\n",
       "      <th>PSP</th>\n",
       "      <td>277.12</td>\n",
       "    </tr>\n",
       "    <tr>\n",
       "      <th>PS4</th>\n",
       "      <td>314.00</td>\n",
       "    </tr>\n",
       "    <tr>\n",
       "      <th>DS</th>\n",
       "      <td>657.00</td>\n",
       "    </tr>\n",
       "    <tr>\n",
       "      <th>PS</th>\n",
       "      <td>717.24</td>\n",
       "    </tr>\n",
       "    <tr>\n",
       "      <th>Wii</th>\n",
       "      <td>807.14</td>\n",
       "    </tr>\n",
       "    <tr>\n",
       "      <th>PS3</th>\n",
       "      <td>929.40</td>\n",
       "    </tr>\n",
       "    <tr>\n",
       "      <th>X360</th>\n",
       "      <td>958.84</td>\n",
       "    </tr>\n",
       "    <tr>\n",
       "      <th>PS2</th>\n",
       "      <td>1191.93</td>\n",
       "    </tr>\n",
       "  </tbody>\n",
       "</table>\n",
       "</div>"
      ],
      "text/plain": [
       "          world_sales\n",
       "platform             \n",
       "PCFX             0.03\n",
       "GG               0.04\n",
       "3DO              0.10\n",
       "TG16             0.16\n",
       "WS               1.42\n",
       "NG               1.44\n",
       "SCD              1.86\n",
       "DC              15.95\n",
       "GEN             30.77\n",
       "SAT             33.59\n",
       "PSV             53.76\n",
       "WiiU            81.79\n",
       "2600            96.98\n",
       "XOne           158.77\n",
       "GC             187.56\n",
       "SNES           200.04\n",
       "N64            218.68\n",
       "XB             241.41\n",
       "NES            251.05\n",
       "3DS            254.15\n",
       "GB             255.46\n",
       "PC             256.01\n",
       "GBA            265.92\n",
       "PSP            277.12\n",
       "PS4            314.00\n",
       "DS             657.00\n",
       "PS             717.24\n",
       "Wii            807.14\n",
       "PS3            929.40\n",
       "X360           958.84\n",
       "PS2           1191.93"
      ]
     },
     "metadata": {},
     "output_type": "display_data"
    },
    {
     "data": {
      "image/png": "[encoded data removed]",
      "text/plain": [
       "<Figure size 1080x720 with 1 Axes>"
      ]
     },
     "metadata": {
      "needs_background": "light"
     },
     "output_type": "display_data"
    }
   ],
   "source": [
    "sales_by_platforms = data[data['platform'] != 0].pivot_table(index=['platform'], values='world_sales', aggfunc='sum').sort_values(by='world_sales')\n",
    "#sales_by_platforms = data[data['platform'] != 0].groupby('platform').count()\n",
    "display(sales_by_platforms)\n",
    "ax = sales_by_platforms['world_sales'].sort_values().plot(kind='bar', figsize=(15,10))\n",
    "#больше всего игр было продано для PlayStation 2. Посмотрим срез для первых 5 платформ."
   ]
  },
  {
   "cell_type": "code",
   "execution_count": 10,
   "metadata": {
    "scrolled": false
   },
   "outputs": [
    {
     "data": {
      "text/plain": [
       "<AxesSubplot:xlabel='year_of_release'>"
      ]
     },
     "metadata": {},
     "output_type": "display_data"
    },
    {
     "data": {
      "image/png": "[encoded data removed]",
      "text/plain": [
       "<Figure size 1080x288 with 1 Axes>"
      ]
     },
     "metadata": {
      "needs_background": "light"
     },
     "output_type": "display_data"
    }
   ],
   "source": [
    "most_sales = data[((data['platform'] == 'PS') | (data['platform'] == 'Wii') | (data['platform'] == 'PS3') | (data['platform'] == 'X360') | (data['platform'] == 'PS2')) & data['year_of_release'] != 0]\n",
    "most_sales_pivot = most_sales.pivot_table(index='year_of_release', columns='platform', values='world_sales').plot(kind='area', grid=True, figsize=(15,4), alpha=0.7);\n",
    "display(most_sales_pivot)"
   ]
  },
  {
   "cell_type": "markdown",
   "metadata": {},
   "source": [
    "The original PS \"lived\" until 2000, when PS2 began to replace it. In 2007, when the PS2 began to decline, it had 3 competitors at once – a newer generation of PS3, Wii and Xbox 360. PS \"lived\" for about 6 years, like the PS2 – without competitors. The PS2 \"lived\" the longest, which just collected more sales. Most likely, this is due to the lack of strong competitors in relation to product quality. The high level of sales for competing platforms lasts on average 4 years – let's take this period as the actual one. The analysis will be carried out from 2013 to 2016 inclusive. This is also indicated by the decline in 2013 and the peak in the middle of this four-year period, after which a new decline is visible by 2016."
   ]
  },
  {
   "cell_type": "markdown",
   "metadata": {},
   "source": [
    "Take the data for the relevant current period. Determine the current period yourself as a result of the study of previous questions. The main factor is that these data will help to build a forecast for 2017.\n",
    "**Which platforms are leading in sales, are they growing or falling? Select several potentially profitable platforms.**"
   ]
  },
  {
   "cell_type": "code",
   "execution_count": 11,
   "metadata": {},
   "outputs": [
    {
     "data": {
      "text/html": [
       "<div>\n",
       "<style scoped>\n",
       "    .dataframe tbody tr th:only-of-type {\n",
       "        vertical-align: middle;\n",
       "    }\n",
       "\n",
       "    .dataframe tbody tr th {\n",
       "        vertical-align: top;\n",
       "    }\n",
       "\n",
       "    .dataframe thead th {\n",
       "        text-align: right;\n",
       "    }\n",
       "</style>\n",
       "<table border=\"1\" class=\"dataframe\">\n",
       "  <thead>\n",
       "    <tr style=\"text-align: right;\">\n",
       "      <th>platform</th>\n",
       "      <th>3DS</th>\n",
       "      <th>DS</th>\n",
       "      <th>PC</th>\n",
       "      <th>PS3</th>\n",
       "      <th>PS4</th>\n",
       "      <th>PSP</th>\n",
       "      <th>PSV</th>\n",
       "      <th>Wii</th>\n",
       "      <th>WiiU</th>\n",
       "      <th>X360</th>\n",
       "      <th>XOne</th>\n",
       "    </tr>\n",
       "    <tr>\n",
       "      <th>year_of_release</th>\n",
       "      <th></th>\n",
       "      <th></th>\n",
       "      <th></th>\n",
       "      <th></th>\n",
       "      <th></th>\n",
       "      <th></th>\n",
       "      <th></th>\n",
       "      <th></th>\n",
       "      <th></th>\n",
       "      <th></th>\n",
       "      <th></th>\n",
       "    </tr>\n",
       "  </thead>\n",
       "  <tbody>\n",
       "    <tr>\n",
       "      <th>2013</th>\n",
       "      <td>56.32</td>\n",
       "      <td>0.97</td>\n",
       "      <td>12.38</td>\n",
       "      <td>113.24</td>\n",
       "      <td>25.99</td>\n",
       "      <td>3.14</td>\n",
       "      <td>10.59</td>\n",
       "      <td>8.11</td>\n",
       "      <td>21.65</td>\n",
       "      <td>88.57</td>\n",
       "      <td>18.96</td>\n",
       "    </tr>\n",
       "    <tr>\n",
       "      <th>2014</th>\n",
       "      <td>43.07</td>\n",
       "      <td>NaN</td>\n",
       "      <td>13.25</td>\n",
       "      <td>47.40</td>\n",
       "      <td>100.00</td>\n",
       "      <td>0.24</td>\n",
       "      <td>11.90</td>\n",
       "      <td>2.61</td>\n",
       "      <td>22.01</td>\n",
       "      <td>33.77</td>\n",
       "      <td>54.07</td>\n",
       "    </tr>\n",
       "    <tr>\n",
       "      <th>2015</th>\n",
       "      <td>27.21</td>\n",
       "      <td>NaN</td>\n",
       "      <td>8.49</td>\n",
       "      <td>16.30</td>\n",
       "      <td>118.86</td>\n",
       "      <td>0.12</td>\n",
       "      <td>5.95</td>\n",
       "      <td>0.15</td>\n",
       "      <td>16.27</td>\n",
       "      <td>11.87</td>\n",
       "      <td>59.92</td>\n",
       "    </tr>\n",
       "    <tr>\n",
       "      <th>2016</th>\n",
       "      <td>15.10</td>\n",
       "      <td>NaN</td>\n",
       "      <td>5.22</td>\n",
       "      <td>3.16</td>\n",
       "      <td>69.15</td>\n",
       "      <td>NaN</td>\n",
       "      <td>4.24</td>\n",
       "      <td>NaN</td>\n",
       "      <td>4.30</td>\n",
       "      <td>1.22</td>\n",
       "      <td>25.82</td>\n",
       "    </tr>\n",
       "  </tbody>\n",
       "</table>\n",
       "</div>"
      ],
      "text/plain": [
       "platform           3DS    DS     PC     PS3     PS4   PSP    PSV   Wii   WiiU  \\\n",
       "year_of_release                                                                 \n",
       "2013             56.32  0.97  12.38  113.24   25.99  3.14  10.59  8.11  21.65   \n",
       "2014             43.07   NaN  13.25   47.40  100.00  0.24  11.90  2.61  22.01   \n",
       "2015             27.21   NaN   8.49   16.30  118.86  0.12   5.95  0.15  16.27   \n",
       "2016             15.10   NaN   5.22    3.16   69.15   NaN   4.24   NaN   4.30   \n",
       "\n",
       "platform          X360   XOne  \n",
       "year_of_release                \n",
       "2013             88.57  18.96  \n",
       "2014             33.77  54.07  \n",
       "2015             11.87  59.92  \n",
       "2016              1.22  25.82  "
      ]
     },
     "metadata": {},
     "output_type": "display_data"
    },
    {
     "data": {
      "image/png": "[encoded data removed]",
      "text/plain": [
       "<Figure size 1080x720 with 1 Axes>"
      ]
     },
     "metadata": {
      "needs_background": "light"
     },
     "output_type": "display_data"
    }
   ],
   "source": [
    "relevant_data = data[data['year_of_release'] > 2012]\n",
    "relevant_pivot = relevant_data.pivot_table(index='year_of_release', columns='platform', values='world_sales', aggfunc='sum')\n",
    "display(relevant_pivot)\n",
    "ax = relevant_pivot.plot(kind='area', grid=True, figsize=(15,10), alpha=0.5, title='График продаж на разных платформах с 2012 по 2016 года', xlabel='Год', ylabel='Уровень продаж')"
   ]
  },
  {
   "cell_type": "markdown",
   "metadata": {},
   "source": [
    "The PS4, Xbox One and Nintendo 3DS look the most relevant. It is also important to emphasize the stability of the sales level on the PC – despite a small percentage of the total market, you can not be afraid to \"miss\" with expectations."
   ]
  },
  {
   "cell_type": "markdown",
   "metadata": {},
   "source": [
    "**Build a \"box with a mustache\" chart for global game sales by platform. Describe the result.**"
   ]
  },
  {
   "cell_type": "code",
   "execution_count": 12,
   "metadata": {},
   "outputs": [
    {
     "data": {
      "image/png": "[encoded data removed]",
      "text/plain": [
       "<Figure size 1080x720 with 1 Axes>"
      ]
     },
     "metadata": {
      "needs_background": "light"
     },
     "output_type": "display_data"
    }
   ],
   "source": [
    "ax = relevant_pivot.boxplot(figsize=(15,10), grid=True)"
   ]
  },
  {
   "cell_type": "markdown",
   "metadata": {},
   "source": [
    "The largest median of sales is on the PS4 platform. Next come the Xbox One and Nintendo 3DS. Despite the large spread in purchases on the PS3, the median differs by more than 2 times from the PS4. The data is comparable with the previous analysis – 3 main platforms are identified."
   ]
  },
  {
   "cell_type": "code",
   "execution_count": 30,
   "metadata": {
    "scrolled": true
   },
   "outputs": [
    {
     "data": {
      "image/png": "[encoded data removed]",
      "text/plain": [
       "<Figure size 936x576 with 1 Axes>"
      ]
     },
     "metadata": {
      "needs_background": "light"
     },
     "output_type": "display_data"
    },
    {
     "data": {
      "image/png": "[encoded data removed]",
      "text/plain": [
       "<Figure size 936x576 with 1 Axes>"
      ]
     },
     "metadata": {
      "needs_background": "light"
     },
     "output_type": "display_data"
    }
   ],
   "source": [
    "# Чтобы лучше были видны квантили, медианы\n",
    "\n",
    "plt.figure(figsize=(13, 8))\n",
    "(sb.boxplot(data = relevant_data, y = 'world_sales', x='platform')\n",
    "    .set(title = 'Продажи по платформам', xlabel = 'Платформы', ylabel = 'Общие продажи', ylim=(0, 3)))\n",
    "\n",
    "\n",
    "# Чтобы были лучше видны \"хвосты\"\n",
    "\n",
    "plt.figure(figsize=(13, 8))\n",
    "(sb.boxplot(data = relevant_data, y = 'world_sales', x='platform')\n",
    "    .set(title = 'Продажи по платформам', xlabel = 'Платформы', ylabel = 'Общие продажи'))\n",
    "\n",
    "plt.show()"
   ]
  },
  {
   "cell_type": "markdown",
   "metadata": {},
   "source": [
    "Наблюдается интересная зависимость: чем моложе платформа, тем больше дорогих игр (верхний \"ус\"), и тем больше медиана тяготеет к верхней границе – то есть со временем более дорогие игры стали продавться лучше, чем дешевые. С увеличением популярности платформы увеличивается и размах – можно продать больше дорогих игр.\n",
    "\n",
    "<div class=\"alert alert-info\"> Действительно, средние объемы продаж по платформам небольшие, и среднее вылезает наверх за счет большого количества выбросов – очень популярных игр, поднимающих средние продажи. Oсобенно это видно по платформе PS4. Спасибо за подсказку)</div>"
   ]
  },
  {
   "cell_type": "markdown",
   "metadata": {},
   "source": [
    "**Посмотрите, как влияют на продажи внутри одной популярной платформы отзывы пользователей и критиков. Постройте диаграмму рассеяния и посчитайте корреляцию между отзывами и продажами. Сформулируйте выводы.**"
   ]
  },
  {
   "cell_type": "code",
   "execution_count": null,
   "metadata": {},
   "outputs": [],
   "source": [
    "#возьмем самую популярную платформу – PS4\n",
    "ps4 = relevant_data[(relevant_data['platform']=='PS4') & (relevant_data['user_score'] > 0)]\n",
    "ax = sb.scatterplot(x=ps4['critic_score'], y=ps4['world_sales'], alpha=0.5)\n",
    "print(ps4['critic_score'].corr(ps4['world_sales']))"
   ]
  },
  {
   "cell_type": "code",
   "execution_count": null,
   "metadata": {
    "scrolled": true
   },
   "outputs": [],
   "source": [
    "ax = sb.scatterplot(x=ps4['user_score'], y=ps4['world_sales'], alpha=0.5)\n",
    "print(ps4['user_score'].corr(ps4['world_sales']))"
   ]
  },
  {
   "cell_type": "markdown",
   "metadata": {},
   "source": [
    "There is a weak positive correlation between critics' ratings and sales. There is no correlation with user ratings."
   ]
  },
  {
   "cell_type": "markdown",
   "metadata": {},
   "source": [
    "**Correlate the findings with the sales of games on other platforms.**"
   ]
  },
  {
   "cell_type": "code",
   "execution_count": null,
   "metadata": {
    "scrolled": false
   },
   "outputs": [],
   "source": [
    "plats_pivot = relevant_data.pivot_table(index='platform', values=['user_score', 'critic_score'], aggfunc='median')\n",
    "display(plats_pivot)\n",
    "def corrfunc(platform):\n",
    "    x = relevant_data[(relevant_data['platform']==platform) & (relevant_data['user_score'] > 0)]\n",
    "    plt.scatter(x=x['critic_score'], y=x['world_sales'], alpha=0.5)\n",
    "    ax.set_xlabel=f'Оценка критиков по платформе {platform}' \n",
    "    ax.set_ylabel=f'Мировые продажи по платформе {platform}'\n",
    "    plt.show()\n",
    "    print(x['critic_score'].corr(x['world_sales']))\n",
    "    plt.scatter(x=x['user_score'], y=x['world_sales'], alpha=0.5)\n",
    "    plt.show()\n",
    "    print(x['user_score'].corr(x['world_sales']))\n",
    "\n",
    "platforms = ['3DS', 'PC', 'PS3', 'PS4', 'PSP', 'PSV', 'WiiU', 'X360', 'XOne']\n",
    "\n",
    "for plats in platforms:\n",
    "    corrfunc(plats)"
   ]
  },
  {
   "cell_type": "markdown",
   "metadata": {},
   "source": [
    "On all platforms where there is enough data for analysis, it is confirmed that the correlation with critics' ratings is weak and positive, and there is no correlation at all with users' ratings."
   ]
  },
  {
   "cell_type": "markdown",
   "metadata": {},
   "source": [
    "**Look at the overall distribution of games by genre. What can be said about the most profitable genres? Do genres with high and low sales stand out?**"
   ]
  },
  {
   "cell_type": "code",
   "execution_count": null,
   "metadata": {},
   "outputs": [],
   "source": [
    "genre_pivot_sales = relevant_data.pivot_table(index='genre', values='world_sales', aggfunc='sum').sort_values('world_sales', ascending=False)\n",
    "genre_pivot_sales = genre_pivot_sales.reset_index()\n",
    "genre_pivot = relevant_data.pivot_table(index='genre', values='world_sales', aggfunc='median').sort_values('world_sales', ascending=False)\n",
    "genre_pivot = genre_pivot.reset_index()\n",
    "display(genre_pivot_sales)\n",
    "display(genre_pivot)"
   ]
  },
  {
   "cell_type": "markdown",
   "metadata": {},
   "source": [
    "Most of the sales are made by games in the genre of action and shooter, least of all – strategy and puzzle games. It is important to emphasize that most of the earnings, however, bring shooters and games about sports, and least of all – adventure."
   ]
  },
  {
   "cell_type": "markdown",
   "metadata": {},
   "source": [
    "### Step 4. Make a portrait of the user of each region. \n",
    "\n",
    "Determine for the user of each region (NA, EU, JP):\n",
    "\n",
    "The most popular platforms (top 5). Describe the differences in sales shares."
   ]
  },
  {
   "cell_type": "code",
   "execution_count": null,
   "metadata": {},
   "outputs": [],
   "source": [
    "na_data = relevant_data[relevant_data['platform'] != 0].pivot_table(index='platform', values=['na_sales', 'eu_sales', 'jp_sales'], aggfunc='sum')\n",
    "na_data = na_data.reset_index()\n",
    "f, ax = plt.subplots(figsize=(15,10))\n",
    "plt.bar(na_data['platform'], na_data['na_sales'], color='#0C90C4', label='Продажи в Северной Америке')\n",
    "plt.bar(na_data['platform'], na_data['eu_sales'], color='#075878', label='Продажи в Европе')\n",
    "plt.bar(na_data['platform'], na_data['jp_sales'], color='#5ACCF9', label='Продажи в Японии')\n",
    "plt.legend()\n",
    "na_data.sort_values('na_sales', ascending=False)"
   ]
  },
  {
   "cell_type": "markdown",
   "metadata": {},
   "source": [
    "Nintendo platforms were initially focused on the domestic market, so their sales shares in Japan are standard high. PS is also a Japanese company, but it is focused on the whole world. Although the share of sales in Japan is high, they are not leading. Xbox, created by Microsoft, entered the Japanese market with difficulty and does not occupy a large share there.\n",
    "The most popular platform in North America and Europe is PlayStation 4, in Japan – 3DS."
   ]
  },
  {
   "cell_type": "markdown",
   "metadata": {},
   "source": [
    "**The most popular genres (top 5). Explain the difference.**"
   ]
  },
  {
   "cell_type": "code",
   "execution_count": null,
   "metadata": {},
   "outputs": [],
   "source": [
    "genre_pivot_count = relevant_data.pivot_table(index='genre', values='name', aggfunc='count').sort_values('name', ascending=False)\n",
    "genre_pivot_count = genre_pivot_count.reset_index()\n",
    "f, ax = plt.subplots(figsize=(15,10))\n",
    "plt.bar(genre_pivot['genre'], genre_pivot['world_sales'])\n",
    "plt.title('Доля заработка с одной игры')\n",
    "plt.show()\n",
    "f, ax = plt.subplots(figsize=(15,10))\n",
    "plt.bar(genre_pivot_sales['genre'], genre_pivot_sales['world_sales'])\n",
    "plt.title('Общемировые продажи')\n",
    "plt.show()\n",
    "f, ax = plt.subplots(figsize=(15,10))\n",
    "plt.bar(genre_pivot_count['genre'], genre_pivot_count['name'])\n",
    "plt.title('Количество игр указанного жанра')\n",
    "plt.show()"
   ]
  },
  {
   "cell_type": "markdown",
   "metadata": {},
   "source": [
    "The most popular games in the action genre are the most produced, besides they bring the largest amount of total profit. Then, with a margin of more than 2 times, there are role-playing games and adventures, sports and shooters. With one game, the manufacturer will earn the most money if it is in the shooter genre. Sports games are in second place. The popularity of the genre does not mean profitability for the company, since action takes only 6th place in the list."
   ]
  },
  {
   "cell_type": "markdown",
   "metadata": {},
   "source": [
    "**Does the ESRB rating affect sales in a particular region?**"
   ]
  },
  {
   "cell_type": "code",
   "execution_count": null,
   "metadata": {},
   "outputs": [],
   "source": [
    "ESRB_pivot = relevant_data.pivot_table(index='rating', values=['na_sales', 'eu_sales', 'jp_sales'], aggfunc='median')\n",
    "ESRB_pivot = ESRB_pivot.reset_index()\n",
    "ESRB_pivot.plot(kind='bar', x='rating')\n",
    "ESRB_pivot"
   ]
  },
  {
   "cell_type": "markdown",
   "metadata": {},
   "source": [
    "### Step 5. Check the hypotheses\n",
    "**Average user ratings of Xbox One and PC platforms are the same**"
   ]
  },
  {
   "cell_type": "code",
   "execution_count": null,
   "metadata": {},
   "outputs": [],
   "source": [
    "relevant_data = relevant_data[relevant_data['user_score'] != 0]\n",
    "alpha = .05\n",
    "results = st.ttest_ind((relevant_data[relevant_data['platform'] == 'XOne']['user_score']), (relevant_data[relevant_data['platform'] == 'PC']['user_score']))\n",
    "print('p-значение:', results.pvalue)\n",
    "\n",
    "if results.pvalue < alpha:\n",
    "    print(\"Отвергаем нулевую гипотезу\")\n",
    "else:\n",
    "    print(\"Не получилось отвергнуть нулевую гипотезу\") "
   ]
  },
  {
   "cell_type": "markdown",
   "metadata": {},
   "source": [
    "Indeed, the average user ratings do not depend on the platform in this case. The null hypothesis in this case is that the ratings are not different."
   ]
  },
  {
   "cell_type": "markdown",
   "metadata": {},
   "source": [
    "**Average user ratings of genres Action (English \"action\", action games) and Sports (English \"sports competitions\") are different.**"
   ]
  },
  {
   "cell_type": "code",
   "execution_count": null,
   "metadata": {
    "scrolled": true
   },
   "outputs": [],
   "source": [
    "alpha = .05\n",
    "results = st.ttest_ind((relevant_data[relevant_data['genre'] == 'Action']['user_score']), (relevant_data[relevant_data['genre'] == 'Sports']['user_score']))\n",
    "print('p-значение:', results.pvalue)\n",
    "\n",
    "if results.pvalue < alpha:\n",
    "    print(\"Отвергаем нулевую гипотезу\")\n",
    "else:\n",
    "    print(\"Не получилось отвергнуть нулевую гипотезу\") "
   ]
  },
  {
   "cell_type": "markdown",
   "metadata": {},
   "source": [
    "The average user rating of Action genre games differs from that in the Sports genre, the null hypothesis is rejected."
   ]
  },
  {
   "cell_type": "markdown",
   "metadata": {},
   "source": [
    "For both tests, a test was applied for two independent samples, since platforms do not depend on each other, as well as genres, and since these data are not general aggregates, but representative samples. The null hypothesis in both cases suggests that the average user ratings do not differ."
   ]
  },
  {
   "cell_type": "markdown",
   "metadata": {},
   "source": [
    "<h2> General output </h2>\n",
    "\n",
    "From 2008 to 2016, the number of games released fell, with a slight rise in 2014. Based on this dynamics, as well as on the \"lifetimes\" of various platforms, it can be understood that new platforms may be released by 2017, and it would be much more profitable to catch this moment and buy games for them. At the moment, the relevance of all platforms is falling. The best platforms still alive today are PS4, Xbox One and Nintendo 3DS. \n",
    "\n",
    "User reviews do not correlate with game sales. Critics' reviews have a weak positive correlation, but this does not mean causation – perhaps good games are just bought more often). Most of the sales are made by games in the genre of action and shooter, least of all – strategy and puzzle games. It is important to emphasize that most of the earnings, however, bring shooters and games about sports, and least of all – adventure. We should have shooter, action and sports genres in our shop. Also, perhaps, role-playing and platformers, fighting games. \n",
    "\n",
    "An analysis of a separate European region leads to the same conclusions – the most relevant platform for us at the moment is PS4. there should definitely be games for it in our store. Fifa, for example. Also Xbox One. \n",
    "\n",
    "Also in the European region, games for adults and children over 10 years old are best sold. \n",
    "At the same time, judging by the analysis, the average user rating will not affect the sale of games in any way – you can ignore it. \n",
    "\n",
    "It is important that expensive games are selling better now – it is important to have them in your store."
   ]
  },
  {
   "cell_type": "code",
   "execution_count": null,
   "metadata": {},
   "outputs": [],
   "source": []
  }
 ],
 "metadata": {
  "ExecuteTimeLog": [
   {
    "duration": 52,
    "start_time": "2022-10-24T13:31:11.588Z"
   },
   {
    "duration": 1263,
    "start_time": "2022-10-24T13:39:10.989Z"
   },
   {
    "duration": 94,
    "start_time": "2022-10-24T13:39:14.763Z"
   },
   {
    "duration": 15,
    "start_time": "2022-10-24T13:42:12.726Z"
   },
   {
    "duration": 27,
    "start_time": "2022-10-24T13:44:11.328Z"
   },
   {
    "duration": 14,
    "start_time": "2022-10-24T13:44:26.562Z"
   },
   {
    "duration": 28,
    "start_time": "2022-10-24T13:45:50.034Z"
   },
   {
    "duration": 69,
    "start_time": "2022-10-24T14:33:29.651Z"
   },
   {
    "duration": 17,
    "start_time": "2022-10-24T14:34:29.215Z"
   },
   {
    "duration": 16,
    "start_time": "2022-10-24T14:35:06.291Z"
   },
   {
    "duration": 39,
    "start_time": "2022-10-24T14:35:54.902Z"
   },
   {
    "duration": 29,
    "start_time": "2022-10-24T14:36:11.324Z"
   },
   {
    "duration": 29,
    "start_time": "2022-10-24T14:36:20.321Z"
   },
   {
    "duration": 29,
    "start_time": "2022-10-24T14:36:27.610Z"
   },
   {
    "duration": 52,
    "start_time": "2022-10-24T15:32:35.523Z"
   },
   {
    "duration": 1763,
    "start_time": "2022-10-24T15:32:41.117Z"
   },
   {
    "duration": 165,
    "start_time": "2022-10-24T15:32:46.477Z"
   },
   {
    "duration": 220,
    "start_time": "2022-10-24T15:32:51.149Z"
   },
   {
    "duration": 34,
    "start_time": "2022-10-24T15:32:54.144Z"
   },
   {
    "duration": 90,
    "start_time": "2022-10-24T15:32:57.538Z"
   },
   {
    "duration": 5,
    "start_time": "2022-10-24T15:33:51.512Z"
   },
   {
    "duration": 16,
    "start_time": "2022-10-24T15:34:00.161Z"
   },
   {
    "duration": 17,
    "start_time": "2022-10-24T15:38:07.989Z"
   },
   {
    "duration": 17,
    "start_time": "2022-10-24T15:39:52.018Z"
   },
   {
    "duration": 24,
    "start_time": "2022-10-24T15:39:58.243Z"
   },
   {
    "duration": 32,
    "start_time": "2022-10-24T15:43:59.385Z"
   },
   {
    "duration": 9,
    "start_time": "2022-10-24T15:44:05.862Z"
   },
   {
    "duration": 22,
    "start_time": "2022-10-24T15:44:12.372Z"
   },
   {
    "duration": 20,
    "start_time": "2022-10-24T15:49:47.598Z"
   },
   {
    "duration": 21,
    "start_time": "2022-10-24T15:51:40.522Z"
   },
   {
    "duration": 15,
    "start_time": "2022-10-24T15:52:26.200Z"
   },
   {
    "duration": 10,
    "start_time": "2022-10-24T15:54:52.337Z"
   },
   {
    "duration": 10,
    "start_time": "2022-10-24T15:55:00.004Z"
   },
   {
    "duration": 13,
    "start_time": "2022-10-24T15:55:39.503Z"
   },
   {
    "duration": 20,
    "start_time": "2022-10-24T15:55:54.161Z"
   },
   {
    "duration": 19,
    "start_time": "2022-10-24T16:02:58.048Z"
   },
   {
    "duration": 21,
    "start_time": "2022-10-24T16:03:49.905Z"
   },
   {
    "duration": 24,
    "start_time": "2022-10-24T16:07:12.959Z"
   },
   {
    "duration": 11,
    "start_time": "2022-10-24T16:08:37.453Z"
   },
   {
    "duration": 17,
    "start_time": "2022-10-24T16:09:04.849Z"
   },
   {
    "duration": 15,
    "start_time": "2022-10-24T16:13:12.036Z"
   },
   {
    "duration": 15,
    "start_time": "2022-10-24T16:15:38.576Z"
   },
   {
    "duration": 17,
    "start_time": "2022-10-24T16:22:24.290Z"
   },
   {
    "duration": 11,
    "start_time": "2022-10-24T16:26:01.758Z"
   },
   {
    "duration": 15,
    "start_time": "2022-10-24T16:26:11.476Z"
   },
   {
    "duration": 1242,
    "start_time": "2022-10-24T16:26:40.588Z"
   },
   {
    "duration": 376,
    "start_time": "2022-10-24T16:27:08.571Z"
   },
   {
    "duration": 316,
    "start_time": "2022-10-24T16:27:34.820Z"
   },
   {
    "duration": 387,
    "start_time": "2022-10-24T16:27:41.646Z"
   },
   {
    "duration": 370,
    "start_time": "2022-10-24T16:28:28.633Z"
   },
   {
    "duration": 373,
    "start_time": "2022-10-24T16:28:35.889Z"
   },
   {
    "duration": 492,
    "start_time": "2022-10-24T16:29:11.485Z"
   },
   {
    "duration": 382,
    "start_time": "2022-10-24T16:32:16.655Z"
   },
   {
    "duration": 354,
    "start_time": "2022-10-24T16:32:30.914Z"
   },
   {
    "duration": 352,
    "start_time": "2022-10-24T16:32:37.821Z"
   },
   {
    "duration": 370,
    "start_time": "2022-10-24T16:33:57.323Z"
   },
   {
    "duration": 294,
    "start_time": "2022-10-24T16:35:26.683Z"
   },
   {
    "duration": 381,
    "start_time": "2022-10-24T16:35:36.279Z"
   },
   {
    "duration": 428,
    "start_time": "2022-10-24T16:35:54.386Z"
   },
   {
    "duration": 426,
    "start_time": "2022-10-24T16:36:56.753Z"
   },
   {
    "duration": 181,
    "start_time": "2022-10-24T16:41:27.479Z"
   },
   {
    "duration": 328,
    "start_time": "2022-10-24T16:41:50.097Z"
   },
   {
    "duration": 5,
    "start_time": "2022-10-24T16:51:43.685Z"
   },
   {
    "duration": 21,
    "start_time": "2022-10-24T16:52:07.009Z"
   },
   {
    "duration": 17,
    "start_time": "2022-10-24T16:53:14.068Z"
   },
   {
    "duration": 1117,
    "start_time": "2022-10-24T16:53:20.683Z"
   },
   {
    "duration": 51,
    "start_time": "2022-10-24T16:53:21.801Z"
   },
   {
    "duration": 33,
    "start_time": "2022-10-24T16:53:21.853Z"
   },
   {
    "duration": 21,
    "start_time": "2022-10-24T16:53:21.888Z"
   },
   {
    "duration": 19,
    "start_time": "2022-10-24T16:53:21.911Z"
   },
   {
    "duration": 15,
    "start_time": "2022-10-24T16:53:21.931Z"
   },
   {
    "duration": 45,
    "start_time": "2022-10-24T16:53:21.947Z"
   },
   {
    "duration": 331,
    "start_time": "2022-10-24T16:53:21.994Z"
   },
   {
    "duration": 20,
    "start_time": "2022-10-24T16:53:22.327Z"
   },
   {
    "duration": 124,
    "start_time": "2022-10-24T16:54:30.209Z"
   },
   {
    "duration": 13,
    "start_time": "2022-10-24T16:54:48.747Z"
   },
   {
    "duration": 17,
    "start_time": "2022-10-24T16:55:50.140Z"
   },
   {
    "duration": 873,
    "start_time": "2022-10-24T16:56:05.918Z"
   },
   {
    "duration": 936,
    "start_time": "2022-10-24T16:56:30.188Z"
   },
   {
    "duration": 816,
    "start_time": "2022-10-24T16:57:12.050Z"
   },
   {
    "duration": 354,
    "start_time": "2022-10-24T17:06:10.361Z"
   },
   {
    "duration": 387,
    "start_time": "2022-10-24T17:06:21.641Z"
   },
   {
    "duration": 19,
    "start_time": "2022-10-24T17:06:49.842Z"
   },
   {
    "duration": 17,
    "start_time": "2022-10-24T17:07:02.638Z"
   },
   {
    "duration": 321,
    "start_time": "2022-10-24T17:07:25.395Z"
   },
   {
    "duration": 352,
    "start_time": "2022-10-24T17:07:41.460Z"
   },
   {
    "duration": 303,
    "start_time": "2022-10-24T17:07:51.570Z"
   },
   {
    "duration": 341,
    "start_time": "2022-10-24T17:08:56.617Z"
   },
   {
    "duration": 325,
    "start_time": "2022-10-24T17:12:23.079Z"
   },
   {
    "duration": 1129,
    "start_time": "2022-10-24T18:48:38.585Z"
   },
   {
    "duration": 1113,
    "start_time": "2022-10-24T18:49:43.349Z"
   },
   {
    "duration": 1171,
    "start_time": "2022-10-24T18:50:18.700Z"
   },
   {
    "duration": 32,
    "start_time": "2022-10-24T18:50:32.053Z"
   },
   {
    "duration": 369,
    "start_time": "2022-10-24T18:51:46.517Z"
   },
   {
    "duration": 29,
    "start_time": "2022-10-24T18:52:23.133Z"
   },
   {
    "duration": 328,
    "start_time": "2022-10-24T18:52:36.124Z"
   },
   {
    "duration": 308,
    "start_time": "2022-10-24T18:52:57.148Z"
   },
   {
    "duration": 4144,
    "start_time": "2022-10-24T18:54:15.814Z"
   },
   {
    "duration": 23,
    "start_time": "2022-10-24T18:55:20.709Z"
   },
   {
    "duration": 1151,
    "start_time": "2022-10-24T18:56:46.451Z"
   },
   {
    "duration": 7329,
    "start_time": "2022-10-24T18:56:57.457Z"
   },
   {
    "duration": 771,
    "start_time": "2022-10-24T19:00:24.069Z"
   },
   {
    "duration": 269,
    "start_time": "2022-10-24T19:00:36.780Z"
   },
   {
    "duration": 319,
    "start_time": "2022-10-24T19:01:21.101Z"
   },
   {
    "duration": 12,
    "start_time": "2022-10-24T19:01:35.443Z"
   },
   {
    "duration": 24,
    "start_time": "2022-10-24T19:01:50.438Z"
   },
   {
    "duration": 233,
    "start_time": "2022-10-24T19:03:29.061Z"
   },
   {
    "duration": 251,
    "start_time": "2022-10-24T19:03:32.707Z"
   },
   {
    "duration": 11,
    "start_time": "2022-10-24T19:04:42.894Z"
   },
   {
    "duration": 205,
    "start_time": "2022-10-24T19:05:09.016Z"
   },
   {
    "duration": 538,
    "start_time": "2022-10-24T19:05:45.409Z"
   },
   {
    "duration": 717,
    "start_time": "2022-10-24T19:06:01.817Z"
   },
   {
    "duration": 144,
    "start_time": "2022-10-24T19:06:14.239Z"
   },
   {
    "duration": 1128,
    "start_time": "2022-10-24T19:06:58.571Z"
   },
   {
    "duration": 1129,
    "start_time": "2022-10-24T19:07:25.760Z"
   },
   {
    "duration": 17,
    "start_time": "2022-10-24T19:14:07.381Z"
   },
   {
    "duration": 17,
    "start_time": "2022-10-24T19:14:41.413Z"
   },
   {
    "duration": 3,
    "start_time": "2022-10-24T19:14:46.276Z"
   },
   {
    "duration": 115,
    "start_time": "2022-10-24T19:14:50.687Z"
   },
   {
    "duration": 24,
    "start_time": "2022-10-24T19:19:13.168Z"
   },
   {
    "duration": 21,
    "start_time": "2022-10-24T19:21:50.305Z"
   },
   {
    "duration": 14,
    "start_time": "2022-10-24T19:22:30.377Z"
   },
   {
    "duration": 23,
    "start_time": "2022-10-24T19:22:44.903Z"
   },
   {
    "duration": 137,
    "start_time": "2022-10-24T19:22:55.880Z"
   },
   {
    "duration": 22,
    "start_time": "2022-10-24T19:23:04.936Z"
   },
   {
    "duration": 1140,
    "start_time": "2022-10-24T19:23:35.314Z"
   },
   {
    "duration": 1105,
    "start_time": "2022-10-24T19:24:31.639Z"
   },
   {
    "duration": 175,
    "start_time": "2022-10-24T19:24:46.751Z"
   },
   {
    "duration": 325,
    "start_time": "2022-10-24T19:25:14.888Z"
   },
   {
    "duration": 3669,
    "start_time": "2022-10-24T19:25:39.499Z"
   },
   {
    "duration": 91,
    "start_time": "2022-10-24T19:26:07.220Z"
   },
   {
    "duration": 74,
    "start_time": "2022-10-24T19:26:26.624Z"
   },
   {
    "duration": 3858,
    "start_time": "2022-10-24T19:26:35.566Z"
   },
   {
    "duration": 3557,
    "start_time": "2022-10-24T19:26:54.792Z"
   },
   {
    "duration": 3877,
    "start_time": "2022-10-24T19:28:26.596Z"
   },
   {
    "duration": 26,
    "start_time": "2022-10-24T19:29:47.568Z"
   },
   {
    "duration": 46,
    "start_time": "2022-10-25T07:08:23.051Z"
   },
   {
    "duration": 1353,
    "start_time": "2022-10-25T07:08:31.712Z"
   },
   {
    "duration": 98,
    "start_time": "2022-10-25T07:08:33.067Z"
   },
   {
    "duration": 33,
    "start_time": "2022-10-25T07:08:33.167Z"
   },
   {
    "duration": 21,
    "start_time": "2022-10-25T07:08:33.202Z"
   },
   {
    "duration": 18,
    "start_time": "2022-10-25T07:08:33.238Z"
   },
   {
    "duration": 13,
    "start_time": "2022-10-25T07:08:33.258Z"
   },
   {
    "duration": 39,
    "start_time": "2022-10-25T07:08:33.273Z"
   },
   {
    "duration": 343,
    "start_time": "2022-10-25T07:08:33.314Z"
   },
   {
    "duration": 297,
    "start_time": "2022-10-25T07:08:33.658Z"
   },
   {
    "duration": 23,
    "start_time": "2022-10-25T07:08:33.956Z"
   },
   {
    "duration": 3926,
    "start_time": "2022-10-25T07:09:19.378Z"
   },
   {
    "duration": 3527,
    "start_time": "2022-10-25T07:12:42.721Z"
   },
   {
    "duration": 176,
    "start_time": "2022-10-25T07:15:23.886Z"
   },
   {
    "duration": 3862,
    "start_time": "2022-10-25T07:15:31.683Z"
   },
   {
    "duration": 880,
    "start_time": "2022-10-25T07:17:24.296Z"
   },
   {
    "duration": 586,
    "start_time": "2022-10-25T07:23:23.294Z"
   },
   {
    "duration": 688,
    "start_time": "2022-10-25T07:24:07.894Z"
   },
   {
    "duration": 968,
    "start_time": "2022-10-25T07:37:14.935Z"
   },
   {
    "duration": 904,
    "start_time": "2022-10-25T07:37:46.197Z"
   },
   {
    "duration": 3750,
    "start_time": "2022-10-25T07:38:04.249Z"
   },
   {
    "duration": 1269,
    "start_time": "2022-10-25T07:38:20.859Z"
   },
   {
    "duration": 3818,
    "start_time": "2022-10-25T07:38:33.236Z"
   },
   {
    "duration": 233,
    "start_time": "2022-10-25T07:40:31.655Z"
   },
   {
    "duration": 207,
    "start_time": "2022-10-25T07:40:50.568Z"
   },
   {
    "duration": 3839,
    "start_time": "2022-10-25T07:44:46.152Z"
   },
   {
    "duration": 343,
    "start_time": "2022-10-25T07:45:14.090Z"
   },
   {
    "duration": 3747,
    "start_time": "2022-10-25T07:45:24.833Z"
   },
   {
    "duration": 762,
    "start_time": "2022-10-25T07:45:32.737Z"
   },
   {
    "duration": 20,
    "start_time": "2022-10-25T07:48:38.187Z"
   },
   {
    "duration": 304,
    "start_time": "2022-10-25T07:48:50.102Z"
   },
   {
    "duration": 432,
    "start_time": "2022-10-25T07:49:40.686Z"
   },
   {
    "duration": 305,
    "start_time": "2022-10-25T07:50:21.543Z"
   },
   {
    "duration": 299,
    "start_time": "2022-10-25T07:50:35.131Z"
   },
   {
    "duration": 3994,
    "start_time": "2022-10-25T07:51:03.585Z"
   },
   {
    "duration": 280,
    "start_time": "2022-10-25T07:51:33.049Z"
   },
   {
    "duration": 13,
    "start_time": "2022-10-25T08:05:40.280Z"
   },
   {
    "duration": 10,
    "start_time": "2022-10-25T08:05:51.289Z"
   },
   {
    "duration": 30,
    "start_time": "2022-10-25T08:08:33.010Z"
   },
   {
    "duration": 45,
    "start_time": "2022-10-25T08:18:34.438Z"
   },
   {
    "duration": 263,
    "start_time": "2022-10-25T08:21:13.316Z"
   },
   {
    "duration": 45,
    "start_time": "2022-10-25T08:21:50.707Z"
   },
   {
    "duration": 170,
    "start_time": "2022-10-25T08:22:44.220Z"
   },
   {
    "duration": 154,
    "start_time": "2022-10-25T08:23:35.718Z"
   },
   {
    "duration": 130,
    "start_time": "2022-10-25T08:25:11.307Z"
   },
   {
    "duration": 306,
    "start_time": "2022-10-25T08:25:51.783Z"
   },
   {
    "duration": 24,
    "start_time": "2022-10-25T08:26:10.931Z"
   },
   {
    "duration": 15,
    "start_time": "2022-10-25T08:28:33.768Z"
   },
   {
    "duration": 26,
    "start_time": "2022-10-25T08:28:39.162Z"
   },
   {
    "duration": 39,
    "start_time": "2022-10-25T08:29:09.654Z"
   },
   {
    "duration": 23,
    "start_time": "2022-10-25T08:29:34.517Z"
   },
   {
    "duration": 23,
    "start_time": "2022-10-25T08:30:09.205Z"
   },
   {
    "duration": 40,
    "start_time": "2022-10-25T08:30:30.591Z"
   },
   {
    "duration": 756,
    "start_time": "2022-10-25T08:32:06.188Z"
   },
   {
    "duration": 25,
    "start_time": "2022-10-25T08:32:53.775Z"
   },
   {
    "duration": 26,
    "start_time": "2022-10-25T08:33:11.952Z"
   },
   {
    "duration": 41,
    "start_time": "2022-10-25T08:33:16.127Z"
   },
   {
    "duration": 755,
    "start_time": "2022-10-25T08:34:29.172Z"
   },
   {
    "duration": 255,
    "start_time": "2022-10-25T08:34:57.390Z"
   },
   {
    "duration": 178,
    "start_time": "2022-10-25T08:35:26.696Z"
   },
   {
    "duration": 804,
    "start_time": "2022-10-25T08:36:03.489Z"
   },
   {
    "duration": 22,
    "start_time": "2022-10-25T08:38:01.498Z"
   },
   {
    "duration": 18,
    "start_time": "2022-10-25T08:38:14.542Z"
   },
   {
    "duration": 7072,
    "start_time": "2022-10-25T08:38:18.145Z"
   },
   {
    "duration": 29,
    "start_time": "2022-10-25T08:38:41.987Z"
   },
   {
    "duration": 23,
    "start_time": "2022-10-25T08:39:09.247Z"
   },
   {
    "duration": 775,
    "start_time": "2022-10-25T08:39:53.296Z"
   },
   {
    "duration": 139,
    "start_time": "2022-10-25T08:40:09.067Z"
   },
   {
    "duration": 157,
    "start_time": "2022-10-25T08:40:18.755Z"
   },
   {
    "duration": 312,
    "start_time": "2022-10-25T08:40:53.414Z"
   },
   {
    "duration": 306,
    "start_time": "2022-10-25T08:42:11.968Z"
   },
   {
    "duration": 313,
    "start_time": "2022-10-25T08:44:59.628Z"
   },
   {
    "duration": 314,
    "start_time": "2022-10-25T08:45:38.667Z"
   },
   {
    "duration": 428,
    "start_time": "2022-10-25T08:46:03.809Z"
   },
   {
    "duration": 746,
    "start_time": "2022-10-25T08:47:47.744Z"
   },
   {
    "duration": 838,
    "start_time": "2022-10-25T08:48:26.670Z"
   },
   {
    "duration": 121,
    "start_time": "2022-10-25T08:51:25.473Z"
   },
   {
    "duration": 807,
    "start_time": "2022-10-25T08:52:04.140Z"
   },
   {
    "duration": 242,
    "start_time": "2022-10-25T08:56:09.684Z"
   },
   {
    "duration": 118,
    "start_time": "2022-10-25T08:56:26.900Z"
   },
   {
    "duration": 754,
    "start_time": "2022-10-25T08:56:39.124Z"
   },
   {
    "duration": 285,
    "start_time": "2022-10-25T08:57:33.360Z"
   },
   {
    "duration": 787,
    "start_time": "2022-10-25T08:57:36.470Z"
   },
   {
    "duration": 319,
    "start_time": "2022-10-25T09:53:38.176Z"
   },
   {
    "duration": 12,
    "start_time": "2022-10-25T09:54:35.673Z"
   },
   {
    "duration": 719,
    "start_time": "2022-10-25T09:54:47.807Z"
   },
   {
    "duration": 565,
    "start_time": "2022-10-25T09:54:53.520Z"
   },
   {
    "duration": 141,
    "start_time": "2022-10-25T09:55:10.484Z"
   },
   {
    "duration": 542,
    "start_time": "2022-10-25T09:55:36.446Z"
   },
   {
    "duration": 394,
    "start_time": "2022-10-25T09:55:43.202Z"
   },
   {
    "duration": 195,
    "start_time": "2022-10-25T09:55:54.195Z"
   },
   {
    "duration": 765,
    "start_time": "2022-10-25T09:57:37.383Z"
   },
   {
    "duration": 913,
    "start_time": "2022-10-25T10:27:34.743Z"
   },
   {
    "duration": 737,
    "start_time": "2022-10-25T10:31:55.397Z"
   },
   {
    "duration": 125,
    "start_time": "2022-10-25T10:32:52.483Z"
   },
   {
    "duration": 20,
    "start_time": "2022-10-25T10:44:03.018Z"
   },
   {
    "duration": 34,
    "start_time": "2022-10-25T10:44:11.585Z"
   },
   {
    "duration": 762,
    "start_time": "2022-10-25T10:44:41.976Z"
   },
   {
    "duration": 857,
    "start_time": "2022-10-25T10:44:56.684Z"
   },
   {
    "duration": 29,
    "start_time": "2022-10-25T10:45:01.444Z"
   },
   {
    "duration": 45,
    "start_time": "2022-10-25T10:46:19.889Z"
   },
   {
    "duration": 47,
    "start_time": "2022-10-25T10:46:29.588Z"
   },
   {
    "duration": 44,
    "start_time": "2022-10-25T10:46:41.132Z"
   },
   {
    "duration": 52,
    "start_time": "2022-10-25T10:46:44.416Z"
   },
   {
    "duration": 56,
    "start_time": "2022-10-25T10:47:00.513Z"
   },
   {
    "duration": 299,
    "start_time": "2022-10-25T10:47:28.120Z"
   },
   {
    "duration": 285,
    "start_time": "2022-10-25T10:48:30.332Z"
   },
   {
    "duration": 678,
    "start_time": "2022-10-25T10:50:23.216Z"
   },
   {
    "duration": 502,
    "start_time": "2022-10-25T10:50:56.636Z"
   },
   {
    "duration": 573,
    "start_time": "2022-10-25T11:28:28.109Z"
   },
   {
    "duration": 68,
    "start_time": "2022-10-25T11:34:04.946Z"
   },
   {
    "duration": 20,
    "start_time": "2022-10-25T11:34:42.517Z"
   },
   {
    "duration": 408,
    "start_time": "2022-10-25T11:34:53.181Z"
   },
   {
    "duration": 14,
    "start_time": "2022-10-25T11:35:06.567Z"
   },
   {
    "duration": 22,
    "start_time": "2022-10-25T11:35:11.760Z"
   },
   {
    "duration": 22,
    "start_time": "2022-10-25T11:35:24.500Z"
   },
   {
    "duration": 22,
    "start_time": "2022-10-25T11:35:40.289Z"
   },
   {
    "duration": 21,
    "start_time": "2022-10-25T11:36:11.307Z"
   },
   {
    "duration": 338,
    "start_time": "2022-10-25T11:40:08.909Z"
   },
   {
    "duration": 153,
    "start_time": "2022-10-25T11:40:30.383Z"
   },
   {
    "duration": 353,
    "start_time": "2022-10-25T11:40:40.589Z"
   },
   {
    "duration": 456,
    "start_time": "2022-10-25T11:40:49.664Z"
   },
   {
    "duration": 5,
    "start_time": "2022-10-25T11:51:43.261Z"
   },
   {
    "duration": 25,
    "start_time": "2022-10-25T11:52:01.308Z"
   },
   {
    "duration": 22,
    "start_time": "2022-10-25T11:55:03.106Z"
   },
   {
    "duration": 934,
    "start_time": "2022-10-25T11:55:22.829Z"
   },
   {
    "duration": 23,
    "start_time": "2022-10-25T11:55:31.078Z"
   },
   {
    "duration": 24,
    "start_time": "2022-10-25T11:55:53.613Z"
   },
   {
    "duration": 293,
    "start_time": "2022-10-25T11:56:29.766Z"
   },
   {
    "duration": 343,
    "start_time": "2022-10-25T11:57:05.240Z"
   },
   {
    "duration": 1028,
    "start_time": "2022-10-25T11:58:53.024Z"
   },
   {
    "duration": 1128,
    "start_time": "2022-10-25T11:59:23.869Z"
   },
   {
    "duration": 284,
    "start_time": "2022-10-25T11:59:37.984Z"
   },
   {
    "duration": 286,
    "start_time": "2022-10-25T11:59:53.369Z"
   },
   {
    "duration": 331,
    "start_time": "2022-10-25T12:03:40.544Z"
   },
   {
    "duration": 175,
    "start_time": "2022-10-25T12:04:39.048Z"
   },
   {
    "duration": 356,
    "start_time": "2022-10-25T12:05:13.379Z"
   },
   {
    "duration": 345,
    "start_time": "2022-10-25T12:05:31.104Z"
   },
   {
    "duration": 349,
    "start_time": "2022-10-25T12:06:05.502Z"
   },
   {
    "duration": 545,
    "start_time": "2022-10-25T12:06:33.384Z"
   },
   {
    "duration": 355,
    "start_time": "2022-10-25T12:06:51.269Z"
   },
   {
    "duration": 335,
    "start_time": "2022-10-25T12:06:59.369Z"
   },
   {
    "duration": 366,
    "start_time": "2022-10-25T12:08:19.129Z"
   },
   {
    "duration": 224,
    "start_time": "2022-10-25T12:29:56.033Z"
   },
   {
    "duration": 243,
    "start_time": "2022-10-25T12:32:19.905Z"
   },
   {
    "duration": 9,
    "start_time": "2022-10-25T12:34:25.446Z"
   },
   {
    "duration": 238,
    "start_time": "2022-10-25T12:34:59.765Z"
   },
   {
    "duration": 237,
    "start_time": "2022-10-25T12:35:14.927Z"
   },
   {
    "duration": 22,
    "start_time": "2022-10-25T13:32:40.916Z"
   },
   {
    "duration": 14,
    "start_time": "2022-10-25T13:35:07.809Z"
   },
   {
    "duration": 3,
    "start_time": "2022-10-25T13:35:35.475Z"
   },
   {
    "duration": 20,
    "start_time": "2022-10-25T13:35:38.936Z"
   },
   {
    "duration": 10,
    "start_time": "2022-10-25T13:38:31.564Z"
   },
   {
    "duration": 138,
    "start_time": "2022-10-25T13:38:43.864Z"
   },
   {
    "duration": 146,
    "start_time": "2022-10-25T13:39:01.283Z"
   },
   {
    "duration": 194,
    "start_time": "2022-10-25T13:39:48.369Z"
   },
   {
    "duration": 193,
    "start_time": "2022-10-25T13:40:08.448Z"
   },
   {
    "duration": 181,
    "start_time": "2022-10-25T13:43:28.232Z"
   },
   {
    "duration": 136,
    "start_time": "2022-10-25T13:43:30.871Z"
   },
   {
    "duration": 9,
    "start_time": "2022-10-25T13:44:54.691Z"
   },
   {
    "duration": 23,
    "start_time": "2022-10-25T13:44:59.268Z"
   },
   {
    "duration": 131,
    "start_time": "2022-10-25T13:46:21.773Z"
   },
   {
    "duration": 175,
    "start_time": "2022-10-25T13:46:48.533Z"
   },
   {
    "duration": 156,
    "start_time": "2022-10-25T13:46:52.332Z"
   },
   {
    "duration": 156,
    "start_time": "2022-10-25T13:52:56.134Z"
   },
   {
    "duration": 142,
    "start_time": "2022-10-25T13:53:19.586Z"
   },
   {
    "duration": 139,
    "start_time": "2022-10-25T13:57:14.896Z"
   },
   {
    "duration": 118,
    "start_time": "2022-10-25T13:57:47.634Z"
   },
   {
    "duration": 158,
    "start_time": "2022-10-25T13:58:08.582Z"
   },
   {
    "duration": 204,
    "start_time": "2022-10-25T13:59:38.118Z"
   },
   {
    "duration": 1399,
    "start_time": "2022-10-26T14:25:26.167Z"
   },
   {
    "duration": 96,
    "start_time": "2022-10-26T14:25:27.568Z"
   },
   {
    "duration": 36,
    "start_time": "2022-10-26T14:25:27.666Z"
   },
   {
    "duration": 28,
    "start_time": "2022-10-26T14:25:27.703Z"
   },
   {
    "duration": 21,
    "start_time": "2022-10-26T14:25:27.734Z"
   },
   {
    "duration": 14,
    "start_time": "2022-10-26T14:25:27.756Z"
   },
   {
    "duration": 41,
    "start_time": "2022-10-26T14:25:27.772Z"
   },
   {
    "duration": 353,
    "start_time": "2022-10-26T14:25:27.815Z"
   },
   {
    "duration": 302,
    "start_time": "2022-10-26T14:25:28.170Z"
   },
   {
    "duration": 314,
    "start_time": "2022-10-26T14:25:28.474Z"
   },
   {
    "duration": 338,
    "start_time": "2022-10-26T14:25:28.790Z"
   },
   {
    "duration": 258,
    "start_time": "2022-10-26T14:25:29.130Z"
   },
   {
    "duration": 149,
    "start_time": "2022-10-26T14:25:29.389Z"
   },
   {
    "duration": 208,
    "start_time": "2022-10-26T14:25:29.541Z"
   },
   {
    "duration": 118,
    "start_time": "2022-10-26T14:25:33.953Z"
   },
   {
    "duration": 136,
    "start_time": "2022-10-26T14:26:08.099Z"
   },
   {
    "duration": 283,
    "start_time": "2022-10-26T14:26:19.782Z"
   },
   {
    "duration": 197,
    "start_time": "2022-10-26T14:28:52.014Z"
   },
   {
    "duration": 1388,
    "start_time": "2022-10-26T14:31:00.758Z"
   },
   {
    "duration": 1287,
    "start_time": "2022-10-26T14:38:46.389Z"
   },
   {
    "duration": 1349,
    "start_time": "2022-10-26T14:39:00.775Z"
   },
   {
    "duration": 2507,
    "start_time": "2022-10-26T14:41:47.213Z"
   },
   {
    "duration": 45,
    "start_time": "2022-10-26T14:45:25.657Z"
   },
   {
    "duration": 135,
    "start_time": "2022-10-26T14:45:46.423Z"
   },
   {
    "duration": 2289,
    "start_time": "2022-10-26T14:46:27.660Z"
   },
   {
    "duration": 2258,
    "start_time": "2022-10-26T14:49:08.657Z"
   },
   {
    "duration": 13,
    "start_time": "2022-10-26T14:57:21.199Z"
   },
   {
    "duration": 14,
    "start_time": "2022-10-26T14:57:53.151Z"
   },
   {
    "duration": 15,
    "start_time": "2022-10-26T14:58:11.975Z"
   },
   {
    "duration": 45,
    "start_time": "2022-10-26T15:04:42.000Z"
   },
   {
    "duration": 9,
    "start_time": "2022-10-26T15:12:08.976Z"
   },
   {
    "duration": 18,
    "start_time": "2022-10-26T15:12:14.533Z"
   },
   {
    "duration": 20,
    "start_time": "2022-10-26T15:13:01.500Z"
   },
   {
    "duration": 25,
    "start_time": "2022-10-26T15:13:33.249Z"
   },
   {
    "duration": 24,
    "start_time": "2022-10-26T15:32:18.691Z"
   },
   {
    "duration": 21,
    "start_time": "2022-10-26T15:32:33.459Z"
   },
   {
    "duration": 24,
    "start_time": "2022-10-26T15:38:17.745Z"
   },
   {
    "duration": 19,
    "start_time": "2022-10-26T15:38:35.958Z"
   },
   {
    "duration": 22,
    "start_time": "2022-10-26T15:39:24.126Z"
   },
   {
    "duration": 395,
    "start_time": "2022-10-26T15:40:14.132Z"
   },
   {
    "duration": 414,
    "start_time": "2022-10-26T15:40:34.798Z"
   },
   {
    "duration": 450,
    "start_time": "2022-10-26T15:40:41.580Z"
   },
   {
    "duration": 688,
    "start_time": "2022-10-26T15:42:52.244Z"
   },
   {
    "duration": 723,
    "start_time": "2022-10-26T15:43:08.362Z"
   },
   {
    "duration": 236,
    "start_time": "2022-10-26T15:43:19.065Z"
   },
   {
    "duration": 121,
    "start_time": "2022-10-26T15:43:34.933Z"
   },
   {
    "duration": 348,
    "start_time": "2022-10-26T15:44:02.611Z"
   },
   {
    "duration": 275,
    "start_time": "2022-10-26T15:44:07.277Z"
   },
   {
    "duration": 282,
    "start_time": "2022-10-26T15:44:32.300Z"
   },
   {
    "duration": 297,
    "start_time": "2022-10-26T15:44:37.064Z"
   },
   {
    "duration": 326,
    "start_time": "2022-10-26T15:44:42.174Z"
   },
   {
    "duration": 20,
    "start_time": "2022-10-26T15:46:07.473Z"
   },
   {
    "duration": 349,
    "start_time": "2022-10-26T15:47:15.241Z"
   },
   {
    "duration": 413,
    "start_time": "2022-10-26T15:48:14.614Z"
   },
   {
    "duration": 375,
    "start_time": "2022-10-26T15:50:42.200Z"
   },
   {
    "duration": 399,
    "start_time": "2022-10-26T15:51:51.569Z"
   },
   {
    "duration": 408,
    "start_time": "2022-10-26T15:52:11.090Z"
   },
   {
    "duration": 403,
    "start_time": "2022-10-26T15:52:28.556Z"
   },
   {
    "duration": 504,
    "start_time": "2022-10-26T15:52:46.962Z"
   },
   {
    "duration": 400,
    "start_time": "2022-10-26T15:53:11.398Z"
   },
   {
    "duration": 1159,
    "start_time": "2022-10-26T15:58:42.937Z"
   },
   {
    "duration": 1166,
    "start_time": "2022-10-26T15:59:17.841Z"
   },
   {
    "duration": 28862,
    "start_time": "2022-10-26T15:59:31.971Z"
   },
   {
    "duration": 843,
    "start_time": "2022-10-26T16:00:03.280Z"
   },
   {
    "duration": 1094,
    "start_time": "2022-10-26T16:00:53.117Z"
   },
   {
    "duration": 396,
    "start_time": "2022-10-26T16:08:53.264Z"
   },
   {
    "duration": 399,
    "start_time": "2022-10-26T16:09:45.594Z"
   },
   {
    "duration": 403,
    "start_time": "2022-10-26T16:09:56.957Z"
   },
   {
    "duration": 394,
    "start_time": "2022-10-26T16:11:22.128Z"
   },
   {
    "duration": 14,
    "start_time": "2022-10-26T16:13:03.633Z"
   },
   {
    "duration": 236,
    "start_time": "2022-10-26T16:13:40.232Z"
   },
   {
    "duration": 298,
    "start_time": "2022-10-26T16:13:51.226Z"
   },
   {
    "duration": 231,
    "start_time": "2022-10-26T16:14:31.941Z"
   },
   {
    "duration": 222,
    "start_time": "2022-10-26T16:15:54.999Z"
   },
   {
    "duration": 236,
    "start_time": "2022-10-26T16:16:05.349Z"
   },
   {
    "duration": 283,
    "start_time": "2022-10-26T16:16:32.563Z"
   },
   {
    "duration": 261,
    "start_time": "2022-10-26T16:16:47.994Z"
   },
   {
    "duration": 267,
    "start_time": "2022-10-26T16:16:55.605Z"
   },
   {
    "duration": 13,
    "start_time": "2022-10-26T16:24:42.589Z"
   },
   {
    "duration": 21,
    "start_time": "2022-10-26T16:26:08.035Z"
   },
   {
    "duration": 18,
    "start_time": "2022-10-26T16:26:19.819Z"
   },
   {
    "duration": 18,
    "start_time": "2022-10-26T16:26:41.907Z"
   },
   {
    "duration": 23,
    "start_time": "2022-10-26T16:27:33.727Z"
   },
   {
    "duration": 24,
    "start_time": "2022-10-26T16:35:25.685Z"
   },
   {
    "duration": 9,
    "start_time": "2022-10-26T16:36:32.361Z"
   },
   {
    "duration": 12,
    "start_time": "2022-10-26T16:36:43.316Z"
   },
   {
    "duration": 146,
    "start_time": "2022-10-26T16:39:46.000Z"
   },
   {
    "duration": 132,
    "start_time": "2022-10-26T16:39:57.458Z"
   },
   {
    "duration": 225,
    "start_time": "2022-10-26T16:40:20.066Z"
   },
   {
    "duration": 220,
    "start_time": "2022-10-26T16:44:52.355Z"
   },
   {
    "duration": 279,
    "start_time": "2022-10-26T16:45:01.701Z"
   },
   {
    "duration": 216,
    "start_time": "2022-10-26T16:45:15.535Z"
   },
   {
    "duration": 25,
    "start_time": "2022-10-26T16:45:48.958Z"
   },
   {
    "duration": 104,
    "start_time": "2022-10-26T16:46:24.048Z"
   },
   {
    "duration": 21,
    "start_time": "2022-10-26T16:46:45.388Z"
   },
   {
    "duration": 709,
    "start_time": "2022-10-26T16:47:04.610Z"
   },
   {
    "duration": 14,
    "start_time": "2022-10-26T16:47:47.556Z"
   },
   {
    "duration": 691,
    "start_time": "2022-10-26T16:48:19.142Z"
   },
   {
    "duration": 154,
    "start_time": "2022-10-26T16:48:38.833Z"
   },
   {
    "duration": 237,
    "start_time": "2022-10-26T16:48:54.356Z"
   },
   {
    "duration": 27,
    "start_time": "2022-10-26T16:50:46.772Z"
   },
   {
    "duration": 26,
    "start_time": "2022-10-26T16:51:10.391Z"
   },
   {
    "duration": 46,
    "start_time": "2022-10-26T16:51:53.300Z"
   },
   {
    "duration": 850,
    "start_time": "2022-10-26T16:51:58.143Z"
   },
   {
    "duration": 25,
    "start_time": "2022-10-26T16:52:17.234Z"
   },
   {
    "duration": 846,
    "start_time": "2022-10-26T16:52:44.293Z"
   },
   {
    "duration": 240,
    "start_time": "2022-10-26T16:53:41.606Z"
   },
   {
    "duration": 461,
    "start_time": "2022-10-26T16:54:12.341Z"
   },
   {
    "duration": 545,
    "start_time": "2022-10-26T16:54:27.897Z"
   },
   {
    "duration": 44,
    "start_time": "2022-10-26T16:56:16.024Z"
   },
   {
    "duration": 539,
    "start_time": "2022-10-26T16:56:20.770Z"
   },
   {
    "duration": 152,
    "start_time": "2022-10-26T16:56:59.394Z"
   },
   {
    "duration": 532,
    "start_time": "2022-10-26T16:57:28.089Z"
   },
   {
    "duration": 187,
    "start_time": "2022-10-26T16:59:42.450Z"
   },
   {
    "duration": 198,
    "start_time": "2022-10-26T17:00:36.055Z"
   },
   {
    "duration": 190,
    "start_time": "2022-10-26T17:00:55.095Z"
   },
   {
    "duration": 542,
    "start_time": "2022-10-26T17:00:58.302Z"
   },
   {
    "duration": 546,
    "start_time": "2022-10-26T17:01:10.612Z"
   },
   {
    "duration": 190,
    "start_time": "2022-10-26T17:01:27.564Z"
   },
   {
    "duration": 1118,
    "start_time": "2022-10-26T17:02:37.332Z"
   },
   {
    "duration": 55,
    "start_time": "2022-10-26T17:02:38.451Z"
   },
   {
    "duration": 30,
    "start_time": "2022-10-26T17:02:38.508Z"
   },
   {
    "duration": 21,
    "start_time": "2022-10-26T17:02:38.539Z"
   },
   {
    "duration": 18,
    "start_time": "2022-10-26T17:02:38.562Z"
   },
   {
    "duration": 40,
    "start_time": "2022-10-26T17:02:38.582Z"
   },
   {
    "duration": 17,
    "start_time": "2022-10-26T17:02:38.624Z"
   },
   {
    "duration": 344,
    "start_time": "2022-10-26T17:02:38.642Z"
   },
   {
    "duration": 303,
    "start_time": "2022-10-26T17:02:38.987Z"
   },
   {
    "duration": 293,
    "start_time": "2022-10-26T17:02:39.291Z"
   },
   {
    "duration": 333,
    "start_time": "2022-10-26T17:02:39.586Z"
   },
   {
    "duration": 258,
    "start_time": "2022-10-26T17:02:39.921Z"
   },
   {
    "duration": 174,
    "start_time": "2022-10-26T17:02:40.180Z"
   },
   {
    "duration": 215,
    "start_time": "2022-10-26T17:02:40.356Z"
   },
   {
    "duration": 2219,
    "start_time": "2022-10-26T17:02:40.573Z"
   },
   {
    "duration": 37,
    "start_time": "2022-10-26T17:02:42.794Z"
   },
   {
    "duration": 262,
    "start_time": "2022-10-26T17:02:42.832Z"
   },
   {
    "duration": 559,
    "start_time": "2022-10-26T17:02:43.095Z"
   },
   {
    "duration": 15,
    "start_time": "2022-10-26T17:25:11.468Z"
   },
   {
    "duration": 16,
    "start_time": "2022-10-26T17:25:28.044Z"
   },
   {
    "duration": 20,
    "start_time": "2022-10-26T17:25:34.364Z"
   },
   {
    "duration": 149,
    "start_time": "2022-10-26T17:26:06.742Z"
   },
   {
    "duration": 225,
    "start_time": "2022-10-26T17:28:57.989Z"
   },
   {
    "duration": 169,
    "start_time": "2022-10-26T17:30:27.746Z"
   },
   {
    "duration": 776,
    "start_time": "2022-10-26T17:40:46.143Z"
   },
   {
    "duration": 7,
    "start_time": "2022-10-26T17:40:57.148Z"
   },
   {
    "duration": 10,
    "start_time": "2022-10-26T17:41:52.680Z"
   },
   {
    "duration": 3,
    "start_time": "2022-10-26T17:42:27.864Z"
   },
   {
    "duration": 7,
    "start_time": "2022-10-26T17:42:33.805Z"
   },
   {
    "duration": 8,
    "start_time": "2022-10-26T17:52:57.256Z"
   },
   {
    "duration": 266,
    "start_time": "2022-10-26T18:04:43.212Z"
   },
   {
    "duration": 282,
    "start_time": "2022-10-26T18:04:54.306Z"
   },
   {
    "duration": 338,
    "start_time": "2022-10-26T18:08:46.799Z"
   },
   {
    "duration": 149,
    "start_time": "2022-10-26T18:14:01.691Z"
   },
   {
    "duration": 232,
    "start_time": "2022-10-26T18:14:11.058Z"
   },
   {
    "duration": 341,
    "start_time": "2022-10-26T18:15:10.274Z"
   },
   {
    "duration": 241,
    "start_time": "2022-10-26T18:16:43.906Z"
   },
   {
    "duration": 435,
    "start_time": "2022-10-26T18:18:00.313Z"
   },
   {
    "duration": 226,
    "start_time": "2022-10-26T18:18:04.617Z"
   },
   {
    "duration": 557,
    "start_time": "2022-10-26T18:31:13.002Z"
   },
   {
    "duration": 627,
    "start_time": "2022-10-26T18:32:18.531Z"
   },
   {
    "duration": 2373,
    "start_time": "2022-10-26T18:38:28.911Z"
   },
   {
    "duration": 26,
    "start_time": "2022-10-26T18:39:18.271Z"
   },
   {
    "duration": 315,
    "start_time": "2022-10-27T05:37:37.092Z"
   },
   {
    "duration": 5696,
    "start_time": "2022-10-27T05:37:51.695Z"
   },
   {
    "duration": 498,
    "start_time": "2022-10-27T05:37:57.393Z"
   },
   {
    "duration": 202,
    "start_time": "2022-10-27T05:37:57.893Z"
   },
   {
    "duration": 105,
    "start_time": "2022-10-27T05:37:58.097Z"
   },
   {
    "duration": 195,
    "start_time": "2022-10-27T05:37:58.204Z"
   },
   {
    "duration": 94,
    "start_time": "2022-10-27T05:37:58.408Z"
   },
   {
    "duration": 187,
    "start_time": "2022-10-27T05:37:58.508Z"
   },
   {
    "duration": 2693,
    "start_time": "2022-10-27T05:37:58.697Z"
   },
   {
    "duration": 2499,
    "start_time": "2022-10-27T05:38:01.394Z"
   },
   {
    "duration": 1609,
    "start_time": "2022-10-27T05:38:03.899Z"
   },
   {
    "duration": 2581,
    "start_time": "2022-10-27T05:38:05.514Z"
   },
   {
    "duration": 1797,
    "start_time": "2022-10-27T05:38:08.098Z"
   },
   {
    "duration": 1106,
    "start_time": "2022-10-27T05:38:09.898Z"
   },
   {
    "duration": 1712,
    "start_time": "2022-10-27T05:38:11.090Z"
   },
   {
    "duration": 16988,
    "start_time": "2022-10-27T05:38:12.807Z"
   },
   {
    "duration": 292,
    "start_time": "2022-10-27T05:38:29.802Z"
   },
   {
    "duration": 1994,
    "start_time": "2022-10-27T05:38:30.096Z"
   },
   {
    "duration": 4106,
    "start_time": "2022-10-27T05:38:32.092Z"
   },
   {
    "duration": 1008,
    "start_time": "2022-10-27T05:38:36.200Z"
   },
   {
    "duration": 7,
    "start_time": "2022-10-27T05:38:37.294Z"
   },
   {
    "duration": 99,
    "start_time": "2022-10-27T05:38:37.303Z"
   },
   {
    "duration": 94,
    "start_time": "2022-10-27T05:38:37.404Z"
   },
   {
    "duration": 113,
    "start_time": "2022-10-27T05:49:07.392Z"
   },
   {
    "duration": 1503,
    "start_time": "2022-10-27T08:03:19.667Z"
   },
   {
    "duration": 97,
    "start_time": "2022-10-27T08:03:21.173Z"
   },
   {
    "duration": 34,
    "start_time": "2022-10-27T08:03:21.272Z"
   },
   {
    "duration": 25,
    "start_time": "2022-10-27T08:03:21.309Z"
   },
   {
    "duration": 35,
    "start_time": "2022-10-27T08:03:21.336Z"
   },
   {
    "duration": 17,
    "start_time": "2022-10-27T08:03:21.374Z"
   },
   {
    "duration": 18,
    "start_time": "2022-10-27T08:03:21.392Z"
   },
   {
    "duration": 481,
    "start_time": "2022-10-27T08:03:21.412Z"
   },
   {
    "duration": 341,
    "start_time": "2022-10-27T08:03:21.895Z"
   },
   {
    "duration": 252,
    "start_time": "2022-10-27T08:03:22.239Z"
   },
   {
    "duration": 400,
    "start_time": "2022-10-27T08:03:22.493Z"
   },
   {
    "duration": 264,
    "start_time": "2022-10-27T08:03:22.895Z"
   },
   {
    "duration": 164,
    "start_time": "2022-10-27T08:03:23.160Z"
   },
   {
    "duration": 249,
    "start_time": "2022-10-27T08:03:23.326Z"
   },
   {
    "duration": 2601,
    "start_time": "2022-10-27T08:03:23.576Z"
   },
   {
    "duration": 28,
    "start_time": "2022-10-27T08:03:26.179Z"
   },
   {
    "duration": 310,
    "start_time": "2022-10-27T08:03:26.209Z"
   },
   {
    "duration": 624,
    "start_time": "2022-10-27T08:03:26.521Z"
   },
   {
    "duration": 221,
    "start_time": "2022-10-27T08:03:27.153Z"
   },
   {
    "duration": 8,
    "start_time": "2022-10-27T08:03:27.376Z"
   },
   {
    "duration": 13,
    "start_time": "2022-10-27T08:03:27.386Z"
   },
   {
    "duration": 31,
    "start_time": "2022-10-27T08:05:59.443Z"
   },
   {
    "duration": 23,
    "start_time": "2022-10-27T08:06:21.472Z"
   },
   {
    "duration": 294,
    "start_time": "2022-10-27T08:07:28.577Z"
   },
   {
    "duration": 75,
    "start_time": "2022-10-27T08:10:35.650Z"
   },
   {
    "duration": 17,
    "start_time": "2022-10-27T08:10:43.488Z"
   },
   {
    "duration": 26,
    "start_time": "2022-10-27T08:10:55.730Z"
   },
   {
    "duration": 176,
    "start_time": "2022-10-27T08:11:03.859Z"
   },
   {
    "duration": 425,
    "start_time": "2022-10-27T08:11:34.664Z"
   },
   {
    "duration": 1169,
    "start_time": "2022-10-27T08:11:50.152Z"
   },
   {
    "duration": 53,
    "start_time": "2022-10-27T08:11:51.323Z"
   },
   {
    "duration": 32,
    "start_time": "2022-10-27T08:11:51.378Z"
   },
   {
    "duration": 25,
    "start_time": "2022-10-27T08:11:51.413Z"
   },
   {
    "duration": 26,
    "start_time": "2022-10-27T08:11:51.455Z"
   },
   {
    "duration": 45,
    "start_time": "2022-10-27T08:11:51.483Z"
   },
   {
    "duration": 44,
    "start_time": "2022-10-27T08:11:51.531Z"
   },
   {
    "duration": 324,
    "start_time": "2022-10-27T08:11:51.577Z"
   },
   {
    "duration": 0,
    "start_time": "2022-10-27T08:11:51.903Z"
   },
   {
    "duration": 0,
    "start_time": "2022-10-27T08:11:51.904Z"
   },
   {
    "duration": 0,
    "start_time": "2022-10-27T08:11:51.905Z"
   },
   {
    "duration": 0,
    "start_time": "2022-10-27T08:11:51.906Z"
   },
   {
    "duration": 0,
    "start_time": "2022-10-27T08:11:51.906Z"
   },
   {
    "duration": 0,
    "start_time": "2022-10-27T08:11:51.908Z"
   },
   {
    "duration": 0,
    "start_time": "2022-10-27T08:11:51.909Z"
   },
   {
    "duration": 0,
    "start_time": "2022-10-27T08:11:51.910Z"
   },
   {
    "duration": 0,
    "start_time": "2022-10-27T08:11:51.911Z"
   },
   {
    "duration": 0,
    "start_time": "2022-10-27T08:11:51.912Z"
   },
   {
    "duration": 0,
    "start_time": "2022-10-27T08:11:51.913Z"
   },
   {
    "duration": 0,
    "start_time": "2022-10-27T08:11:51.914Z"
   },
   {
    "duration": 0,
    "start_time": "2022-10-27T08:11:51.915Z"
   },
   {
    "duration": 10,
    "start_time": "2022-10-27T08:12:05.490Z"
   },
   {
    "duration": 218,
    "start_time": "2022-10-27T08:12:26.575Z"
   },
   {
    "duration": 1157,
    "start_time": "2022-10-27T08:12:43.341Z"
   },
   {
    "duration": 52,
    "start_time": "2022-10-27T08:12:44.500Z"
   },
   {
    "duration": 31,
    "start_time": "2022-10-27T08:12:44.554Z"
   },
   {
    "duration": 23,
    "start_time": "2022-10-27T08:12:44.587Z"
   },
   {
    "duration": 50,
    "start_time": "2022-10-27T08:12:44.612Z"
   },
   {
    "duration": 26,
    "start_time": "2022-10-27T08:12:44.664Z"
   },
   {
    "duration": 20,
    "start_time": "2022-10-27T08:12:44.692Z"
   },
   {
    "duration": 306,
    "start_time": "2022-10-27T08:12:44.714Z"
   },
   {
    "duration": 0,
    "start_time": "2022-10-27T08:12:45.022Z"
   },
   {
    "duration": 0,
    "start_time": "2022-10-27T08:12:45.024Z"
   },
   {
    "duration": 0,
    "start_time": "2022-10-27T08:12:45.025Z"
   },
   {
    "duration": 0,
    "start_time": "2022-10-27T08:12:45.026Z"
   },
   {
    "duration": 0,
    "start_time": "2022-10-27T08:12:45.028Z"
   },
   {
    "duration": 0,
    "start_time": "2022-10-27T08:12:45.029Z"
   },
   {
    "duration": 0,
    "start_time": "2022-10-27T08:12:45.031Z"
   },
   {
    "duration": 0,
    "start_time": "2022-10-27T08:12:45.031Z"
   },
   {
    "duration": 0,
    "start_time": "2022-10-27T08:12:45.032Z"
   },
   {
    "duration": 0,
    "start_time": "2022-10-27T08:12:45.033Z"
   },
   {
    "duration": 0,
    "start_time": "2022-10-27T08:12:45.034Z"
   },
   {
    "duration": 0,
    "start_time": "2022-10-27T08:12:45.036Z"
   },
   {
    "duration": 0,
    "start_time": "2022-10-27T08:12:45.037Z"
   },
   {
    "duration": 3,
    "start_time": "2022-10-27T08:13:29.871Z"
   },
   {
    "duration": 53,
    "start_time": "2022-10-27T08:13:32.236Z"
   },
   {
    "duration": 40,
    "start_time": "2022-10-27T08:13:35.099Z"
   },
   {
    "duration": 23,
    "start_time": "2022-10-27T08:13:38.882Z"
   },
   {
    "duration": 34,
    "start_time": "2022-10-27T08:13:41.493Z"
   },
   {
    "duration": 34,
    "start_time": "2022-10-27T08:13:45.029Z"
   },
   {
    "duration": 25,
    "start_time": "2022-10-27T08:14:12.421Z"
   },
   {
    "duration": 205,
    "start_time": "2022-10-27T08:14:54.546Z"
   },
   {
    "duration": 3,
    "start_time": "2022-10-27T08:15:22.547Z"
   },
   {
    "duration": 51,
    "start_time": "2022-10-27T08:15:25.734Z"
   },
   {
    "duration": 31,
    "start_time": "2022-10-27T08:15:28.376Z"
   },
   {
    "duration": 40,
    "start_time": "2022-10-27T08:15:32.698Z"
   },
   {
    "duration": 29,
    "start_time": "2022-10-27T08:15:37.007Z"
   },
   {
    "duration": 19,
    "start_time": "2022-10-27T08:15:43.477Z"
   },
   {
    "duration": 23,
    "start_time": "2022-10-27T08:16:11.642Z"
   },
   {
    "duration": 20,
    "start_time": "2022-10-27T08:20:50.876Z"
   },
   {
    "duration": 11,
    "start_time": "2022-10-27T08:21:03.949Z"
   },
   {
    "duration": 357,
    "start_time": "2022-10-27T08:21:12.438Z"
   },
   {
    "duration": 305,
    "start_time": "2022-10-27T08:21:17.093Z"
   },
   {
    "duration": 241,
    "start_time": "2022-10-27T08:21:20.727Z"
   },
   {
    "duration": 408,
    "start_time": "2022-10-27T08:21:24.421Z"
   },
   {
    "duration": 272,
    "start_time": "2022-10-27T08:21:28.260Z"
   },
   {
    "duration": 144,
    "start_time": "2022-10-27T08:21:32.913Z"
   },
   {
    "duration": 233,
    "start_time": "2022-10-27T08:21:36.581Z"
   },
   {
    "duration": 2777,
    "start_time": "2022-10-27T08:21:40.112Z"
   },
   {
    "duration": 27,
    "start_time": "2022-10-27T08:21:48.556Z"
   },
   {
    "duration": 289,
    "start_time": "2022-10-27T08:21:52.128Z"
   },
   {
    "duration": 590,
    "start_time": "2022-10-27T08:21:57.175Z"
   },
   {
    "duration": 233,
    "start_time": "2022-10-27T08:22:00.632Z"
   },
   {
    "duration": 19,
    "start_time": "2022-10-27T08:26:19.943Z"
   },
   {
    "duration": 440,
    "start_time": "2022-10-27T08:26:19.964Z"
   },
   {
    "duration": 300,
    "start_time": "2022-10-27T08:26:20.406Z"
   },
   {
    "duration": 256,
    "start_time": "2022-10-27T08:26:20.708Z"
   },
   {
    "duration": 360,
    "start_time": "2022-10-27T08:26:20.967Z"
   },
   {
    "duration": 323,
    "start_time": "2022-10-27T08:26:21.329Z"
   },
   {
    "duration": 181,
    "start_time": "2022-10-27T08:26:21.655Z"
   },
   {
    "duration": 165,
    "start_time": "2022-10-27T08:26:21.837Z"
   },
   {
    "duration": 2505,
    "start_time": "2022-10-27T08:26:22.004Z"
   },
   {
    "duration": 44,
    "start_time": "2022-10-27T08:26:24.511Z"
   },
   {
    "duration": 282,
    "start_time": "2022-10-27T08:26:24.557Z"
   },
   {
    "duration": 596,
    "start_time": "2022-10-27T08:26:24.841Z"
   },
   {
    "duration": 221,
    "start_time": "2022-10-27T08:26:25.438Z"
   },
   {
    "duration": 8,
    "start_time": "2022-10-27T08:26:25.662Z"
   },
   {
    "duration": 20,
    "start_time": "2022-10-27T08:26:25.671Z"
   },
   {
    "duration": 986,
    "start_time": "2022-10-27T08:36:57.348Z"
   },
   {
    "duration": 26,
    "start_time": "2022-10-27T08:37:05.750Z"
   },
   {
    "duration": 29,
    "start_time": "2022-10-27T08:37:28.302Z"
   },
   {
    "duration": 27,
    "start_time": "2022-10-27T08:37:35.686Z"
   },
   {
    "duration": 27,
    "start_time": "2022-10-27T08:37:49.384Z"
   },
   {
    "duration": 32,
    "start_time": "2022-10-27T08:38:08.487Z"
   },
   {
    "duration": 33,
    "start_time": "2022-10-27T08:38:28.854Z"
   },
   {
    "duration": 24,
    "start_time": "2022-10-27T08:38:41.595Z"
   },
   {
    "duration": 165,
    "start_time": "2022-10-27T08:51:16.524Z"
   },
   {
    "duration": 150,
    "start_time": "2022-10-27T08:51:34.847Z"
   },
   {
    "duration": 19,
    "start_time": "2022-10-27T08:51:56.471Z"
   },
   {
    "duration": 147,
    "start_time": "2022-10-27T08:52:04.535Z"
   },
   {
    "duration": 71,
    "start_time": "2022-10-27T08:58:31.967Z"
   },
   {
    "duration": 650,
    "start_time": "2022-10-27T08:58:36.933Z"
   },
   {
    "duration": 548,
    "start_time": "2022-10-27T08:58:58.600Z"
   },
   {
    "duration": 62,
    "start_time": "2022-10-27T09:28:35.214Z"
   },
   {
    "duration": 69,
    "start_time": "2022-10-27T09:28:41.176Z"
   },
   {
    "duration": 49,
    "start_time": "2022-10-27T09:28:52.345Z"
   },
   {
    "duration": 72,
    "start_time": "2022-10-27T09:29:51.484Z"
   },
   {
    "duration": 112,
    "start_time": "2022-10-27T09:30:03.671Z"
   },
   {
    "duration": 54,
    "start_time": "2022-10-27T09:30:14.676Z"
   },
   {
    "duration": 64,
    "start_time": "2022-10-27T09:30:31.910Z"
   },
   {
    "duration": 9,
    "start_time": "2022-10-27T09:30:50.237Z"
   },
   {
    "duration": 10,
    "start_time": "2022-10-27T09:31:37.250Z"
   },
   {
    "duration": 8,
    "start_time": "2022-10-27T09:31:44.245Z"
   },
   {
    "duration": 898,
    "start_time": "2022-10-27T11:56:53.140Z"
   },
   {
    "duration": 186,
    "start_time": "2022-10-27T11:56:54.040Z"
   },
   {
    "duration": 34,
    "start_time": "2022-10-27T11:56:54.228Z"
   },
   {
    "duration": 23,
    "start_time": "2022-10-27T11:56:54.264Z"
   },
   {
    "duration": 22,
    "start_time": "2022-10-27T11:56:54.290Z"
   },
   {
    "duration": 18,
    "start_time": "2022-10-27T11:56:54.314Z"
   },
   {
    "duration": 18,
    "start_time": "2022-10-27T11:56:54.333Z"
   },
   {
    "duration": 415,
    "start_time": "2022-10-27T11:56:54.352Z"
   },
   {
    "duration": 323,
    "start_time": "2022-10-27T11:56:54.769Z"
   },
   {
    "duration": 258,
    "start_time": "2022-10-27T11:56:55.095Z"
   },
   {
    "duration": 365,
    "start_time": "2022-10-27T11:56:55.355Z"
   },
   {
    "duration": 269,
    "start_time": "2022-10-27T11:56:55.722Z"
   },
   {
    "duration": 620,
    "start_time": "2022-10-27T11:56:55.993Z"
   },
   {
    "duration": 186,
    "start_time": "2022-10-27T11:56:56.616Z"
   },
   {
    "duration": 162,
    "start_time": "2022-10-27T11:56:56.805Z"
   },
   {
    "duration": 2555,
    "start_time": "2022-10-27T11:56:56.969Z"
   },
   {
    "duration": 28,
    "start_time": "2022-10-27T11:56:59.526Z"
   },
   {
    "duration": 323,
    "start_time": "2022-10-27T11:56:59.556Z"
   },
   {
    "duration": 695,
    "start_time": "2022-10-27T11:56:59.880Z"
   },
   {
    "duration": 214,
    "start_time": "2022-10-27T11:57:00.577Z"
   },
   {
    "duration": 10,
    "start_time": "2022-10-27T11:57:00.793Z"
   },
   {
    "duration": 25,
    "start_time": "2022-10-27T11:57:00.805Z"
   },
   {
    "duration": 50,
    "start_time": "2022-10-27T12:00:38.715Z"
   },
   {
    "duration": 16,
    "start_time": "2022-10-27T12:00:49.591Z"
   },
   {
    "duration": 51,
    "start_time": "2022-10-27T12:00:52.956Z"
   },
   {
    "duration": 49,
    "start_time": "2022-10-27T12:01:48.817Z"
   },
   {
    "duration": 23,
    "start_time": "2022-10-27T12:02:27.388Z"
   },
   {
    "duration": 93,
    "start_time": "2022-10-27T12:04:12.817Z"
   },
   {
    "duration": 16,
    "start_time": "2022-10-27T12:04:35.286Z"
   },
   {
    "duration": 291,
    "start_time": "2022-10-27T12:04:47.167Z"
   },
   {
    "duration": 87,
    "start_time": "2022-10-27T12:05:01.649Z"
   },
   {
    "duration": 591,
    "start_time": "2022-10-27T12:05:07.816Z"
   },
   {
    "duration": 52,
    "start_time": "2022-10-27T12:17:18.923Z"
   },
   {
    "duration": 1336,
    "start_time": "2022-10-27T12:17:29.912Z"
   },
   {
    "duration": 1111,
    "start_time": "2022-10-27T12:17:38.467Z"
   },
   {
    "duration": 97,
    "start_time": "2022-10-27T12:17:39.580Z"
   },
   {
    "duration": 31,
    "start_time": "2022-10-27T12:17:39.679Z"
   },
   {
    "duration": 22,
    "start_time": "2022-10-27T12:17:39.711Z"
   },
   {
    "duration": 18,
    "start_time": "2022-10-27T12:17:39.735Z"
   },
   {
    "duration": 15,
    "start_time": "2022-10-27T12:17:39.754Z"
   },
   {
    "duration": 59,
    "start_time": "2022-10-27T12:17:39.771Z"
   },
   {
    "duration": 344,
    "start_time": "2022-10-27T12:17:39.832Z"
   },
   {
    "duration": 294,
    "start_time": "2022-10-27T12:17:40.178Z"
   },
   {
    "duration": 239,
    "start_time": "2022-10-27T12:17:40.474Z"
   },
   {
    "duration": 425,
    "start_time": "2022-10-27T12:17:40.715Z"
   },
   {
    "duration": 243,
    "start_time": "2022-10-27T12:17:41.142Z"
   },
   {
    "duration": 121,
    "start_time": "2022-10-27T12:17:41.387Z"
   },
   {
    "duration": 0,
    "start_time": "2022-10-27T12:17:41.510Z"
   },
   {
    "duration": 0,
    "start_time": "2022-10-27T12:17:41.511Z"
   },
   {
    "duration": 0,
    "start_time": "2022-10-27T12:17:41.512Z"
   },
   {
    "duration": 0,
    "start_time": "2022-10-27T12:17:41.512Z"
   },
   {
    "duration": 0,
    "start_time": "2022-10-27T12:17:41.513Z"
   },
   {
    "duration": 0,
    "start_time": "2022-10-27T12:17:41.514Z"
   },
   {
    "duration": 0,
    "start_time": "2022-10-27T12:17:41.515Z"
   },
   {
    "duration": 0,
    "start_time": "2022-10-27T12:17:41.516Z"
   },
   {
    "duration": 0,
    "start_time": "2022-10-27T12:17:41.517Z"
   },
   {
    "duration": 16,
    "start_time": "2022-10-27T12:18:17.114Z"
   },
   {
    "duration": 322,
    "start_time": "2022-10-27T12:18:40.467Z"
   },
   {
    "duration": 304,
    "start_time": "2022-10-27T12:19:45.275Z"
   },
   {
    "duration": 311,
    "start_time": "2022-10-27T12:20:01.369Z"
   },
   {
    "duration": 3,
    "start_time": "2022-10-27T12:20:22.255Z"
   },
   {
    "duration": 280,
    "start_time": "2022-10-27T12:20:29.090Z"
   },
   {
    "duration": 489,
    "start_time": "2022-10-27T12:21:16.293Z"
   },
   {
    "duration": 538,
    "start_time": "2022-10-27T12:21:31.596Z"
   },
   {
    "duration": 279,
    "start_time": "2022-10-27T12:21:39.080Z"
   },
   {
    "duration": 297,
    "start_time": "2022-10-27T12:21:59.236Z"
   },
   {
    "duration": 273,
    "start_time": "2022-10-27T12:22:37.160Z"
   },
   {
    "duration": 15,
    "start_time": "2022-10-27T12:22:51.204Z"
   },
   {
    "duration": 619,
    "start_time": "2022-10-27T12:23:12.461Z"
   },
   {
    "duration": 499,
    "start_time": "2022-10-27T12:26:45.550Z"
   },
   {
    "duration": 492,
    "start_time": "2022-10-27T12:27:33.597Z"
   },
   {
    "duration": 516,
    "start_time": "2022-10-27T12:27:45.251Z"
   },
   {
    "duration": 591,
    "start_time": "2022-10-27T12:30:11.555Z"
   }
  ],
  "kernelspec": {
   "display_name": "Python 3 (ipykernel)",
   "language": "python",
   "name": "python3"
  },
  "language_info": {
   "codemirror_mode": {
    "name": "ipython",
    "version": 3
   },
   "file_extension": ".py",
   "mimetype": "text/x-python",
   "name": "python",
   "nbconvert_exporter": "python",
   "pygments_lexer": "ipython3",
   "version": "3.9.12"
  },
  "toc": {
   "base_numbering": 1,
   "nav_menu": {},
   "number_sections": true,
   "sideBar": true,
   "skip_h1_title": true,
   "title_cell": "Table of Contents",
   "title_sidebar": "Contents",
   "toc_cell": false,
   "toc_position": {},
   "toc_section_display": true,
   "toc_window_display": false
  }
 },
 "nbformat": 4,
 "nbformat_minor": 2
}
